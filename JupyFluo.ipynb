{
 "cells": [
  {
   "cell_type": "markdown",
   "metadata": {
    "tags": [
     "notPrint"
    ]
   },
   "source": [
    "# JupyFluo @ SIRIUS"
   ]
  },
  {
   "cell_type": "code",
   "execution_count": 1,
   "metadata": {
    "scrolled": true,
    "tags": [
     "notPrint"
    ]
   },
   "outputs": [
    {
     "name": "stdout",
     "output_type": "stream",
     "text": [
      "JupyFluo version: 0.4\n",
      "More info on: https://github.com/ArnaudHemmerle/JupyFluo\n"
     ]
    },
    {
     "data": {
      "application/javascript": [
       "IPython.OutputArea.prototype._should_scroll = function(lines) {return false;}"
      ],
      "text/plain": [
       "<IPython.core.display.Javascript object>"
      ]
     },
     "metadata": {},
     "output_type": "display_data"
    },
    {
     "name": "stdout",
     "output_type": "stream",
     "text": [
      "Results will be saved in the folder:\n",
      "working/\n",
      "\n",
      "The original nexus files should be in the folder:\n",
      "recording/\n",
      "\n"
     ]
    },
    {
     "data": {
      "application/javascript": [
       " "
      ],
      "text/plain": [
       "<IPython.core.display.Javascript object>"
      ]
     },
     "metadata": {},
     "output_type": "display_data"
    }
   ],
   "source": [
    "# Run this cell\n",
    "__version__ = '0.4'\n",
    "print(\"JupyFluo version: %s\"%__version__)\n",
    "print(\"More info on: %s\"%\"https://github.com/ArnaudHemmerle/JupyFluo\")\n",
    "\n",
    "# import custom libraries\n",
    "\n",
    "import FrontendFunctions as FF\n",
    "import AnalysisFunctions as AF\n",
    "import numpy as np\n",
    "import matplotlib.pyplot as plt\n",
    "%matplotlib inline\n",
    "import ipywidgets as widgets\n",
    "from IPython.display import Javascript, display\n",
    "\n",
    "# Comment/uncomment this line to have cell collapse or not (should restart Jupyter when changed)\n",
    "display(Javascript('IPython.OutputArea.prototype._should_scroll = function(lines) {return false;}'))\n",
    "\n",
    "class Experiment:\n",
    "    \"\"\"\n",
    "    Class Experiment is used to pass arguments concerning the current experiment.\n",
    "    \"\"\"\n",
    "    def __init__(self):\n",
    "        pass\n",
    "    \n",
    "# GENERAL PARAMETERS\n",
    "expt = Experiment() \n",
    "\n",
    "# Name of the notebook (necessary for saving in pdf)\n",
    "expt.notebook_name = 'JupyFluo.ipynb'\n",
    "\n",
    "# Directory where the data will be saved\n",
    "expt.working_dir = \"working/\"\n",
    "\n",
    "# Directory where the nexus files are \n",
    "expt.recording_dir = \"recording/\"\n",
    "\n",
    "#FF.Check_files(expt)\n",
    "#FF.Create_cell(code='scan = FF.Set_scan(expt)', position='at_bottom', celltype='code', is_print=False, is_execute = True)\n",
    "\n",
    "\n",
    "import lib.frontend as FE\n",
    "from lib.extraction.common import PyNexus as PN\n",
    "FE.Action.Check_and_init(expt)"
   ]
  },
  {
   "cell_type": "markdown",
   "metadata": {},
   "source": [
    "### SIRIUS_Fluo_2020_07_07_0070"
   ]
  },
  {
   "cell_type": "markdown",
   "metadata": {},
   "source": []
  },
  {
   "cell_type": "markdown",
   "metadata": {},
   "source": [
    "### SIRIUS_Fluo_2020_07_07_0070"
   ]
  },
  {
   "cell_type": "code",
   "execution_count": 5,
   "metadata": {
    "tags": [
     "notPrint"
    ]
   },
   "outputs": [
    {
     "data": {
      "application/vnd.jupyter.widget-view+json": {
       "model_id": "c16aa93b01b44b5280a1c8ebf775c1e3",
       "version_major": 2,
       "version_minor": 0
      },
      "text/plain": [
       "HBox(children=(Button(description='Analyze a new scan', style=ButtonStyle()), Button(description='Insert comme…"
      ]
     },
     "metadata": {},
     "output_type": "display_data"
    },
    {
     "name": "stdout",
     "output_type": "stream",
     "text": [
      "----------------------------------------------------------------------------------------------------\n",
      "Set parameters:\n"
     ]
    },
    {
     "data": {
      "application/vnd.jupyter.widget-view+json": {
       "model_id": "c1ae37797ec945a2872e48191af9085c",
       "version_major": 2,
       "version_minor": 0
      },
      "text/plain": [
       "HBox(children=(Button(description='Set params', layout=Layout(width='200px'), style=ButtonStyle()), Button(des…"
      ]
     },
     "metadata": {},
     "output_type": "display_data"
    },
    {
     "name": "stdout",
     "output_type": "stream",
     "text": [
      "----------------------------------------------------------------------------------------------------\n"
     ]
    },
    {
     "data": {
      "application/vnd.jupyter.widget-view+json": {
       "model_id": "f9162e888577407ba7587742b82e5ae0",
       "version_major": 2,
       "version_minor": 0
      },
      "text/plain": [
       "HBox(children=(Dropdown(options=('Parameters_8keV_1elem.csv', 'Parameters_7keV_4elem.csv', 'Parameters_12keV_1…"
      ]
     },
     "metadata": {},
     "output_type": "display_data"
    },
    {
     "ename": "AttributeError",
     "evalue": "'Experiment' object has no attribute 'id'",
     "output_type": "error",
     "traceback": [
      "\u001b[0;31m---------------------------------------------------------------------------\u001b[0m",
      "\u001b[0;31mAttributeError\u001b[0m                            Traceback (most recent call last)",
      "\u001b[0;32m~/Documents/Recherche/Depository/JupyFluo/lib/frontend/Treatment.py\u001b[0m in \u001b[0;36mon_button_import_clicked\u001b[0;34m(b)\u001b[0m\n\u001b[1;32m    116\u001b[0m \u001b[0;34m\u001b[0m\u001b[0m\n\u001b[1;32m    117\u001b[0m             \u001b[0;31m# Copy the selected params as the current params file\u001b[0m\u001b[0;34m\u001b[0m\u001b[0;34m\u001b[0m\u001b[0;34m\u001b[0m\u001b[0m\n\u001b[0;32m--> 118\u001b[0;31m             \u001b[0mshutil\u001b[0m\u001b[0;34m.\u001b[0m\u001b[0mcopy\u001b[0m\u001b[0;34m(\u001b[0m\u001b[0;34m'parameters/'\u001b[0m\u001b[0;34m+\u001b[0m\u001b[0mw_select_files\u001b[0m\u001b[0;34m.\u001b[0m\u001b[0mvalue\u001b[0m\u001b[0;34m,\u001b[0m \u001b[0mexpt\u001b[0m\u001b[0;34m.\u001b[0m\u001b[0mworking_dir\u001b[0m\u001b[0;34m+\u001b[0m\u001b[0mexpt\u001b[0m\u001b[0;34m.\u001b[0m\u001b[0mid\u001b[0m\u001b[0;34m+\u001b[0m\u001b[0;34m'/Parameters.csv'\u001b[0m\u001b[0;34m)\u001b[0m\u001b[0;34m\u001b[0m\u001b[0;34m\u001b[0m\u001b[0m\n\u001b[0m\u001b[1;32m    119\u001b[0m \u001b[0;34m\u001b[0m\u001b[0m\n\u001b[1;32m    120\u001b[0m             \u001b[0mprint\u001b[0m\u001b[0;34m(\u001b[0m\u001b[0mstr\u001b[0m\u001b[0;34m(\u001b[0m\u001b[0mw_select_files\u001b[0m\u001b[0;34m.\u001b[0m\u001b[0mvalue\u001b[0m\u001b[0;34m)\u001b[0m\u001b[0;34m+\u001b[0m\u001b[0;34m\" imported as current set of parameters.\"\u001b[0m\u001b[0;34m)\u001b[0m\u001b[0;34m\u001b[0m\u001b[0;34m\u001b[0m\u001b[0m\n",
      "\u001b[0;31mAttributeError\u001b[0m: 'Experiment' object has no attribute 'id'"
     ]
    }
   ],
   "source": [
    "FE.Treatment.Choose(expt)"
   ]
  },
  {
   "cell_type": "markdown",
   "metadata": {},
   "source": [
    "### SIRIUS_Fluo_2020_07_07_0070"
   ]
  },
  {
   "cell_type": "code",
   "execution_count": 3,
   "metadata": {
    "tags": [
     "notPrint"
    ]
   },
   "outputs": [
    {
     "data": {
      "application/vnd.jupyter.widget-view+json": {
       "model_id": "464e312a73ec434c864d8521935fb8b8",
       "version_major": 2,
       "version_minor": 0
      },
      "text/plain": [
       "HBox(children=(Button(description='Analyze a new scan', style=ButtonStyle()), Button(description='Insert comme…"
      ]
     },
     "metadata": {},
     "output_type": "display_data"
    },
    {
     "name": "stdout",
     "output_type": "stream",
     "text": [
      "----------------------------------------------------------------------------------------------------\n",
      "Set parameters:\n"
     ]
    },
    {
     "data": {
      "application/vnd.jupyter.widget-view+json": {
       "model_id": "27d0bbaa4de64349b333a11d7d87e05c",
       "version_major": 2,
       "version_minor": 0
      },
      "text/plain": [
       "HBox(children=(Button(description='Set params', layout=Layout(width='200px'), style=ButtonStyle()), Button(des…"
      ]
     },
     "metadata": {},
     "output_type": "display_data"
    },
    {
     "name": "stdout",
     "output_type": "stream",
     "text": [
      "----------------------------------------------------------------------------------------------------\n",
      "Current set of parameters saved as default.\n"
     ]
    },
    {
     "ename": "NameError",
     "evalue": "name 'Set_params' is not defined",
     "output_type": "error",
     "traceback": [
      "\u001b[0;31m---------------------------------------------------------------------------\u001b[0m",
      "\u001b[0;31mNameError\u001b[0m                                 Traceback (most recent call last)",
      "\u001b[0;32m~/Documents/Recherche/Depository/JupyFluo/lib/frontend/Treatment.py\u001b[0m in \u001b[0;36mon_button_set_params_clicked\u001b[0;34m(b)\u001b[0m\n\u001b[1;32m     65\u001b[0m \u001b[0;34m\u001b[0m\u001b[0m\n\u001b[1;32m     66\u001b[0m         \u001b[0;31m# Set the parameters\u001b[0m\u001b[0;34m\u001b[0m\u001b[0;34m\u001b[0m\u001b[0;34m\u001b[0m\u001b[0m\n\u001b[0;32m---> 67\u001b[0;31m         \u001b[0mSet_params\u001b[0m\u001b[0;34m(\u001b[0m\u001b[0mexpt\u001b[0m\u001b[0;34m)\u001b[0m\u001b[0;34m\u001b[0m\u001b[0;34m\u001b[0m\u001b[0m\n\u001b[0m\u001b[1;32m     68\u001b[0m \u001b[0;34m\u001b[0m\u001b[0m\n\u001b[1;32m     69\u001b[0m \u001b[0;34m\u001b[0m\u001b[0m\n",
      "\u001b[0;31mNameError\u001b[0m: name 'Set_params' is not defined"
     ]
    }
   ],
   "source": [
    "FE.Treatment.Choose(expt)"
   ]
  }
 ],
 "metadata": {
  "celltoolbar": "Format de la Cellule Texte Brut",
  "kernelspec": {
   "display_name": "Python 3",
   "language": "python",
   "name": "python3"
  },
  "language_info": {
   "codemirror_mode": {
    "name": "ipython",
    "version": 3
   },
   "file_extension": ".py",
   "mimetype": "text/x-python",
   "name": "python",
   "nbconvert_exporter": "python",
   "pygments_lexer": "ipython3",
   "version": "3.8.8"
  },
  "widgets": {
   "application/vnd.jupyter.widget-state+json": {
    "state": {
     "002cdba5fb314dc4a4d9c65e365797ac": {
      "model_module": "@jupyter-widgets/base",
      "model_module_version": "1.2.0",
      "model_name": "LayoutModel",
      "state": {
       "height": "40px",
       "width": "150px"
      }
     },
     "0049f2f9a2b54f9aa4f84b36e7cc09a0": {
      "model_module": "@jupyter-widgets/controls",
      "model_module_version": "1.5.0",
      "model_name": "ButtonModel",
      "state": {
       "description": "Treat scan",
       "layout": "IPY_MODEL_28f0e9ad10754d68b87114424e55ee49",
       "style": "IPY_MODEL_e5bc35cffe164d959be92f84aa20e98d"
      }
     },
     "0050e3f786c14d61ae6a18f3dc68e88f": {
      "model_module": "@jupyter-widgets/base",
      "model_module_version": "1.2.0",
      "model_name": "LayoutModel",
      "state": {}
     },
     "0074d3dec869472689b7805acdfa69d2": {
      "model_module": "@jupyter-widgets/base",
      "model_module_version": "1.2.0",
      "model_name": "LayoutModel",
      "state": {}
     },
     "01034d00576e45d3a09d7773099a4e5b": {
      "model_module": "@jupyter-widgets/base",
      "model_module_version": "1.2.0",
      "model_name": "LayoutModel",
      "state": {}
     },
     "010992563dc24515af91a90bc7e74c71": {
      "model_module": "@jupyter-widgets/base",
      "model_module_version": "1.2.0",
      "model_name": "LayoutModel",
      "state": {
       "height": "40px",
       "width": "300px"
      }
     },
     "010a4945cf94466b95e6cec306708d6d": {
      "model_module": "@jupyter-widgets/controls",
      "model_module_version": "1.5.0",
      "model_name": "ButtonStyleModel",
      "state": {}
     },
     "01efe98ac0a042eaa9e9e5b5682491aa": {
      "model_module": "@jupyter-widgets/controls",
      "model_module_version": "1.5.0",
      "model_name": "ButtonModel",
      "state": {
       "description": "Plot Pilatus",
       "layout": "IPY_MODEL_537994c21a8440539bc8b0cfc11134d2",
       "style": "IPY_MODEL_bf2eb61a149a46c3b435ef32ec174ab5"
      }
     },
     "01f3ef6b024a403197d37c1ed5176387": {
      "model_module": "@jupyter-widgets/base",
      "model_module_version": "1.2.0",
      "model_name": "LayoutModel",
      "state": {
       "width": "100px"
      }
     },
     "0222a3b0d9734b06a5cc9ab74abc46a9": {
      "model_module": "@jupyter-widgets/base",
      "model_module_version": "1.2.0",
      "model_name": "LayoutModel",
      "state": {}
     },
     "022d5f5611bf41028ab3efff8b9d82d1": {
      "model_module": "@jupyter-widgets/controls",
      "model_module_version": "1.5.0",
      "model_name": "DropdownModel",
      "state": {
       "_options_labels": [
        "SIRIUS_Fluo_2020_07_07_0070.nxs",
        "SIRIUS_Fluo_2020_02_16_02289.nxs",
        "SIRIUS_Fluo_2020_02_16_02288.nxs",
        "SIRIUS_Fluo_2020_02_13_02277.nxs",
        "SIRIUS_Fluo_2017_12_11_08042.nxs"
       ],
       "index": 0,
       "layout": "IPY_MODEL_98353fa97fa346868ca3a342264d4445",
       "style": "IPY_MODEL_a4739f33e72546cb904bae86f89dddde"
      }
     },
     "0248a300dcd246849dad2ee6ff3d9763": {
      "model_module": "@jupyter-widgets/controls",
      "model_module_version": "1.5.0",
      "model_name": "ButtonStyleModel",
      "state": {}
     },
     "02717e7eb40c4cc39b20f8e1ef6ed1f9": {
      "model_module": "@jupyter-widgets/controls",
      "model_module_version": "1.5.0",
      "model_name": "DropdownModel",
      "state": {
       "_options_labels": [
        "SIRIUS_Fluo_2020_07_07_0070.nxs",
        "SIRIUS_Fluo_2020_02_16_02289.nxs",
        "SIRIUS_Fluo_2020_02_16_02288.nxs",
        "SIRIUS_Fluo_2020_02_13_02277.nxs",
        "SIRIUS_Fluo_2017_12_11_08042.nxs"
       ],
       "description": "Select scan:",
       "index": 0,
       "layout": "IPY_MODEL_c74a268a523648f3ab375bd6037b9517",
       "style": "IPY_MODEL_41fed914fcce42d1a3a4018c45e8b4e1"
      }
     },
     "0289b1a2e3d043ffb2497f427a8b08ad": {
      "model_module": "@jupyter-widgets/base",
      "model_module_version": "1.2.0",
      "model_name": "LayoutModel",
      "state": {}
     },
     "029b711e878d41beb7734be293ca31ff": {
      "model_module": "@jupyter-widgets/controls",
      "model_module_version": "1.5.0",
      "model_name": "ButtonModel",
      "state": {
       "description": "Export to PDF",
       "layout": "IPY_MODEL_0b1cacaae75648d2a2ef7c04cb7a6b9b",
       "style": "IPY_MODEL_a99fa227f25f4b6b9396d2e95e7115f8"
      }
     },
     "02f8ff1e3a7846698f75156c08e2cb98": {
      "model_module": "@jupyter-widgets/controls",
      "model_module_version": "1.5.0",
      "model_name": "DropdownModel",
      "state": {
       "_options_labels": [
        "SIRIUS_Fluo_2020_07_07_0070.nxs",
        "SIRIUS_Fluo_2020_02_16_02289.nxs",
        "SIRIUS_Fluo_2020_02_16_02288.nxs",
        "SIRIUS_Fluo_2020_02_13_02277.nxs",
        "SIRIUS_Fluo_2017_12_11_08042.nxs"
       ],
       "index": 2,
       "layout": "IPY_MODEL_52707859d06c4308918898c0d5abd7d5",
       "style": "IPY_MODEL_06bb409d58ab48c7867b44e6e8a659b1"
      }
     },
     "03245b13f0e543ba8b0d10a202dac7ff": {
      "model_module": "@jupyter-widgets/controls",
      "model_module_version": "1.5.0",
      "model_name": "ButtonStyleModel",
      "state": {}
     },
     "045a9321dbf74102ba0e04e1def4032b": {
      "model_module": "@jupyter-widgets/controls",
      "model_module_version": "1.5.0",
      "model_name": "ButtonModel",
      "state": {
       "description": "Treat scan",
       "layout": "IPY_MODEL_57973d06962b4d2db257798fd977d27f",
       "style": "IPY_MODEL_34e4e2151b14426aa675a8e5a35dbd48"
      }
     },
     "0483ce0a870846188c9454b68d353651": {
      "model_module": "@jupyter-widgets/controls",
      "model_module_version": "1.5.0",
      "model_name": "ButtonStyleModel",
      "state": {}
     },
     "04999e47491847ecbb510d49b16025f4": {
      "model_module": "@jupyter-widgets/base",
      "model_module_version": "1.2.0",
      "model_name": "LayoutModel",
      "state": {}
     },
     "04c0c864404c43eb985cbf1291d1786e": {
      "model_module": "@jupyter-widgets/base",
      "model_module_version": "1.2.0",
      "model_name": "LayoutModel",
      "state": {
       "height": "40px",
       "width": "200px"
      }
     },
     "04dadf96cf0d45e5b84d5b0b2d267bc0": {
      "model_module": "@jupyter-widgets/controls",
      "model_module_version": "1.5.0",
      "model_name": "ButtonModel",
      "state": {
       "description": "Next action",
       "layout": "IPY_MODEL_d248c0182d734405a13a1aa591a35624",
       "style": "IPY_MODEL_f82b413835d74f7191ec4ef8f0e6ef85"
      }
     },
     "05025fec487240168da8bc58e89e8115": {
      "model_module": "@jupyter-widgets/controls",
      "model_module_version": "1.5.0",
      "model_name": "ButtonStyleModel",
      "state": {}
     },
     "052250cdb7dd4ba6bf55d811584f10f5": {
      "model_module": "@jupyter-widgets/base",
      "model_module_version": "1.2.0",
      "model_name": "LayoutModel",
      "state": {
       "height": "40px",
       "width": "200px"
      }
     },
     "056a5b3396094ca6a0a4dd64c42ed8aa": {
      "model_module": "@jupyter-widgets/controls",
      "model_module_version": "1.5.0",
      "model_name": "ButtonStyleModel",
      "state": {}
     },
     "059e002f18c44825939bebccfe7699d9": {
      "model_module": "@jupyter-widgets/controls",
      "model_module_version": "1.5.0",
      "model_name": "HBoxModel",
      "state": {
       "children": [
        "IPY_MODEL_96196078e0984e058191bc7c227830fe",
        "IPY_MODEL_144f0f187bcb46e1a638d441c701abfd"
       ],
       "layout": "IPY_MODEL_7aacab49871f4784a916f0c2754a672f"
      }
     },
     "05a2820ce12747a4b0765b474cbcca90": {
      "model_module": "@jupyter-widgets/controls",
      "model_module_version": "1.5.0",
      "model_name": "ButtonModel",
      "state": {
       "description": "Set params",
       "layout": "IPY_MODEL_7a15a3dd2fb0409a8b0ac2ad5d791fde",
       "style": "IPY_MODEL_2a8024e84748489d8b0687d3be89ec66"
      }
     },
     "05bd43c2b05b4fa79874f183588606cd": {
      "model_module": "@jupyter-widgets/base",
      "model_module_version": "1.2.0",
      "model_name": "LayoutModel",
      "state": {}
     },
     "062d811be55249199e92d847d169a8c2": {
      "model_module": "@jupyter-widgets/base",
      "model_module_version": "1.2.0",
      "model_name": "LayoutModel",
      "state": {}
     },
     "06615200001f49bf85c8e83c61a18ac3": {
      "model_module": "@jupyter-widgets/base",
      "model_module_version": "1.2.0",
      "model_name": "LayoutModel",
      "state": {}
     },
     "06797c9f5261473fa7d76717e37d8e74": {
      "model_module": "@jupyter-widgets/controls",
      "model_module_version": "1.5.0",
      "model_name": "ButtonStyleModel",
      "state": {}
     },
     "06a1ca08927448af83f9d569b629aaa3": {
      "model_module": "@jupyter-widgets/base",
      "model_module_version": "1.2.0",
      "model_name": "LayoutModel",
      "state": {}
     },
     "06b540a414274c65b87ad5df1047c201": {
      "model_module": "@jupyter-widgets/controls",
      "model_module_version": "1.5.0",
      "model_name": "ButtonStyleModel",
      "state": {}
     },
     "06bb409d58ab48c7867b44e6e8a659b1": {
      "model_module": "@jupyter-widgets/controls",
      "model_module_version": "1.5.0",
      "model_name": "DescriptionStyleModel",
      "state": {
       "description_width": "initial"
      }
     },
     "06be411fbec244ff889c4f0af4d3144c": {
      "model_module": "@jupyter-widgets/base",
      "model_module_version": "1.2.0",
      "model_name": "LayoutModel",
      "state": {
       "height": "40px",
       "width": "150px"
      }
     },
     "06c909e139cf4b29a9b047127733bf43": {
      "model_module": "@jupyter-widgets/base",
      "model_module_version": "1.2.0",
      "model_name": "LayoutModel",
      "state": {}
     },
     "06f76a1e137f427c9b978f475d890eff": {
      "model_module": "@jupyter-widgets/controls",
      "model_module_version": "1.5.0",
      "model_name": "ButtonModel",
      "state": {
       "description": "Export to PDF",
       "layout": "IPY_MODEL_4e3a57719ac64102961413ccdb449277",
       "style": "IPY_MODEL_d0f91bcfecea4fa78f82da84e7e91456"
      }
     },
     "0766d8e6f882405299e08d6bbf620183": {
      "model_module": "@jupyter-widgets/base",
      "model_module_version": "1.2.0",
      "model_name": "LayoutModel",
      "state": {}
     },
     "076d6eedd8b84718b04509bdb744a978": {
      "model_module": "@jupyter-widgets/controls",
      "model_module_version": "1.5.0",
      "model_name": "HBoxModel",
      "state": {
       "children": [
        "IPY_MODEL_ad81123162dd4bfdb159b7680ae77387",
        "IPY_MODEL_837146caad8d4a008a50cc6c9b2d5423",
        "IPY_MODEL_09019b12c0db40279d8ba3e3855dbaa0"
       ],
       "layout": "IPY_MODEL_373b2cb28dad4fcaaf2d64cdf005e5c0"
      }
     },
     "077c5d71fdf14d76ad2b46c3e0a79094": {
      "model_module": "@jupyter-widgets/controls",
      "model_module_version": "1.5.0",
      "model_name": "DescriptionStyleModel",
      "state": {
       "description_width": "initial"
      }
     },
     "078dd042825149559853656cc8bf2dac": {
      "model_module": "@jupyter-widgets/controls",
      "model_module_version": "1.5.0",
      "model_name": "ButtonStyleModel",
      "state": {}
     },
     "0793a8d74b0d4cc693c4243621d0e03e": {
      "model_module": "@jupyter-widgets/controls",
      "model_module_version": "1.5.0",
      "model_name": "ButtonModel",
      "state": {
       "description": "Load params",
       "layout": "IPY_MODEL_e43dd270a36e471186242be11fad06b2",
       "style": "IPY_MODEL_c16a0599832b4ecaad5ef6c266120dde"
      }
     },
     "07d11125dedc4e17a75378bd2d27f925": {
      "model_module": "@jupyter-widgets/controls",
      "model_module_version": "1.5.0",
      "model_name": "ButtonModel",
      "state": {
       "description": "Treat scan",
       "layout": "IPY_MODEL_ba9bfafe75b34299994746cda9cd1f08",
       "style": "IPY_MODEL_c49349a954034b7db1e60147b1ecc871"
      }
     },
     "080712ba9bc9465ea346b4958458ac11": {
      "model_module": "@jupyter-widgets/controls",
      "model_module_version": "1.5.0",
      "model_name": "HBoxModel",
      "state": {
       "children": [
        "IPY_MODEL_c6c6253383b74c2eb32015185cbc7713",
        "IPY_MODEL_3a27b3ce48da4cc181d731c9f4427111"
       ],
       "layout": "IPY_MODEL_e842cd236f83472daa921fce08c6c1e3"
      }
     },
     "085a8464f87c4a8db49270d9247e5516": {
      "model_module": "@jupyter-widgets/controls",
      "model_module_version": "1.5.0",
      "model_name": "DescriptionStyleModel",
      "state": {
       "description_width": "initial"
      }
     },
     "085f15419e134997925225da56f0a235": {
      "model_module": "@jupyter-widgets/controls",
      "model_module_version": "1.5.0",
      "model_name": "HBoxModel",
      "state": {
       "children": [
        "IPY_MODEL_aef617cf154b440f8a384fc48bd88df9",
        "IPY_MODEL_fad8fc708520411da3f3c7382aaab652",
        "IPY_MODEL_2551c361c8a34bd5bbf9dd827fc86e26"
       ],
       "layout": "IPY_MODEL_7ea91b4285fc401b9cc021429f942ff5"
      }
     },
     "086cf8d21d2f4b1e86c963fc37966027": {
      "model_module": "@jupyter-widgets/controls",
      "model_module_version": "1.5.0",
      "model_name": "DescriptionStyleModel",
      "state": {
       "description_width": "initial"
      }
     },
     "0880c001155349a4a906b27bc428d05b": {
      "model_module": "@jupyter-widgets/controls",
      "model_module_version": "1.5.0",
      "model_name": "ButtonStyleModel",
      "state": {}
     },
     "089203d331a34fe09d98d390e61241b8": {
      "model_module": "@jupyter-widgets/controls",
      "model_module_version": "1.5.0",
      "model_name": "ButtonStyleModel",
      "state": {}
     },
     "09019b12c0db40279d8ba3e3855dbaa0": {
      "model_module": "@jupyter-widgets/controls",
      "model_module_version": "1.5.0",
      "model_name": "ButtonModel",
      "state": {
       "description": "Insert comment",
       "layout": "IPY_MODEL_37e1b2be827c4b5b9e7ae731c62fa6b4",
       "style": "IPY_MODEL_e3079abb53324b9d9a35736536ca030f"
      }
     },
     "0924a2d7ec2d4c9698f724135004fd14": {
      "model_module": "@jupyter-widgets/controls",
      "model_module_version": "1.5.0",
      "model_name": "DropdownModel",
      "state": {
       "_options_labels": [
        "SIRIUS_Fluo_2020_07_07_0070.nxs",
        "SIRIUS_Fluo_2020_02_16_02289.nxs",
        "SIRIUS_Fluo_2020_02_16_02288.nxs",
        "SIRIUS_Fluo_2020_02_13_02277.nxs",
        "SIRIUS_Fluo_2017_12_11_08042.nxs"
       ],
       "index": 0,
       "layout": "IPY_MODEL_f04863da27b94852b44f05170d67abee",
       "style": "IPY_MODEL_3cddaeadf9544c97908e87cf2ba5ce9c"
      }
     },
     "093bb0d0c8734bc7a9ad4118a95f8529": {
      "model_module": "@jupyter-widgets/base",
      "model_module_version": "1.2.0",
      "model_name": "LayoutModel",
      "state": {
       "width": "200px"
      }
     },
     "095b2d7a63e844d9869ea37b3aec7ad5": {
      "model_module": "@jupyter-widgets/controls",
      "model_module_version": "1.5.0",
      "model_name": "ButtonModel",
      "state": {
       "description": "Export to PDF",
       "layout": "IPY_MODEL_2955059bea624cd08b7d40fea7a5d98e",
       "style": "IPY_MODEL_42fbf2f18a3b48eab8bd795e7893aecc"
      }
     },
     "098697029486428b9f698df7b66500a4": {
      "model_module": "@jupyter-widgets/controls",
      "model_module_version": "1.5.0",
      "model_name": "HBoxModel",
      "state": {
       "children": [
        "IPY_MODEL_b746ec391cf946c0942bf85d494d145c",
        "IPY_MODEL_5c93467152784154aa41bf21b9a5417a",
        "IPY_MODEL_4cee3cc16da14693a3ee215ca5253f77"
       ],
       "layout": "IPY_MODEL_a70f9ed18d4f4495a1eedc939dc640fe"
      }
     },
     "09b25caff40743b48251950b58720dfd": {
      "model_module": "@jupyter-widgets/controls",
      "model_module_version": "1.5.0",
      "model_name": "ButtonModel",
      "state": {
       "description": "Export to PDF",
       "layout": "IPY_MODEL_740780d35558438eb328acd2549f2daf",
       "style": "IPY_MODEL_4c663d69ae91422b8502694c24174090"
      }
     },
     "09e15d0e204249089388580d5801b503": {
      "model_module": "@jupyter-widgets/base",
      "model_module_version": "1.2.0",
      "model_name": "LayoutModel",
      "state": {
       "height": "40px",
       "width": "200px"
      }
     },
     "09e3a3b669af43d9bfd1fe43180917ff": {
      "model_module": "@jupyter-widgets/controls",
      "model_module_version": "1.5.0",
      "model_name": "ButtonModel",
      "state": {
       "description": "Insert comment",
       "layout": "IPY_MODEL_182059e62b264172a110941462c167b7",
       "style": "IPY_MODEL_c45d2faf18a647b9ae40e608c29ee13e"
      }
     },
     "09e454415fb640189254cd8276020b20": {
      "model_module": "@jupyter-widgets/base",
      "model_module_version": "1.2.0",
      "model_name": "LayoutModel",
      "state": {}
     },
     "0a3b965cb26448e0b51016cbf040e755": {
      "model_module": "@jupyter-widgets/controls",
      "model_module_version": "1.5.0",
      "model_name": "ButtonStyleModel",
      "state": {}
     },
     "0a4687b506e549cab618b9a80b513926": {
      "model_module": "@jupyter-widgets/base",
      "model_module_version": "1.2.0",
      "model_name": "LayoutModel",
      "state": {
       "height": "40px",
       "width": "250px"
      }
     },
     "0a902a91cc984cbb87ad3ffe8a8ad56e": {
      "model_module": "@jupyter-widgets/base",
      "model_module_version": "1.2.0",
      "model_name": "LayoutModel",
      "state": {}
     },
     "0ad4a5223bff45f9af8cf0aadc0219b0": {
      "model_module": "@jupyter-widgets/controls",
      "model_module_version": "1.5.0",
      "model_name": "ButtonModel",
      "state": {
       "description": "Refresh",
       "layout": "IPY_MODEL_b77aebecdb8f4bee80db8e06e7da71b7",
       "style": "IPY_MODEL_10dbe60b9c5b410f850a3257b9f6ea6b"
      }
     },
     "0adf73a6521a47259dfa8b72c7d69110": {
      "model_module": "@jupyter-widgets/controls",
      "model_module_version": "1.5.0",
      "model_name": "ButtonModel",
      "state": {
       "description": "Export to pdf",
       "layout": "IPY_MODEL_093bb0d0c8734bc7a9ad4118a95f8529",
       "style": "IPY_MODEL_66e528fdbedf4444ab76ebdb5d6f6def"
      }
     },
     "0af3dea6960141e0875529b9a3252693": {
      "model_module": "@jupyter-widgets/controls",
      "model_module_version": "1.5.0",
      "model_name": "HBoxModel",
      "state": {
       "children": [
        "IPY_MODEL_4fc6ae2922554f369e423d1bff73ad30",
        "IPY_MODEL_c62673e543bc4d119c94747d7565ac43",
        "IPY_MODEL_eb1d569f493b4669b9241fb4c763fc8f"
       ],
       "layout": "IPY_MODEL_a96df854a1d34104b9d31bf0d1717a86"
      }
     },
     "0b1cacaae75648d2a2ef7c04cb7a6b9b": {
      "model_module": "@jupyter-widgets/base",
      "model_module_version": "1.2.0",
      "model_name": "LayoutModel",
      "state": {}
     },
     "0b3ca51716284498b35d977fa7455429": {
      "model_module": "@jupyter-widgets/base",
      "model_module_version": "1.2.0",
      "model_name": "LayoutModel",
      "state": {}
     },
     "0b4d99cf44b24d72bcb9681dc3d887f2": {
      "model_module": "@jupyter-widgets/base",
      "model_module_version": "1.2.0",
      "model_name": "LayoutModel",
      "state": {}
     },
     "0b85ad5a95874c18baa38c60f35bed3d": {
      "model_module": "@jupyter-widgets/base",
      "model_module_version": "1.2.0",
      "model_name": "LayoutModel",
      "state": {}
     },
     "0c434585bf604a1a9b0944c130015a4e": {
      "model_module": "@jupyter-widgets/controls",
      "model_module_version": "1.5.0",
      "model_name": "ButtonStyleModel",
      "state": {}
     },
     "0c474246dd1f40ed9f5b86c0dd6b9f4b": {
      "model_module": "@jupyter-widgets/controls",
      "model_module_version": "1.5.0",
      "model_name": "ButtonModel",
      "state": {
       "description": "Export to PDF",
       "layout": "IPY_MODEL_9a72052f9b394f309ffec94bac9e5d4d",
       "style": "IPY_MODEL_1856e6fb32584104b2a9626a12a7aa13"
      }
     },
     "0c9e1a4418fd42b9b702f354a577ed18": {
      "model_module": "@jupyter-widgets/controls",
      "model_module_version": "1.5.0",
      "model_name": "HBoxModel",
      "state": {
       "children": [
        "IPY_MODEL_efb766e3c4844598a4c6982823604a69",
        "IPY_MODEL_6e918734cb5d42f88c4e1dfe7f162fc6"
       ],
       "layout": "IPY_MODEL_182ca437e225484d98d2617f16ea5b61"
      }
     },
     "0cc0aa936891490e820ee1b0a25f74bc": {
      "model_module": "@jupyter-widgets/base",
      "model_module_version": "1.2.0",
      "model_name": "LayoutModel",
      "state": {
       "width": "200px"
      }
     },
     "0cc43f85288b474abcb5f090241519e8": {
      "model_module": "@jupyter-widgets/controls",
      "model_module_version": "1.5.0",
      "model_name": "ButtonModel",
      "state": {
       "description": "Insert comment",
       "layout": "IPY_MODEL_51da523840034a39ad371b03da6377dd",
       "style": "IPY_MODEL_30775ea602e04b1eab9ea3ed4ebb269b"
      }
     },
     "0cdd261d747b477996b0a5fd525e2a48": {
      "model_module": "@jupyter-widgets/base",
      "model_module_version": "1.2.0",
      "model_name": "LayoutModel",
      "state": {
       "width": "200px"
      }
     },
     "0ce0b96cf33147978dca66f07b974d8a": {
      "model_module": "@jupyter-widgets/controls",
      "model_module_version": "1.5.0",
      "model_name": "ButtonModel",
      "state": {
       "description": "Fit with erf",
       "layout": "IPY_MODEL_9cea173613bd4949ab3d0dae8d154f0f",
       "style": "IPY_MODEL_a9635508bb1843049c7df25cdae48681"
      }
     },
     "0ce1cde1401043f2afbf45ec105e98e8": {
      "model_module": "@jupyter-widgets/base",
      "model_module_version": "1.2.0",
      "model_name": "LayoutModel",
      "state": {
       "height": "40px",
       "width": "200px"
      }
     },
     "0ce6bd0140a34392886a66ab2bf7a6ac": {
      "model_module": "@jupyter-widgets/controls",
      "model_module_version": "1.5.0",
      "model_name": "ButtonModel",
      "state": {
       "description": "Extract Vineyard",
       "layout": "IPY_MODEL_a3470d8ac5f54db18f9103e375f97ba1",
       "style": "IPY_MODEL_ccbfe778518f438db7459b79c5deb5aa"
      }
     },
     "0d41b01047404a77b1a85d41775eb4da": {
      "model_module": "@jupyter-widgets/base",
      "model_module_version": "1.2.0",
      "model_name": "LayoutModel",
      "state": {
       "height": "40px",
       "width": "250px"
      }
     },
     "0d5652d916d34aa783ad639010638e7b": {
      "model_module": "@jupyter-widgets/controls",
      "model_module_version": "1.5.0",
      "model_name": "ButtonModel",
      "state": {
       "description": "Set params",
       "layout": "IPY_MODEL_3c8cc4d7c3b4429cb86cf42c784bae70",
       "style": "IPY_MODEL_c80216ca5f1647f7ab2933dd29ed5106"
      }
     },
     "0d8c70999f8b47bdb81b7864f632156e": {
      "model_module": "@jupyter-widgets/base",
      "model_module_version": "1.2.0",
      "model_name": "LayoutModel",
      "state": {
       "width": "200px"
      }
     },
     "0dc72d8db33c46dd9bc34a29fd12622e": {
      "model_module": "@jupyter-widgets/base",
      "model_module_version": "1.2.0",
      "model_name": "LayoutModel",
      "state": {
       "width": "400px"
      }
     },
     "0e0a61f0add44bbcb9d040a9659f97e1": {
      "model_module": "@jupyter-widgets/controls",
      "model_module_version": "1.5.0",
      "model_name": "ButtonStyleModel",
      "state": {}
     },
     "0e0af9fd0032420fa965c00327873e77": {
      "model_module": "@jupyter-widgets/controls",
      "model_module_version": "1.5.0",
      "model_name": "ButtonStyleModel",
      "state": {}
     },
     "0e2fe6325e084817acd3b7d1e77e2730": {
      "model_module": "@jupyter-widgets/base",
      "model_module_version": "1.2.0",
      "model_name": "LayoutModel",
      "state": {}
     },
     "0e93d6768ca442379bbf9b3e57143053": {
      "model_module": "@jupyter-widgets/controls",
      "model_module_version": "1.5.0",
      "model_name": "ButtonModel",
      "state": {
       "description": "Insert comment",
       "layout": "IPY_MODEL_380969ab701d4221a5885a6d1b3c52dd",
       "style": "IPY_MODEL_9d6ac5efcedb4c8eaed8e5d2cbe1ee99"
      }
     },
     "0eacc4f7e0b049ca82a9c8b42baa25c3": {
      "model_module": "@jupyter-widgets/controls",
      "model_module_version": "1.5.0",
      "model_name": "ButtonStyleModel",
      "state": {}
     },
     "0eb1f7673bac4820a9853889841ce811": {
      "model_module": "@jupyter-widgets/controls",
      "model_module_version": "1.5.0",
      "model_name": "HBoxModel",
      "state": {
       "children": [
        "IPY_MODEL_817bdab092844f2c94037dddfb56ef4b",
        "IPY_MODEL_7224ecb6e51641c3aa2b31dbaec8ac6d",
        "IPY_MODEL_92e4107ff2cb4f488b33406a75989305"
       ],
       "layout": "IPY_MODEL_bb2532f438624b8885663026d10219a8"
      }
     },
     "0ec2c8d698f0437f9ebbd87bf3601ee8": {
      "model_module": "@jupyter-widgets/base",
      "model_module_version": "1.2.0",
      "model_name": "LayoutModel",
      "state": {}
     },
     "0ecac04ee23d42d888d4163f05d8bb8e": {
      "model_module": "@jupyter-widgets/controls",
      "model_module_version": "1.5.0",
      "model_name": "ButtonModel",
      "state": {
       "description": "Export to PDF",
       "layout": "IPY_MODEL_9c29ca5e49c14d3eae8f2d1a3700cfd2",
       "style": "IPY_MODEL_b2fd71b22c634645b588c3cb806044b1"
      }
     },
     "0edc8414ea3c450f8a481fed93a199cf": {
      "model_module": "@jupyter-widgets/controls",
      "model_module_version": "1.5.0",
      "model_name": "ButtonStyleModel",
      "state": {}
     },
     "0ef79933c32a430fa4a28054a8f08c8e": {
      "model_module": "@jupyter-widgets/controls",
      "model_module_version": "1.5.0",
      "model_name": "ButtonStyleModel",
      "state": {}
     },
     "0f07131ae72244fe96fedb58ba86ee74": {
      "model_module": "@jupyter-widgets/base",
      "model_module_version": "1.2.0",
      "model_name": "LayoutModel",
      "state": {}
     },
     "0f20646ccb2e4bcab9d00d706d9194a0": {
      "model_module": "@jupyter-widgets/base",
      "model_module_version": "1.2.0",
      "model_name": "LayoutModel",
      "state": {
       "width": "200px"
      }
     },
     "0f572c60bdf04595b0347ea9878dc9f3": {
      "model_module": "@jupyter-widgets/controls",
      "model_module_version": "1.5.0",
      "model_name": "ButtonModel",
      "state": {
       "description": "Export to PDF",
       "layout": "IPY_MODEL_643842c315e34177aee448ee724aeb48",
       "style": "IPY_MODEL_b3a6e6b333aa465fbb7b2a4b96c2a16e"
      }
     },
     "1061d2334d8142dba1157f82a8b15b6e": {
      "model_module": "@jupyter-widgets/controls",
      "model_module_version": "1.5.0",
      "model_name": "ButtonModel",
      "state": {
       "description": "Set params",
       "layout": "IPY_MODEL_625dc27932b849bea04ab7df75503aa9",
       "style": "IPY_MODEL_8161bc2290464f52a10393ca522d5131"
      }
     },
     "10a455179a9842609c005a7cd9577a0d": {
      "model_module": "@jupyter-widgets/controls",
      "model_module_version": "1.5.0",
      "model_name": "ButtonStyleModel",
      "state": {}
     },
     "10a89f19a3e9495d91c24d453713b7ea": {
      "model_module": "@jupyter-widgets/base",
      "model_module_version": "1.2.0",
      "model_name": "LayoutModel",
      "state": {
       "width": "200px"
      }
     },
     "10dbe60b9c5b410f850a3257b9f6ea6b": {
      "model_module": "@jupyter-widgets/controls",
      "model_module_version": "1.5.0",
      "model_name": "ButtonStyleModel",
      "state": {}
     },
     "1121528bb2d147e481f5ad61ac1b2f85": {
      "model_module": "@jupyter-widgets/controls",
      "model_module_version": "1.5.0",
      "model_name": "ButtonModel",
      "state": {
       "description": "Export to PDF",
       "layout": "IPY_MODEL_3eec4de851e34d8ea935c06de80908c3",
       "style": "IPY_MODEL_19ecf8cdf0ea4a89ad6143bdf403ebe5"
      }
     },
     "1123fd2170b74d0ca5c2edce3bc31b9a": {
      "model_module": "@jupyter-widgets/controls",
      "model_module_version": "1.5.0",
      "model_name": "ButtonModel",
      "state": {
       "description": "Plot GIXD",
       "layout": "IPY_MODEL_36e3a6d35dfd4ad88e59a459d51814a5",
       "style": "IPY_MODEL_9451cb81ffdc43afa4d05c4bf0014bfa"
      }
     },
     "11418603f30b4c82bb3d3f63547aa017": {
      "model_module": "@jupyter-widgets/base",
      "model_module_version": "1.2.0",
      "model_name": "LayoutModel",
      "state": {}
     },
     "11a215cc53424f4ab1e93e8220a1deb8": {
      "model_module": "@jupyter-widgets/base",
      "model_module_version": "1.2.0",
      "model_name": "LayoutModel",
      "state": {
       "height": "40px",
       "width": "150px"
      }
     },
     "11af27626bbb4f00ae6f55137bf89ebb": {
      "model_module": "@jupyter-widgets/controls",
      "model_module_version": "1.5.0",
      "model_name": "ButtonModel",
      "state": {
       "description": "Fit with erf",
       "layout": "IPY_MODEL_d993ab0bf7084195bf0ed97bf2cf6f60",
       "style": "IPY_MODEL_90d5c317def349f79cbc6d17ca2f8b0a"
      }
     },
     "11e4eda4b9cc4478a8f992ceca08fe32": {
      "model_module": "@jupyter-widgets/controls",
      "model_module_version": "1.5.0",
      "model_name": "ButtonStyleModel",
      "state": {}
     },
     "120334ecfd7f4706985551e20dfe1c66": {
      "model_module": "@jupyter-widgets/controls",
      "model_module_version": "1.5.0",
      "model_name": "DescriptionStyleModel",
      "state": {
       "description_width": "initial"
      }
     },
     "120c23eeb8db4876933fa8dee1df1649": {
      "model_module": "@jupyter-widgets/base",
      "model_module_version": "1.2.0",
      "model_name": "LayoutModel",
      "state": {}
     },
     "121bd3521e1b4b7681f17563c2430f80": {
      "model_module": "@jupyter-widgets/controls",
      "model_module_version": "1.5.0",
      "model_name": "ButtonModel",
      "state": {
       "description": "Insert comment",
       "layout": "IPY_MODEL_c00ff11dbcf04687acc6cfdcf13220a5",
       "style": "IPY_MODEL_3168df5af76d4261a944aff7e7737355"
      }
     },
     "121eda32d9e9443dab711ac9394622dd": {
      "model_module": "@jupyter-widgets/controls",
      "model_module_version": "1.5.0",
      "model_name": "ButtonModel",
      "state": {
       "description": "Refresh",
       "layout": "IPY_MODEL_1a508189296a406e84d0c60723319b38",
       "style": "IPY_MODEL_73eaf39723804c3d891d6fb19e321900"
      }
     },
     "1226adbe6dc5470cb07fa49bb7e8c080": {
      "model_module": "@jupyter-widgets/controls",
      "model_module_version": "1.5.0",
      "model_name": "ButtonStyleModel",
      "state": {}
     },
     "128ccc89fd1e4d30952853e18a076308": {
      "model_module": "@jupyter-widgets/controls",
      "model_module_version": "1.5.0",
      "model_name": "ButtonStyleModel",
      "state": {}
     },
     "12a63bc7ab3b4909b52aa72a45366588": {
      "model_module": "@jupyter-widgets/base",
      "model_module_version": "1.2.0",
      "model_name": "LayoutModel",
      "state": {}
     },
     "12a8e6dc462047eca8e00d88dee70daf": {
      "model_module": "@jupyter-widgets/base",
      "model_module_version": "1.2.0",
      "model_name": "LayoutModel",
      "state": {
       "width": "200px"
      }
     },
     "1327aac71ea14d38bf917adbdb885b84": {
      "model_module": "@jupyter-widgets/controls",
      "model_module_version": "1.5.0",
      "model_name": "ButtonStyleModel",
      "state": {}
     },
     "1344c2dd96d2493988c1ee6bd3f0d77e": {
      "model_module": "@jupyter-widgets/base",
      "model_module_version": "1.2.0",
      "model_name": "LayoutModel",
      "state": {}
     },
     "137486f3dc1f4e9b9b32b7208c880f8a": {
      "model_module": "@jupyter-widgets/base",
      "model_module_version": "1.2.0",
      "model_name": "LayoutModel",
      "state": {}
     },
     "1433b5460551410cb085b04b2c2e12d1": {
      "model_module": "@jupyter-widgets/base",
      "model_module_version": "1.2.0",
      "model_name": "LayoutModel",
      "state": {}
     },
     "144f0f187bcb46e1a638d441c701abfd": {
      "model_module": "@jupyter-widgets/controls",
      "model_module_version": "1.5.0",
      "model_name": "ButtonModel",
      "state": {
       "description": "Export to pdf",
       "layout": "IPY_MODEL_5e9a876b1d8e4e61bfa073ea4468869e",
       "style": "IPY_MODEL_4b00ab43f6ba4ffaaa726d052b14aa9d"
      }
     },
     "14e28e6ed4a24ebcabbcf17d2bbf18a1": {
      "model_module": "@jupyter-widgets/base",
      "model_module_version": "1.2.0",
      "model_name": "LayoutModel",
      "state": {
       "height": "40px",
       "width": "200px"
      }
     },
     "156f6d80c86442b0a4afb099a6ad68ab": {
      "model_module": "@jupyter-widgets/controls",
      "model_module_version": "1.5.0",
      "model_name": "ButtonStyleModel",
      "state": {}
     },
     "1573d376220c421d9dcb26f30bd8ee07": {
      "model_module": "@jupyter-widgets/controls",
      "model_module_version": "1.5.0",
      "model_name": "ButtonStyleModel",
      "state": {}
     },
     "158ef1e1301c43829e066ef4671694c4": {
      "model_module": "@jupyter-widgets/controls",
      "model_module_version": "1.5.0",
      "model_name": "ButtonStyleModel",
      "state": {}
     },
     "15b8c187e3464c5bbd50182fc25af9e7": {
      "model_module": "@jupyter-widgets/controls",
      "model_module_version": "1.5.0",
      "model_name": "ButtonModel",
      "state": {
       "description": "Refresh",
       "layout": "IPY_MODEL_5293f7f8d43c4dd4bab95e8b7a5dfc04",
       "style": "IPY_MODEL_534be8c74bf24dd9a84f9da55bb28d19"
      }
     },
     "15f7589c919c40bc91e1010d84dda33e": {
      "model_module": "@jupyter-widgets/controls",
      "model_module_version": "1.5.0",
      "model_name": "ButtonStyleModel",
      "state": {}
     },
     "1601822a35ce4f059dd96f3a7d412a57": {
      "model_module": "@jupyter-widgets/controls",
      "model_module_version": "1.5.0",
      "model_name": "HBoxModel",
      "state": {
       "children": [
        "IPY_MODEL_a70a66861c2e431dbaecb8ab4aec5bc6",
        "IPY_MODEL_fde883a4cb2243d5b8a31609eef5f6e4",
        "IPY_MODEL_df18a3bd094c415fb91b52a5efd0d5f4"
       ],
       "layout": "IPY_MODEL_e19e84b907514a0b906cb331c09f5dd0"
      }
     },
     "160f258423ae45f99eff9670ec5d3bc5": {
      "model_module": "@jupyter-widgets/base",
      "model_module_version": "1.2.0",
      "model_name": "LayoutModel",
      "state": {}
     },
     "16298ee12c584db99a966b12d5fd31de": {
      "model_module": "@jupyter-widgets/controls",
      "model_module_version": "1.5.0",
      "model_name": "ButtonModel",
      "state": {
       "description": "Treat scan",
       "layout": "IPY_MODEL_c172a43af68348f29435ee4d12a80d2f",
       "style": "IPY_MODEL_5e9ded31ab7b4a2396b9a9aa74b657d2"
      }
     },
     "1649c87850f9467e96b3410efe0c31c3": {
      "model_module": "@jupyter-widgets/base",
      "model_module_version": "1.2.0",
      "model_name": "LayoutModel",
      "state": {
       "height": "40px",
       "width": "250px"
      }
     },
     "16513f5a0bec47479d859f0a21da9272": {
      "model_module": "@jupyter-widgets/controls",
      "model_module_version": "1.5.0",
      "model_name": "ButtonStyleModel",
      "state": {}
     },
     "167382ba3dc243c38e1c9e3be7473951": {
      "model_module": "@jupyter-widgets/controls",
      "model_module_version": "1.5.0",
      "model_name": "ButtonModel",
      "state": {
       "description": "Next action",
       "layout": "IPY_MODEL_06a1ca08927448af83f9d569b629aaa3",
       "style": "IPY_MODEL_f535ad2746d24a58a7a9408a5b25d2ae"
      }
     },
     "1678525333ef4bc0a577361905389867": {
      "model_module": "@jupyter-widgets/controls",
      "model_module_version": "1.5.0",
      "model_name": "ButtonModel",
      "state": {
       "description": "Insert comment",
       "layout": "IPY_MODEL_30e7c1c9046e4ee4b0ad2ad0c90fcca4",
       "style": "IPY_MODEL_1fe7f7e3fcdc49cfa66e44f9f26553a8"
      }
     },
     "16e08975b4f548f5b6fbcf9499dbe000": {
      "model_module": "@jupyter-widgets/controls",
      "model_module_version": "1.5.0",
      "model_name": "HBoxModel",
      "state": {
       "children": [
        "IPY_MODEL_3412a1ddf5e44ecc80e7f71a192cd55a",
        "IPY_MODEL_a4277e5e52584170a2218e96fd233e9d",
        "IPY_MODEL_09e3a3b669af43d9bfd1fe43180917ff"
       ],
       "layout": "IPY_MODEL_7836ef0ab38c4eb9a4aa8ae1e48ef88f"
      }
     },
     "16ffcccb26984081b9227359ba467985": {
      "model_module": "@jupyter-widgets/controls",
      "model_module_version": "1.5.0",
      "model_name": "ButtonModel",
      "state": {
       "description": "Treat scan",
       "layout": "IPY_MODEL_ac08a55520704b74a1281981a88cf57d",
       "style": "IPY_MODEL_d689344a75de4605b755d0e0d5391e0f"
      }
     },
     "1703924789014061974f853695c188e2": {
      "model_module": "@jupyter-widgets/base",
      "model_module_version": "1.2.0",
      "model_name": "LayoutModel",
      "state": {}
     },
     "174bd277b55d41aea3809e02bedb288f": {
      "model_module": "@jupyter-widgets/controls",
      "model_module_version": "1.5.0",
      "model_name": "ButtonStyleModel",
      "state": {}
     },
     "175fdf2080514da79847b27719e2da59": {
      "model_module": "@jupyter-widgets/controls",
      "model_module_version": "1.5.0",
      "model_name": "ButtonModel",
      "state": {
       "description": "Insert comment",
       "layout": "IPY_MODEL_b21bc87b90714e548aa5e640681f61d3",
       "style": "IPY_MODEL_74e5a6a11aa0423799979aecf710aee4"
      }
     },
     "17af156052f844f881d9542371bf451a": {
      "model_module": "@jupyter-widgets/base",
      "model_module_version": "1.2.0",
      "model_name": "LayoutModel",
      "state": {}
     },
     "17e7e20d542b449cb75cce2b8dd52726": {
      "model_module": "@jupyter-widgets/base",
      "model_module_version": "1.2.0",
      "model_name": "LayoutModel",
      "state": {
       "height": "40px",
       "width": "250px"
      }
     },
     "17e854f41e38468fb3e7e85e13025224": {
      "model_module": "@jupyter-widgets/controls",
      "model_module_version": "1.5.0",
      "model_name": "ButtonModel",
      "state": {
       "description": "Export to pdf",
       "layout": "IPY_MODEL_9ee5b3415bbd49bf9a549e90e976cf26",
       "style": "IPY_MODEL_7699c6aae16d45a084ae6f4c2a552832"
      }
     },
     "182059e62b264172a110941462c167b7": {
      "model_module": "@jupyter-widgets/base",
      "model_module_version": "1.2.0",
      "model_name": "LayoutModel",
      "state": {}
     },
     "182ca437e225484d98d2617f16ea5b61": {
      "model_module": "@jupyter-widgets/base",
      "model_module_version": "1.2.0",
      "model_name": "LayoutModel",
      "state": {}
     },
     "1856e6fb32584104b2a9626a12a7aa13": {
      "model_module": "@jupyter-widgets/controls",
      "model_module_version": "1.5.0",
      "model_name": "ButtonStyleModel",
      "state": {}
     },
     "185ec9b915ad4d01a9c64d70302d8cf6": {
      "model_module": "@jupyter-widgets/controls",
      "model_module_version": "1.5.0",
      "model_name": "ButtonStyleModel",
      "state": {}
     },
     "18717111df904c70b792139846c41759": {
      "model_module": "@jupyter-widgets/controls",
      "model_module_version": "1.5.0",
      "model_name": "ButtonStyleModel",
      "state": {}
     },
     "1881b027ef164c98bd74db2193ce056c": {
      "model_module": "@jupyter-widgets/base",
      "model_module_version": "1.2.0",
      "model_name": "LayoutModel",
      "state": {}
     },
     "18a4484ad1ab4ae59dc769cb68017225": {
      "model_module": "@jupyter-widgets/base",
      "model_module_version": "1.2.0",
      "model_name": "LayoutModel",
      "state": {
       "height": "40px",
       "width": "150px"
      }
     },
     "18a9b5f1e84d4bc8b1be79f6f70aa082": {
      "model_module": "@jupyter-widgets/controls",
      "model_module_version": "1.5.0",
      "model_name": "ButtonStyleModel",
      "state": {}
     },
     "190a4cc1b5c34bc4af8bea5142bf56b7": {
      "model_module": "@jupyter-widgets/controls",
      "model_module_version": "1.5.0",
      "model_name": "HBoxModel",
      "state": {
       "children": [
        "IPY_MODEL_9647f6ebfbaf4eddad4627465609649e",
        "IPY_MODEL_167382ba3dc243c38e1c9e3be7473951"
       ],
       "layout": "IPY_MODEL_e0b70084eba44da3a308415ceac44621"
      }
     },
     "191c440364da4f1f86ed2bfaa4a9eb24": {
      "model_module": "@jupyter-widgets/base",
      "model_module_version": "1.2.0",
      "model_name": "LayoutModel",
      "state": {}
     },
     "193edf586d5246f0bfd6c7b8edc671ca": {
      "model_module": "@jupyter-widgets/base",
      "model_module_version": "1.2.0",
      "model_name": "LayoutModel",
      "state": {
       "height": "40px",
       "width": "300px"
      }
     },
     "1944da570bcf45a48f9b797b32d2b9d9": {
      "model_module": "@jupyter-widgets/controls",
      "model_module_version": "1.5.0",
      "model_name": "VBoxModel",
      "state": {
       "_dom_classes": [
        "widget-interact"
       ],
       "children": [
        "IPY_MODEL_29b3a55c1e964ea2a0be166a98115b09",
        "IPY_MODEL_7c9ceeb2c213441fb28370ac95994a13"
       ],
       "layout": "IPY_MODEL_960c48a4d6de4d9292d069c150daa6ed"
      }
     },
     "1982850e13c143e88c93ce194b6086b7": {
      "model_module": "@jupyter-widgets/controls",
      "model_module_version": "1.5.0",
      "model_name": "ButtonStyleModel",
      "state": {}
     },
     "199f344e98c5475d9528ab86d825adf1": {
      "model_module": "@jupyter-widgets/controls",
      "model_module_version": "1.5.0",
      "model_name": "ButtonStyleModel",
      "state": {}
     },
     "19d3b4da0327415290b5af5f42276167": {
      "model_module": "@jupyter-widgets/base",
      "model_module_version": "1.2.0",
      "model_name": "LayoutModel",
      "state": {}
     },
     "19e0d47b0ac6440c9ac642661fad3785": {
      "model_module": "@jupyter-widgets/controls",
      "model_module_version": "1.5.0",
      "model_name": "ButtonStyleModel",
      "state": {}
     },
     "19ecf8cdf0ea4a89ad6143bdf403ebe5": {
      "model_module": "@jupyter-widgets/controls",
      "model_module_version": "1.5.0",
      "model_name": "ButtonStyleModel",
      "state": {}
     },
     "1a508189296a406e84d0c60723319b38": {
      "model_module": "@jupyter-widgets/base",
      "model_module_version": "1.2.0",
      "model_name": "LayoutModel",
      "state": {}
     },
     "1a57aea4a73b4b2ab8d4394678a043f4": {
      "model_module": "@jupyter-widgets/controls",
      "model_module_version": "1.5.0",
      "model_name": "HBoxModel",
      "state": {
       "children": [
        "IPY_MODEL_d5df125754b640c7b099a9e48915494c",
        "IPY_MODEL_5515107359ac4602aa8875f79e9b2882",
        "IPY_MODEL_3002353cb34b4c9dba1ac2aebd6e536a"
       ],
       "layout": "IPY_MODEL_ecbd0a0c26ee4934a84aa5970f3052ca"
      }
     },
     "1a791295c90844c799df142f79295ef5": {
      "model_module": "@jupyter-widgets/base",
      "model_module_version": "1.2.0",
      "model_name": "LayoutModel",
      "state": {
       "height": "40px",
       "width": "250px"
      }
     },
     "1a86cd7cd3a54676b44f4227e82f6000": {
      "model_module": "@jupyter-widgets/controls",
      "model_module_version": "1.5.0",
      "model_name": "HBoxModel",
      "state": {
       "children": [
        "IPY_MODEL_3d9589894c7a406e99f60604654ff8c1",
        "IPY_MODEL_d24f4f52cef943e1ac6835fb5ce50a85",
        "IPY_MODEL_2267a7a25a3044bca3eed96a6da6259d"
       ],
       "layout": "IPY_MODEL_ba21ea7cee5d4c448db57d287c973dfb"
      }
     },
     "1ab8b570f5714fb4b661b033ef3aa068": {
      "model_module": "@jupyter-widgets/controls",
      "model_module_version": "1.5.0",
      "model_name": "ButtonModel",
      "state": {
       "description": "Refresh",
       "layout": "IPY_MODEL_43dd49b4e39e43539ebda7af32c4e774",
       "style": "IPY_MODEL_98b618623716402e932dbc01e2dea672"
      }
     },
     "1c1385a075cd49da8b00109ee00a8c04": {
      "model_module": "@jupyter-widgets/base",
      "model_module_version": "1.2.0",
      "model_name": "LayoutModel",
      "state": {
       "height": "40px",
       "width": "250px"
      }
     },
     "1c2c75a074f4490eb95fbe4b4d4902e6": {
      "model_module": "@jupyter-widgets/base",
      "model_module_version": "1.2.0",
      "model_name": "LayoutModel",
      "state": {
       "height": "40px",
       "width": "150px"
      }
     },
     "1c386f50b96c4b978d53449322393812": {
      "model_module": "@jupyter-widgets/base",
      "model_module_version": "1.2.0",
      "model_name": "LayoutModel",
      "state": {}
     },
     "1c494648c5e64dbcbd2cfab78c4a362c": {
      "model_module": "@jupyter-widgets/base",
      "model_module_version": "1.2.0",
      "model_name": "LayoutModel",
      "state": {}
     },
     "1c5eb48148264f7d8a90ea9a83f5c242": {
      "model_module": "@jupyter-widgets/base",
      "model_module_version": "1.2.0",
      "model_name": "LayoutModel",
      "state": {}
     },
     "1c856214dd1c4ab5b74c9de0a4bdf6f7": {
      "model_module": "@jupyter-widgets/base",
      "model_module_version": "1.2.0",
      "model_name": "LayoutModel",
      "state": {}
     },
     "1c86ca9d87bd49798852c81afd5b30c2": {
      "model_module": "@jupyter-widgets/controls",
      "model_module_version": "1.5.0",
      "model_name": "ButtonModel",
      "state": {
       "description": "Insert comment",
       "layout": "IPY_MODEL_d049d04bc40349cba2984580030d4adf",
       "style": "IPY_MODEL_6cb9b6f02cb3465ab158c15729b3d4cc"
      }
     },
     "1c92f2a7e29043e4a48c75cbf9cca00e": {
      "model_module": "@jupyter-widgets/controls",
      "model_module_version": "1.5.0",
      "model_name": "ButtonModel",
      "state": {
       "description": "Save current params as default",
       "layout": "IPY_MODEL_d80623180e3947fbbe7add91a929b295",
       "style": "IPY_MODEL_3047b44f7fac4f72a262c948eb0533c4"
      }
     },
     "1ccf1698f0c8492788205e9912f64992": {
      "model_module": "@jupyter-widgets/controls",
      "model_module_version": "1.5.0",
      "model_name": "DescriptionStyleModel",
      "state": {
       "description_width": "initial"
      }
     },
     "1d6bb0301f904096bf955fb1eed857b5": {
      "model_module": "@jupyter-widgets/controls",
      "model_module_version": "1.5.0",
      "model_name": "ButtonStyleModel",
      "state": {}
     },
     "1ddac504a6fe4d54a8a87a342eba5a29": {
      "model_module": "@jupyter-widgets/controls",
      "model_module_version": "1.5.0",
      "model_name": "DescriptionStyleModel",
      "state": {
       "description_width": "initial"
      }
     },
     "1de8c611075f45d2b075a70bd3a90ea5": {
      "model_module": "@jupyter-widgets/base",
      "model_module_version": "1.2.0",
      "model_name": "LayoutModel",
      "state": {
       "height": "40px",
       "width": "150px"
      }
     },
     "1e3b09bab12b4d6a9386d644dce510cf": {
      "model_module": "@jupyter-widgets/controls",
      "model_module_version": "1.5.0",
      "model_name": "ButtonModel",
      "state": {
       "description": "Export to pdf",
       "layout": "IPY_MODEL_9c5574edba234da1a8a94e6ce316769f",
       "style": "IPY_MODEL_c6f6573e95c74c2db86cbf8f614b3267"
      }
     },
     "1e8f3091c24f4426a5845827f9d7d2be": {
      "model_module": "@jupyter-widgets/controls",
      "model_module_version": "1.5.0",
      "model_name": "ButtonStyleModel",
      "state": {}
     },
     "1ebbec53797a497aafebb356b3e7f33e": {
      "model_module": "@jupyter-widgets/controls",
      "model_module_version": "1.5.0",
      "model_name": "HBoxModel",
      "state": {
       "children": [
        "IPY_MODEL_ffa5b97de0164d16a5f7e5185946cbe3",
        "IPY_MODEL_1fc1e802e80246738702ded37b4c7c05",
        "IPY_MODEL_5eb20bc11b6140a894e0ec2af0f52ee6"
       ],
       "layout": "IPY_MODEL_3b68e9d8294a4cae9cd18bf263c0bdd5"
      }
     },
     "1f148697164748dc8a1b93160bd64d9c": {
      "model_module": "@jupyter-widgets/controls",
      "model_module_version": "1.5.0",
      "model_name": "ButtonStyleModel",
      "state": {}
     },
     "1fb4732fa3b94914ba16b02b9fe394f3": {
      "model_module": "@jupyter-widgets/base",
      "model_module_version": "1.2.0",
      "model_name": "LayoutModel",
      "state": {
       "width": "400px"
      }
     },
     "1fc1e802e80246738702ded37b4c7c05": {
      "model_module": "@jupyter-widgets/controls",
      "model_module_version": "1.5.0",
      "model_name": "ButtonModel",
      "state": {
       "description": "Insert comment",
       "layout": "IPY_MODEL_bc7bb8681bf64923a70a88f1ff3ce8e7",
       "style": "IPY_MODEL_58fb8ab575c24bbdb922bede70bcdf21"
      }
     },
     "1fe7f7e3fcdc49cfa66e44f9f26553a8": {
      "model_module": "@jupyter-widgets/controls",
      "model_module_version": "1.5.0",
      "model_name": "ButtonStyleModel",
      "state": {}
     },
     "200ad9e3da5045b1ab3ee02ea9eec044": {
      "model_module": "@jupyter-widgets/controls",
      "model_module_version": "1.5.0",
      "model_name": "ButtonModel",
      "state": {
       "description": "Analyze a new scan",
       "layout": "IPY_MODEL_e7681fb010b24cb9b34cb0ebe2ce29a8",
       "style": "IPY_MODEL_70ee041ff087491b8af58fce71901cfc"
      }
     },
     "20918e44ad944784b54e374486d193d1": {
      "model_module": "@jupyter-widgets/base",
      "model_module_version": "1.2.0",
      "model_name": "LayoutModel",
      "state": {}
     },
     "20aac713c2124acc8d5321954898f96a": {
      "model_module": "@jupyter-widgets/controls",
      "model_module_version": "1.5.0",
      "model_name": "ButtonStyleModel",
      "state": {}
     },
     "21415b50c9f64f7a8e190db4b90233a4": {
      "model_module": "@jupyter-widgets/controls",
      "model_module_version": "1.5.0",
      "model_name": "ButtonStyleModel",
      "state": {}
     },
     "215b6d1e155b48ac92cc6aa803923cea": {
      "model_module": "@jupyter-widgets/base",
      "model_module_version": "1.2.0",
      "model_name": "LayoutModel",
      "state": {
       "width": "100px"
      }
     },
     "21feb7b6730245a9a392c4199e0a6079": {
      "model_module": "@jupyter-widgets/base",
      "model_module_version": "1.2.0",
      "model_name": "LayoutModel",
      "state": {
       "height": "40px",
       "width": "150px"
      }
     },
     "220ce2d495de4332aad9f0cab586bff4": {
      "model_module": "@jupyter-widgets/controls",
      "model_module_version": "1.5.0",
      "model_name": "HBoxModel",
      "state": {
       "children": [
        "IPY_MODEL_719b8dbb275e458db44093a6ce9b2b7c",
        "IPY_MODEL_029b711e878d41beb7734be293ca31ff",
        "IPY_MODEL_0cc43f85288b474abcb5f090241519e8"
       ],
       "layout": "IPY_MODEL_cbfe836398c3405a863a9edf445ad7b3"
      }
     },
     "22103f727e9446bab31676c60b5447c2": {
      "model_module": "@jupyter-widgets/base",
      "model_module_version": "1.2.0",
      "model_name": "LayoutModel",
      "state": {
       "height": "40px",
       "width": "150px"
      }
     },
     "226686552e204341ab2d2310d8fdcd7d": {
      "model_module": "@jupyter-widgets/controls",
      "model_module_version": "1.5.0",
      "model_name": "ButtonStyleModel",
      "state": {}
     },
     "2267a7a25a3044bca3eed96a6da6259d": {
      "model_module": "@jupyter-widgets/controls",
      "model_module_version": "1.5.0",
      "model_name": "ButtonModel",
      "state": {
       "description": "Insert comment",
       "layout": "IPY_MODEL_236f7135ad064e7ca1970d58e3c1ef79",
       "style": "IPY_MODEL_8bdc5e1cee954bf9934c69359ec9fc6f"
      }
     },
     "22a1119379d345daa259af11107f18a9": {
      "model_module": "@jupyter-widgets/controls",
      "model_module_version": "1.5.0",
      "model_name": "ButtonStyleModel",
      "state": {}
     },
     "22cb6c7e63e0497b86a7662393c5c3da": {
      "model_module": "@jupyter-widgets/base",
      "model_module_version": "1.2.0",
      "model_name": "LayoutModel",
      "state": {
       "width": "400px"
      }
     },
     "235fa403fc1841d09dc3329ed5ef6c53": {
      "model_module": "@jupyter-widgets/controls",
      "model_module_version": "1.5.0",
      "model_name": "HBoxModel",
      "state": {
       "children": [
        "IPY_MODEL_4c2df3da00e44303a2296b1371763233",
        "IPY_MODEL_462e2cdf9e3f4ce28ae5b9a5484926f5",
        "IPY_MODEL_a91661b987bc4c448bf96ee98ded760f"
       ],
       "layout": "IPY_MODEL_a42e717fcdd94519b8bcb463fcec80b8"
      }
     },
     "236f7135ad064e7ca1970d58e3c1ef79": {
      "model_module": "@jupyter-widgets/base",
      "model_module_version": "1.2.0",
      "model_name": "LayoutModel",
      "state": {}
     },
     "23a09b96dd8d4d4db553a0596623db18": {
      "model_module": "@jupyter-widgets/controls",
      "model_module_version": "1.5.0",
      "model_name": "ButtonModel",
      "state": {
       "description": "Set params",
       "layout": "IPY_MODEL_5d05a4297f664427a01a8dc9c34e1be4",
       "style": "IPY_MODEL_9203bd5530fc4040853f92194718ecb9"
      }
     },
     "23beb96d14904dcd9918b4fd1f322f93": {
      "model_module": "@jupyter-widgets/base",
      "model_module_version": "1.2.0",
      "model_name": "LayoutModel",
      "state": {}
     },
     "23e2a7faca0c4f58855d56a2ad47ac01": {
      "model_module": "@jupyter-widgets/base",
      "model_module_version": "1.2.0",
      "model_name": "LayoutModel",
      "state": {}
     },
     "240dcf499eba46e587b9c0b7679e1751": {
      "model_module": "@jupyter-widgets/base",
      "model_module_version": "1.2.0",
      "model_name": "LayoutModel",
      "state": {
       "width": "250px"
      }
     },
     "242e5320adca4b48846cde63b3f2af41": {
      "model_module": "@jupyter-widgets/controls",
      "model_module_version": "1.5.0",
      "model_name": "ButtonStyleModel",
      "state": {}
     },
     "2440ebefda544fb587cf9cc751810a37": {
      "model_module": "@jupyter-widgets/controls",
      "model_module_version": "1.5.0",
      "model_name": "HBoxModel",
      "state": {
       "children": [
        "IPY_MODEL_cc9786c522644a9785238d684b8c685a",
        "IPY_MODEL_d7d298b36651470e95084b359822e891",
        "IPY_MODEL_c0d0d10e60ec465da3600424d4580ac5"
       ],
       "layout": "IPY_MODEL_5965552252db4735af1d3ed1ecf3c041"
      }
     },
     "2450740f194f429d8c707a0e90ba88ea": {
      "model_module": "@jupyter-widgets/controls",
      "model_module_version": "1.5.0",
      "model_name": "HBoxModel",
      "state": {
       "children": [
        "IPY_MODEL_49b1db5751f74a7c9ce548b105d44eba",
        "IPY_MODEL_b70593a16eb9450397bb4aff2cc681c8"
       ],
       "layout": "IPY_MODEL_38f79fb469014b5e83b1eb9672109035"
      }
     },
     "24e4db4efa034deebd61e7fbb6b7711f": {
      "model_module": "@jupyter-widgets/base",
      "model_module_version": "1.2.0",
      "model_name": "LayoutModel",
      "state": {}
     },
     "24e763d2b48f4101bcd2d858d5e065fd": {
      "model_module": "@jupyter-widgets/controls",
      "model_module_version": "1.5.0",
      "model_name": "ButtonStyleModel",
      "state": {}
     },
     "24fe466e8a9f4d2c8eebc2f83a69c0d2": {
      "model_module": "@jupyter-widgets/controls",
      "model_module_version": "1.5.0",
      "model_name": "ButtonStyleModel",
      "state": {}
     },
     "251e06aac3234a6293c7adff74e1c55d": {
      "model_module": "@jupyter-widgets/base",
      "model_module_version": "1.2.0",
      "model_name": "LayoutModel",
      "state": {}
     },
     "25352127f2a7498299c144e45c315ccb": {
      "model_module": "@jupyter-widgets/base",
      "model_module_version": "1.2.0",
      "model_name": "LayoutModel",
      "state": {}
     },
     "2551c361c8a34bd5bbf9dd827fc86e26": {
      "model_module": "@jupyter-widgets/controls",
      "model_module_version": "1.5.0",
      "model_name": "ButtonModel",
      "state": {
       "description": "Insert comment",
       "layout": "IPY_MODEL_d46b062f0c384513ad0abbd2114feb22",
       "style": "IPY_MODEL_a8b8b4ec931744bba28c88d9c175641b"
      }
     },
     "256ddc124a3943abb3373fe767698de5": {
      "model_module": "@jupyter-widgets/base",
      "model_module_version": "1.2.0",
      "model_name": "LayoutModel",
      "state": {}
     },
     "26366b710c2d4899b38486d3422f88d5": {
      "model_module": "@jupyter-widgets/controls",
      "model_module_version": "1.5.0",
      "model_name": "HBoxModel",
      "state": {
       "children": [
        "IPY_MODEL_6936051f226441068d499712d76348be",
        "IPY_MODEL_44c923c85c7b4d8b964375aa4348efc1",
        "IPY_MODEL_77387f4bf28d4ddcaf35a5f2c35761dc"
       ],
       "layout": "IPY_MODEL_ceb282ee16dd4569ba72023bdf7a106c"
      }
     },
     "269f9604fce84e8a8e393291af19be98": {
      "model_module": "@jupyter-widgets/controls",
      "model_module_version": "1.5.0",
      "model_name": "DescriptionStyleModel",
      "state": {
       "description_width": "initial"
      }
     },
     "26ec7102aab7417ba185485ab19e6327": {
      "model_module": "@jupyter-widgets/base",
      "model_module_version": "1.2.0",
      "model_name": "LayoutModel",
      "state": {}
     },
     "26f9eb37b5794756a229838659a9871f": {
      "model_module": "@jupyter-widgets/controls",
      "model_module_version": "1.5.0",
      "model_name": "ButtonStyleModel",
      "state": {}
     },
     "27281aca4c124c339978e8bd1743c391": {
      "model_module": "@jupyter-widgets/controls",
      "model_module_version": "1.5.0",
      "model_name": "DescriptionStyleModel",
      "state": {
       "description_width": ""
      }
     },
     "2736fa71ab05454c9c3ecb3955b7245c": {
      "model_module": "@jupyter-widgets/base",
      "model_module_version": "1.2.0",
      "model_name": "LayoutModel",
      "state": {}
     },
     "2765835a714a4eadbdefced16971d200": {
      "model_module": "@jupyter-widgets/controls",
      "model_module_version": "1.5.0",
      "model_name": "ButtonModel",
      "state": {
       "description": "Insert comment",
       "layout": "IPY_MODEL_f2838f3dda0e48a291da1672fef016a9",
       "style": "IPY_MODEL_f9b829b1c2754c1babeb56846942166a"
      }
     },
     "276b3ab0365a4c31a921e74af1a2af0f": {
      "model_module": "@jupyter-widgets/base",
      "model_module_version": "1.2.0",
      "model_name": "LayoutModel",
      "state": {}
     },
     "276fab152aae4c36a105ab50c620d113": {
      "model_module": "@jupyter-widgets/controls",
      "model_module_version": "1.5.0",
      "model_name": "DescriptionStyleModel",
      "state": {
       "description_width": "initial"
      }
     },
     "2786acfdc6264d0d8c809b990287979c": {
      "model_module": "@jupyter-widgets/controls",
      "model_module_version": "1.5.0",
      "model_name": "ButtonStyleModel",
      "state": {}
     },
     "27a6981c4df144bdb827b1f7dc481030": {
      "model_module": "@jupyter-widgets/controls",
      "model_module_version": "1.5.0",
      "model_name": "HBoxModel",
      "state": {
       "children": [
        "IPY_MODEL_200ad9e3da5045b1ab3ee02ea9eec044",
        "IPY_MODEL_33ead2b771a34be0b548d5fc867bcc3f",
        "IPY_MODEL_0adf73a6521a47259dfa8b72c7d69110"
       ],
       "layout": "IPY_MODEL_c8a1a739ee9a4fb4a93b05e84c23946b"
      }
     },
     "27c79031e602464f97d1c35011db6d7e": {
      "model_module": "@jupyter-widgets/controls",
      "model_module_version": "1.5.0",
      "model_name": "ButtonStyleModel",
      "state": {}
     },
     "28015b5cd60f4b388c4465f27ce3e604": {
      "model_module": "@jupyter-widgets/controls",
      "model_module_version": "1.5.0",
      "model_name": "DescriptionStyleModel",
      "state": {
       "description_width": "initial"
      }
     },
     "2853a82c0b354776959810c749ba2773": {
      "model_module": "@jupyter-widgets/base",
      "model_module_version": "1.2.0",
      "model_name": "LayoutModel",
      "state": {
       "height": "40px",
       "width": "200px"
      }
     },
     "28575226eead482ea4889c1328567f87": {
      "model_module": "@jupyter-widgets/base",
      "model_module_version": "1.2.0",
      "model_name": "LayoutModel",
      "state": {}
     },
     "2867c3763af44fb39933db04a2e6e4c5": {
      "model_module": "@jupyter-widgets/controls",
      "model_module_version": "1.5.0",
      "model_name": "ButtonModel",
      "state": {
       "description": "Treat scan",
       "layout": "IPY_MODEL_ac228c878931456b8646105463da0a64",
       "style": "IPY_MODEL_158ef1e1301c43829e066ef4671694c4"
      }
     },
     "28915567debb41e084f6564a0bdbfff8": {
      "model_module": "@jupyter-widgets/base",
      "model_module_version": "1.2.0",
      "model_name": "LayoutModel",
      "state": {}
     },
     "28f0e9ad10754d68b87114424e55ee49": {
      "model_module": "@jupyter-widgets/base",
      "model_module_version": "1.2.0",
      "model_name": "LayoutModel",
      "state": {}
     },
     "29077f11f02b4558acdc2abfea7308e6": {
      "model_module": "@jupyter-widgets/controls",
      "model_module_version": "1.5.0",
      "model_name": "ButtonModel",
      "state": {
       "description": "OK",
       "layout": "IPY_MODEL_46f38c4f7d164bb1b91a042166d9b17a",
       "style": "IPY_MODEL_f5df08ab2e8245d7b9a042c27a189bd5"
      }
     },
     "2955059bea624cd08b7d40fea7a5d98e": {
      "model_module": "@jupyter-widgets/base",
      "model_module_version": "1.2.0",
      "model_name": "LayoutModel",
      "state": {}
     },
     "2958934eab9f4a89a8661d08c9694699": {
      "model_module": "@jupyter-widgets/base",
      "model_module_version": "1.2.0",
      "model_name": "LayoutModel",
      "state": {}
     },
     "29b3a55c1e964ea2a0be166a98115b09": {
      "model_module": "@jupyter-widgets/controls",
      "model_module_version": "1.5.0",
      "model_name": "SelectMultipleModel",
      "state": {
       "_options_labels": [
        "SIRIUS_Fluo_2020_07_07_0070.nxs",
        "SIRIUS_Fluo_2020_02_16_02289.nxs",
        "SIRIUS_Fluo_2020_02_16_02288.nxs",
        "SIRIUS_Fluo_2020_02_13_02277.nxs",
        "SIRIUS_Fluo_2017_12_11_08042.nxs"
       ],
       "description": "Next scan:",
       "index": [],
       "layout": "IPY_MODEL_f937593ea75d416a98344a669c01b768",
       "rows": 10,
       "style": "IPY_MODEL_27281aca4c124c339978e8bd1743c391"
      }
     },
     "29c9af952a40431187f9ae20d8bdfe3b": {
      "model_module": "@jupyter-widgets/base",
      "model_module_version": "1.2.0",
      "model_name": "LayoutModel",
      "state": {}
     },
     "2a6936393fce44459ea1dea8ffe8619d": {
      "model_module": "@jupyter-widgets/base",
      "model_module_version": "1.2.0",
      "model_name": "LayoutModel",
      "state": {
       "height": "40px",
       "width": "300px"
      }
     },
     "2a8024e84748489d8b0687d3be89ec66": {
      "model_module": "@jupyter-widgets/controls",
      "model_module_version": "1.5.0",
      "model_name": "ButtonStyleModel",
      "state": {}
     },
     "2be139ef051e4f288bcdd01f95ca7ad1": {
      "model_module": "@jupyter-widgets/base",
      "model_module_version": "1.2.0",
      "model_name": "LayoutModel",
      "state": {}
     },
     "2c4ed5f6c08d486db264cf9ea7d33288": {
      "model_module": "@jupyter-widgets/controls",
      "model_module_version": "1.5.0",
      "model_name": "ButtonStyleModel",
      "state": {}
     },
     "2ca7e08b263b449f879623e406b102b7": {
      "model_module": "@jupyter-widgets/base",
      "model_module_version": "1.2.0",
      "model_name": "LayoutModel",
      "state": {
       "width": "400px"
      }
     },
     "2d965a89b97140149e8f68467eb8f65e": {
      "model_module": "@jupyter-widgets/base",
      "model_module_version": "1.2.0",
      "model_name": "LayoutModel",
      "state": {}
     },
     "2dc1b8d4ce834c02a1d8fea31de785b0": {
      "model_module": "@jupyter-widgets/base",
      "model_module_version": "1.2.0",
      "model_name": "LayoutModel",
      "state": {}
     },
     "2e2f41d239cf4552b65a5c523f849987": {
      "model_module": "@jupyter-widgets/controls",
      "model_module_version": "1.5.0",
      "model_name": "ButtonModel",
      "state": {
       "description": "OK",
       "layout": "IPY_MODEL_dcebc7a64d9549e483530285790174dd",
       "style": "IPY_MODEL_75453fb3ba8d4c88a84efca8ffbac496"
      }
     },
     "2e9904d2e6924b66a6137dd8fc866ea3": {
      "model_module": "@jupyter-widgets/base",
      "model_module_version": "1.2.0",
      "model_name": "LayoutModel",
      "state": {}
     },
     "2ea14931d0534f3daed768a8c4ec04ba": {
      "model_module": "@jupyter-widgets/controls",
      "model_module_version": "1.5.0",
      "model_name": "DropdownModel",
      "state": {
       "_options_labels": [
        "SIRIUS_Fluo_2020_07_07_0070.nxs",
        "SIRIUS_Fluo_2020_02_16_02289.nxs",
        "SIRIUS_Fluo_2020_02_16_02288.nxs",
        "SIRIUS_Fluo_2020_02_13_02277.nxs",
        "SIRIUS_Fluo_2017_12_11_08042.nxs"
       ],
       "index": 0,
       "layout": "IPY_MODEL_9546d5d878834db9858a98b7a37162e2",
       "style": "IPY_MODEL_b5c78e9771cc4b33a5819e68063e6a83"
      }
     },
     "2ec7e087c22546ce87bfe012c4cdc203": {
      "model_module": "@jupyter-widgets/controls",
      "model_module_version": "1.5.0",
      "model_name": "ButtonModel",
      "state": {
       "description": "Next action",
       "layout": "IPY_MODEL_062d811be55249199e92d847d169a8c2",
       "style": "IPY_MODEL_0edc8414ea3c450f8a481fed93a199cf"
      }
     },
     "2f838cac37da4ba8b07ed33c1e088357": {
      "model_module": "@jupyter-widgets/controls",
      "model_module_version": "1.5.0",
      "model_name": "ButtonStyleModel",
      "state": {}
     },
     "2fec0d3d6f574c54bdeede36a50ac56f": {
      "model_module": "@jupyter-widgets/base",
      "model_module_version": "1.2.0",
      "model_name": "LayoutModel",
      "state": {}
     },
     "3002353cb34b4c9dba1ac2aebd6e536a": {
      "model_module": "@jupyter-widgets/controls",
      "model_module_version": "1.5.0",
      "model_name": "ButtonModel",
      "state": {
       "description": "Save current params as default",
       "layout": "IPY_MODEL_485b201602ae479b9b5a54698e08e216",
       "style": "IPY_MODEL_fd1bcc423f0f44b1a492313d7502032c"
      }
     },
     "3047b44f7fac4f72a262c948eb0533c4": {
      "model_module": "@jupyter-widgets/controls",
      "model_module_version": "1.5.0",
      "model_name": "ButtonStyleModel",
      "state": {}
     },
     "304ffcd1c08e4a8f91e3b6ea54d65a8f": {
      "model_module": "@jupyter-widgets/base",
      "model_module_version": "1.2.0",
      "model_name": "LayoutModel",
      "state": {
       "width": "200px"
      }
     },
     "30775ea602e04b1eab9ea3ed4ebb269b": {
      "model_module": "@jupyter-widgets/controls",
      "model_module_version": "1.5.0",
      "model_name": "ButtonStyleModel",
      "state": {}
     },
     "30cd33d115414e979213d31d2c37beb3": {
      "model_module": "@jupyter-widgets/controls",
      "model_module_version": "1.5.0",
      "model_name": "ButtonModel",
      "state": {
       "description": "Next action",
       "layout": "IPY_MODEL_39df462df1be44bca52ae5049840c473",
       "style": "IPY_MODEL_e7cb27bed8b34612a15e8e7a1ce1a09c"
      }
     },
     "30dbd3e47812432789c56ffa3c04d972": {
      "model_module": "@jupyter-widgets/base",
      "model_module_version": "1.2.0",
      "model_name": "LayoutModel",
      "state": {}
     },
     "30e7c1c9046e4ee4b0ad2ad0c90fcca4": {
      "model_module": "@jupyter-widgets/base",
      "model_module_version": "1.2.0",
      "model_name": "LayoutModel",
      "state": {}
     },
     "3113e08a19c04ad9a05655a95384b2f1": {
      "model_module": "@jupyter-widgets/controls",
      "model_module_version": "1.5.0",
      "model_name": "ButtonModel",
      "state": {
       "description": "Save current params as default",
       "layout": "IPY_MODEL_f433684634de46fa9c984737392c8964",
       "style": "IPY_MODEL_a44ac8803081475ebe8f77292d89b182"
      }
     },
     "312233f8faf04269b0a9391c5c2a6614": {
      "model_module": "@jupyter-widgets/controls",
      "model_module_version": "1.5.0",
      "model_name": "ButtonStyleModel",
      "state": {}
     },
     "313e669091454ddaa10b528ac3f068af": {
      "model_module": "@jupyter-widgets/controls",
      "model_module_version": "1.5.0",
      "model_name": "ButtonModel",
      "state": {
       "description": "Insert comment",
       "layout": "IPY_MODEL_ea5313beb4df439bae9145228770314b",
       "style": "IPY_MODEL_a4cc55ddc60d47618081749e3031db14"
      }
     },
     "3141d0a736a14eb98cc53e923aff10c6": {
      "model_module": "@jupyter-widgets/controls",
      "model_module_version": "1.5.0",
      "model_name": "ButtonStyleModel",
      "state": {}
     },
     "3161dd2938cd4da2a33580f4e1ea11d6": {
      "model_module": "@jupyter-widgets/base",
      "model_module_version": "1.2.0",
      "model_name": "LayoutModel",
      "state": {}
     },
     "3168df5af76d4261a944aff7e7737355": {
      "model_module": "@jupyter-widgets/controls",
      "model_module_version": "1.5.0",
      "model_name": "ButtonStyleModel",
      "state": {}
     },
     "316db0d5f8134f3599e1eef160fcb5b7": {
      "model_module": "@jupyter-widgets/controls",
      "model_module_version": "1.5.0",
      "model_name": "ButtonStyleModel",
      "state": {}
     },
     "317119011672480b8c85e36e6903ed6f": {
      "model_module": "@jupyter-widgets/controls",
      "model_module_version": "1.5.0",
      "model_name": "HBoxModel",
      "state": {
       "children": [
        "IPY_MODEL_35aac093525e4ce2b0d9f3b329652eeb",
        "IPY_MODEL_63c4fdec46d44f4e87d84124afaebec4",
        "IPY_MODEL_7e1cdc5581d9429b8e43fc91b05450ab"
       ],
       "layout": "IPY_MODEL_aaea016995894149962fa5e3f9b882dd"
      }
     },
     "321ac28cdb774b7e83a423d8edea3b44": {
      "model_module": "@jupyter-widgets/base",
      "model_module_version": "1.2.0",
      "model_name": "LayoutModel",
      "state": {}
     },
     "3227cff7cda74e648b675a7db70fb918": {
      "model_module": "@jupyter-widgets/controls",
      "model_module_version": "1.5.0",
      "model_name": "ButtonStyleModel",
      "state": {}
     },
     "3271ba0167a745de8427d687a95cbab3": {
      "model_module": "@jupyter-widgets/base",
      "model_module_version": "1.2.0",
      "model_name": "LayoutModel",
      "state": {}
     },
     "3283fc7c4a6f46649bfd36e9af50bb12": {
      "model_module": "@jupyter-widgets/controls",
      "model_module_version": "1.5.0",
      "model_name": "HBoxModel",
      "state": {
       "children": [
        "IPY_MODEL_61a980804b0541b3a835887a9770c6d5"
       ],
       "layout": "IPY_MODEL_a8004aec03da4b5690d086b0b60177f2"
      }
     },
     "32f082e6fcf74475b7dd08daa892185e": {
      "model_module": "@jupyter-widgets/controls",
      "model_module_version": "1.5.0",
      "model_name": "ButtonModel",
      "state": {
       "description": "Fit with gaussian",
       "layout": "IPY_MODEL_19d3b4da0327415290b5af5f42276167",
       "style": "IPY_MODEL_0880c001155349a4a906b27bc428d05b"
      }
     },
     "336e7bd62b4545ddacf3d4684fd5c4ab": {
      "model_module": "@jupyter-widgets/base",
      "model_module_version": "1.2.0",
      "model_name": "LayoutModel",
      "state": {}
     },
     "33dd6ab74652467aa439f83f69ed2673": {
      "model_module": "@jupyter-widgets/base",
      "model_module_version": "1.2.0",
      "model_name": "LayoutModel",
      "state": {}
     },
     "33ddbadda44f49beaaf0296ccbeac7ee": {
      "model_module": "@jupyter-widgets/base",
      "model_module_version": "1.2.0",
      "model_name": "LayoutModel",
      "state": {}
     },
     "33ead2b771a34be0b548d5fc867bcc3f": {
      "model_module": "@jupyter-widgets/controls",
      "model_module_version": "1.5.0",
      "model_name": "ButtonModel",
      "state": {
       "description": "Insert comment",
       "layout": "IPY_MODEL_137486f3dc1f4e9b9b32b7208c880f8a",
       "style": "IPY_MODEL_0c434585bf604a1a9b0944c130015a4e"
      }
     },
     "3404096e9f3b4894983b320b3e94c913": {
      "model_module": "@jupyter-widgets/controls",
      "model_module_version": "1.5.0",
      "model_name": "DropdownModel",
      "state": {
       "_options_labels": [
        "SIRIUS_Fluo_2020_07_07_0070.nxs",
        "SIRIUS_Fluo_2020_02_16_02289.nxs",
        "SIRIUS_Fluo_2020_02_16_02288.nxs",
        "SIRIUS_Fluo_2020_02_13_02277.nxs",
        "SIRIUS_Fluo_2017_12_11_08042.nxs"
       ],
       "index": 0,
       "layout": "IPY_MODEL_8f8a26aed4a541d08a3f2a04d8defa03",
       "style": "IPY_MODEL_4222bb159dac411494f60793e5495356"
      }
     },
     "3412a1ddf5e44ecc80e7f71a192cd55a": {
      "model_module": "@jupyter-widgets/controls",
      "model_module_version": "1.5.0",
      "model_name": "ButtonModel",
      "state": {
       "description": "Refresh",
       "layout": "IPY_MODEL_3edae6efd0fa4e0fab3ee2e9ef34b482",
       "style": "IPY_MODEL_dd8481ff000a462fa6b24dccd09f1033"
      }
     },
     "3432f027105247349f04ddeebf4c78e6": {
      "model_module": "@jupyter-widgets/controls",
      "model_module_version": "1.5.0",
      "model_name": "ButtonStyleModel",
      "state": {}
     },
     "3459ce79800449a9950aade59185fcb8": {
      "model_module": "@jupyter-widgets/base",
      "model_module_version": "1.2.0",
      "model_name": "LayoutModel",
      "state": {
       "height": "40px",
       "width": "150px"
      }
     },
     "34e4e2151b14426aa675a8e5a35dbd48": {
      "model_module": "@jupyter-widgets/controls",
      "model_module_version": "1.5.0",
      "model_name": "ButtonStyleModel",
      "state": {}
     },
     "352ba8d02eb94172bc62621522f9e948": {
      "model_module": "@jupyter-widgets/controls",
      "model_module_version": "1.5.0",
      "model_name": "ButtonModel",
      "state": {
       "description": "Treat scan",
       "layout": "IPY_MODEL_c8e4bd415f0e4681995a2332ed6a1067",
       "style": "IPY_MODEL_da87ea4a91004196802c4f752e5b2cdd"
      }
     },
     "35998029425a4e44b30215b92d84c002": {
      "model_module": "@jupyter-widgets/base",
      "model_module_version": "1.2.0",
      "model_name": "LayoutModel",
      "state": {}
     },
     "35aac093525e4ce2b0d9f3b329652eeb": {
      "model_module": "@jupyter-widgets/controls",
      "model_module_version": "1.5.0",
      "model_name": "ButtonModel",
      "state": {
       "description": "Refresh",
       "layout": "IPY_MODEL_3a7b33d3ff2a46aa957f6eab581af1af",
       "style": "IPY_MODEL_926306c1c9a5478fb7ce7b54680d06a4"
      }
     },
     "35f6f262c1d34ca6aa886a30ee1dad89": {
      "model_module": "@jupyter-widgets/base",
      "model_module_version": "1.2.0",
      "model_name": "LayoutModel",
      "state": {
       "width": "200px"
      }
     },
     "36049cee35484be2a40d2ccbde7981a5": {
      "model_module": "@jupyter-widgets/controls",
      "model_module_version": "1.5.0",
      "model_name": "ButtonStyleModel",
      "state": {}
     },
     "3635bcd608124e46b619eaf05c0f282f": {
      "model_module": "@jupyter-widgets/controls",
      "model_module_version": "1.5.0",
      "model_name": "ButtonModel",
      "state": {
       "description": "OK",
       "layout": "IPY_MODEL_f8bba50a3f6740f5af5274b0dd4da281",
       "style": "IPY_MODEL_a9ebf8343ff542698bdb2fccc0f2ec16"
      }
     },
     "363d8fe3e9734d09bd7371fefea4f8aa": {
      "model_module": "@jupyter-widgets/base",
      "model_module_version": "1.2.0",
      "model_name": "LayoutModel",
      "state": {
       "width": "400px"
      }
     },
     "3664a58107174d0c956b20998522238f": {
      "model_module": "@jupyter-widgets/controls",
      "model_module_version": "1.5.0",
      "model_name": "HBoxModel",
      "state": {
       "children": [
        "IPY_MODEL_f790344949bb4916bfa1b1a9b9507501"
       ],
       "layout": "IPY_MODEL_fb52434b06054ca8a7b982636f1c314f"
      }
     },
     "367c05616a7446e486e3b9b9e3ace35f": {
      "model_module": "@jupyter-widgets/controls",
      "model_module_version": "1.5.0",
      "model_name": "DropdownModel",
      "state": {
       "_options_labels": [
        "SIRIUS_Fluo_2020_07_07_0070.nxs",
        "SIRIUS_Fluo_2020_02_16_02289.nxs",
        "SIRIUS_Fluo_2020_02_16_02288.nxs",
        "SIRIUS_Fluo_2020_02_13_02277.nxs",
        "SIRIUS_Fluo_2017_12_11_08042.nxs"
       ],
       "index": 0,
       "layout": "IPY_MODEL_36af33ae156e4ccf823698afc879f0d0",
       "style": "IPY_MODEL_84a47b62367e482d9cb09f8c9f244523"
      }
     },
     "36af33ae156e4ccf823698afc879f0d0": {
      "model_module": "@jupyter-widgets/base",
      "model_module_version": "1.2.0",
      "model_name": "LayoutModel",
      "state": {
       "width": "400px"
      }
     },
     "36e3a6d35dfd4ad88e59a459d51814a5": {
      "model_module": "@jupyter-widgets/base",
      "model_module_version": "1.2.0",
      "model_name": "LayoutModel",
      "state": {}
     },
     "373b2cb28dad4fcaaf2d64cdf005e5c0": {
      "model_module": "@jupyter-widgets/base",
      "model_module_version": "1.2.0",
      "model_name": "LayoutModel",
      "state": {}
     },
     "37afec5d4e794a489e041a116f29b10e": {
      "model_module": "@jupyter-widgets/controls",
      "model_module_version": "1.5.0",
      "model_name": "ButtonStyleModel",
      "state": {}
     },
     "37b782001c8d4b329266ca0af04893e2": {
      "model_module": "@jupyter-widgets/controls",
      "model_module_version": "1.5.0",
      "model_name": "ButtonModel",
      "state": {
       "description": "Plot GIXD",
       "layout": "IPY_MODEL_ef2244e5397642d79183d10d008a44a9",
       "style": "IPY_MODEL_e7f4aa58ccc5456898f92160973e407e"
      }
     },
     "37c35f9f8d0a46989186174bf88a9413": {
      "model_module": "@jupyter-widgets/controls",
      "model_module_version": "1.5.0",
      "model_name": "ButtonModel",
      "state": {
       "description": "Next action",
       "layout": "IPY_MODEL_64979c98710b4ed683b9afab153f70d7",
       "style": "IPY_MODEL_d8e4fd1cc74547499139259c4d1cb319"
      }
     },
     "37ce2615f85b4b2085d2bccf1783e9a6": {
      "model_module": "@jupyter-widgets/controls",
      "model_module_version": "1.5.0",
      "model_name": "HBoxModel",
      "state": {
       "children": [
        "IPY_MODEL_75a1280f971849c0aa3afd1006fe951f"
       ],
       "layout": "IPY_MODEL_f66c0f3adcbe4082b47190b6aaf2d207"
      }
     },
     "37e1b2be827c4b5b9e7ae731c62fa6b4": {
      "model_module": "@jupyter-widgets/base",
      "model_module_version": "1.2.0",
      "model_name": "LayoutModel",
      "state": {}
     },
     "37fff89843b048f39f21c617dbfa5664": {
      "model_module": "@jupyter-widgets/base",
      "model_module_version": "1.2.0",
      "model_name": "LayoutModel",
      "state": {}
     },
     "380969ab701d4221a5885a6d1b3c52dd": {
      "model_module": "@jupyter-widgets/base",
      "model_module_version": "1.2.0",
      "model_name": "LayoutModel",
      "state": {}
     },
     "384a446537164affa81115dd3163b744": {
      "model_module": "@jupyter-widgets/base",
      "model_module_version": "1.2.0",
      "model_name": "LayoutModel",
      "state": {}
     },
     "385f2c1f8441417aa1c36ceef194e527": {
      "model_module": "@jupyter-widgets/controls",
      "model_module_version": "1.5.0",
      "model_name": "ButtonModel",
      "state": {
       "description": "Set params",
       "layout": "IPY_MODEL_e1703e05265f47e1a1d959a4dab3801a",
       "style": "IPY_MODEL_440a06049dc94b4d9f3702b2838e79b6"
      }
     },
     "38735f0a776b422b89afd4f5ed595ed3": {
      "model_module": "@jupyter-widgets/controls",
      "model_module_version": "1.5.0",
      "model_name": "ButtonStyleModel",
      "state": {}
     },
     "3892bd9e1df640b09af55ee736ef0312": {
      "model_module": "@jupyter-widgets/controls",
      "model_module_version": "1.5.0",
      "model_name": "ButtonStyleModel",
      "state": {}
     },
     "3896c8470ac342349177fec05bf06509": {
      "model_module": "@jupyter-widgets/base",
      "model_module_version": "1.2.0",
      "model_name": "LayoutModel",
      "state": {
       "height": "40px",
       "width": "250px"
      }
     },
     "38d1535042d047b8bba34110aaf9f79b": {
      "model_module": "@jupyter-widgets/controls",
      "model_module_version": "1.5.0",
      "model_name": "ButtonModel",
      "state": {
       "description": "Save current params as default",
       "layout": "IPY_MODEL_240dcf499eba46e587b9c0b7679e1751",
       "style": "IPY_MODEL_ec3311c672894fe5abbd43a95a16dc34"
      }
     },
     "38f79fb469014b5e83b1eb9672109035": {
      "model_module": "@jupyter-widgets/base",
      "model_module_version": "1.2.0",
      "model_name": "LayoutModel",
      "state": {}
     },
     "3949ffaf94e14b7da0e69c30b12009ba": {
      "model_module": "@jupyter-widgets/base",
      "model_module_version": "1.2.0",
      "model_name": "LayoutModel",
      "state": {}
     },
     "39520501f297445fb22afc9900d022a3": {
      "model_module": "@jupyter-widgets/controls",
      "model_module_version": "1.5.0",
      "model_name": "ButtonStyleModel",
      "state": {}
     },
     "39aa08c3b5224346bb759d8d909b78c6": {
      "model_module": "@jupyter-widgets/controls",
      "model_module_version": "1.5.0",
      "model_name": "ButtonModel",
      "state": {
       "description": "Export to PDF",
       "layout": "IPY_MODEL_87d4927a6473458cb0ae4eb2dad391ea",
       "style": "IPY_MODEL_fc7c83be8b6e476caf08f9a1b661593a"
      }
     },
     "39df462df1be44bca52ae5049840c473": {
      "model_module": "@jupyter-widgets/base",
      "model_module_version": "1.2.0",
      "model_name": "LayoutModel",
      "state": {}
     },
     "3a27b3ce48da4cc181d731c9f4427111": {
      "model_module": "@jupyter-widgets/controls",
      "model_module_version": "1.5.0",
      "model_name": "ButtonModel",
      "state": {
       "description": "Refresh",
       "layout": "IPY_MODEL_d918c8d4961d4250842959f639e12650",
       "style": "IPY_MODEL_53419ab9a4a04de1ac2df095dc275837"
      }
     },
     "3a32b434805a46829568e278c4e6f911": {
      "model_module": "@jupyter-widgets/controls",
      "model_module_version": "1.5.0",
      "model_name": "HBoxModel",
      "state": {
       "children": [
        "IPY_MODEL_db716b5b5e744c6cbca2dded0a5be402",
        "IPY_MODEL_5ebf7e462f2548fdbf5bd54e3b5ae87d",
        "IPY_MODEL_38d1535042d047b8bba34110aaf9f79b"
       ],
       "layout": "IPY_MODEL_daa2c615b52a41c4a740d19437221f83"
      }
     },
     "3a528969226d4892a5195fcde882db71": {
      "model_module": "@jupyter-widgets/base",
      "model_module_version": "1.2.0",
      "model_name": "LayoutModel",
      "state": {}
     },
     "3a6c4364c35048269cd9cc82f54d42ea": {
      "model_module": "@jupyter-widgets/base",
      "model_module_version": "1.2.0",
      "model_name": "LayoutModel",
      "state": {
       "width": "400px"
      }
     },
     "3a7b33d3ff2a46aa957f6eab581af1af": {
      "model_module": "@jupyter-widgets/base",
      "model_module_version": "1.2.0",
      "model_name": "LayoutModel",
      "state": {}
     },
     "3a8827b1a86547da98e61cb2cb0d05d4": {
      "model_module": "@jupyter-widgets/controls",
      "model_module_version": "1.5.0",
      "model_name": "HBoxModel",
      "state": {
       "children": [
        "IPY_MODEL_05a2820ce12747a4b0765b474cbcca90",
        "IPY_MODEL_6474caebd57e4bdfa9ad1c19559704e1",
        "IPY_MODEL_3113e08a19c04ad9a05655a95384b2f1"
       ],
       "layout": "IPY_MODEL_fc6b957590c2432b800127fd40a66f0f"
      }
     },
     "3aa6a9489f1749fb983d65fcaf319643": {
      "model_module": "@jupyter-widgets/controls",
      "model_module_version": "1.5.0",
      "model_name": "ButtonModel",
      "state": {
       "description": "Insert comment",
       "layout": "IPY_MODEL_3f76abfc880a4ebd8f896eb3e952bfd4",
       "style": "IPY_MODEL_faa2a56e9ca9436db51147b1e8e7751b"
      }
     },
     "3aaf00f2e00045d8a905e31afb89ddb5": {
      "model_module": "@jupyter-widgets/base",
      "model_module_version": "1.2.0",
      "model_name": "LayoutModel",
      "state": {}
     },
     "3ac7ffff2e6548f78f0fd04030424394": {
      "model_module": "@jupyter-widgets/controls",
      "model_module_version": "1.5.0",
      "model_name": "DescriptionStyleModel",
      "state": {
       "description_width": "initial"
      }
     },
     "3b68e9d8294a4cae9cd18bf263c0bdd5": {
      "model_module": "@jupyter-widgets/base",
      "model_module_version": "1.2.0",
      "model_name": "LayoutModel",
      "state": {}
     },
     "3b80c58dac844930b80f852a8dbd0905": {
      "model_module": "@jupyter-widgets/controls",
      "model_module_version": "1.5.0",
      "model_name": "ButtonStyleModel",
      "state": {}
     },
     "3b9f518d450c45a2af4a21a85a4b96f8": {
      "model_module": "@jupyter-widgets/base",
      "model_module_version": "1.2.0",
      "model_name": "LayoutModel",
      "state": {
       "width": "200px"
      }
     },
     "3bbe3c1afde64265a0b795ada8cf907c": {
      "model_module": "@jupyter-widgets/controls",
      "model_module_version": "1.5.0",
      "model_name": "ButtonModel",
      "state": {
       "description": "Load params",
       "layout": "IPY_MODEL_f75c8f48375b417b8564733ee05748ef",
       "style": "IPY_MODEL_b9be6338341546fd83c0b787af39f88b"
      }
     },
     "3c55d47073084ec58ebc9c47a3eefafa": {
      "model_module": "@jupyter-widgets/base",
      "model_module_version": "1.2.0",
      "model_name": "LayoutModel",
      "state": {}
     },
     "3c6210ab2cec4a4897397ca2a2c64df0": {
      "model_module": "@jupyter-widgets/controls",
      "model_module_version": "1.5.0",
      "model_name": "ButtonModel",
      "state": {
       "description": "Refresh",
       "layout": "IPY_MODEL_33ddbadda44f49beaaf0296ccbeac7ee",
       "style": "IPY_MODEL_95e973671f88452b9377c84bbf428ece"
      }
     },
     "3c733d8a365546b99dd9d9009dcaa326": {
      "model_module": "@jupyter-widgets/controls",
      "model_module_version": "1.5.0",
      "model_name": "ButtonStyleModel",
      "state": {}
     },
     "3c8cc4d7c3b4429cb86cf42c784bae70": {
      "model_module": "@jupyter-widgets/base",
      "model_module_version": "1.2.0",
      "model_name": "LayoutModel",
      "state": {
       "width": "200px"
      }
     },
     "3ca46e58a03249789e149326b3f898c3": {
      "model_module": "@jupyter-widgets/base",
      "model_module_version": "1.2.0",
      "model_name": "LayoutModel",
      "state": {}
     },
     "3caeee694e3d47bbb9abbfee0ed9d695": {
      "model_module": "@jupyter-widgets/controls",
      "model_module_version": "1.5.0",
      "model_name": "HBoxModel",
      "state": {
       "children": [
        "IPY_MODEL_9d78746e80b1460bbf7c6f9f4a7dcd4d",
        "IPY_MODEL_d1cc68ca1bc54c4eb2d0c26cacc13017",
        "IPY_MODEL_77ad1dc510c14882aa32e685a98e3e80"
       ],
       "layout": "IPY_MODEL_b49971f0f6874082ac425cebb721f360"
      }
     },
     "3cd83145a301450c8012cbb384315f8c": {
      "model_module": "@jupyter-widgets/controls",
      "model_module_version": "1.5.0",
      "model_name": "ButtonStyleModel",
      "state": {}
     },
     "3cddaeadf9544c97908e87cf2ba5ce9c": {
      "model_module": "@jupyter-widgets/controls",
      "model_module_version": "1.5.0",
      "model_name": "DescriptionStyleModel",
      "state": {
       "description_width": "initial"
      }
     },
     "3cf0a9afc26c446fa03f94acab845a6f": {
      "model_module": "@jupyter-widgets/controls",
      "model_module_version": "1.5.0",
      "model_name": "HBoxModel",
      "state": {
       "children": [
        "IPY_MODEL_02f8ff1e3a7846698f75156c08e2cb98",
        "IPY_MODEL_647ebe66a69f4893b437d5ea832089f5"
       ],
       "layout": "IPY_MODEL_ea90198af913494aa2f3fa666adf3ba7"
      }
     },
     "3d1f123697cb4695bb73c86e0eb139a1": {
      "model_module": "@jupyter-widgets/controls",
      "model_module_version": "1.5.0",
      "model_name": "DropdownModel",
      "state": {
       "_options_labels": [
        "SIRIUS_Fluo_2020_07_07_0070.nxs",
        "SIRIUS_Fluo_2020_02_16_02289.nxs",
        "SIRIUS_Fluo_2020_02_16_02288.nxs",
        "SIRIUS_Fluo_2020_02_13_02277.nxs",
        "SIRIUS_Fluo_2017_12_11_08042.nxs"
       ],
       "index": 0,
       "layout": "IPY_MODEL_bf3d63c262e148b6af30cd1df40392dd",
       "style": "IPY_MODEL_fe9b3e2d1514427a9f586ad5e01f7f3a"
      }
     },
     "3d31337210e5420495fcb7058425be0a": {
      "model_module": "@jupyter-widgets/base",
      "model_module_version": "1.2.0",
      "model_name": "LayoutModel",
      "state": {}
     },
     "3d823427287a4e9c802975a22a22b47d": {
      "model_module": "@jupyter-widgets/controls",
      "model_module_version": "1.5.0",
      "model_name": "ButtonModel",
      "state": {
       "description": "Plot isotherm",
       "layout": "IPY_MODEL_3ee6d7e9d18440939e3d1f656689b6cb",
       "style": "IPY_MODEL_1f148697164748dc8a1b93160bd64d9c"
      }
     },
     "3d8d7d8ef9bd406d9eb039a501740044": {
      "model_module": "@jupyter-widgets/controls",
      "model_module_version": "1.5.0",
      "model_name": "ButtonStyleModel",
      "state": {}
     },
     "3d9589894c7a406e99f60604654ff8c1": {
      "model_module": "@jupyter-widgets/controls",
      "model_module_version": "1.5.0",
      "model_name": "ButtonModel",
      "state": {
       "description": "Refresh",
       "layout": "IPY_MODEL_f8f8e7c1ff85403b877982a12425c58a",
       "style": "IPY_MODEL_3d8d7d8ef9bd406d9eb039a501740044"
      }
     },
     "3dee1eefdabd4822bbae6dc7f7c9911b": {
      "model_module": "@jupyter-widgets/controls",
      "model_module_version": "1.5.0",
      "model_name": "ButtonModel",
      "state": {
       "description": "Fit with gaussian",
       "layout": "IPY_MODEL_abe764baa32d44a684e23ce8af61471c",
       "style": "IPY_MODEL_1327aac71ea14d38bf917adbdb885b84"
      }
     },
     "3e3573c928c0464e99b7c350b35bdf1f": {
      "model_module": "@jupyter-widgets/controls",
      "model_module_version": "1.5.0",
      "model_name": "ButtonModel",
      "state": {
       "description": "Treat scan",
       "layout": "IPY_MODEL_04999e47491847ecbb510d49b16025f4",
       "style": "IPY_MODEL_e2f8fdc6146e4920acc822c539a85978"
      }
     },
     "3e570f4aa00a4d73b6f79e336908bb0a": {
      "model_module": "@jupyter-widgets/controls",
      "model_module_version": "1.5.0",
      "model_name": "ButtonStyleModel",
      "state": {}
     },
     "3e751027b60a4af6a02108d3cda534b1": {
      "model_module": "@jupyter-widgets/base",
      "model_module_version": "1.2.0",
      "model_name": "LayoutModel",
      "state": {}
     },
     "3e8954a017364b679730a9fab5306da8": {
      "model_module": "@jupyter-widgets/base",
      "model_module_version": "1.2.0",
      "model_name": "LayoutModel",
      "state": {
       "width": "250px"
      }
     },
     "3ead066d37a3421081969c3930ec9d5e": {
      "model_module": "@jupyter-widgets/base",
      "model_module_version": "1.2.0",
      "model_name": "LayoutModel",
      "state": {}
     },
     "3ead8c327c364d1dabfddbaee94e6a4f": {
      "model_module": "@jupyter-widgets/controls",
      "model_module_version": "1.5.0",
      "model_name": "HBoxModel",
      "state": {
       "children": [
        "IPY_MODEL_464810593e3a4beab80bfe5d1810a389",
        "IPY_MODEL_92ab3ebd54f44ad7b9759f5f70937663",
        "IPY_MODEL_d558bd16767b44d2af96d11041bc49ee"
       ],
       "layout": "IPY_MODEL_a1315cae464249108846855cfdf67faf"
      }
     },
     "3eb7f94172e04ae09e0a5fdd30ab4e52": {
      "model_module": "@jupyter-widgets/controls",
      "model_module_version": "1.5.0",
      "model_name": "ButtonStyleModel",
      "state": {}
     },
     "3ec8866259b942c290720aaebfd69e72": {
      "model_module": "@jupyter-widgets/controls",
      "model_module_version": "1.5.0",
      "model_name": "DropdownModel",
      "state": {
       "_options_labels": [
        "SIRIUS_Fluo_2020_07_07_0070.nxs",
        "SIRIUS_Fluo_2020_02_16_02289.nxs",
        "SIRIUS_Fluo_2020_02_16_02288.nxs",
        "SIRIUS_Fluo_2020_02_13_02277.nxs",
        "SIRIUS_Fluo_2017_12_11_08042.nxs"
       ],
       "index": 0,
       "layout": "IPY_MODEL_46d215080efd4a84856a3762f44fddec",
       "style": "IPY_MODEL_c253e7481a694e9cab3f7f06822d837e"
      }
     },
     "3edae6efd0fa4e0fab3ee2e9ef34b482": {
      "model_module": "@jupyter-widgets/base",
      "model_module_version": "1.2.0",
      "model_name": "LayoutModel",
      "state": {}
     },
     "3ee6d7e9d18440939e3d1f656689b6cb": {
      "model_module": "@jupyter-widgets/base",
      "model_module_version": "1.2.0",
      "model_name": "LayoutModel",
      "state": {}
     },
     "3eeb5847bec94356bb8a8fc9d646bd7f": {
      "model_module": "@jupyter-widgets/controls",
      "model_module_version": "1.5.0",
      "model_name": "ButtonStyleModel",
      "state": {}
     },
     "3eec4de851e34d8ea935c06de80908c3": {
      "model_module": "@jupyter-widgets/base",
      "model_module_version": "1.2.0",
      "model_name": "LayoutModel",
      "state": {}
     },
     "3f76abfc880a4ebd8f896eb3e952bfd4": {
      "model_module": "@jupyter-widgets/base",
      "model_module_version": "1.2.0",
      "model_name": "LayoutModel",
      "state": {}
     },
     "3f9337498c974ce79eb1d2686a38b091": {
      "model_module": "@jupyter-widgets/base",
      "model_module_version": "1.2.0",
      "model_name": "LayoutModel",
      "state": {
       "height": "40px",
       "width": "300px"
      }
     },
     "400cc2b19d984d24aa86b668566f30ad": {
      "model_module": "@jupyter-widgets/controls",
      "model_module_version": "1.5.0",
      "model_name": "ButtonStyleModel",
      "state": {}
     },
     "40180bd6ec5345bcb56ef5613627248b": {
      "model_module": "@jupyter-widgets/controls",
      "model_module_version": "1.5.0",
      "model_name": "ButtonStyleModel",
      "state": {}
     },
     "403fd17a878f449c98c5a6ed57dab7d4": {
      "model_module": "@jupyter-widgets/controls",
      "model_module_version": "1.5.0",
      "model_name": "ButtonStyleModel",
      "state": {}
     },
     "4043ca6cdac342d29ddb5602e91d352b": {
      "model_module": "@jupyter-widgets/controls",
      "model_module_version": "1.5.0",
      "model_name": "DescriptionStyleModel",
      "state": {
       "description_width": "initial"
      }
     },
     "405eac43d2cd4fc18d9713f201d48cd5": {
      "model_module": "@jupyter-widgets/base",
      "model_module_version": "1.2.0",
      "model_name": "LayoutModel",
      "state": {}
     },
     "405f5dcfe51f4e499b80371817f40e7c": {
      "model_module": "@jupyter-widgets/controls",
      "model_module_version": "1.5.0",
      "model_name": "ButtonStyleModel",
      "state": {}
     },
     "4084aa871e9f4b63a4f6d58ec121d448": {
      "model_module": "@jupyter-widgets/controls",
      "model_module_version": "1.5.0",
      "model_name": "ButtonStyleModel",
      "state": {}
     },
     "409fff21db564373955dbd47653c0243": {
      "model_module": "@jupyter-widgets/base",
      "model_module_version": "1.2.0",
      "model_name": "LayoutModel",
      "state": {}
     },
     "40da8c161ca44093850ff9fe713ce4c6": {
      "model_module": "@jupyter-widgets/base",
      "model_module_version": "1.2.0",
      "model_name": "LayoutModel",
      "state": {
       "width": "200px"
      }
     },
     "40dda33bbe9b48aebfa4642af70a61a8": {
      "model_module": "@jupyter-widgets/controls",
      "model_module_version": "1.5.0",
      "model_name": "ButtonModel",
      "state": {
       "description": "Plot isotherm",
       "layout": "IPY_MODEL_781850f5750348b1b07afc016d465437",
       "style": "IPY_MODEL_ae5542aaf53e4cfdb6708adefe693b77"
      }
     },
     "41409a7bd6794a3596e9a65b97769e7b": {
      "model_module": "@jupyter-widgets/controls",
      "model_module_version": "1.5.0",
      "model_name": "HBoxModel",
      "state": {
       "children": [
        "IPY_MODEL_ff9e55c77fc5425ebfcd2f8606d4da32",
        "IPY_MODEL_55307c3e468c4731869d0f79a602dcc4",
        "IPY_MODEL_afdacb7b77ea4dfcb4dabb77da7d86c8"
       ],
       "layout": "IPY_MODEL_23beb96d14904dcd9918b4fd1f322f93"
      }
     },
     "414de05f2dd64177b7ae94acaf5f606d": {
      "model_module": "@jupyter-widgets/controls",
      "model_module_version": "1.5.0",
      "model_name": "ButtonModel",
      "state": {
       "description": "Refresh",
       "layout": "IPY_MODEL_41739e71c5ad4cafbaf36bc3e700cf48",
       "style": "IPY_MODEL_0e0a61f0add44bbcb9d040a9659f97e1"
      }
     },
     "415f6c05a90f45d785a98ef370fa064e": {
      "model_module": "@jupyter-widgets/controls",
      "model_module_version": "1.5.0",
      "model_name": "ButtonStyleModel",
      "state": {}
     },
     "41739e71c5ad4cafbaf36bc3e700cf48": {
      "model_module": "@jupyter-widgets/base",
      "model_module_version": "1.2.0",
      "model_name": "LayoutModel",
      "state": {}
     },
     "41d8db0922c842c2808c0e3a499ea3d0": {
      "model_module": "@jupyter-widgets/base",
      "model_module_version": "1.2.0",
      "model_name": "LayoutModel",
      "state": {
       "height": "40px",
       "width": "200px"
      }
     },
     "41ea2deb7e99453b8fdca5bc32fdbe31": {
      "model_module": "@jupyter-widgets/base",
      "model_module_version": "1.2.0",
      "model_name": "LayoutModel",
      "state": {
       "width": "200px"
      }
     },
     "41fed914fcce42d1a3a4018c45e8b4e1": {
      "model_module": "@jupyter-widgets/controls",
      "model_module_version": "1.5.0",
      "model_name": "DescriptionStyleModel",
      "state": {
       "description_width": "initial"
      }
     },
     "4217cd34939b43a29b6e12de9feb4fd4": {
      "model_module": "@jupyter-widgets/controls",
      "model_module_version": "1.5.0",
      "model_name": "ButtonStyleModel",
      "state": {}
     },
     "4222bb159dac411494f60793e5495356": {
      "model_module": "@jupyter-widgets/controls",
      "model_module_version": "1.5.0",
      "model_name": "DescriptionStyleModel",
      "state": {
       "description_width": "initial"
      }
     },
     "422f15b5d9d240f2927c7e0d31df892f": {
      "model_module": "@jupyter-widgets/controls",
      "model_module_version": "1.5.0",
      "model_name": "ButtonModel",
      "state": {
       "description": "Save current params as default",
       "layout": "IPY_MODEL_baed5f6c30cf4bfc88d00811efad2799",
       "style": "IPY_MODEL_3b80c58dac844930b80f852a8dbd0905"
      }
     },
     "426ebf57c65f476bb4301f4ca69aef9a": {
      "model_module": "@jupyter-widgets/controls",
      "model_module_version": "1.5.0",
      "model_name": "DropdownModel",
      "state": {
       "_options_labels": [
        "SIRIUS_Fluo_2020_07_07_0070.nxs",
        "SIRIUS_Fluo_2020_02_16_02289.nxs",
        "SIRIUS_Fluo_2020_02_16_02288.nxs",
        "SIRIUS_Fluo_2020_02_13_02277.nxs",
        "SIRIUS_Fluo_2017_12_11_08042.nxs"
       ],
       "index": 0,
       "layout": "IPY_MODEL_c49d09c7afb3495aa7f6318674872695",
       "style": "IPY_MODEL_7797357e6eb5433899532c4c5299d14e"
      }
     },
     "427d4e6b31314ecaaf137d26d181a7f5": {
      "model_module": "@jupyter-widgets/controls",
      "model_module_version": "1.5.0",
      "model_name": "ButtonStyleModel",
      "state": {}
     },
     "42a7a0e409ec4e8ca05a871f66583ba9": {
      "model_module": "@jupyter-widgets/controls",
      "model_module_version": "1.5.0",
      "model_name": "ButtonModel",
      "state": {
       "description": "Export to PDF",
       "layout": "IPY_MODEL_bf93648cc6e34596b1df80723de16d03",
       "style": "IPY_MODEL_9f181de6291448bca3947ce9b45024ea"
      }
     },
     "42fbf2f18a3b48eab8bd795e7893aecc": {
      "model_module": "@jupyter-widgets/controls",
      "model_module_version": "1.5.0",
      "model_name": "ButtonStyleModel",
      "state": {}
     },
     "4326dafc8b814cd2a87cab523a6147a1": {
      "model_module": "@jupyter-widgets/controls",
      "model_module_version": "1.5.0",
      "model_name": "ButtonModel",
      "state": {
       "description": "Load params",
       "layout": "IPY_MODEL_5f5a06b96cb04f8883c6f286bba8a02b",
       "style": "IPY_MODEL_11e4eda4b9cc4478a8f992ceca08fe32"
      }
     },
     "434f03744c404bedb60a93181e8fcf6c": {
      "model_module": "@jupyter-widgets/base",
      "model_module_version": "1.2.0",
      "model_name": "LayoutModel",
      "state": {
       "width": "250px"
      }
     },
     "4388a1197f304c2c8a99aa3bea47c92d": {
      "model_module": "@jupyter-widgets/controls",
      "model_module_version": "1.5.0",
      "model_name": "ButtonModel",
      "state": {
       "description": "Insert comment",
       "layout": "IPY_MODEL_5c3d9b45870743c7b3cff23bbb05d8e6",
       "style": "IPY_MODEL_c034aca0dea345e9843003ccd9c49255"
      }
     },
     "43894016b46f4c4e95c890d7cb8f1af1": {
      "model_module": "@jupyter-widgets/controls",
      "model_module_version": "1.5.0",
      "model_name": "ButtonStyleModel",
      "state": {}
     },
     "438cf85175c7485f8ece937f89eb8907": {
      "model_module": "@jupyter-widgets/controls",
      "model_module_version": "1.5.0",
      "model_name": "ButtonModel",
      "state": {
       "description": "Extract Vineyard",
       "layout": "IPY_MODEL_74ff2b15d9ce4e8aba6149e043c5690d",
       "style": "IPY_MODEL_9d948904f8e64569b2d10a047afb6a3e"
      }
     },
     "43ac1804fe314d5084b31f3387cd479b": {
      "model_module": "@jupyter-widgets/controls",
      "model_module_version": "1.5.0",
      "model_name": "ButtonModel",
      "state": {
       "description": "Add plot to report",
       "layout": "IPY_MODEL_c7d639dea1bd4259b2768716cfb0a107",
       "style": "IPY_MODEL_ab667e6e9b6c4151b216ce9a42b05d0e"
      }
     },
     "43dd49b4e39e43539ebda7af32c4e774": {
      "model_module": "@jupyter-widgets/base",
      "model_module_version": "1.2.0",
      "model_name": "LayoutModel",
      "state": {}
     },
     "43efc15e51f347cca604577140288b6e": {
      "model_module": "@jupyter-widgets/base",
      "model_module_version": "1.2.0",
      "model_name": "LayoutModel",
      "state": {}
     },
     "4409c4c5156d4390be10535c2ee2087a": {
      "model_module": "@jupyter-widgets/controls",
      "model_module_version": "1.5.0",
      "model_name": "ButtonModel",
      "state": {
       "description": "Refresh",
       "layout": "IPY_MODEL_ec226def78be47f08e8d371f3cd98f54",
       "style": "IPY_MODEL_5277909d8ccd4780862d602f36a7f50a"
      }
     },
     "440a06049dc94b4d9f3702b2838e79b6": {
      "model_module": "@jupyter-widgets/controls",
      "model_module_version": "1.5.0",
      "model_name": "ButtonStyleModel",
      "state": {}
     },
     "442b954903f140f49d77297f09e15146": {
      "model_module": "@jupyter-widgets/controls",
      "model_module_version": "1.5.0",
      "model_name": "DropdownModel",
      "state": {
       "_options_labels": [
        "SIRIUS_Fluo_2020_07_07_0070.nxs",
        "SIRIUS_Fluo_2020_02_16_02289.nxs",
        "SIRIUS_Fluo_2020_02_16_02288.nxs",
        "SIRIUS_Fluo_2020_02_13_02277.nxs",
        "SIRIUS_Fluo_2017_12_11_08042.nxs"
       ],
       "index": 0,
       "layout": "IPY_MODEL_ee4885a7cf5a464ab89279cdb49e5dd4",
       "style": "IPY_MODEL_d3885e2ece7b407f8883c21c89c05b6c"
      }
     },
     "44b6ed8acfeb41148d921d33e91d0623": {
      "model_module": "@jupyter-widgets/base",
      "model_module_version": "1.2.0",
      "model_name": "LayoutModel",
      "state": {}
     },
     "44b829634a2b4e20a6f68867b20b6a6c": {
      "model_module": "@jupyter-widgets/controls",
      "model_module_version": "1.5.0",
      "model_name": "ButtonStyleModel",
      "state": {}
     },
     "44c923c85c7b4d8b964375aa4348efc1": {
      "model_module": "@jupyter-widgets/controls",
      "model_module_version": "1.5.0",
      "model_name": "ButtonModel",
      "state": {
       "description": "Treat scan",
       "layout": "IPY_MODEL_50d6b2c10c8545b098383a335edd303e",
       "style": "IPY_MODEL_f4689d1befef4d128c246845a648651d"
      }
     },
     "455cafb5e5834fe7b8b43d62d7a6abad": {
      "model_module": "@jupyter-widgets/base",
      "model_module_version": "1.2.0",
      "model_name": "LayoutModel",
      "state": {
       "height": "40px",
       "width": "250px"
      }
     },
     "45aee1f48f8b4a9db2e2606fe4ddbcf5": {
      "model_module": "@jupyter-widgets/controls",
      "model_module_version": "1.5.0",
      "model_name": "ButtonModel",
      "state": {
       "description": "Plot XRF",
       "layout": "IPY_MODEL_23e2a7faca0c4f58855d56a2ad47ac01",
       "style": "IPY_MODEL_5c11576d0dd341d4993588b30070ff32"
      }
     },
     "45fc1aac63e94984baa215b4cfc07be6": {
      "model_module": "@jupyter-widgets/controls",
      "model_module_version": "1.5.0",
      "model_name": "HBoxModel",
      "state": {
       "children": [
        "IPY_MODEL_121eda32d9e9443dab711ac9394622dd",
        "IPY_MODEL_d5a427888e4c4d3c9ae398089607bc24",
        "IPY_MODEL_adfe983bc9234cb5b20936701ce7da40"
       ],
       "layout": "IPY_MODEL_a9c464b85fe04a73b859446e6fdff21c"
      }
     },
     "460e61a1fbe44016b7a552fc84f26263": {
      "model_module": "@jupyter-widgets/base",
      "model_module_version": "1.2.0",
      "model_name": "LayoutModel",
      "state": {}
     },
     "4619277f6821402e8892e18b607396f6": {
      "model_module": "@jupyter-widgets/base",
      "model_module_version": "1.2.0",
      "model_name": "LayoutModel",
      "state": {
       "height": "40px",
       "width": "150px"
      }
     },
     "461f3fe1a6de42bc84e55cf0ef3bef35": {
      "model_module": "@jupyter-widgets/base",
      "model_module_version": "1.2.0",
      "model_name": "LayoutModel",
      "state": {}
     },
     "462e2cdf9e3f4ce28ae5b9a5484926f5": {
      "model_module": "@jupyter-widgets/controls",
      "model_module_version": "1.5.0",
      "model_name": "ButtonModel",
      "state": {
       "description": "Load params",
       "layout": "IPY_MODEL_49ebfa8942804beda22aa8a3a95777b9",
       "style": "IPY_MODEL_ef1ff53445944cd4ba9b5445ef74d5bd"
      }
     },
     "4640481877f244d3b15f65bc333f18b6": {
      "model_module": "@jupyter-widgets/controls",
      "model_module_version": "1.5.0",
      "model_name": "ButtonStyleModel",
      "state": {}
     },
     "464810593e3a4beab80bfe5d1810a389": {
      "model_module": "@jupyter-widgets/controls",
      "model_module_version": "1.5.0",
      "model_name": "ButtonModel",
      "state": {
       "description": "Analyze a new scan",
       "layout": "IPY_MODEL_86dfafac3a4247b797fe8618e03bdf24",
       "style": "IPY_MODEL_bfce16fd90bf4caea18a89bdc4f9ce38"
      }
     },
     "4674a03a34794556b7e032f97466a5e9": {
      "model_module": "@jupyter-widgets/controls",
      "model_module_version": "1.5.0",
      "model_name": "ButtonStyleModel",
      "state": {}
     },
     "46d215080efd4a84856a3762f44fddec": {
      "model_module": "@jupyter-widgets/base",
      "model_module_version": "1.2.0",
      "model_name": "LayoutModel",
      "state": {
       "width": "400px"
      }
     },
     "46e7bef1a15c4544a935c742f1657eb4": {
      "model_module": "@jupyter-widgets/controls",
      "model_module_version": "1.5.0",
      "model_name": "ButtonStyleModel",
      "state": {}
     },
     "46f38c4f7d164bb1b91a042166d9b17a": {
      "model_module": "@jupyter-widgets/base",
      "model_module_version": "1.2.0",
      "model_name": "LayoutModel",
      "state": {
       "width": "100px"
      }
     },
     "475185cb249b40f8a9c6f6a7a08b04c7": {
      "model_module": "@jupyter-widgets/base",
      "model_module_version": "1.2.0",
      "model_name": "LayoutModel",
      "state": {
       "width": "400px"
      }
     },
     "477d4ea106b64be8823fb8b6eeaaac44": {
      "model_module": "@jupyter-widgets/controls",
      "model_module_version": "1.5.0",
      "model_name": "ButtonModel",
      "state": {
       "description": "Treat scan",
       "layout": "IPY_MODEL_d66d847b79c4411f9cd922bc8f490ff4",
       "style": "IPY_MODEL_a7919c2c54534715b85c9d25716d4c99"
      }
     },
     "47b8d789279e45d0adedc8bbc88feb79": {
      "model_module": "@jupyter-widgets/base",
      "model_module_version": "1.2.0",
      "model_name": "LayoutModel",
      "state": {}
     },
     "48152974be454fe7b2a6c29d106597bf": {
      "model_module": "@jupyter-widgets/controls",
      "model_module_version": "1.5.0",
      "model_name": "DescriptionStyleModel",
      "state": {
       "description_width": ""
      }
     },
     "48431775065241dfa97e12ba8fc7a432": {
      "model_module": "@jupyter-widgets/base",
      "model_module_version": "1.2.0",
      "model_name": "LayoutModel",
      "state": {
       "width": "200px"
      }
     },
     "485b201602ae479b9b5a54698e08e216": {
      "model_module": "@jupyter-widgets/base",
      "model_module_version": "1.2.0",
      "model_name": "LayoutModel",
      "state": {
       "width": "250px"
      }
     },
     "485fa30a5d4b44078bbc99dd8bb1fc0a": {
      "model_module": "@jupyter-widgets/controls",
      "model_module_version": "1.5.0",
      "model_name": "ButtonModel",
      "state": {
       "description": "Load params",
       "layout": "IPY_MODEL_0f20646ccb2e4bcab9d00d706d9194a0",
       "style": "IPY_MODEL_3cd83145a301450c8012cbb384315f8c"
      }
     },
     "48955e6bebff4b1486a11dc2005f651f": {
      "model_module": "@jupyter-widgets/controls",
      "model_module_version": "1.5.0",
      "model_name": "DescriptionStyleModel",
      "state": {
       "description_width": "initial"
      }
     },
     "4925040f34dc44978a5272a3baa1abab": {
      "model_module": "@jupyter-widgets/controls",
      "model_module_version": "1.5.0",
      "model_name": "ButtonStyleModel",
      "state": {}
     },
     "49b1db5751f74a7c9ce548b105d44eba": {
      "model_module": "@jupyter-widgets/controls",
      "model_module_version": "1.5.0",
      "model_name": "ButtonModel",
      "state": {
       "description": "Insert comment",
       "layout": "IPY_MODEL_2958934eab9f4a89a8661d08c9694699",
       "style": "IPY_MODEL_5979e4c712ab41b18fa61add70f6047e"
      }
     },
     "49ebfa8942804beda22aa8a3a95777b9": {
      "model_module": "@jupyter-widgets/base",
      "model_module_version": "1.2.0",
      "model_name": "LayoutModel",
      "state": {
       "width": "200px"
      }
     },
     "4a5d4a75ee0647349bf249e539717e5c": {
      "model_module": "@jupyter-widgets/base",
      "model_module_version": "1.2.0",
      "model_name": "LayoutModel",
      "state": {}
     },
     "4ae6157a098c49f3b413b7d15c42be0e": {
      "model_module": "@jupyter-widgets/controls",
      "model_module_version": "1.5.0",
      "model_name": "HBoxModel",
      "state": {
       "children": [
        "IPY_MODEL_e05b57d99733466c8f3712d37ecff529",
        "IPY_MODEL_ca13e3e85afe4405b02c21d712e831f4",
        "IPY_MODEL_efa1da55c9ed45b4b4bbbbcdaeadb2b5"
       ],
       "layout": "IPY_MODEL_f3eaa6c7b1ba408783bea240123192ea"
      }
     },
     "4b00ab43f6ba4ffaaa726d052b14aa9d": {
      "model_module": "@jupyter-widgets/controls",
      "model_module_version": "1.5.0",
      "model_name": "ButtonStyleModel",
      "state": {}
     },
     "4b7eec0dda1941c7b2e01c79f5d3e0aa": {
      "model_module": "@jupyter-widgets/controls",
      "model_module_version": "1.5.0",
      "model_name": "ButtonStyleModel",
      "state": {}
     },
     "4c07fdaaef3346d9920dcfbd839d0b85": {
      "model_module": "@jupyter-widgets/controls",
      "model_module_version": "1.5.0",
      "model_name": "HBoxModel",
      "state": {
       "children": [
        "IPY_MODEL_442b954903f140f49d77297f09e15146",
        "IPY_MODEL_e48131570cbd42b8833d547733446e98"
       ],
       "layout": "IPY_MODEL_4e50998c90a3422686ca1a3f182226e4"
      }
     },
     "4c2df3da00e44303a2296b1371763233": {
      "model_module": "@jupyter-widgets/controls",
      "model_module_version": "1.5.0",
      "model_name": "ButtonModel",
      "state": {
       "description": "Set params",
       "layout": "IPY_MODEL_a2a9e3f499924531a03961e7fdd0e593",
       "style": "IPY_MODEL_b5d36baac79b49e9afbb42b91422f79a"
      }
     },
     "4c504f6800ab4f369ed1b25037e9456d": {
      "model_module": "@jupyter-widgets/base",
      "model_module_version": "1.2.0",
      "model_name": "LayoutModel",
      "state": {}
     },
     "4c663d69ae91422b8502694c24174090": {
      "model_module": "@jupyter-widgets/controls",
      "model_module_version": "1.5.0",
      "model_name": "ButtonStyleModel",
      "state": {}
     },
     "4c95ee6464eb402783b03a2d9e56d123": {
      "model_module": "@jupyter-widgets/base",
      "model_module_version": "1.2.0",
      "model_name": "LayoutModel",
      "state": {}
     },
     "4cb5c8d90a594e55bcc3b698d0d2b579": {
      "model_module": "@jupyter-widgets/base",
      "model_module_version": "1.2.0",
      "model_name": "LayoutModel",
      "state": {}
     },
     "4cee3cc16da14693a3ee215ca5253f77": {
      "model_module": "@jupyter-widgets/controls",
      "model_module_version": "1.5.0",
      "model_name": "ButtonModel",
      "state": {
       "description": "Insert comment",
       "layout": "IPY_MODEL_ab5a50096bab4b8c8a0c88026a0edc65",
       "style": "IPY_MODEL_16513f5a0bec47479d859f0a21da9272"
      }
     },
     "4cfbd2a066014f01ab108aa6f45114a0": {
      "model_module": "@jupyter-widgets/controls",
      "model_module_version": "1.5.0",
      "model_name": "ButtonModel",
      "state": {
       "description": "Refresh",
       "layout": "IPY_MODEL_d473e82fff1e4effa74d676b6f6f3181",
       "style": "IPY_MODEL_8ace1f4418f943e6a1ded655fbe82e5b"
      }
     },
     "4d1fdd15cc854ca7b2ffe81c09a57e24": {
      "model_module": "@jupyter-widgets/controls",
      "model_module_version": "1.5.0",
      "model_name": "ButtonModel",
      "state": {
       "description": "Insert comment",
       "layout": "IPY_MODEL_62e5e28190fe45bc9e4b09ff24a350f5",
       "style": "IPY_MODEL_4d32616eb96847f894742b4a408e6e08"
      }
     },
     "4d279f5d7a9045be8638a5974b567c3a": {
      "model_module": "@jupyter-widgets/base",
      "model_module_version": "1.2.0",
      "model_name": "LayoutModel",
      "state": {}
     },
     "4d32616eb96847f894742b4a408e6e08": {
      "model_module": "@jupyter-widgets/controls",
      "model_module_version": "1.5.0",
      "model_name": "ButtonStyleModel",
      "state": {}
     },
     "4d75d4821f784d59af463d2f754008e8": {
      "model_module": "@jupyter-widgets/base",
      "model_module_version": "1.2.0",
      "model_name": "LayoutModel",
      "state": {}
     },
     "4d89170f060b4bb2bd86259255c28d1f": {
      "model_module": "@jupyter-widgets/controls",
      "model_module_version": "1.5.0",
      "model_name": "ButtonModel",
      "state": {
       "description": "Insert comment",
       "layout": "IPY_MODEL_57ac3a1c33dd43798a43a87f5121aec0",
       "style": "IPY_MODEL_21415b50c9f64f7a8e190db4b90233a4"
      }
     },
     "4dc3e480fd174f61b1222eece8e5afce": {
      "model_module": "@jupyter-widgets/base",
      "model_module_version": "1.2.0",
      "model_name": "LayoutModel",
      "state": {
       "height": "40px",
       "width": "300px"
      }
     },
     "4e0c18dda9684547829c702d07e8e8ea": {
      "model_module": "@jupyter-widgets/controls",
      "model_module_version": "1.5.0",
      "model_name": "ButtonModel",
      "state": {
       "description": "Fit with gaussian",
       "layout": "IPY_MODEL_3a528969226d4892a5195fcde882db71",
       "style": "IPY_MODEL_86149e7a66764ea4a99a2f6abb633bfb"
      }
     },
     "4e3a57719ac64102961413ccdb449277": {
      "model_module": "@jupyter-widgets/base",
      "model_module_version": "1.2.0",
      "model_name": "LayoutModel",
      "state": {}
     },
     "4e50998c90a3422686ca1a3f182226e4": {
      "model_module": "@jupyter-widgets/base",
      "model_module_version": "1.2.0",
      "model_name": "LayoutModel",
      "state": {}
     },
     "4eea23e906bf48e299e92cd0a307911b": {
      "model_module": "@jupyter-widgets/base",
      "model_module_version": "1.2.0",
      "model_name": "LayoutModel",
      "state": {}
     },
     "4f20cd49557546ffaa86a97af6092f9e": {
      "model_module": "@jupyter-widgets/base",
      "model_module_version": "1.2.0",
      "model_name": "LayoutModel",
      "state": {
       "width": "250px"
      }
     },
     "4f4368349f6446e789ece4b1e2643253": {
      "model_module": "@jupyter-widgets/base",
      "model_module_version": "1.2.0",
      "model_name": "LayoutModel",
      "state": {
       "height": "40px",
       "width": "250px"
      }
     },
     "4fc6ae2922554f369e423d1bff73ad30": {
      "model_module": "@jupyter-widgets/controls",
      "model_module_version": "1.5.0",
      "model_name": "ButtonModel",
      "state": {
       "description": "Refresh",
       "layout": "IPY_MODEL_1881b027ef164c98bd74db2193ce056c",
       "style": "IPY_MODEL_ca4d7ee9d3714e38b2f6fdda611ad590"
      }
     },
     "5028224ebbce426dadbdf0689d0173f2": {
      "model_module": "@jupyter-widgets/controls",
      "model_module_version": "1.5.0",
      "model_name": "HBoxModel",
      "state": {
       "children": [
        "IPY_MODEL_4cfbd2a066014f01ab108aa6f45114a0",
        "IPY_MODEL_1121528bb2d147e481f5ad61ac1b2f85",
        "IPY_MODEL_1c86ca9d87bd49798852c81afd5b30c2"
       ],
       "layout": "IPY_MODEL_0ec2c8d698f0437f9ebbd87bf3601ee8"
      }
     },
     "504282031dac426a9d4ab6df6783d405": {
      "model_module": "@jupyter-widgets/controls",
      "model_module_version": "1.5.0",
      "model_name": "DropdownModel",
      "state": {
       "_options_labels": [
        "SIRIUS_Fluo_2020_07_07_0070.nxs",
        "SIRIUS_Fluo_2020_02_16_02289.nxs",
        "SIRIUS_Fluo_2020_02_16_02288.nxs",
        "SIRIUS_Fluo_2020_02_13_02277.nxs",
        "SIRIUS_Fluo_2017_12_11_08042.nxs"
       ],
       "index": 0,
       "layout": "IPY_MODEL_8a117b825548435fb4c4d97b23426a93",
       "style": "IPY_MODEL_3ac7ffff2e6548f78f0fd04030424394"
      }
     },
     "5090ab9220ae4a69a285beff940de2ad": {
      "model_module": "@jupyter-widgets/base",
      "model_module_version": "1.2.0",
      "model_name": "LayoutModel",
      "state": {}
     },
     "50a3e98da5ed4f0584223cd323596ef4": {
      "model_module": "@jupyter-widgets/controls",
      "model_module_version": "1.5.0",
      "model_name": "ButtonModel",
      "state": {
       "description": "Load params",
       "layout": "IPY_MODEL_fb5e4e46f85e4a27a710c8712af9a879",
       "style": "IPY_MODEL_415f6c05a90f45d785a98ef370fa064e"
      }
     },
     "50d6b2c10c8545b098383a335edd303e": {
      "model_module": "@jupyter-widgets/base",
      "model_module_version": "1.2.0",
      "model_name": "LayoutModel",
      "state": {}
     },
     "51467aa8e5354b56976cc6f66b4bea5a": {
      "model_module": "@jupyter-widgets/controls",
      "model_module_version": "1.5.0",
      "model_name": "HBoxModel",
      "state": {
       "children": [
        "IPY_MODEL_6a40b5f5893e449585e56aaff9d5ed04"
       ],
       "layout": "IPY_MODEL_4eea23e906bf48e299e92cd0a307911b"
      }
     },
     "5154ebe242f14f2a87c81c8d3206527f": {
      "model_module": "@jupyter-widgets/controls",
      "model_module_version": "1.5.0",
      "model_name": "ButtonModel",
      "state": {
       "description": "Export to PDF",
       "layout": "IPY_MODEL_1c494648c5e64dbcbd2cfab78c4a362c",
       "style": "IPY_MODEL_ce69a09a79c04ef4a783fb3b7a54626a"
      }
     },
     "5176be73aea04f9da7b0fc5c676d6a4b": {
      "model_module": "@jupyter-widgets/controls",
      "model_module_version": "1.5.0",
      "model_name": "ButtonModel",
      "state": {
       "description": "Refresh",
       "layout": "IPY_MODEL_3c55d47073084ec58ebc9c47a3eefafa",
       "style": "IPY_MODEL_18a9b5f1e84d4bc8b1be79f6f70aa082"
      }
     },
     "51a0f4c1d27544fd9769c92d3c8613dd": {
      "model_module": "@jupyter-widgets/base",
      "model_module_version": "1.2.0",
      "model_name": "LayoutModel",
      "state": {}
     },
     "51da523840034a39ad371b03da6377dd": {
      "model_module": "@jupyter-widgets/base",
      "model_module_version": "1.2.0",
      "model_name": "LayoutModel",
      "state": {}
     },
     "520c099c7d3f4c2a8aa84d8056bfdab4": {
      "model_module": "@jupyter-widgets/controls",
      "model_module_version": "1.5.0",
      "model_name": "HBoxModel",
      "state": {
       "children": [
        "IPY_MODEL_c02dfe0e44544fb5bab061409e60957b",
        "IPY_MODEL_4326dafc8b814cd2a87cab523a6147a1",
        "IPY_MODEL_7f5a643362834d6e9db74777928a2eb8"
       ],
       "layout": "IPY_MODEL_8c758cb34dc1431781e184e94aabd60f"
      }
     },
     "52707859d06c4308918898c0d5abd7d5": {
      "model_module": "@jupyter-widgets/base",
      "model_module_version": "1.2.0",
      "model_name": "LayoutModel",
      "state": {
       "width": "400px"
      }
     },
     "5277909d8ccd4780862d602f36a7f50a": {
      "model_module": "@jupyter-widgets/controls",
      "model_module_version": "1.5.0",
      "model_name": "ButtonStyleModel",
      "state": {}
     },
     "528cc3a5053c4891886cac07ca94f046": {
      "model_module": "@jupyter-widgets/controls",
      "model_module_version": "1.5.0",
      "model_name": "ButtonStyleModel",
      "state": {}
     },
     "5293f7f8d43c4dd4bab95e8b7a5dfc04": {
      "model_module": "@jupyter-widgets/base",
      "model_module_version": "1.2.0",
      "model_name": "LayoutModel",
      "state": {}
     },
     "52ac538e08574440877f141f403fc5b4": {
      "model_module": "@jupyter-widgets/controls",
      "model_module_version": "1.5.0",
      "model_name": "ButtonModel",
      "state": {
       "description": "Fit with erf",
       "layout": "IPY_MODEL_3949ffaf94e14b7da0e69c30b12009ba",
       "style": "IPY_MODEL_ffa589ac3d6749ecbca51598bff2ed18"
      }
     },
     "52c96f397b8045b38c576a33662e3091": {
      "model_module": "@jupyter-widgets/controls",
      "model_module_version": "1.5.0",
      "model_name": "HBoxModel",
      "state": {
       "children": [
        "IPY_MODEL_ab925516f821482492cbed8caaf77f17",
        "IPY_MODEL_04dadf96cf0d45e5b84d5b0b2d267bc0"
       ],
       "layout": "IPY_MODEL_f95cb0b1ae4448808d7ba5a4b1a747ee"
      }
     },
     "532be838cb2f48f988f572ac33046bbd": {
      "model_module": "@jupyter-widgets/controls",
      "model_module_version": "1.5.0",
      "model_name": "ButtonModel",
      "state": {
       "description": "Treat scan",
       "layout": "IPY_MODEL_0f07131ae72244fe96fedb58ba86ee74",
       "style": "IPY_MODEL_7710a9db124d46b0bf402658e7ac58e5"
      }
     },
     "53419ab9a4a04de1ac2df095dc275837": {
      "model_module": "@jupyter-widgets/controls",
      "model_module_version": "1.5.0",
      "model_name": "ButtonStyleModel",
      "state": {}
     },
     "534be8c74bf24dd9a84f9da55bb28d19": {
      "model_module": "@jupyter-widgets/controls",
      "model_module_version": "1.5.0",
      "model_name": "ButtonStyleModel",
      "state": {}
     },
     "5355617e99f44e5cb5a5f93d66def787": {
      "model_module": "@jupyter-widgets/controls",
      "model_module_version": "1.5.0",
      "model_name": "ButtonStyleModel",
      "state": {}
     },
     "537994c21a8440539bc8b0cfc11134d2": {
      "model_module": "@jupyter-widgets/base",
      "model_module_version": "1.2.0",
      "model_name": "LayoutModel",
      "state": {}
     },
     "5398671af35945a4934349cb011d8722": {
      "model_module": "@jupyter-widgets/base",
      "model_module_version": "1.2.0",
      "model_name": "LayoutModel",
      "state": {
       "height": "40px",
       "width": "250px"
      }
     },
     "53b9339539ee48ee90dc868fefba3e2a": {
      "model_module": "@jupyter-widgets/base",
      "model_module_version": "1.2.0",
      "model_name": "LayoutModel",
      "state": {}
     },
     "53b93fde1bad4352b5cad296d8f308ff": {
      "model_module": "@jupyter-widgets/controls",
      "model_module_version": "1.5.0",
      "model_name": "ButtonStyleModel",
      "state": {}
     },
     "53bb403e86844647885ad2606f310bcd": {
      "model_module": "@jupyter-widgets/base",
      "model_module_version": "1.2.0",
      "model_name": "LayoutModel",
      "state": {}
     },
     "53da538e2df34c7186640e88834f859d": {
      "model_module": "@jupyter-widgets/base",
      "model_module_version": "1.2.0",
      "model_name": "LayoutModel",
      "state": {
       "width": "400px"
      }
     },
     "53f8877dbbb5497786ebac4889893186": {
      "model_module": "@jupyter-widgets/base",
      "model_module_version": "1.2.0",
      "model_name": "LayoutModel",
      "state": {
       "width": "200px"
      }
     },
     "5413eec8864e48dfa862a784be6adf9b": {
      "model_module": "@jupyter-widgets/base",
      "model_module_version": "1.2.0",
      "model_name": "LayoutModel",
      "state": {}
     },
     "5455665c7c234dff90e4fffc01e4b3b1": {
      "model_module": "@jupyter-widgets/base",
      "model_module_version": "1.2.0",
      "model_name": "LayoutModel",
      "state": {
       "width": "250px"
      }
     },
     "54646a89f29640d6ae752621120b3f0f": {
      "model_module": "@jupyter-widgets/controls",
      "model_module_version": "1.5.0",
      "model_name": "HBoxModel",
      "state": {
       "children": [
        "IPY_MODEL_9b4a3a381283428f90279d8315715d2a",
        "IPY_MODEL_aa675bd674994957b6779edc2ee43b50",
        "IPY_MODEL_aa628d77b2c840879e3b52a8a0efe0e5"
       ],
       "layout": "IPY_MODEL_d5e93aa01eef46f0b1f2d7208e6e51b9"
      }
     },
     "54978044d2ea4b9099d1371696233aac": {
      "model_module": "@jupyter-widgets/controls",
      "model_module_version": "1.5.0",
      "model_name": "ButtonStyleModel",
      "state": {}
     },
     "54cb712542254769a43e42a7e28f8d78": {
      "model_module": "@jupyter-widgets/base",
      "model_module_version": "1.2.0",
      "model_name": "LayoutModel",
      "state": {}
     },
     "54f594711ab44c5b86a79f9fddfb5f50": {
      "model_module": "@jupyter-widgets/controls",
      "model_module_version": "1.5.0",
      "model_name": "ButtonModel",
      "state": {
       "description": "Fit with erf",
       "layout": "IPY_MODEL_44b6ed8acfeb41148d921d33e91d0623",
       "style": "IPY_MODEL_54978044d2ea4b9099d1371696233aac"
      }
     },
     "5515107359ac4602aa8875f79e9b2882": {
      "model_module": "@jupyter-widgets/controls",
      "model_module_version": "1.5.0",
      "model_name": "ButtonModel",
      "state": {
       "description": "Load params",
       "layout": "IPY_MODEL_af5c3b31febb47c69f51beb4dc6d341e",
       "style": "IPY_MODEL_fad058f655cd4c9c9f73516f05651f21"
      }
     },
     "55307c3e468c4731869d0f79a602dcc4": {
      "model_module": "@jupyter-widgets/controls",
      "model_module_version": "1.5.0",
      "model_name": "ButtonModel",
      "state": {
       "description": "Insert comment",
       "layout": "IPY_MODEL_2736fa71ab05454c9c3ecb3955b7245c",
       "style": "IPY_MODEL_d2c84941d6f74f908d41816ad26feb2a"
      }
     },
     "55392dc9ef6e4d7283825818831097fc": {
      "model_module": "@jupyter-widgets/controls",
      "model_module_version": "1.5.0",
      "model_name": "DropdownModel",
      "state": {
       "_options_labels": [
        "SIRIUS_Fluo_2020_07_07_0070.nxs",
        "SIRIUS_Fluo_2020_02_16_02289.nxs",
        "SIRIUS_Fluo_2020_02_16_02288.nxs",
        "SIRIUS_Fluo_2020_02_13_02277.nxs",
        "SIRIUS_Fluo_2017_12_11_08042.nxs"
       ],
       "description": "Select scan:",
       "index": 0,
       "layout": "IPY_MODEL_ce78d06589cf4c88ba945148042c14e5",
       "style": "IPY_MODEL_dc17758b377d41ada780e64418e69a99"
      }
     },
     "5621c3513f984caaa49c687d0efbf2c3": {
      "model_module": "@jupyter-widgets/base",
      "model_module_version": "1.2.0",
      "model_name": "LayoutModel",
      "state": {
       "height": "40px",
       "width": "300px"
      }
     },
     "5645b237d0dc4b12850d4135378e33f5": {
      "model_module": "@jupyter-widgets/base",
      "model_module_version": "1.2.0",
      "model_name": "LayoutModel",
      "state": {
       "width": "250px"
      }
     },
     "5667d9412c5e4c45a88e8dd72459329a": {
      "model_module": "@jupyter-widgets/controls",
      "model_module_version": "1.5.0",
      "model_name": "HBoxModel",
      "state": {
       "children": [
        "IPY_MODEL_f983a4c5faed4426a66c883e1f2355ca",
        "IPY_MODEL_16298ee12c584db99a966b12d5fd31de",
        "IPY_MODEL_bbfaf104b8384c64a7adccd1d04378d9"
       ],
       "layout": "IPY_MODEL_d062adb081604ec9beed3945105428d4"
      }
     },
     "57973d06962b4d2db257798fd977d27f": {
      "model_module": "@jupyter-widgets/base",
      "model_module_version": "1.2.0",
      "model_name": "LayoutModel",
      "state": {}
     },
     "57ac3a1c33dd43798a43a87f5121aec0": {
      "model_module": "@jupyter-widgets/base",
      "model_module_version": "1.2.0",
      "model_name": "LayoutModel",
      "state": {}
     },
     "580090f0e3ca49a79ffeceb45d997b38": {
      "model_module": "@jupyter-widgets/controls",
      "model_module_version": "1.5.0",
      "model_name": "ButtonStyleModel",
      "state": {}
     },
     "580de39282a8403ba049329ccbf8b157": {
      "model_module": "@jupyter-widgets/controls",
      "model_module_version": "1.5.0",
      "model_name": "HBoxModel",
      "state": {
       "children": [
        "IPY_MODEL_f1cb36081f76460aa13cf77efd836a93",
        "IPY_MODEL_29077f11f02b4558acdc2abfea7308e6"
       ],
       "layout": "IPY_MODEL_f53894de12cc482f82b544665e108e09"
      }
     },
     "582ee6bb3a23481e97d826d0c15dd2ed": {
      "model_module": "@jupyter-widgets/base",
      "model_module_version": "1.2.0",
      "model_name": "LayoutModel",
      "state": {
       "height": "40px",
       "width": "300px"
      }
     },
     "585c5924cc5346e088808c75f49cd171": {
      "model_module": "@jupyter-widgets/controls",
      "model_module_version": "1.5.0",
      "model_name": "HBoxModel",
      "state": {
       "children": [
        "IPY_MODEL_dc0c85498c2944ca9be25aeb7c8bb0f3",
        "IPY_MODEL_fe2f732486a84c15957567dc7d43f059"
       ],
       "layout": "IPY_MODEL_17af156052f844f881d9542371bf451a"
      }
     },
     "586136ac292c4d3d8ffeac09dd1884d1": {
      "model_module": "@jupyter-widgets/base",
      "model_module_version": "1.2.0",
      "model_name": "LayoutModel",
      "state": {
       "width": "200px"
      }
     },
     "58847aa09a4a4a0980b13224cc7da42f": {
      "model_module": "@jupyter-widgets/base",
      "model_module_version": "1.2.0",
      "model_name": "LayoutModel",
      "state": {}
     },
     "58af6c353bc04a45863f1ea7e407b3ba": {
      "model_module": "@jupyter-widgets/controls",
      "model_module_version": "1.5.0",
      "model_name": "ButtonModel",
      "state": {
       "description": "Export to PDF",
       "layout": "IPY_MODEL_2dc1b8d4ce834c02a1d8fea31de785b0",
       "style": "IPY_MODEL_5355617e99f44e5cb5a5f93d66def787"
      }
     },
     "58b85837ae604f49919c61f320819856": {
      "model_module": "@jupyter-widgets/controls",
      "model_module_version": "1.5.0",
      "model_name": "ButtonStyleModel",
      "state": {}
     },
     "58fb8ab575c24bbdb922bede70bcdf21": {
      "model_module": "@jupyter-widgets/controls",
      "model_module_version": "1.5.0",
      "model_name": "ButtonStyleModel",
      "state": {}
     },
     "590ae866506448a5ab4109ebb46d9783": {
      "model_module": "@jupyter-widgets/base",
      "model_module_version": "1.2.0",
      "model_name": "LayoutModel",
      "state": {
       "height": "40px",
       "width": "150px"
      }
     },
     "591a533aca044c978161aacbb5910e17": {
      "model_module": "@jupyter-widgets/controls",
      "model_module_version": "1.5.0",
      "model_name": "ButtonStyleModel",
      "state": {}
     },
     "596135e2ac6c4cd3ac2cf43515e7c25f": {
      "model_module": "@jupyter-widgets/base",
      "model_module_version": "1.2.0",
      "model_name": "LayoutModel",
      "state": {}
     },
     "5965552252db4735af1d3ed1ecf3c041": {
      "model_module": "@jupyter-widgets/base",
      "model_module_version": "1.2.0",
      "model_name": "LayoutModel",
      "state": {}
     },
     "5979e4c712ab41b18fa61add70f6047e": {
      "model_module": "@jupyter-widgets/controls",
      "model_module_version": "1.5.0",
      "model_name": "ButtonStyleModel",
      "state": {}
     },
     "59802583085e4c1bae352344dc413c34": {
      "model_module": "@jupyter-widgets/controls",
      "model_module_version": "1.5.0",
      "model_name": "ButtonStyleModel",
      "state": {}
     },
     "599f3caf1b09456b8e01b15135328d5e": {
      "model_module": "@jupyter-widgets/controls",
      "model_module_version": "1.5.0",
      "model_name": "DescriptionStyleModel",
      "state": {
       "description_width": "initial"
      }
     },
     "59a49f0f7c3142ffb7f6428012506365": {
      "model_module": "@jupyter-widgets/controls",
      "model_module_version": "1.5.0",
      "model_name": "ButtonModel",
      "state": {
       "description": "Fit with erf",
       "layout": "IPY_MODEL_737e37519ab04c6e812d1f5e5b8788dc",
       "style": "IPY_MODEL_3141d0a736a14eb98cc53e923aff10c6"
      }
     },
     "59bca91911ff406db9a801d2788e4fe4": {
      "model_module": "@jupyter-widgets/base",
      "model_module_version": "1.2.0",
      "model_name": "LayoutModel",
      "state": {}
     },
     "59ceca53f6ea4f1a8bcbb433ec5e65ef": {
      "model_module": "@jupyter-widgets/base",
      "model_module_version": "1.2.0",
      "model_name": "LayoutModel",
      "state": {}
     },
     "5a07b80dd8414e978873dd6fe55e14d5": {
      "model_module": "@jupyter-widgets/controls",
      "model_module_version": "1.5.0",
      "model_name": "ButtonModel",
      "state": {
       "description": "Insert comment",
       "layout": "IPY_MODEL_5f26cb8d1d3a443ea94edfffee27b404",
       "style": "IPY_MODEL_8204a729c5e549c3946118ea1d717166"
      }
     },
     "5ac32eb3353f46358e799a6c2b0cecde": {
      "model_module": "@jupyter-widgets/controls",
      "model_module_version": "1.5.0",
      "model_name": "ButtonModel",
      "state": {
       "description": "Plot isotherm",
       "layout": "IPY_MODEL_982b45378bfa44989a8e89086eb69e65",
       "style": "IPY_MODEL_44b829634a2b4e20a6f68867b20b6a6c"
      }
     },
     "5bd17990b24d4ce0a3c2ca37abe98851": {
      "model_module": "@jupyter-widgets/controls",
      "model_module_version": "1.5.0",
      "model_name": "ButtonStyleModel",
      "state": {}
     },
     "5be5274cb4204b9c87ab899d4d8b04ec": {
      "model_module": "@jupyter-widgets/base",
      "model_module_version": "1.2.0",
      "model_name": "LayoutModel",
      "state": {
       "height": "40px",
       "width": "300px"
      }
     },
     "5be5ba8ffdfd4c0f8993bea1a1638e0e": {
      "model_module": "@jupyter-widgets/controls",
      "model_module_version": "1.5.0",
      "model_name": "ButtonModel",
      "state": {
       "description": "Plot GIXD",
       "layout": "IPY_MODEL_d69455a7897340838434ca117ef1229f",
       "style": "IPY_MODEL_63d1ea65c93c4db5a71484fe93de279a"
      }
     },
     "5c11576d0dd341d4993588b30070ff32": {
      "model_module": "@jupyter-widgets/controls",
      "model_module_version": "1.5.0",
      "model_name": "ButtonStyleModel",
      "state": {}
     },
     "5c3d9b45870743c7b3cff23bbb05d8e6": {
      "model_module": "@jupyter-widgets/base",
      "model_module_version": "1.2.0",
      "model_name": "LayoutModel",
      "state": {}
     },
     "5c919b5962664809918155f79ee27f9b": {
      "model_module": "@jupyter-widgets/controls",
      "model_module_version": "1.5.0",
      "model_name": "ButtonModel",
      "state": {
       "description": "Plot GIXD",
       "layout": "IPY_MODEL_af15fc7f44804b52bee6e7d9cc61e68b",
       "style": "IPY_MODEL_27c79031e602464f97d1c35011db6d7e"
      }
     },
     "5c93467152784154aa41bf21b9a5417a": {
      "model_module": "@jupyter-widgets/controls",
      "model_module_version": "1.5.0",
      "model_name": "ButtonModel",
      "state": {
       "description": "Export to PDF",
       "layout": "IPY_MODEL_a7dc92877a2f40f0ba3e13630d9bc3b5",
       "style": "IPY_MODEL_0248a300dcd246849dad2ee6ff3d9763"
      }
     },
     "5ccbbbb0aff844d08ccff8dcbfd2dfba": {
      "model_module": "@jupyter-widgets/base",
      "model_module_version": "1.2.0",
      "model_name": "LayoutModel",
      "state": {
       "height": "40px",
       "width": "300px"
      }
     },
     "5d05a4297f664427a01a8dc9c34e1be4": {
      "model_module": "@jupyter-widgets/base",
      "model_module_version": "1.2.0",
      "model_name": "LayoutModel",
      "state": {
       "width": "200px"
      }
     },
     "5d3d2ef290684219b487b079ad978b02": {
      "model_module": "@jupyter-widgets/controls",
      "model_module_version": "1.5.0",
      "model_name": "HBoxModel",
      "state": {
       "children": [
        "IPY_MODEL_3d1f123697cb4695bb73c86e0eb139a1",
        "IPY_MODEL_7fb09e1cf4614feebac3563c33b7cd58"
       ],
       "layout": "IPY_MODEL_12a63bc7ab3b4909b52aa72a45366588"
      }
     },
     "5d410499e51a43d7b443a9d427436ed1": {
      "model_module": "@jupyter-widgets/controls",
      "model_module_version": "1.5.0",
      "model_name": "DropdownModel",
      "state": {
       "_options_labels": [
        "SIRIUS_Fluo_2020_07_07_0070.nxs",
        "SIRIUS_Fluo_2020_02_16_02289.nxs",
        "SIRIUS_Fluo_2020_02_16_02288.nxs",
        "SIRIUS_Fluo_2020_02_13_02277.nxs",
        "SIRIUS_Fluo_2017_12_11_08042.nxs"
       ],
       "index": 0,
       "layout": "IPY_MODEL_622a88c4cd864db080087763d1fafbcd",
       "style": "IPY_MODEL_120334ecfd7f4706985551e20dfe1c66"
      }
     },
     "5daa5baa50b44bb881b5fd13d58724c0": {
      "model_module": "@jupyter-widgets/controls",
      "model_module_version": "1.5.0",
      "model_name": "ButtonModel",
      "state": {
       "description": "Save current params as default",
       "layout": "IPY_MODEL_944acee030d848549b1c366fce9ee527",
       "style": "IPY_MODEL_fd00c4bf79634a7b9a8354ee59b2f165"
      }
     },
     "5de2ef51770649109d8c2b7c9e48062b": {
      "model_module": "@jupyter-widgets/controls",
      "model_module_version": "1.5.0",
      "model_name": "DescriptionStyleModel",
      "state": {
       "description_width": "initial"
      }
     },
     "5df33bdb11994601ac7dd499ede4cd73": {
      "model_module": "@jupyter-widgets/base",
      "model_module_version": "1.2.0",
      "model_name": "LayoutModel",
      "state": {}
     },
     "5dff66bad84e4637ba08ea9fd6dcd4fc": {
      "model_module": "@jupyter-widgets/base",
      "model_module_version": "1.2.0",
      "model_name": "LayoutModel",
      "state": {}
     },
     "5e27087b989e4c398d228e6718b2b5a4": {
      "model_module": "@jupyter-widgets/controls",
      "model_module_version": "1.5.0",
      "model_name": "DropdownModel",
      "state": {
       "_options_labels": [
        "SIRIUS_Fluo_2020_07_07_0070.nxs",
        "SIRIUS_Fluo_2020_02_16_02289.nxs",
        "SIRIUS_Fluo_2020_02_16_02288.nxs",
        "SIRIUS_Fluo_2020_02_13_02277.nxs",
        "SIRIUS_Fluo_2017_12_11_08042.nxs"
       ],
       "index": 0,
       "layout": "IPY_MODEL_2ca7e08b263b449f879623e406b102b7",
       "style": "IPY_MODEL_78bdfac37c9a494381064658e084058d"
      }
     },
     "5e9a876b1d8e4e61bfa073ea4468869e": {
      "model_module": "@jupyter-widgets/base",
      "model_module_version": "1.2.0",
      "model_name": "LayoutModel",
      "state": {
       "width": "200px"
      }
     },
     "5e9ded31ab7b4a2396b9a9aa74b657d2": {
      "model_module": "@jupyter-widgets/controls",
      "model_module_version": "1.5.0",
      "model_name": "ButtonStyleModel",
      "state": {}
     },
     "5eb20bc11b6140a894e0ec2af0f52ee6": {
      "model_module": "@jupyter-widgets/controls",
      "model_module_version": "1.5.0",
      "model_name": "ButtonModel",
      "state": {
       "description": "Export to pdf",
       "layout": "IPY_MODEL_6562611bc44c47ab9fa7d3157144c433",
       "style": "IPY_MODEL_6c35b2597be7431c8b187511afe37366"
      }
     },
     "5ebf7e462f2548fdbf5bd54e3b5ae87d": {
      "model_module": "@jupyter-widgets/controls",
      "model_module_version": "1.5.0",
      "model_name": "ButtonModel",
      "state": {
       "description": "Load params",
       "layout": "IPY_MODEL_86447bc5d2d04a6c918a09a32d0a519b",
       "style": "IPY_MODEL_b27545599eb448c08adb7f8398b1e791"
      }
     },
     "5ecf873d103a4ae986fe01c9a6ddc359": {
      "model_module": "@jupyter-widgets/controls",
      "model_module_version": "1.5.0",
      "model_name": "ButtonStyleModel",
      "state": {}
     },
     "5ecfb4e21b2648d09991fe214ec704f2": {
      "model_module": "@jupyter-widgets/base",
      "model_module_version": "1.2.0",
      "model_name": "LayoutModel",
      "state": {
       "height": "40px",
       "width": "250px"
      }
     },
     "5efeeb3062074973a53610f1c7fe55c3": {
      "model_module": "@jupyter-widgets/base",
      "model_module_version": "1.2.0",
      "model_name": "LayoutModel",
      "state": {}
     },
     "5f1df0e17b0d473e8cc9e4402991659a": {
      "model_module": "@jupyter-widgets/controls",
      "model_module_version": "1.5.0",
      "model_name": "ButtonStyleModel",
      "state": {}
     },
     "5f26cb8d1d3a443ea94edfffee27b404": {
      "model_module": "@jupyter-widgets/base",
      "model_module_version": "1.2.0",
      "model_name": "LayoutModel",
      "state": {}
     },
     "5f2d25a8c293454fbfef4a26a03f01a4": {
      "model_module": "@jupyter-widgets/base",
      "model_module_version": "1.2.0",
      "model_name": "LayoutModel",
      "state": {}
     },
     "5f5a06b96cb04f8883c6f286bba8a02b": {
      "model_module": "@jupyter-widgets/base",
      "model_module_version": "1.2.0",
      "model_name": "LayoutModel",
      "state": {
       "width": "200px"
      }
     },
     "5f6a3d47081b43bb90af47f76e53d789": {
      "model_module": "@jupyter-widgets/base",
      "model_module_version": "1.2.0",
      "model_name": "LayoutModel",
      "state": {}
     },
     "5f7dcd299100411aad790e3658cfac1f": {
      "model_module": "@jupyter-widgets/base",
      "model_module_version": "1.2.0",
      "model_name": "LayoutModel",
      "state": {}
     },
     "601ebc4021114e2189568ba6a1421059": {
      "model_module": "@jupyter-widgets/controls",
      "model_module_version": "1.5.0",
      "model_name": "ButtonModel",
      "state": {
       "description": "Insert comment",
       "layout": "IPY_MODEL_fa66bb06dc654d52900296e47db5cbb2",
       "style": "IPY_MODEL_751327728b9d43b2a031694be77dd62f"
      }
     },
     "606b9ae14ef44480bfc2e86f1fb3de05": {
      "model_module": "@jupyter-widgets/base",
      "model_module_version": "1.2.0",
      "model_name": "LayoutModel",
      "state": {}
     },
     "607944e3a3d8494b8ccd04544a4ced81": {
      "model_module": "@jupyter-widgets/controls",
      "model_module_version": "1.5.0",
      "model_name": "ButtonStyleModel",
      "state": {}
     },
     "61942df3aefa440e9e40ce122673534e": {
      "model_module": "@jupyter-widgets/controls",
      "model_module_version": "1.5.0",
      "model_name": "ButtonModel",
      "state": {
       "description": "Export to pdf",
       "layout": "IPY_MODEL_a06917cc6b4e4f3a901513efee8f5b1d",
       "style": "IPY_MODEL_d8ac992faa9e410b9fc0b03c3c9ada8f"
      }
     },
     "61a980804b0541b3a835887a9770c6d5": {
      "model_module": "@jupyter-widgets/controls",
      "model_module_version": "1.5.0",
      "model_name": "ButtonModel",
      "state": {
       "description": "Insert comment",
       "layout": "IPY_MODEL_276b3ab0365a4c31a921e74af1a2af0f",
       "style": "IPY_MODEL_185ec9b915ad4d01a9c64d70302d8cf6"
      }
     },
     "61ceb1ea348f424b9a8da70171316c3b": {
      "model_module": "@jupyter-widgets/controls",
      "model_module_version": "1.5.0",
      "model_name": "DropdownModel",
      "state": {
       "_options_labels": [
        "SIRIUS_Fluo_2020_07_07_0070.nxs",
        "SIRIUS_Fluo_2020_02_16_02289.nxs",
        "SIRIUS_Fluo_2020_02_16_02288.nxs",
        "SIRIUS_Fluo_2020_02_13_02277.nxs",
        "SIRIUS_Fluo_2017_12_11_08042.nxs"
       ],
       "index": 0,
       "layout": "IPY_MODEL_22cb6c7e63e0497b86a7662393c5c3da",
       "style": "IPY_MODEL_086cf8d21d2f4b1e86c963fc37966027"
      }
     },
     "61feb1b6a49842a3a882fb0aea2af93c": {
      "model_module": "@jupyter-widgets/controls",
      "model_module_version": "1.5.0",
      "model_name": "ButtonStyleModel",
      "state": {}
     },
     "622a88c4cd864db080087763d1fafbcd": {
      "model_module": "@jupyter-widgets/base",
      "model_module_version": "1.2.0",
      "model_name": "LayoutModel",
      "state": {
       "width": "400px"
      }
     },
     "622bd51339384fb99a3161badd58d633": {
      "model_module": "@jupyter-widgets/controls",
      "model_module_version": "1.5.0",
      "model_name": "ButtonModel",
      "state": {
       "description": "Analyze a new scan",
       "layout": "IPY_MODEL_83db0f32ab5947e18fbc0fcd0dd6b4ae",
       "style": "IPY_MODEL_8025fe6303db482f816c28dec44c6817"
      }
     },
     "6240c5193abd404fb7de9016482ea36d": {
      "model_module": "@jupyter-widgets/base",
      "model_module_version": "1.2.0",
      "model_name": "LayoutModel",
      "state": {}
     },
     "625db02ba0c946a29ec2844d4f23d340": {
      "model_module": "@jupyter-widgets/controls",
      "model_module_version": "1.5.0",
      "model_name": "ButtonModel",
      "state": {
       "description": "Refresh",
       "layout": "IPY_MODEL_ea3eb8c5c6f7433b8f3130b578c90636",
       "style": "IPY_MODEL_226686552e204341ab2d2310d8fdcd7d"
      }
     },
     "625dc27932b849bea04ab7df75503aa9": {
      "model_module": "@jupyter-widgets/base",
      "model_module_version": "1.2.0",
      "model_name": "LayoutModel",
      "state": {
       "width": "200px"
      }
     },
     "6272b75e76a54e88ac31fc846d5cf385": {
      "model_module": "@jupyter-widgets/controls",
      "model_module_version": "1.5.0",
      "model_name": "HBoxModel",
      "state": {
       "children": [
        "IPY_MODEL_2ea14931d0534f3daed768a8c4ec04ba",
        "IPY_MODEL_0049f2f9a2b54f9aa4f84b36e7cc09a0"
       ],
       "layout": "IPY_MODEL_b3b859e912014c0380c256e577122aa3"
      }
     },
     "62e5e28190fe45bc9e4b09ff24a350f5": {
      "model_module": "@jupyter-widgets/base",
      "model_module_version": "1.2.0",
      "model_name": "LayoutModel",
      "state": {}
     },
     "635467acead34656ab2d4c1cb4a8a74c": {
      "model_module": "@jupyter-widgets/controls",
      "model_module_version": "1.5.0",
      "model_name": "DescriptionStyleModel",
      "state": {
       "description_width": "initial"
      }
     },
     "639df6b4ce59403cba1a5aa08da76f70": {
      "model_module": "@jupyter-widgets/controls",
      "model_module_version": "1.5.0",
      "model_name": "ButtonModel",
      "state": {
       "description": "Load params",
       "layout": "IPY_MODEL_10a89f19a3e9495d91c24d453713b7ea",
       "style": "IPY_MODEL_be7ffb22385c4b649f01c50e4ddf7359"
      }
     },
     "63ac26cb6c3f4a27bba882bebf4e2f15": {
      "model_module": "@jupyter-widgets/base",
      "model_module_version": "1.2.0",
      "model_name": "LayoutModel",
      "state": {
       "height": "40px",
       "width": "250px"
      }
     },
     "63c48655579b4654ac276d96493a3a17": {
      "model_module": "@jupyter-widgets/controls",
      "model_module_version": "1.5.0",
      "model_name": "ButtonModel",
      "state": {
       "description": "Insert comment",
       "layout": "IPY_MODEL_b24910fcbc0742318fa9f17f970d7fd1",
       "style": "IPY_MODEL_fe8b66858c1b4c5ca65f040f62c4d44c"
      }
     },
     "63c4fdec46d44f4e87d84124afaebec4": {
      "model_module": "@jupyter-widgets/controls",
      "model_module_version": "1.5.0",
      "model_name": "ButtonModel",
      "state": {
       "description": "Export to PDF",
       "layout": "IPY_MODEL_c03ad83fde594946a21e3c3fde58564a",
       "style": "IPY_MODEL_18717111df904c70b792139846c41759"
      }
     },
     "63cac0bd1f0e4ababc15526a9f0f3453": {
      "model_module": "@jupyter-widgets/controls",
      "model_module_version": "1.5.0",
      "model_name": "ButtonModel",
      "state": {
       "description": "Plot GIXS",
       "layout": "IPY_MODEL_7dbc3a81fc5e4a94bc387dea5118006a",
       "style": "IPY_MODEL_cb08335435244fca8441a6bc290a1094"
      }
     },
     "63d1ea65c93c4db5a71484fe93de279a": {
      "model_module": "@jupyter-widgets/controls",
      "model_module_version": "1.5.0",
      "model_name": "ButtonStyleModel",
      "state": {}
     },
     "63f7e86bc61843ce83bb2c4da969bf3b": {
      "model_module": "@jupyter-widgets/controls",
      "model_module_version": "1.5.0",
      "model_name": "ButtonStyleModel",
      "state": {}
     },
     "642f32292bf8421e9a426ca4c0a551c2": {
      "model_module": "@jupyter-widgets/controls",
      "model_module_version": "1.5.0",
      "model_name": "HBoxModel",
      "state": {
       "children": [
        "IPY_MODEL_fd6848ff205c4adcb9693939f10fbfed",
        "IPY_MODEL_477d4ea106b64be8823fb8b6eeaaac44"
       ],
       "layout": "IPY_MODEL_f77b5c1c8a8d4761b52c07eee1ad5936"
      }
     },
     "643842c315e34177aee448ee724aeb48": {
      "model_module": "@jupyter-widgets/base",
      "model_module_version": "1.2.0",
      "model_name": "LayoutModel",
      "state": {}
     },
     "6474caebd57e4bdfa9ad1c19559704e1": {
      "model_module": "@jupyter-widgets/controls",
      "model_module_version": "1.5.0",
      "model_name": "ButtonModel",
      "state": {
       "description": "Load params",
       "layout": "IPY_MODEL_aa5e06dfdd2a4142819c4398fedb4633",
       "style": "IPY_MODEL_86ffa248848d48b0af554435b643b506"
      }
     },
     "647ebe66a69f4893b437d5ea832089f5": {
      "model_module": "@jupyter-widgets/controls",
      "model_module_version": "1.5.0",
      "model_name": "ButtonModel",
      "state": {
       "description": "Treat scan",
       "layout": "IPY_MODEL_256ddc124a3943abb3373fe767698de5",
       "style": "IPY_MODEL_e444f0cda91348e597a70c6891e0db62"
      }
     },
     "64979c98710b4ed683b9afab153f70d7": {
      "model_module": "@jupyter-widgets/base",
      "model_module_version": "1.2.0",
      "model_name": "LayoutModel",
      "state": {}
     },
     "64bf37e74a384550b7c1406b1515c722": {
      "model_module": "@jupyter-widgets/base",
      "model_module_version": "1.2.0",
      "model_name": "LayoutModel",
      "state": {}
     },
     "64d8cac12e9e4278b1ff9a5c9a07b379": {
      "model_module": "@jupyter-widgets/controls",
      "model_module_version": "1.5.0",
      "model_name": "HBoxModel",
      "state": {
       "children": [
        "IPY_MODEL_86ed33fbfe754bd3868c8abaf7779777",
        "IPY_MODEL_7987084a5dcb43b3a312c7568857d656",
        "IPY_MODEL_313e669091454ddaa10b528ac3f068af"
       ],
       "layout": "IPY_MODEL_aaefc027271c49f7843b7c975ae5195c"
      }
     },
     "65147ef476974083a2bb6c1da65b71d5": {
      "model_module": "@jupyter-widgets/controls",
      "model_module_version": "1.5.0",
      "model_name": "ButtonModel",
      "state": {
       "description": "Refresh",
       "layout": "IPY_MODEL_3d31337210e5420495fcb7058425be0a",
       "style": "IPY_MODEL_9542d0803f094850abb057983b2ff927"
      }
     },
     "651812f73a58453c898da33c5626d89b": {
      "model_module": "@jupyter-widgets/base",
      "model_module_version": "1.2.0",
      "model_name": "LayoutModel",
      "state": {}
     },
     "653f6e7de2fb4ec1bbbcd789fa20e9df": {
      "model_module": "@jupyter-widgets/controls",
      "model_module_version": "1.5.0",
      "model_name": "ButtonModel",
      "state": {
       "description": "Insert comment",
       "layout": "IPY_MODEL_bfb91400d9a6496c8d5cacb67d624e61",
       "style": "IPY_MODEL_ae49ab57d47a4bb898dea739dcc73744"
      }
     },
     "6562611bc44c47ab9fa7d3157144c433": {
      "model_module": "@jupyter-widgets/base",
      "model_module_version": "1.2.0",
      "model_name": "LayoutModel",
      "state": {
       "width": "200px"
      }
     },
     "656895ad551d4e8d8800d10e978c8b9a": {
      "model_module": "@jupyter-widgets/base",
      "model_module_version": "1.2.0",
      "model_name": "LayoutModel",
      "state": {}
     },
     "6696a8d48510420f8acfb2acee2b4a98": {
      "model_module": "@jupyter-widgets/controls",
      "model_module_version": "1.5.0",
      "model_name": "ButtonStyleModel",
      "state": {}
     },
     "66ba886c28a0448a9a275fa4809fb3f3": {
      "model_module": "@jupyter-widgets/controls",
      "model_module_version": "1.5.0",
      "model_name": "ButtonStyleModel",
      "state": {}
     },
     "66dfd919fe4441f88d912edd825d08f0": {
      "model_module": "@jupyter-widgets/controls",
      "model_module_version": "1.5.0",
      "model_name": "ButtonStyleModel",
      "state": {}
     },
     "66e528fdbedf4444ab76ebdb5d6f6def": {
      "model_module": "@jupyter-widgets/controls",
      "model_module_version": "1.5.0",
      "model_name": "ButtonStyleModel",
      "state": {}
     },
     "6741935ede864242825ce866a5807ad9": {
      "model_module": "@jupyter-widgets/controls",
      "model_module_version": "1.5.0",
      "model_name": "DropdownModel",
      "state": {
       "_options_labels": [
        "SIRIUS_Fluo_2020_07_07_0070.nxs",
        "SIRIUS_Fluo_2020_02_16_02289.nxs",
        "SIRIUS_Fluo_2020_02_16_02288.nxs",
        "SIRIUS_Fluo_2020_02_13_02277.nxs",
        "SIRIUS_Fluo_2017_12_11_08042.nxs"
       ],
       "index": 0,
       "layout": "IPY_MODEL_df1503fb503645a48206bd359306031b",
       "style": "IPY_MODEL_d5aaf55b45134c6da5dcce74bff11a92"
      }
     },
     "67711daba05b417c8cf1fe1efacc7613": {
      "model_module": "@jupyter-widgets/base",
      "model_module_version": "1.2.0",
      "model_name": "LayoutModel",
      "state": {
       "height": "40px",
       "width": "300px"
      }
     },
     "687edb3e775f4846ab9dddadbab1da55": {
      "model_module": "@jupyter-widgets/base",
      "model_module_version": "1.2.0",
      "model_name": "LayoutModel",
      "state": {}
     },
     "68e019b397ca4d83bd4ef313cee43af1": {
      "model_module": "@jupyter-widgets/controls",
      "model_module_version": "1.5.0",
      "model_name": "HBoxModel",
      "state": {
       "children": [
        "IPY_MODEL_cfb9669abe404548a36ca2bb12977de8",
        "IPY_MODEL_0f572c60bdf04595b0347ea9878dc9f3",
        "IPY_MODEL_4d89170f060b4bb2bd86259255c28d1f"
       ],
       "layout": "IPY_MODEL_9525c3594b4547b89cd0cf3c3507361f"
      }
     },
     "6936051f226441068d499712d76348be": {
      "model_module": "@jupyter-widgets/controls",
      "model_module_version": "1.5.0",
      "model_name": "DropdownModel",
      "state": {
       "_options_labels": [
        "SIRIUS_Fluo_2020_07_07_0070.nxs",
        "SIRIUS_Fluo_2020_02_16_02289.nxs",
        "SIRIUS_Fluo_2020_02_16_02288.nxs",
        "SIRIUS_Fluo_2020_02_13_02277.nxs",
        "SIRIUS_Fluo_2017_12_11_08042.nxs"
       ],
       "description": "Select scan:",
       "index": 0,
       "layout": "IPY_MODEL_b927ced5ce6c40069a2aaca3ef6689e1",
       "style": "IPY_MODEL_bd6f128bd5054653ada0af1f56ced028"
      }
     },
     "696811f995304fc58a69e36a00d99ee3": {
      "model_module": "@jupyter-widgets/controls",
      "model_module_version": "1.5.0",
      "model_name": "ButtonModel",
      "state": {
       "description": "Insert comment",
       "layout": "IPY_MODEL_1344c2dd96d2493988c1ee6bd3f0d77e",
       "style": "IPY_MODEL_056a5b3396094ca6a0a4dd64c42ed8aa"
      }
     },
     "6984545a881141a280f11ef4f343d664": {
      "model_module": "@jupyter-widgets/controls",
      "model_module_version": "1.5.0",
      "model_name": "ButtonStyleModel",
      "state": {}
     },
     "699089452d6b4ebe998f862cdb308308": {
      "model_module": "@jupyter-widgets/controls",
      "model_module_version": "1.5.0",
      "model_name": "ButtonModel",
      "state": {
       "description": "Treat scan",
       "layout": "IPY_MODEL_2d965a89b97140149e8f68467eb8f65e",
       "style": "IPY_MODEL_c9feece6ba13480ab056a36b964fc250"
      }
     },
     "699dcefc0ad947b9822b48b173eea308": {
      "model_module": "@jupyter-widgets/base",
      "model_module_version": "1.2.0",
      "model_name": "LayoutModel",
      "state": {}
     },
     "69ae802bb52a4f58943b1fd2e5507dab": {
      "model_module": "@jupyter-widgets/controls",
      "model_module_version": "1.5.0",
      "model_name": "HBoxModel",
      "state": {
       "children": [
        "IPY_MODEL_dfaf9b5f8e39490395899c1de7a9bee1",
        "IPY_MODEL_b239c033e8ce4a909041d52a718e7232"
       ],
       "layout": "IPY_MODEL_f1c64559d77242e8b1cb22d7076a07af"
      }
     },
     "6a40b5f5893e449585e56aaff9d5ed04": {
      "model_module": "@jupyter-widgets/controls",
      "model_module_version": "1.5.0",
      "model_name": "ButtonModel",
      "state": {
       "description": "Export to PDF",
       "layout": "IPY_MODEL_5df33bdb11994601ac7dd499ede4cd73",
       "style": "IPY_MODEL_1e8f3091c24f4426a5845827f9d7d2be"
      }
     },
     "6b84795958ec498f907c31ef5e0519c0": {
      "model_module": "@jupyter-widgets/controls",
      "model_module_version": "1.5.0",
      "model_name": "ButtonStyleModel",
      "state": {}
     },
     "6b9a20f990024514b8ce1b756af9d58a": {
      "model_module": "@jupyter-widgets/controls",
      "model_module_version": "1.5.0",
      "model_name": "ButtonStyleModel",
      "state": {}
     },
     "6baa1ea2b33547ce83ad88d62f7e247a": {
      "model_module": "@jupyter-widgets/controls",
      "model_module_version": "1.5.0",
      "model_name": "ButtonStyleModel",
      "state": {}
     },
     "6c35b2597be7431c8b187511afe37366": {
      "model_module": "@jupyter-widgets/controls",
      "model_module_version": "1.5.0",
      "model_name": "ButtonStyleModel",
      "state": {}
     },
     "6cb9b6f02cb3465ab158c15729b3d4cc": {
      "model_module": "@jupyter-widgets/controls",
      "model_module_version": "1.5.0",
      "model_name": "ButtonStyleModel",
      "state": {}
     },
     "6d62d12d804e41f183d80cea6f7660d1": {
      "model_module": "@jupyter-widgets/controls",
      "model_module_version": "1.5.0",
      "model_name": "ButtonModel",
      "state": {
       "description": "Set params",
       "layout": "IPY_MODEL_ee936801440b46da8ccfaf613aada56a",
       "style": "IPY_MODEL_6b9a20f990024514b8ce1b756af9d58a"
      }
     },
     "6d69d27cae0749d9bcc1a4c87f0c0380": {
      "model_module": "@jupyter-widgets/controls",
      "model_module_version": "1.5.0",
      "model_name": "ButtonModel",
      "state": {
       "description": "Treat scan",
       "layout": "IPY_MODEL_82275b81ee3a432cbf5f95491c37c461",
       "style": "IPY_MODEL_4084aa871e9f4b63a4f6d58ec121d448"
      }
     },
     "6d817bd0f68049d483d5afcd59a95ae2": {
      "model_module": "@jupyter-widgets/controls",
      "model_module_version": "1.5.0",
      "model_name": "ButtonModel",
      "state": {
       "description": "Treat scan",
       "layout": "IPY_MODEL_d5d943af37cd48159872a435ddaebe7d",
       "style": "IPY_MODEL_7a6a19b2a3084fc7b51ea63bb8c2a931"
      }
     },
     "6db3bbaf7a144edba604ad8b6bb48ff3": {
      "model_module": "@jupyter-widgets/base",
      "model_module_version": "1.2.0",
      "model_name": "LayoutModel",
      "state": {}
     },
     "6e2c7b4801af44869a2a26e43b7895c4": {
      "model_module": "@jupyter-widgets/controls",
      "model_module_version": "1.5.0",
      "model_name": "DropdownModel",
      "state": {
       "_options_labels": [
        "SIRIUS_Fluo_2020_07_07_0070.nxs",
        "SIRIUS_Fluo_2020_02_16_02289.nxs",
        "SIRIUS_Fluo_2020_02_16_02288.nxs",
        "SIRIUS_Fluo_2020_02_13_02277.nxs",
        "SIRIUS_Fluo_2017_12_11_08042.nxs"
       ],
       "index": 0,
       "layout": "IPY_MODEL_53da538e2df34c7186640e88834f859d",
       "style": "IPY_MODEL_085a8464f87c4a8db49270d9247e5516"
      }
     },
     "6e3368f25c664f2797d29a8e8ec8b805": {
      "model_module": "@jupyter-widgets/base",
      "model_module_version": "1.2.0",
      "model_name": "LayoutModel",
      "state": {}
     },
     "6e6aeb81daed49d9b406cbb5d5d556da": {
      "model_module": "@jupyter-widgets/base",
      "model_module_version": "1.2.0",
      "model_name": "LayoutModel",
      "state": {
       "width": "200px"
      }
     },
     "6e918734cb5d42f88c4e1dfe7f162fc6": {
      "model_module": "@jupyter-widgets/controls",
      "model_module_version": "1.5.0",
      "model_name": "ButtonModel",
      "state": {
       "description": "Treat scan",
       "layout": "IPY_MODEL_1c5eb48148264f7d8a90ea9a83f5c242",
       "style": "IPY_MODEL_8bb99d62a763475899b757a33a0a2f9e"
      }
     },
     "6eba8229e74a4b50bc055dbb34187b13": {
      "model_module": "@jupyter-widgets/controls",
      "model_module_version": "1.5.0",
      "model_name": "ButtonStyleModel",
      "state": {}
     },
     "6ef032471acd4990a2f5eeb8f232b78f": {
      "model_module": "@jupyter-widgets/base",
      "model_module_version": "1.2.0",
      "model_name": "LayoutModel",
      "state": {}
     },
     "6f217b7cd8d347a388ab1600db278197": {
      "model_module": "@jupyter-widgets/controls",
      "model_module_version": "1.5.0",
      "model_name": "ButtonModel",
      "state": {
       "description": "Plot Pilatus",
       "layout": "IPY_MODEL_89eb07558f13420da620046d5c2e07c2",
       "style": "IPY_MODEL_73c271eb7b1c43ccb31814cbc01cd0c7"
      }
     },
     "6f295f8ab1004d6786744f3be127d457": {
      "model_module": "@jupyter-widgets/controls",
      "model_module_version": "1.5.0",
      "model_name": "HBoxModel",
      "state": {
       "children": [
        "IPY_MODEL_b81656e086724621967f6a2d39f1f0b1",
        "IPY_MODEL_b839a856c0a941358bd11a86d6b45f6c",
        "IPY_MODEL_f5c319b2eba24a1880bd4a16beb1bb25"
       ],
       "layout": "IPY_MODEL_28915567debb41e084f6564a0bdbfff8"
      }
     },
     "6f34e3175db445198dec13605578bc2a": {
      "model_module": "@jupyter-widgets/controls",
      "model_module_version": "1.5.0",
      "model_name": "ButtonModel",
      "state": {
       "description": "Next action",
       "layout": "IPY_MODEL_7094be2f22584c4bbf7b576dab1742c3",
       "style": "IPY_MODEL_b90e9141037e4957ac474c641e180282"
      }
     },
     "6f4451b41f834e05bb92c8128b8891c7": {
      "model_module": "@jupyter-widgets/base",
      "model_module_version": "1.2.0",
      "model_name": "LayoutModel",
      "state": {
       "width": "400px"
      }
     },
     "6f82080592de431394348505fa2e5472": {
      "model_module": "@jupyter-widgets/base",
      "model_module_version": "1.2.0",
      "model_name": "LayoutModel",
      "state": {
       "height": "40px",
       "width": "150px"
      }
     },
     "6fb7f723c56545769e4a595de997f99d": {
      "model_module": "@jupyter-widgets/controls",
      "model_module_version": "1.5.0",
      "model_name": "ButtonStyleModel",
      "state": {}
     },
     "6fdd2076871640f49f5e074f0956505f": {
      "model_module": "@jupyter-widgets/base",
      "model_module_version": "1.2.0",
      "model_name": "LayoutModel",
      "state": {}
     },
     "7094be2f22584c4bbf7b576dab1742c3": {
      "model_module": "@jupyter-widgets/base",
      "model_module_version": "1.2.0",
      "model_name": "LayoutModel",
      "state": {}
     },
     "70b785720cc44628ad858152a4b074bc": {
      "model_module": "@jupyter-widgets/base",
      "model_module_version": "1.2.0",
      "model_name": "LayoutModel",
      "state": {}
     },
     "70ee041ff087491b8af58fce71901cfc": {
      "model_module": "@jupyter-widgets/controls",
      "model_module_version": "1.5.0",
      "model_name": "ButtonStyleModel",
      "state": {}
     },
     "71299d7f602444879545395a1875fbbe": {
      "model_module": "@jupyter-widgets/controls",
      "model_module_version": "1.5.0",
      "model_name": "HBoxModel",
      "state": {
       "children": [
        "IPY_MODEL_b36a913026084c3084bb28a7e53a1285",
        "IPY_MODEL_a81c927887cb4c519ef7ded0e8a2011e",
        "IPY_MODEL_b91b56e76378454b8fa9c494e574bb5d"
       ],
       "layout": "IPY_MODEL_e8798a793fa244698a11419a2f6192d1"
      }
     },
     "7167e42733dd429e8cec0fe7fa2bc9ca": {
      "model_module": "@jupyter-widgets/controls",
      "model_module_version": "1.5.0",
      "model_name": "ButtonModel",
      "state": {
       "description": "Load params",
       "layout": "IPY_MODEL_cef629f2c43c4009b7ca19f591e20065",
       "style": "IPY_MODEL_22a1119379d345daa259af11107f18a9"
      }
     },
     "718b259d6a2b44f3b0427632ac5d147a": {
      "model_module": "@jupyter-widgets/controls",
      "model_module_version": "1.5.0",
      "model_name": "HBoxModel",
      "state": {
       "children": [
        "IPY_MODEL_aae2bb3a94c442699171bffd9f90d337",
        "IPY_MODEL_ef931ac1a421429fa97968ad4bf3f6f8"
       ],
       "layout": "IPY_MODEL_d50c3b53f9f441c18c28efcd29f35c52"
      }
     },
     "719b8dbb275e458db44093a6ce9b2b7c": {
      "model_module": "@jupyter-widgets/controls",
      "model_module_version": "1.5.0",
      "model_name": "ButtonModel",
      "state": {
       "description": "Refresh",
       "layout": "IPY_MODEL_2fec0d3d6f574c54bdeede36a50ac56f",
       "style": "IPY_MODEL_528cc3a5053c4891886cac07ca94f046"
      }
     },
     "71c76e2142c04abc8d0f64d30f2e092b": {
      "model_module": "@jupyter-widgets/controls",
      "model_module_version": "1.5.0",
      "model_name": "ButtonStyleModel",
      "state": {}
     },
     "7224ecb6e51641c3aa2b31dbaec8ac6d": {
      "model_module": "@jupyter-widgets/controls",
      "model_module_version": "1.5.0",
      "model_name": "ButtonModel",
      "state": {
       "description": "Load params",
       "layout": "IPY_MODEL_e1a618df47624c2086f91dd234ef003f",
       "style": "IPY_MODEL_e12f0697419d41819b851e5094dab88a"
      }
     },
     "727078bc1c4141868ac69c917d1d537f": {
      "model_module": "@jupyter-widgets/base",
      "model_module_version": "1.2.0",
      "model_name": "LayoutModel",
      "state": {
       "height": "40px",
       "width": "150px"
      }
     },
     "7318b61dd119454d83a39526a33cb747": {
      "model_module": "@jupyter-widgets/controls",
      "model_module_version": "1.5.0",
      "model_name": "HBoxModel",
      "state": {
       "children": [
        "IPY_MODEL_61ceb1ea348f424b9a8da70171316c3b",
        "IPY_MODEL_83d42647b55449488be819c31820f268"
       ],
       "layout": "IPY_MODEL_e35f97ef82014586a6847fcef07583c4"
      }
     },
     "736333bd48b7455b8fcba53a51966f1d": {
      "model_module": "@jupyter-widgets/controls",
      "model_module_version": "1.5.0",
      "model_name": "ButtonStyleModel",
      "state": {}
     },
     "737e37519ab04c6e812d1f5e5b8788dc": {
      "model_module": "@jupyter-widgets/base",
      "model_module_version": "1.2.0",
      "model_name": "LayoutModel",
      "state": {}
     },
     "73c271eb7b1c43ccb31814cbc01cd0c7": {
      "model_module": "@jupyter-widgets/controls",
      "model_module_version": "1.5.0",
      "model_name": "ButtonStyleModel",
      "state": {}
     },
     "73eaf39723804c3d891d6fb19e321900": {
      "model_module": "@jupyter-widgets/controls",
      "model_module_version": "1.5.0",
      "model_name": "ButtonStyleModel",
      "state": {}
     },
     "740780d35558438eb328acd2549f2daf": {
      "model_module": "@jupyter-widgets/base",
      "model_module_version": "1.2.0",
      "model_name": "LayoutModel",
      "state": {}
     },
     "7440d49117474ac594b367aebaf1e00a": {
      "model_module": "@jupyter-widgets/base",
      "model_module_version": "1.2.0",
      "model_name": "LayoutModel",
      "state": {}
     },
     "7464daaee26141caa4db99776c8a19ae": {
      "model_module": "@jupyter-widgets/base",
      "model_module_version": "1.2.0",
      "model_name": "LayoutModel",
      "state": {
       "height": "40px",
       "width": "150px"
      }
     },
     "7472e040f55c45a4a031a5e710f8414b": {
      "model_module": "@jupyter-widgets/controls",
      "model_module_version": "1.5.0",
      "model_name": "DescriptionStyleModel",
      "state": {
       "description_width": "initial"
      }
     },
     "74e3478b88a04c5396cbbaad72190936": {
      "model_module": "@jupyter-widgets/controls",
      "model_module_version": "1.5.0",
      "model_name": "DescriptionStyleModel",
      "state": {
       "description_width": "initial"
      }
     },
     "74e5a6a11aa0423799979aecf710aee4": {
      "model_module": "@jupyter-widgets/controls",
      "model_module_version": "1.5.0",
      "model_name": "ButtonStyleModel",
      "state": {}
     },
     "74ff2b15d9ce4e8aba6149e043c5690d": {
      "model_module": "@jupyter-widgets/base",
      "model_module_version": "1.2.0",
      "model_name": "LayoutModel",
      "state": {}
     },
     "751327728b9d43b2a031694be77dd62f": {
      "model_module": "@jupyter-widgets/controls",
      "model_module_version": "1.5.0",
      "model_name": "ButtonStyleModel",
      "state": {}
     },
     "75453fb3ba8d4c88a84efca8ffbac496": {
      "model_module": "@jupyter-widgets/controls",
      "model_module_version": "1.5.0",
      "model_name": "ButtonStyleModel",
      "state": {}
     },
     "75a1280f971849c0aa3afd1006fe951f": {
      "model_module": "@jupyter-widgets/controls",
      "model_module_version": "1.5.0",
      "model_name": "ButtonModel",
      "state": {
       "description": "Insert comment",
       "layout": "IPY_MODEL_f0308151c500427b8a43f48538bd2e96",
       "style": "IPY_MODEL_aed064ad7efa452fb11eb22c7bbe4dc7"
      }
     },
     "75b767f6137445ad87e53825af1eb12d": {
      "model_module": "@jupyter-widgets/controls",
      "model_module_version": "1.5.0",
      "model_name": "ButtonStyleModel",
      "state": {}
     },
     "7624a61f0b15488c934503c57a1621b0": {
      "model_module": "@jupyter-widgets/controls",
      "model_module_version": "1.5.0",
      "model_name": "ButtonModel",
      "state": {
       "description": "Export to pdf",
       "layout": "IPY_MODEL_d6aff22976f94d869db5fe927c2af2ff",
       "style": "IPY_MODEL_0483ce0a870846188c9454b68d353651"
      }
     },
     "767b01b843034b1b8d46263a7f2dad49": {
      "model_module": "@jupyter-widgets/controls",
      "model_module_version": "1.5.0",
      "model_name": "HBoxModel",
      "state": {
       "children": [
        "IPY_MODEL_5176be73aea04f9da7b0fc5c676d6a4b",
        "IPY_MODEL_a278be094bb24113b6fa4d486f0e9c99",
        "IPY_MODEL_121bd3521e1b4b7681f17563c2430f80"
       ],
       "layout": "IPY_MODEL_7c0344a99fed4c0dabb74e86c91c887c"
      }
     },
     "7699c6aae16d45a084ae6f4c2a552832": {
      "model_module": "@jupyter-widgets/controls",
      "model_module_version": "1.5.0",
      "model_name": "ButtonStyleModel",
      "state": {}
     },
     "76d2faccaa2847d0afd8f49dadae9edb": {
      "model_module": "@jupyter-widgets/base",
      "model_module_version": "1.2.0",
      "model_name": "LayoutModel",
      "state": {}
     },
     "76f307f3ec6e424fa4d9c5d7678660c9": {
      "model_module": "@jupyter-widgets/controls",
      "model_module_version": "1.5.0",
      "model_name": "ButtonModel",
      "state": {
       "description": "Fit with gaussian",
       "layout": "IPY_MODEL_b56d12f7c2254703ba69e54998247d83",
       "style": "IPY_MODEL_63f7e86bc61843ce83bb2c4da969bf3b"
      }
     },
     "7710a9db124d46b0bf402658e7ac58e5": {
      "model_module": "@jupyter-widgets/controls",
      "model_module_version": "1.5.0",
      "model_name": "ButtonStyleModel",
      "state": {}
     },
     "77387f4bf28d4ddcaf35a5f2c35761dc": {
      "model_module": "@jupyter-widgets/controls",
      "model_module_version": "1.5.0",
      "model_name": "ButtonModel",
      "state": {
       "description": "Refresh",
       "layout": "IPY_MODEL_76d2faccaa2847d0afd8f49dadae9edb",
       "style": "IPY_MODEL_0e0af9fd0032420fa965c00327873e77"
      }
     },
     "7797357e6eb5433899532c4c5299d14e": {
      "model_module": "@jupyter-widgets/controls",
      "model_module_version": "1.5.0",
      "model_name": "DescriptionStyleModel",
      "state": {
       "description_width": "initial"
      }
     },
     "77ad1dc510c14882aa32e685a98e3e80": {
      "model_module": "@jupyter-widgets/controls",
      "model_module_version": "1.5.0",
      "model_name": "ButtonModel",
      "state": {
       "description": "Export to pdf",
       "layout": "IPY_MODEL_9a78324b85164e57bb33608e99f597ea",
       "style": "IPY_MODEL_3227cff7cda74e648b675a7db70fb918"
      }
     },
     "77be0c92c0584ec38db8be9b1d96b009": {
      "model_module": "@jupyter-widgets/base",
      "model_module_version": "1.2.0",
      "model_name": "LayoutModel",
      "state": {
       "height": "40px",
       "width": "150px"
      }
     },
     "77e07a5d5ddc411cb0f5d176d78dba94": {
      "model_module": "@jupyter-widgets/controls",
      "model_module_version": "1.5.0",
      "model_name": "HBoxModel",
      "state": {
       "children": [
        "IPY_MODEL_d0866526c2aa4a21a409399f18d02879",
        "IPY_MODEL_f92547ea891044abacb3693dbb7b623f"
       ],
       "layout": "IPY_MODEL_24e4db4efa034deebd61e7fbb6b7711f"
      }
     },
     "781850f5750348b1b07afc016d465437": {
      "model_module": "@jupyter-widgets/base",
      "model_module_version": "1.2.0",
      "model_name": "LayoutModel",
      "state": {}
     },
     "7827d5f04e024902ad35907424493fb7": {
      "model_module": "@jupyter-widgets/base",
      "model_module_version": "1.2.0",
      "model_name": "LayoutModel",
      "state": {}
     },
     "7836ef0ab38c4eb9a4aa8ae1e48ef88f": {
      "model_module": "@jupyter-widgets/base",
      "model_module_version": "1.2.0",
      "model_name": "LayoutModel",
      "state": {}
     },
     "78894d156a724d19ba2d3be98f821904": {
      "model_module": "@jupyter-widgets/controls",
      "model_module_version": "1.5.0",
      "model_name": "ButtonStyleModel",
      "state": {}
     },
     "78bdfac37c9a494381064658e084058d": {
      "model_module": "@jupyter-widgets/controls",
      "model_module_version": "1.5.0",
      "model_name": "DescriptionStyleModel",
      "state": {
       "description_width": "initial"
      }
     },
     "78e9a36a74434fdc9d3cdcc672338592": {
      "model_module": "@jupyter-widgets/base",
      "model_module_version": "1.2.0",
      "model_name": "LayoutModel",
      "state": {
       "height": "40px",
       "width": "250px"
      }
     },
     "790423e64ec44b969cf50ca13909a0cb": {
      "model_module": "@jupyter-widgets/controls",
      "model_module_version": "1.5.0",
      "model_name": "ButtonStyleModel",
      "state": {}
     },
     "7987084a5dcb43b3a312c7568857d656": {
      "model_module": "@jupyter-widgets/controls",
      "model_module_version": "1.5.0",
      "model_name": "ButtonModel",
      "state": {
       "description": "Export to PDF",
       "layout": "IPY_MODEL_70b785720cc44628ad858152a4b074bc",
       "style": "IPY_MODEL_078dd042825149559853656cc8bf2dac"
      }
     },
     "79ac0ddca2254560afd208f2b41608e1": {
      "model_module": "@jupyter-widgets/base",
      "model_module_version": "1.2.0",
      "model_name": "LayoutModel",
      "state": {}
     },
     "79e702c3399b4ce8a960f31adf59873a": {
      "model_module": "@jupyter-widgets/base",
      "model_module_version": "1.2.0",
      "model_name": "LayoutModel",
      "state": {}
     },
     "7a0375f1d7e841cfbaff15ae5eaae536": {
      "model_module": "@jupyter-widgets/controls",
      "model_module_version": "1.5.0",
      "model_name": "ButtonStyleModel",
      "state": {}
     },
     "7a15a3dd2fb0409a8b0ac2ad5d791fde": {
      "model_module": "@jupyter-widgets/base",
      "model_module_version": "1.2.0",
      "model_name": "LayoutModel",
      "state": {
       "width": "200px"
      }
     },
     "7a69896cd5ed43d4a82a9bd23a65e74f": {
      "model_module": "@jupyter-widgets/controls",
      "model_module_version": "1.5.0",
      "model_name": "ButtonStyleModel",
      "state": {}
     },
     "7a6a19b2a3084fc7b51ea63bb8c2a931": {
      "model_module": "@jupyter-widgets/controls",
      "model_module_version": "1.5.0",
      "model_name": "ButtonStyleModel",
      "state": {}
     },
     "7aacab49871f4784a916f0c2754a672f": {
      "model_module": "@jupyter-widgets/base",
      "model_module_version": "1.2.0",
      "model_name": "LayoutModel",
      "state": {}
     },
     "7b1acc4e86ea4abd98f73a8f528da216": {
      "model_module": "@jupyter-widgets/controls",
      "model_module_version": "1.5.0",
      "model_name": "ButtonStyleModel",
      "state": {}
     },
     "7b274f27b41e46abbf6a526ab8ba2372": {
      "model_module": "@jupyter-widgets/controls",
      "model_module_version": "1.5.0",
      "model_name": "ButtonModel",
      "state": {
       "description": "Treat scan",
       "layout": "IPY_MODEL_a9ae0c4cdbcf4142a6bbdd40592b5557",
       "style": "IPY_MODEL_37afec5d4e794a489e041a116f29b10e"
      }
     },
     "7bfa9d7142b843a0a0e97365c66def0d": {
      "model_module": "@jupyter-widgets/base",
      "model_module_version": "1.2.0",
      "model_name": "LayoutModel",
      "state": {}
     },
     "7bfdb494f2f449668045ef41825a27d5": {
      "model_module": "@jupyter-widgets/base",
      "model_module_version": "1.2.0",
      "model_name": "LayoutModel",
      "state": {
       "height": "40px",
       "width": "200px"
      }
     },
     "7c0344a99fed4c0dabb74e86c91c887c": {
      "model_module": "@jupyter-widgets/base",
      "model_module_version": "1.2.0",
      "model_name": "LayoutModel",
      "state": {}
     },
     "7c36833ce32f47f19c9018023b0aa706": {
      "model_module": "@jupyter-widgets/base",
      "model_module_version": "1.2.0",
      "model_name": "LayoutModel",
      "state": {}
     },
     "7c8188103b694dca9c84d44ebb77f07a": {
      "model_module": "@jupyter-widgets/controls",
      "model_module_version": "1.5.0",
      "model_name": "ButtonStyleModel",
      "state": {}
     },
     "7c9ceeb2c213441fb28370ac95994a13": {
      "model_module": "@jupyter-widgets/output",
      "model_module_version": "1.0.0",
      "model_name": "OutputModel",
      "state": {
       "layout": "IPY_MODEL_6240c5193abd404fb7de9016482ea36d",
       "outputs": [
        {
         "ename": "NameError",
         "evalue": "name 'nxs_file' is not defined",
         "output_type": "error",
         "traceback": [
          "\u001b[0;31m---------------------------------------------------------------------------\u001b[0m",
          "\u001b[0;31mNameError\u001b[0m                                 Traceback (most recent call last)",
          "\u001b[0;32m~/anaconda3/lib/python3.8/site-packages/ipywidgets/widgets/interaction.py\u001b[0m in \u001b[0;36mupdate\u001b[0;34m(self, *args)\u001b[0m\n\u001b[1;32m    254\u001b[0m                     \u001b[0mvalue\u001b[0m \u001b[0;34m=\u001b[0m \u001b[0mwidget\u001b[0m\u001b[0;34m.\u001b[0m\u001b[0mget_interact_value\u001b[0m\u001b[0;34m(\u001b[0m\u001b[0;34m)\u001b[0m\u001b[0;34m\u001b[0m\u001b[0;34m\u001b[0m\u001b[0m\n\u001b[1;32m    255\u001b[0m                     \u001b[0mself\u001b[0m\u001b[0;34m.\u001b[0m\u001b[0mkwargs\u001b[0m\u001b[0;34m[\u001b[0m\u001b[0mwidget\u001b[0m\u001b[0;34m.\u001b[0m\u001b[0m_kwarg\u001b[0m\u001b[0;34m]\u001b[0m \u001b[0;34m=\u001b[0m \u001b[0mvalue\u001b[0m\u001b[0;34m\u001b[0m\u001b[0;34m\u001b[0m\u001b[0m\n\u001b[0;32m--> 256\u001b[0;31m                 \u001b[0mself\u001b[0m\u001b[0;34m.\u001b[0m\u001b[0mresult\u001b[0m \u001b[0;34m=\u001b[0m \u001b[0mself\u001b[0m\u001b[0;34m.\u001b[0m\u001b[0mf\u001b[0m\u001b[0;34m(\u001b[0m\u001b[0;34m**\u001b[0m\u001b[0mself\u001b[0m\u001b[0;34m.\u001b[0m\u001b[0mkwargs\u001b[0m\u001b[0;34m)\u001b[0m\u001b[0;34m\u001b[0m\u001b[0;34m\u001b[0m\u001b[0m\n\u001b[0m\u001b[1;32m    257\u001b[0m                 \u001b[0mshow_inline_matplotlib_plots\u001b[0m\u001b[0;34m(\u001b[0m\u001b[0;34m)\u001b[0m\u001b[0;34m\u001b[0m\u001b[0;34m\u001b[0m\u001b[0m\n\u001b[1;32m    258\u001b[0m                 \u001b[0;32mif\u001b[0m \u001b[0mself\u001b[0m\u001b[0;34m.\u001b[0m\u001b[0mauto_display\u001b[0m \u001b[0;32mand\u001b[0m \u001b[0mself\u001b[0m\u001b[0;34m.\u001b[0m\u001b[0mresult\u001b[0m \u001b[0;32mis\u001b[0m \u001b[0;32mnot\u001b[0m \u001b[0;32mNone\u001b[0m\u001b[0;34m:\u001b[0m\u001b[0;34m\u001b[0m\u001b[0;34m\u001b[0m\u001b[0m\n",
          "\u001b[0;32m~/Documents/Recherche/Depository/JupyFluo/lib/frontend/Action.py\u001b[0m in \u001b[0;36mselection_scans\u001b[0;34m(nxs_files)\u001b[0m\n\u001b[1;32m     98\u001b[0m \u001b[0;34m\u001b[0m\u001b[0m\n\u001b[1;32m     99\u001b[0m         \u001b[0;31m# Generate several identifiers for the scan\u001b[0m\u001b[0;34m\u001b[0m\u001b[0;34m\u001b[0m\u001b[0;34m\u001b[0m\u001b[0m\n\u001b[0;32m--> 100\u001b[0;31m         \u001b[0mscan\u001b[0m\u001b[0;34m.\u001b[0m\u001b[0mnxs\u001b[0m \u001b[0;34m=\u001b[0m \u001b[0mnxs_file\u001b[0m\u001b[0;34m\u001b[0m\u001b[0;34m\u001b[0m\u001b[0m\n\u001b[0m\u001b[1;32m    101\u001b[0m         \u001b[0mDefine_scan_identifiers\u001b[0m\u001b[0;34m(\u001b[0m\u001b[0mscan\u001b[0m\u001b[0;34m,\u001b[0m \u001b[0mexpt\u001b[0m\u001b[0;34m)\u001b[0m\u001b[0;34m\u001b[0m\u001b[0;34m\u001b[0m\u001b[0m\n\u001b[1;32m    102\u001b[0m \u001b[0;34m\u001b[0m\u001b[0m\n",
          "\u001b[0;31mNameError\u001b[0m: name 'nxs_file' is not defined"
         ]
        }
       ]
      }
     },
     "7d2ae51c894c44a4a01d7c7bbfa4d3dd": {
      "model_module": "@jupyter-widgets/base",
      "model_module_version": "1.2.0",
      "model_name": "LayoutModel",
      "state": {}
     },
     "7d3183afd8cd4c6fb968d2e400d2ec3d": {
      "model_module": "@jupyter-widgets/base",
      "model_module_version": "1.2.0",
      "model_name": "LayoutModel",
      "state": {
       "width": "100px"
      }
     },
     "7d3df47ed1e74f7e85553cc212505ced": {
      "model_module": "@jupyter-widgets/base",
      "model_module_version": "1.2.0",
      "model_name": "LayoutModel",
      "state": {}
     },
     "7d41a410c2714b9aaea035855feb1489": {
      "model_module": "@jupyter-widgets/controls",
      "model_module_version": "1.5.0",
      "model_name": "HBoxModel",
      "state": {
       "children": [
        "IPY_MODEL_3c6210ab2cec4a4897397ca2a2c64df0",
        "IPY_MODEL_c8253f46f8674c4c95c28af1513a0df4",
        "IPY_MODEL_601ebc4021114e2189568ba6a1421059"
       ],
       "layout": "IPY_MODEL_c3e925bba330469fa66617bf5a46c4b9"
      }
     },
     "7d5ca7b18f554083a46924ef23ff7c00": {
      "model_module": "@jupyter-widgets/controls",
      "model_module_version": "1.5.0",
      "model_name": "HBoxModel",
      "state": {
       "children": [
        "IPY_MODEL_653f6e7de2fb4ec1bbbcd789fa20e9df",
        "IPY_MODEL_37c35f9f8d0a46989186174bf88a9413"
       ],
       "layout": "IPY_MODEL_461f3fe1a6de42bc84e55cf0ef3bef35"
      }
     },
     "7d8d0c29c62e48b5af43502278f3844f": {
      "model_module": "@jupyter-widgets/controls",
      "model_module_version": "1.5.0",
      "model_name": "ButtonModel",
      "state": {
       "description": "Export to pdf",
       "layout": "IPY_MODEL_bda8a458fecd4e38afb3d7bd37b18684",
       "style": "IPY_MODEL_b80f659f39e248fe99aaa0f3a730d812"
      }
     },
     "7d8e39668f074f87b3700bc38da17907": {
      "model_module": "@jupyter-widgets/controls",
      "model_module_version": "1.5.0",
      "model_name": "ButtonStyleModel",
      "state": {}
     },
     "7dbc3a81fc5e4a94bc387dea5118006a": {
      "model_module": "@jupyter-widgets/base",
      "model_module_version": "1.2.0",
      "model_name": "LayoutModel",
      "state": {}
     },
     "7df947bf0e394fcbabdcb124431d1063": {
      "model_module": "@jupyter-widgets/controls",
      "model_module_version": "1.5.0",
      "model_name": "HBoxModel",
      "state": {
       "children": [
        "IPY_MODEL_b7a6a4b6fc454888a30c6375e1d61536",
        "IPY_MODEL_ef91c33d13754840a466fb12ca2430bf",
        "IPY_MODEL_914b617db45a4222b2394ff089026e45"
       ],
       "layout": "IPY_MODEL_28575226eead482ea4889c1328567f87"
      }
     },
     "7e1cdc5581d9429b8e43fc91b05450ab": {
      "model_module": "@jupyter-widgets/controls",
      "model_module_version": "1.5.0",
      "model_name": "ButtonModel",
      "state": {
       "description": "Insert comment",
       "layout": "IPY_MODEL_460e61a1fbe44016b7a552fc84f26263",
       "style": "IPY_MODEL_876d938a2d254a9d95705a4dcfe6e985"
      }
     },
     "7e2916a6652a44fd9376c05b55be4d5e": {
      "model_module": "@jupyter-widgets/controls",
      "model_module_version": "1.5.0",
      "model_name": "ButtonStyleModel",
      "state": {}
     },
     "7ea91b4285fc401b9cc021429f942ff5": {
      "model_module": "@jupyter-widgets/base",
      "model_module_version": "1.2.0",
      "model_name": "LayoutModel",
      "state": {}
     },
     "7efa04f40ec040eab39a90b6d0186818": {
      "model_module": "@jupyter-widgets/controls",
      "model_module_version": "1.5.0",
      "model_name": "ButtonModel",
      "state": {
       "description": "Add plot to report",
       "layout": "IPY_MODEL_8fd7df9cd350447683ecae9232efdcb0",
       "style": "IPY_MODEL_c3037b811eb641c5bb2a8e6959a40490"
      }
     },
     "7f5a643362834d6e9db74777928a2eb8": {
      "model_module": "@jupyter-widgets/controls",
      "model_module_version": "1.5.0",
      "model_name": "ButtonModel",
      "state": {
       "description": "Save current params as default",
       "layout": "IPY_MODEL_4f20cd49557546ffaa86a97af6092f9e",
       "style": "IPY_MODEL_c38c0f67911f4b60aaba367c5dabfffd"
      }
     },
     "7f5c543d41d94f71ba0abf6ec66f4b06": {
      "model_module": "@jupyter-widgets/controls",
      "model_module_version": "1.5.0",
      "model_name": "ButtonModel",
      "state": {
       "description": "Refresh",
       "layout": "IPY_MODEL_e2997b4136504b5db90fba9b776e94dc",
       "style": "IPY_MODEL_9ddc458bd912428c9a44294f328b4fb4"
      }
     },
     "7fb09e1cf4614feebac3563c33b7cd58": {
      "model_module": "@jupyter-widgets/controls",
      "model_module_version": "1.5.0",
      "model_name": "ButtonModel",
      "state": {
       "description": "Treat scan",
       "layout": "IPY_MODEL_3161dd2938cd4da2a33580f4e1ea11d6",
       "style": "IPY_MODEL_b83df066ae79439c96d65b5da16e2354"
      }
     },
     "7ff475bc93e84798a8a3df063b0d0588": {
      "model_module": "@jupyter-widgets/controls",
      "model_module_version": "1.5.0",
      "model_name": "HBoxModel",
      "state": {
       "children": [
        "IPY_MODEL_367c05616a7446e486e3b9b9e3ace35f",
        "IPY_MODEL_d8ba8b239d9e4b249b4c80e3b90ee7c9"
       ],
       "layout": "IPY_MODEL_b0ec3d181a184ec78cb229f32f563243"
      }
     },
     "8025fe6303db482f816c28dec44c6817": {
      "model_module": "@jupyter-widgets/controls",
      "model_module_version": "1.5.0",
      "model_name": "ButtonStyleModel",
      "state": {}
     },
     "804166013b0b40dfb558dfaa374e5f2d": {
      "model_module": "@jupyter-widgets/controls",
      "model_module_version": "1.5.0",
      "model_name": "ButtonStyleModel",
      "state": {}
     },
     "8079cc81c669487b9132b6d90070357d": {
      "model_module": "@jupyter-widgets/controls",
      "model_module_version": "1.5.0",
      "model_name": "ButtonStyleModel",
      "state": {}
     },
     "80bc9b79e1c4424db405109aedf457da": {
      "model_module": "@jupyter-widgets/controls",
      "model_module_version": "1.5.0",
      "model_name": "ButtonModel",
      "state": {
       "description": "Insert comment",
       "layout": "IPY_MODEL_5f2d25a8c293454fbfef4a26a03f01a4",
       "style": "IPY_MODEL_90c328879142476d9be0dee3b40ce4e6"
      }
     },
     "8121004575b641c2a8d335351d9fccc0": {
      "model_module": "@jupyter-widgets/controls",
      "model_module_version": "1.5.0",
      "model_name": "HBoxModel",
      "state": {
       "children": [
        "IPY_MODEL_a4ed83f55a314436ba16c47235e615ed",
        "IPY_MODEL_50a3e98da5ed4f0584223cd323596ef4",
        "IPY_MODEL_5daa5baa50b44bb881b5fd13d58724c0"
       ],
       "layout": "IPY_MODEL_5f7dcd299100411aad790e3658cfac1f"
      }
     },
     "815171225fd54dc6b7e633ef354d901e": {
      "model_module": "@jupyter-widgets/controls",
      "model_module_version": "1.5.0",
      "model_name": "ButtonStyleModel",
      "state": {}
     },
     "8161bc2290464f52a10393ca522d5131": {
      "model_module": "@jupyter-widgets/controls",
      "model_module_version": "1.5.0",
      "model_name": "ButtonStyleModel",
      "state": {}
     },
     "816dc42a504c4dd582ccbf919f99010b": {
      "model_module": "@jupyter-widgets/controls",
      "model_module_version": "1.5.0",
      "model_name": "ButtonModel",
      "state": {
       "description": "Load params",
       "layout": "IPY_MODEL_c4c2ba718751489599e8200787b5fe4e",
       "style": "IPY_MODEL_b2bc29c49b384ad7a5a73b3eb0914768"
      }
     },
     "817bdab092844f2c94037dddfb56ef4b": {
      "model_module": "@jupyter-widgets/controls",
      "model_module_version": "1.5.0",
      "model_name": "ButtonModel",
      "state": {
       "description": "Set params",
       "layout": "IPY_MODEL_f0e135d858c94dcda0251b3eba917696",
       "style": "IPY_MODEL_20aac713c2124acc8d5321954898f96a"
      }
     },
     "8184d52aec2e4d60bf82f468610a7fbb": {
      "model_module": "@jupyter-widgets/controls",
      "model_module_version": "1.5.0",
      "model_name": "ButtonStyleModel",
      "state": {}
     },
     "81900f76546147a384b315279c85efe2": {
      "model_module": "@jupyter-widgets/controls",
      "model_module_version": "1.5.0",
      "model_name": "ButtonModel",
      "state": {
       "description": "Plot XRF",
       "layout": "IPY_MODEL_97e49fb96a334b70b3551b3ed05f1f1d",
       "style": "IPY_MODEL_8d147c48eade4f868ce15e7295f3ba0a"
      }
     },
     "8204a729c5e549c3946118ea1d717166": {
      "model_module": "@jupyter-widgets/controls",
      "model_module_version": "1.5.0",
      "model_name": "ButtonStyleModel",
      "state": {}
     },
     "82275b81ee3a432cbf5f95491c37c461": {
      "model_module": "@jupyter-widgets/base",
      "model_module_version": "1.2.0",
      "model_name": "LayoutModel",
      "state": {}
     },
     "825a0a11dfab48beb34ed8547b30292e": {
      "model_module": "@jupyter-widgets/controls",
      "model_module_version": "1.5.0",
      "model_name": "ButtonModel",
      "state": {
       "description": "Insert comment",
       "layout": "IPY_MODEL_b8fc66cd0ae6467b81b3982877808b08",
       "style": "IPY_MODEL_59802583085e4c1bae352344dc413c34"
      }
     },
     "82738ac2b3c84945a06c213d873bf359": {
      "model_module": "@jupyter-widgets/controls",
      "model_module_version": "1.5.0",
      "model_name": "HBoxModel",
      "state": {
       "children": [
        "IPY_MODEL_1061d2334d8142dba1157f82a8b15b6e",
        "IPY_MODEL_7167e42733dd429e8cec0fe7fa2bc9ca",
        "IPY_MODEL_ed2828fb53304f58beb46573de276910"
       ],
       "layout": "IPY_MODEL_ba2354dc05b4426aa0f19b54b9071e76"
      }
     },
     "82f101bf198b4f47930304431afc320a": {
      "model_module": "@jupyter-widgets/base",
      "model_module_version": "1.2.0",
      "model_name": "LayoutModel",
      "state": {}
     },
     "837146caad8d4a008a50cc6c9b2d5423": {
      "model_module": "@jupyter-widgets/controls",
      "model_module_version": "1.5.0",
      "model_name": "ButtonModel",
      "state": {
       "description": "Export to PDF",
       "layout": "IPY_MODEL_0222a3b0d9734b06a5cc9ab74abc46a9",
       "style": "IPY_MODEL_8184d52aec2e4d60bf82f468610a7fbb"
      }
     },
     "837653cee8b54cd2879cc97de5da8225": {
      "model_module": "@jupyter-widgets/base",
      "model_module_version": "1.2.0",
      "model_name": "LayoutModel",
      "state": {
       "height": "40px",
       "width": "200px"
      }
     },
     "83d42647b55449488be819c31820f268": {
      "model_module": "@jupyter-widgets/controls",
      "model_module_version": "1.5.0",
      "model_name": "ButtonModel",
      "state": {
       "description": "Treat scan",
       "layout": "IPY_MODEL_af82e8f245c9417b91833fd7278d65fa",
       "style": "IPY_MODEL_ec640b48771d4cfe87faf046cb32118d"
      }
     },
     "83db0f32ab5947e18fbc0fcd0dd6b4ae": {
      "model_module": "@jupyter-widgets/base",
      "model_module_version": "1.2.0",
      "model_name": "LayoutModel",
      "state": {
       "width": "200px"
      }
     },
     "84a47b62367e482d9cb09f8c9f244523": {
      "model_module": "@jupyter-widgets/controls",
      "model_module_version": "1.5.0",
      "model_name": "DescriptionStyleModel",
      "state": {
       "description_width": "initial"
      }
     },
     "84b7676187524d6db2520b33a9b2e4e8": {
      "model_module": "@jupyter-widgets/controls",
      "model_module_version": "1.5.0",
      "model_name": "ButtonModel",
      "state": {
       "description": "Plot Pilatus",
       "layout": "IPY_MODEL_88f320fe06104e2cb6230e7516469513",
       "style": "IPY_MODEL_75b767f6137445ad87e53825af1eb12d"
      }
     },
     "84d767812aac430e82f1737b415fc2d4": {
      "model_module": "@jupyter-widgets/base",
      "model_module_version": "1.2.0",
      "model_name": "LayoutModel",
      "state": {
       "height": "40px",
       "width": "250px"
      }
     },
     "8549037b2a994b8a808935f600731f23": {
      "model_module": "@jupyter-widgets/controls",
      "model_module_version": "1.5.0",
      "model_name": "ButtonStyleModel",
      "state": {}
     },
     "86149e7a66764ea4a99a2f6abb633bfb": {
      "model_module": "@jupyter-widgets/controls",
      "model_module_version": "1.5.0",
      "model_name": "ButtonStyleModel",
      "state": {}
     },
     "86447bc5d2d04a6c918a09a32d0a519b": {
      "model_module": "@jupyter-widgets/base",
      "model_module_version": "1.2.0",
      "model_name": "LayoutModel",
      "state": {
       "width": "200px"
      }
     },
     "86581897de0948baaf85a5ea2a057046": {
      "model_module": "@jupyter-widgets/base",
      "model_module_version": "1.2.0",
      "model_name": "LayoutModel",
      "state": {
       "height": "40px",
       "width": "200px"
      }
     },
     "867a1cd92ebd475288d35631801300fc": {
      "model_module": "@jupyter-widgets/controls",
      "model_module_version": "1.5.0",
      "model_name": "HBoxModel",
      "state": {
       "children": [
        "IPY_MODEL_d95f3326f8f94090b436c4cc50919df3",
        "IPY_MODEL_352ba8d02eb94172bc62621522f9e948"
       ],
       "layout": "IPY_MODEL_cfbc6de6fb8c4e549643d0f368baaaf3"
      }
     },
     "86a325d0c3f04ea2a7469a402e0aa3c6": {
      "model_module": "@jupyter-widgets/controls",
      "model_module_version": "1.5.0",
      "model_name": "ButtonModel",
      "state": {
       "description": "Insert comment",
       "layout": "IPY_MODEL_47b8d789279e45d0adedc8bbc88feb79",
       "style": "IPY_MODEL_7d8e39668f074f87b3700bc38da17907"
      }
     },
     "86b82ef973214c5ba7351c64ed0a61de": {
      "model_module": "@jupyter-widgets/controls",
      "model_module_version": "1.5.0",
      "model_name": "ButtonStyleModel",
      "state": {}
     },
     "86dfafac3a4247b797fe8618e03bdf24": {
      "model_module": "@jupyter-widgets/base",
      "model_module_version": "1.2.0",
      "model_name": "LayoutModel",
      "state": {}
     },
     "86e256888f464610b338eba7aa1de659": {
      "model_module": "@jupyter-widgets/base",
      "model_module_version": "1.2.0",
      "model_name": "LayoutModel",
      "state": {}
     },
     "86ed33fbfe754bd3868c8abaf7779777": {
      "model_module": "@jupyter-widgets/controls",
      "model_module_version": "1.5.0",
      "model_name": "ButtonModel",
      "state": {
       "description": "Refresh",
       "layout": "IPY_MODEL_5f6a3d47081b43bb90af47f76e53d789",
       "style": "IPY_MODEL_a359ca72abb343cd9f461580a9f76e0a"
      }
     },
     "86ffa248848d48b0af554435b643b506": {
      "model_module": "@jupyter-widgets/controls",
      "model_module_version": "1.5.0",
      "model_name": "ButtonStyleModel",
      "state": {}
     },
     "876d938a2d254a9d95705a4dcfe6e985": {
      "model_module": "@jupyter-widgets/controls",
      "model_module_version": "1.5.0",
      "model_name": "ButtonStyleModel",
      "state": {}
     },
     "87d4927a6473458cb0ae4eb2dad391ea": {
      "model_module": "@jupyter-widgets/base",
      "model_module_version": "1.2.0",
      "model_name": "LayoutModel",
      "state": {}
     },
     "87e61791648c46c189af6435f6bf45ab": {
      "model_module": "@jupyter-widgets/base",
      "model_module_version": "1.2.0",
      "model_name": "LayoutModel",
      "state": {
       "height": "40px",
       "width": "300px"
      }
     },
     "87eafded65294384be75fc35ce000ce4": {
      "model_module": "@jupyter-widgets/base",
      "model_module_version": "1.2.0",
      "model_name": "LayoutModel",
      "state": {
       "height": "40px",
       "width": "200px"
      }
     },
     "88157abe030d49a18b98d36b6e5fa826": {
      "model_module": "@jupyter-widgets/base",
      "model_module_version": "1.2.0",
      "model_name": "LayoutModel",
      "state": {
       "height": "40px",
       "width": "200px"
      }
     },
     "88472243a85e4a7a9ed084f2d6cbbac6": {
      "model_module": "@jupyter-widgets/controls",
      "model_module_version": "1.5.0",
      "model_name": "ButtonModel",
      "state": {
       "description": "Treat scan",
       "layout": "IPY_MODEL_30dbd3e47812432789c56ffa3c04d972",
       "style": "IPY_MODEL_0eacc4f7e0b049ca82a9c8b42baa25c3"
      }
     },
     "889d601e2aa1444d973bb84c4b2be84f": {
      "model_module": "@jupyter-widgets/controls",
      "model_module_version": "1.5.0",
      "model_name": "HBoxModel",
      "state": {
       "children": [
        "IPY_MODEL_ad13edf64dbc4b7bacabfc36c4240a23",
        "IPY_MODEL_b419fbf88bff4a8bbfff2f9f3085d51e"
       ],
       "layout": "IPY_MODEL_79e702c3399b4ce8a960f31adf59873a"
      }
     },
     "88b49880ccc048d5ade61c157e631055": {
      "model_module": "@jupyter-widgets/controls",
      "model_module_version": "1.5.0",
      "model_name": "ButtonModel",
      "state": {
       "description": "Export to pdf",
       "layout": "IPY_MODEL_d5bd10026e52434d9d18189feb080974",
       "style": "IPY_MODEL_400cc2b19d984d24aa86b668566f30ad"
      }
     },
     "88f320fe06104e2cb6230e7516469513": {
      "model_module": "@jupyter-widgets/base",
      "model_module_version": "1.2.0",
      "model_name": "LayoutModel",
      "state": {}
     },
     "896c30c3bf6f4e1b9eabfaf1956a8bad": {
      "model_module": "@jupyter-widgets/base",
      "model_module_version": "1.2.0",
      "model_name": "LayoutModel",
      "state": {
       "width": "200px"
      }
     },
     "898187115ab64a5f956d3f2548116c0f": {
      "model_module": "@jupyter-widgets/controls",
      "model_module_version": "1.5.0",
      "model_name": "ButtonModel",
      "state": {
       "description": "Treat scan",
       "layout": "IPY_MODEL_f1d1a839589e4c41b3b69877ad8de13e",
       "style": "IPY_MODEL_86b82ef973214c5ba7351c64ed0a61de"
      }
     },
     "89eb07558f13420da620046d5c2e07c2": {
      "model_module": "@jupyter-widgets/base",
      "model_module_version": "1.2.0",
      "model_name": "LayoutModel",
      "state": {}
     },
     "8a117b825548435fb4c4d97b23426a93": {
      "model_module": "@jupyter-widgets/base",
      "model_module_version": "1.2.0",
      "model_name": "LayoutModel",
      "state": {
       "width": "400px"
      }
     },
     "8a406e136312439d870c275b366bba04": {
      "model_module": "@jupyter-widgets/controls",
      "model_module_version": "1.5.0",
      "model_name": "HBoxModel",
      "state": {
       "children": [
        "IPY_MODEL_5a07b80dd8414e978873dd6fe55e14d5",
        "IPY_MODEL_8ee6ba48eea9438a9888fac1244b2db4"
       ],
       "layout": "IPY_MODEL_ef0736da8c294b6b9368a75549531718"
      }
     },
     "8a68331b76d74f179e174cec82efe227": {
      "model_module": "@jupyter-widgets/controls",
      "model_module_version": "1.5.0",
      "model_name": "HBoxModel",
      "state": {
       "children": [
        "IPY_MODEL_f246ccc8126f44c1bb204e4214423cb1",
        "IPY_MODEL_c43ea55d5921407e8fb2210a4e7383c2"
       ],
       "layout": "IPY_MODEL_b36789f6935e4330b7221d64b6219511"
      }
     },
     "8a9583d530814b3f8398e710b0238f27": {
      "model_module": "@jupyter-widgets/base",
      "model_module_version": "1.2.0",
      "model_name": "LayoutModel",
      "state": {
       "height": "40px",
       "width": "250px"
      }
     },
     "8aa69ae8570e44f0b27ac1272d282413": {
      "model_module": "@jupyter-widgets/base",
      "model_module_version": "1.2.0",
      "model_name": "LayoutModel",
      "state": {
       "height": "40px",
       "width": "300px"
      }
     },
     "8ace1f4418f943e6a1ded655fbe82e5b": {
      "model_module": "@jupyter-widgets/controls",
      "model_module_version": "1.5.0",
      "model_name": "ButtonStyleModel",
      "state": {}
     },
     "8afd4a0b3f3d48c299b609339f0032d9": {
      "model_module": "@jupyter-widgets/base",
      "model_module_version": "1.2.0",
      "model_name": "LayoutModel",
      "state": {
       "height": "40px",
       "width": "150px"
      }
     },
     "8b5edd5e646a40beba5119a9032e142f": {
      "model_module": "@jupyter-widgets/controls",
      "model_module_version": "1.5.0",
      "model_name": "ButtonStyleModel",
      "state": {}
     },
     "8b7c4cf5bbae4ffa8babf93469cf8260": {
      "model_module": "@jupyter-widgets/controls",
      "model_module_version": "1.5.0",
      "model_name": "HBoxModel",
      "state": {
       "children": [
        "IPY_MODEL_022d5f5611bf41028ab3efff8b9d82d1",
        "IPY_MODEL_699089452d6b4ebe998f862cdb308308"
       ],
       "layout": "IPY_MODEL_9a6f23b70dcc4814b2243b3f400205c1"
      }
     },
     "8bb99d62a763475899b757a33a0a2f9e": {
      "model_module": "@jupyter-widgets/controls",
      "model_module_version": "1.5.0",
      "model_name": "ButtonStyleModel",
      "state": {}
     },
     "8bdc5e1cee954bf9934c69359ec9fc6f": {
      "model_module": "@jupyter-widgets/controls",
      "model_module_version": "1.5.0",
      "model_name": "ButtonStyleModel",
      "state": {}
     },
     "8be635638401473591a74d5c7caa4ac4": {
      "model_module": "@jupyter-widgets/controls",
      "model_module_version": "1.5.0",
      "model_name": "ButtonStyleModel",
      "state": {}
     },
     "8c4745f544a44f74ad46259b6628ad60": {
      "model_module": "@jupyter-widgets/base",
      "model_module_version": "1.2.0",
      "model_name": "LayoutModel",
      "state": {
       "height": "40px",
       "width": "300px"
      }
     },
     "8c758cb34dc1431781e184e94aabd60f": {
      "model_module": "@jupyter-widgets/base",
      "model_module_version": "1.2.0",
      "model_name": "LayoutModel",
      "state": {}
     },
     "8d147c48eade4f868ce15e7295f3ba0a": {
      "model_module": "@jupyter-widgets/controls",
      "model_module_version": "1.5.0",
      "model_name": "ButtonStyleModel",
      "state": {}
     },
     "8ea5ca642e8347e6aa9c29340ee9860f": {
      "model_module": "@jupyter-widgets/controls",
      "model_module_version": "1.5.0",
      "model_name": "ButtonModel",
      "state": {
       "description": "Plot GIXD",
       "layout": "IPY_MODEL_37fff89843b048f39f21c617dbfa5664",
       "style": "IPY_MODEL_dbfd70208c584df9ab4d041d062dc70d"
      }
     },
     "8ee6ba48eea9438a9888fac1244b2db4": {
      "model_module": "@jupyter-widgets/controls",
      "model_module_version": "1.5.0",
      "model_name": "ButtonModel",
      "state": {
       "description": "Next action",
       "layout": "IPY_MODEL_921aeec641324ef9909fe380e14981bb",
       "style": "IPY_MODEL_607944e3a3d8494b8ccd04544a4ced81"
      }
     },
     "8ef9a161de7642f4aa1498895361dcce": {
      "model_module": "@jupyter-widgets/base",
      "model_module_version": "1.2.0",
      "model_name": "LayoutModel",
      "state": {
       "width": "250px"
      }
     },
     "8f250a84a8c9419e87794c43dd0f43c9": {
      "model_module": "@jupyter-widgets/base",
      "model_module_version": "1.2.0",
      "model_name": "LayoutModel",
      "state": {}
     },
     "8f8a26aed4a541d08a3f2a04d8defa03": {
      "model_module": "@jupyter-widgets/base",
      "model_module_version": "1.2.0",
      "model_name": "LayoutModel",
      "state": {
       "width": "400px"
      }
     },
     "8fbc1eaccec64a46ad799c5f31fb92c4": {
      "model_module": "@jupyter-widgets/controls",
      "model_module_version": "1.5.0",
      "model_name": "ButtonModel",
      "state": {
       "description": "Save current params as default",
       "layout": "IPY_MODEL_d4dcf1f26bd34555ae0d649a7b20fefd",
       "style": "IPY_MODEL_591a533aca044c978161aacbb5910e17"
      }
     },
     "8fd17f5e50aa4db391d19a21f6e48ab6": {
      "model_module": "@jupyter-widgets/controls",
      "model_module_version": "1.5.0",
      "model_name": "ButtonModel",
      "state": {
       "description": "Analyze a new scan",
       "layout": "IPY_MODEL_ad857f3b6efe46e0a048a5d352445c4b",
       "style": "IPY_MODEL_d0989db14fe64a03b414a2f06ba96172"
      }
     },
     "8fd7df9cd350447683ecae9232efdcb0": {
      "model_module": "@jupyter-widgets/base",
      "model_module_version": "1.2.0",
      "model_name": "LayoutModel",
      "state": {}
     },
     "900db401cf704ec1a394346142d32279": {
      "model_module": "@jupyter-widgets/controls",
      "model_module_version": "1.5.0",
      "model_name": "ButtonModel",
      "state": {
       "description": "Plot isotherm",
       "layout": "IPY_MODEL_33dd6ab74652467aa439f83f69ed2673",
       "style": "IPY_MODEL_96f196fe808b42309faa7b8d8cba0731"
      }
     },
     "90a8bff69eb946feb91c6a1fb672b3a5": {
      "model_module": "@jupyter-widgets/base",
      "model_module_version": "1.2.0",
      "model_name": "LayoutModel",
      "state": {
       "height": "40px",
       "width": "300px"
      }
     },
     "90c328879142476d9be0dee3b40ce4e6": {
      "model_module": "@jupyter-widgets/controls",
      "model_module_version": "1.5.0",
      "model_name": "ButtonStyleModel",
      "state": {}
     },
     "90d5c317def349f79cbc6d17ca2f8b0a": {
      "model_module": "@jupyter-widgets/controls",
      "model_module_version": "1.5.0",
      "model_name": "ButtonStyleModel",
      "state": {}
     },
     "90d7ac6c40e6449682628f4662752a2f": {
      "model_module": "@jupyter-widgets/controls",
      "model_module_version": "1.5.0",
      "model_name": "ButtonModel",
      "state": {
       "description": "Treat scan",
       "layout": "IPY_MODEL_ee4e138dd3694a23a6572022ac201222",
       "style": "IPY_MODEL_a53bd024fda541bca7a01a54312b2371"
      }
     },
     "90ddfc7f7e764a7a82f893632f4b8eb1": {
      "model_module": "@jupyter-widgets/controls",
      "model_module_version": "1.5.0",
      "model_name": "ButtonStyleModel",
      "state": {}
     },
     "914b617db45a4222b2394ff089026e45": {
      "model_module": "@jupyter-widgets/controls",
      "model_module_version": "1.5.0",
      "model_name": "ButtonModel",
      "state": {
       "description": "Export to pdf",
       "layout": "IPY_MODEL_0cc0aa936891490e820ee1b0a25f74bc",
       "style": "IPY_MODEL_71c76e2142c04abc8d0f64d30f2e092b"
      }
     },
     "91a895af5e54471ab0d9c9f9d15c303b": {
      "model_module": "@jupyter-widgets/base",
      "model_module_version": "1.2.0",
      "model_name": "LayoutModel",
      "state": {
       "width": "400px"
      }
     },
     "91c25e41646e488db6a0d73d777fced5": {
      "model_module": "@jupyter-widgets/controls",
      "model_module_version": "1.5.0",
      "model_name": "ButtonStyleModel",
      "state": {}
     },
     "91c3c943c8b1476591fe5413350e7a8e": {
      "model_module": "@jupyter-widgets/base",
      "model_module_version": "1.2.0",
      "model_name": "LayoutModel",
      "state": {}
     },
     "9203bd5530fc4040853f92194718ecb9": {
      "model_module": "@jupyter-widgets/controls",
      "model_module_version": "1.5.0",
      "model_name": "ButtonStyleModel",
      "state": {}
     },
     "921aeec641324ef9909fe380e14981bb": {
      "model_module": "@jupyter-widgets/base",
      "model_module_version": "1.2.0",
      "model_name": "LayoutModel",
      "state": {}
     },
     "926306c1c9a5478fb7ce7b54680d06a4": {
      "model_module": "@jupyter-widgets/controls",
      "model_module_version": "1.5.0",
      "model_name": "ButtonStyleModel",
      "state": {}
     },
     "928deffad0a44203b3b22e526b9f128d": {
      "model_module": "@jupyter-widgets/base",
      "model_module_version": "1.2.0",
      "model_name": "LayoutModel",
      "state": {
       "height": "40px",
       "width": "200px"
      }
     },
     "92ab3ebd54f44ad7b9759f5f70937663": {
      "model_module": "@jupyter-widgets/controls",
      "model_module_version": "1.5.0",
      "model_name": "ButtonModel",
      "state": {
       "description": "Insert comment",
       "layout": "IPY_MODEL_a23c6914e05b469da47a8d255198c17a",
       "style": "IPY_MODEL_fd19f5a4a1ae4ac8b7824af63ee86bc7"
      }
     },
     "92cb5198892e4e57b8045ce05a09cae7": {
      "model_module": "@jupyter-widgets/base",
      "model_module_version": "1.2.0",
      "model_name": "LayoutModel",
      "state": {
       "height": "40px",
       "width": "150px"
      }
     },
     "92e4107ff2cb4f488b33406a75989305": {
      "model_module": "@jupyter-widgets/controls",
      "model_module_version": "1.5.0",
      "model_name": "ButtonModel",
      "state": {
       "description": "Save current params as default",
       "layout": "IPY_MODEL_b21ec9573f6b46bbb56ce208927b87c3",
       "style": "IPY_MODEL_bf9155d193e94ac094c599e8feb5982b"
      }
     },
     "92f014d4ae60408ab784c75e2fdb4081": {
      "model_module": "@jupyter-widgets/base",
      "model_module_version": "1.2.0",
      "model_name": "LayoutModel",
      "state": {}
     },
     "9326e8fe6fd547c28df6bfeca260f2b8": {
      "model_module": "@jupyter-widgets/base",
      "model_module_version": "1.2.0",
      "model_name": "LayoutModel",
      "state": {}
     },
     "9355ef2c45984bcd9a3e7c2510420d1c": {
      "model_module": "@jupyter-widgets/controls",
      "model_module_version": "1.5.0",
      "model_name": "ButtonStyleModel",
      "state": {}
     },
     "9370ca2c4c164e9e89b41e34684ea0c5": {
      "model_module": "@jupyter-widgets/controls",
      "model_module_version": "1.5.0",
      "model_name": "ButtonModel",
      "state": {
       "description": "Load params",
       "layout": "IPY_MODEL_a3c01728fc7a4dbd9d3332a88e422467",
       "style": "IPY_MODEL_e333044368d643dd80fa2a47313c1a08"
      }
     },
     "93819981b4b94d38866797855ee681d0": {
      "model_module": "@jupyter-widgets/controls",
      "model_module_version": "1.5.0",
      "model_name": "HBoxModel",
      "state": {
       "children": [
        "IPY_MODEL_696811f995304fc58a69e36a00d99ee3"
       ],
       "layout": "IPY_MODEL_bca491ef1a494e13ab225f2d4e5e55d9"
      }
     },
     "944acee030d848549b1c366fce9ee527": {
      "model_module": "@jupyter-widgets/base",
      "model_module_version": "1.2.0",
      "model_name": "LayoutModel",
      "state": {
       "width": "250px"
      }
     },
     "9451cb81ffdc43afa4d05c4bf0014bfa": {
      "model_module": "@jupyter-widgets/controls",
      "model_module_version": "1.5.0",
      "model_name": "ButtonStyleModel",
      "state": {}
     },
     "94bc2c70274349b181bdf16541b90600": {
      "model_module": "@jupyter-widgets/base",
      "model_module_version": "1.2.0",
      "model_name": "LayoutModel",
      "state": {}
     },
     "9512b5ce788a4037a8138d144daf0759": {
      "model_module": "@jupyter-widgets/controls",
      "model_module_version": "1.5.0",
      "model_name": "ButtonModel",
      "state": {
       "description": "Export to PDF",
       "layout": "IPY_MODEL_25352127f2a7498299c144e45c315ccb",
       "style": "IPY_MODEL_b0d0c7e5129d4473adf06c000b93e5cf"
      }
     },
     "9525c3594b4547b89cd0cf3c3507361f": {
      "model_module": "@jupyter-widgets/base",
      "model_module_version": "1.2.0",
      "model_name": "LayoutModel",
      "state": {}
     },
     "9542d0803f094850abb057983b2ff927": {
      "model_module": "@jupyter-widgets/controls",
      "model_module_version": "1.5.0",
      "model_name": "ButtonStyleModel",
      "state": {}
     },
     "9546d5d878834db9858a98b7a37162e2": {
      "model_module": "@jupyter-widgets/base",
      "model_module_version": "1.2.0",
      "model_name": "LayoutModel",
      "state": {
       "width": "400px"
      }
     },
     "95e973671f88452b9377c84bbf428ece": {
      "model_module": "@jupyter-widgets/controls",
      "model_module_version": "1.5.0",
      "model_name": "ButtonStyleModel",
      "state": {}
     },
     "95f35d28b4dd49cb912be7de4e866941": {
      "model_module": "@jupyter-widgets/controls",
      "model_module_version": "1.5.0",
      "model_name": "HBoxModel",
      "state": {
       "children": [
        "IPY_MODEL_ffb784a12a0c4958ae3c5186edf15063",
        "IPY_MODEL_6f34e3175db445198dec13605578bc2a"
       ],
       "layout": "IPY_MODEL_05bd43c2b05b4fa79874f183588606cd"
      }
     },
     "9601c417df3f4d02bcdd816c9da620c3": {
      "model_module": "@jupyter-widgets/base",
      "model_module_version": "1.2.0",
      "model_name": "LayoutModel",
      "state": {}
     },
     "960c48a4d6de4d9292d069c150daa6ed": {
      "model_module": "@jupyter-widgets/base",
      "model_module_version": "1.2.0",
      "model_name": "LayoutModel",
      "state": {}
     },
     "96196078e0984e058191bc7c227830fe": {
      "model_module": "@jupyter-widgets/controls",
      "model_module_version": "1.5.0",
      "model_name": "ButtonModel",
      "state": {
       "description": "Analyze a new scan",
       "layout": "IPY_MODEL_f0a1206ab48f4444b0f2231a6ed35750",
       "style": "IPY_MODEL_4674a03a34794556b7e032f97466a5e9"
      }
     },
     "9647f6ebfbaf4eddad4627465609649e": {
      "model_module": "@jupyter-widgets/controls",
      "model_module_version": "1.5.0",
      "model_name": "ButtonModel",
      "state": {
       "description": "Insert comment",
       "layout": "IPY_MODEL_11418603f30b4c82bb3d3f63547aa017",
       "style": "IPY_MODEL_d7f9fcce406f47e5abb11c34b5f76a3a"
      }
     },
     "965ad0e8ead64462b32670ba14cc2244": {
      "model_module": "@jupyter-widgets/controls",
      "model_module_version": "1.5.0",
      "model_name": "ButtonStyleModel",
      "state": {}
     },
     "96ea4cfd7d574bbda091857de960f03a": {
      "model_module": "@jupyter-widgets/controls",
      "model_module_version": "1.5.0",
      "model_name": "DropdownModel",
      "state": {
       "_options_labels": [
        "SIRIUS_Fluo_2020_07_07_0070.nxs",
        "SIRIUS_Fluo_2020_02_16_02289.nxs",
        "SIRIUS_Fluo_2020_02_16_02288.nxs",
        "SIRIUS_Fluo_2020_02_13_02277.nxs",
        "SIRIUS_Fluo_2017_12_11_08042.nxs"
       ],
       "description": "Select scan:",
       "index": 0,
       "layout": "IPY_MODEL_6f4451b41f834e05bb92c8128b8891c7",
       "style": "IPY_MODEL_276fab152aae4c36a105ab50c620d113"
      }
     },
     "96f196fe808b42309faa7b8d8cba0731": {
      "model_module": "@jupyter-widgets/controls",
      "model_module_version": "1.5.0",
      "model_name": "ButtonStyleModel",
      "state": {}
     },
     "96f4cdf365684a898852d8db2ee6ad2e": {
      "model_module": "@jupyter-widgets/base",
      "model_module_version": "1.2.0",
      "model_name": "LayoutModel",
      "state": {}
     },
     "96fa9bdfdbf04b4bb8f368f29ca82943": {
      "model_module": "@jupyter-widgets/controls",
      "model_module_version": "1.5.0",
      "model_name": "ButtonModel",
      "state": {
       "description": "Fit with erf",
       "layout": "IPY_MODEL_3ca46e58a03249789e149326b3f898c3",
       "style": "IPY_MODEL_cd5a1a9547584d5cad17f0e64ec76385"
      }
     },
     "971900bed9ce4f0e8f6b1102b314f902": {
      "model_module": "@jupyter-widgets/controls",
      "model_module_version": "1.5.0",
      "model_name": "ButtonStyleModel",
      "state": {}
     },
     "973649f7312b415980f4bdfb94237380": {
      "model_module": "@jupyter-widgets/base",
      "model_module_version": "1.2.0",
      "model_name": "LayoutModel",
      "state": {}
     },
     "9743774f63d44db3ad3f885857917d87": {
      "model_module": "@jupyter-widgets/base",
      "model_module_version": "1.2.0",
      "model_name": "LayoutModel",
      "state": {
       "height": "40px",
       "width": "200px"
      }
     },
     "97636eaa99c7413cb4ba29234df86744": {
      "model_module": "@jupyter-widgets/base",
      "model_module_version": "1.2.0",
      "model_name": "LayoutModel",
      "state": {}
     },
     "97e49fb96a334b70b3551b3ed05f1f1d": {
      "model_module": "@jupyter-widgets/base",
      "model_module_version": "1.2.0",
      "model_name": "LayoutModel",
      "state": {}
     },
     "982b45378bfa44989a8e89086eb69e65": {
      "model_module": "@jupyter-widgets/base",
      "model_module_version": "1.2.0",
      "model_name": "LayoutModel",
      "state": {}
     },
     "98353fa97fa346868ca3a342264d4445": {
      "model_module": "@jupyter-widgets/base",
      "model_module_version": "1.2.0",
      "model_name": "LayoutModel",
      "state": {
       "width": "400px"
      }
     },
     "98b618623716402e932dbc01e2dea672": {
      "model_module": "@jupyter-widgets/controls",
      "model_module_version": "1.5.0",
      "model_name": "ButtonStyleModel",
      "state": {}
     },
     "98f9132ce1c64bf5854cce24b5b7f902": {
      "model_module": "@jupyter-widgets/controls",
      "model_module_version": "1.5.0",
      "model_name": "DropdownModel",
      "state": {
       "_options_labels": [
        "SIRIUS_Fluo_2020_07_07_0070.nxs",
        "SIRIUS_Fluo_2020_02_16_02289.nxs",
        "SIRIUS_Fluo_2020_02_16_02288.nxs",
        "SIRIUS_Fluo_2020_02_13_02277.nxs",
        "SIRIUS_Fluo_2017_12_11_08042.nxs"
       ],
       "index": 0,
       "layout": "IPY_MODEL_fafe725c67474c43a83b010af7b76da7",
       "style": "IPY_MODEL_e4f6f3db6c304db79bfead1b3abf6572"
      }
     },
     "9942debb96b84827a687219df23a8ca4": {
      "model_module": "@jupyter-widgets/controls",
      "model_module_version": "1.5.0",
      "model_name": "ButtonModel",
      "state": {
       "description": "Export to PDF",
       "layout": "IPY_MODEL_ec5b26c353664a1a9b5ddf4eb0ee2542",
       "style": "IPY_MODEL_403fd17a878f449c98c5a6ed57dab7d4"
      }
     },
     "99c6b16540ea49279fecb1722cd6db80": {
      "model_module": "@jupyter-widgets/controls",
      "model_module_version": "1.5.0",
      "model_name": "ButtonModel",
      "state": {
       "description": "Add plot to report",
       "layout": "IPY_MODEL_2be139ef051e4f288bcdd01f95ca7ad1",
       "style": "IPY_MODEL_4640481877f244d3b15f65bc333f18b6"
      }
     },
     "9a3be34f42b0452c80320e587acc3e3f": {
      "model_module": "@jupyter-widgets/base",
      "model_module_version": "1.2.0",
      "model_name": "LayoutModel",
      "state": {}
     },
     "9a6f23b70dcc4814b2243b3f400205c1": {
      "model_module": "@jupyter-widgets/base",
      "model_module_version": "1.2.0",
      "model_name": "LayoutModel",
      "state": {}
     },
     "9a72052f9b394f309ffec94bac9e5d4d": {
      "model_module": "@jupyter-widgets/base",
      "model_module_version": "1.2.0",
      "model_name": "LayoutModel",
      "state": {}
     },
     "9a78324b85164e57bb33608e99f597ea": {
      "model_module": "@jupyter-widgets/base",
      "model_module_version": "1.2.0",
      "model_name": "LayoutModel",
      "state": {
       "width": "200px"
      }
     },
     "9b4a3a381283428f90279d8315715d2a": {
      "model_module": "@jupyter-widgets/controls",
      "model_module_version": "1.5.0",
      "model_name": "ButtonModel",
      "state": {
       "description": "Set params",
       "layout": "IPY_MODEL_3b9f518d450c45a2af4a21a85a4b96f8",
       "style": "IPY_MODEL_9e10f43965eb4dd69228b2fe30b4b68d"
      }
     },
     "9b867cc07d73413086e50eecb43f8648": {
      "model_module": "@jupyter-widgets/base",
      "model_module_version": "1.2.0",
      "model_name": "LayoutModel",
      "state": {}
     },
     "9b8d88d79f3d411ab33e27176c1fb0b2": {
      "model_module": "@jupyter-widgets/base",
      "model_module_version": "1.2.0",
      "model_name": "LayoutModel",
      "state": {}
     },
     "9ba7b783631a436886ace50a2e0b586b": {
      "model_module": "@jupyter-widgets/base",
      "model_module_version": "1.2.0",
      "model_name": "LayoutModel",
      "state": {}
     },
     "9bba594aacfc435094dc4eb2064a8461": {
      "model_module": "@jupyter-widgets/base",
      "model_module_version": "1.2.0",
      "model_name": "LayoutModel",
      "state": {
       "height": "40px",
       "width": "250px"
      }
     },
     "9c29ca5e49c14d3eae8f2d1a3700cfd2": {
      "model_module": "@jupyter-widgets/base",
      "model_module_version": "1.2.0",
      "model_name": "LayoutModel",
      "state": {}
     },
     "9c5574edba234da1a8a94e6ce316769f": {
      "model_module": "@jupyter-widgets/base",
      "model_module_version": "1.2.0",
      "model_name": "LayoutModel",
      "state": {
       "width": "200px"
      }
     },
     "9c67f9e0918c442c9c0d2488cb164e2d": {
      "model_module": "@jupyter-widgets/controls",
      "model_module_version": "1.5.0",
      "model_name": "ButtonStyleModel",
      "state": {}
     },
     "9c8194868ac34878b8ba66b36654b15e": {
      "model_module": "@jupyter-widgets/controls",
      "model_module_version": "1.5.0",
      "model_name": "ButtonStyleModel",
      "state": {}
     },
     "9cb862320376406b84b0f0ec71aed520": {
      "model_module": "@jupyter-widgets/base",
      "model_module_version": "1.2.0",
      "model_name": "LayoutModel",
      "state": {
       "height": "40px",
       "width": "300px"
      }
     },
     "9cdb9c46e7bb4bf48f702001f519aa2c": {
      "model_module": "@jupyter-widgets/controls",
      "model_module_version": "1.5.0",
      "model_name": "HBoxModel",
      "state": {
       "children": [
        "IPY_MODEL_ffb3c2cf8c234017a8b13ddd227f0121",
        "IPY_MODEL_898187115ab64a5f956d3f2548116c0f",
        "IPY_MODEL_414de05f2dd64177b7ae94acaf5f606d"
       ],
       "layout": "IPY_MODEL_f36391075ce448a782b31415ce8e7b88"
      }
     },
     "9cea173613bd4949ab3d0dae8d154f0f": {
      "model_module": "@jupyter-widgets/base",
      "model_module_version": "1.2.0",
      "model_name": "LayoutModel",
      "state": {}
     },
     "9d527a97c6e44c16900ac7d1c4cc719b": {
      "model_module": "@jupyter-widgets/controls",
      "model_module_version": "1.5.0",
      "model_name": "ButtonModel",
      "state": {
       "description": "Fit with gaussian",
       "layout": "IPY_MODEL_af7ecfe89d524456a60e961818c20b57",
       "style": "IPY_MODEL_804166013b0b40dfb558dfaa374e5f2d"
      }
     },
     "9d587089b72a4696a1204e3f337d25d2": {
      "model_module": "@jupyter-widgets/base",
      "model_module_version": "1.2.0",
      "model_name": "LayoutModel",
      "state": {
       "height": "40px",
       "width": "300px"
      }
     },
     "9d6100479001480c9efe463793f75bca": {
      "model_module": "@jupyter-widgets/controls",
      "model_module_version": "1.5.0",
      "model_name": "ButtonModel",
      "state": {
       "description": "Extract Vineyard",
       "layout": "IPY_MODEL_79ac0ddca2254560afd208f2b41608e1",
       "style": "IPY_MODEL_b48dfc46c9df4758b30008eef4926180"
      }
     },
     "9d652934a0eb458281ff9b03c03c5248": {
      "model_module": "@jupyter-widgets/controls",
      "model_module_version": "1.5.0",
      "model_name": "ButtonModel",
      "state": {
       "description": "Insert comment",
       "layout": "IPY_MODEL_43efc15e51f347cca604577140288b6e",
       "style": "IPY_MODEL_d4ea2ffd8faf44269ccc07e8b3577807"
      }
     },
     "9d6ac5efcedb4c8eaed8e5d2cbe1ee99": {
      "model_module": "@jupyter-widgets/controls",
      "model_module_version": "1.5.0",
      "model_name": "ButtonStyleModel",
      "state": {}
     },
     "9d78746e80b1460bbf7c6f9f4a7dcd4d": {
      "model_module": "@jupyter-widgets/controls",
      "model_module_version": "1.5.0",
      "model_name": "ButtonModel",
      "state": {
       "description": "Analyze a new scan",
       "layout": "IPY_MODEL_bd69a5760dcf4af6984b63fe49d56fc0",
       "style": "IPY_MODEL_9ea7b91c2e4440d2a7e175e156e8bea9"
      }
     },
     "9d948904f8e64569b2d10a047afb6a3e": {
      "model_module": "@jupyter-widgets/controls",
      "model_module_version": "1.5.0",
      "model_name": "ButtonStyleModel",
      "state": {}
     },
     "9ddc458bd912428c9a44294f328b4fb4": {
      "model_module": "@jupyter-widgets/controls",
      "model_module_version": "1.5.0",
      "model_name": "ButtonStyleModel",
      "state": {}
     },
     "9e0c0e43ae8d45c3bc62fceb58ba41d3": {
      "model_module": "@jupyter-widgets/controls",
      "model_module_version": "1.5.0",
      "model_name": "ButtonModel",
      "state": {
       "description": "Insert comment",
       "layout": "IPY_MODEL_2e9904d2e6924b66a6137dd8fc866ea3",
       "style": "IPY_MODEL_fb2ca4e35a7149d29b4735e6afb371e3"
      }
     },
     "9e10f43965eb4dd69228b2fe30b4b68d": {
      "model_module": "@jupyter-widgets/controls",
      "model_module_version": "1.5.0",
      "model_name": "ButtonStyleModel",
      "state": {}
     },
     "9e16ef70b7e44d68ae486b4e27ba63a3": {
      "model_module": "@jupyter-widgets/controls",
      "model_module_version": "1.5.0",
      "model_name": "ButtonStyleModel",
      "state": {}
     },
     "9e5f4594c562457d85dc08302db44792": {
      "model_module": "@jupyter-widgets/controls",
      "model_module_version": "1.5.0",
      "model_name": "ButtonStyleModel",
      "state": {}
     },
     "9e6da44e1c3442f294008f43528922fe": {
      "model_module": "@jupyter-widgets/controls",
      "model_module_version": "1.5.0",
      "model_name": "HBoxModel",
      "state": {
       "children": [
        "IPY_MODEL_96ea4cfd7d574bbda091857de960f03a",
        "IPY_MODEL_3635bcd608124e46b619eaf05c0f282f"
       ],
       "layout": "IPY_MODEL_c49628b4c7bc42b1b2093fd482464201"
      }
     },
     "9e776e454cb542e28a3672740b36254b": {
      "model_module": "@jupyter-widgets/controls",
      "model_module_version": "1.5.0",
      "model_name": "ButtonModel",
      "state": {
       "description": "Extract Vineyard",
       "layout": "IPY_MODEL_0289b1a2e3d043ffb2497f427a8b08ad",
       "style": "IPY_MODEL_ba480cedbad843ebbe7fc5d4b46ad908"
      }
     },
     "9ea5f4a2949a468fb51948922194ec3d": {
      "model_module": "@jupyter-widgets/base",
      "model_module_version": "1.2.0",
      "model_name": "LayoutModel",
      "state": {}
     },
     "9ea7b91c2e4440d2a7e175e156e8bea9": {
      "model_module": "@jupyter-widgets/controls",
      "model_module_version": "1.5.0",
      "model_name": "ButtonStyleModel",
      "state": {}
     },
     "9ea9d4dec60f444a89428439825b3ded": {
      "model_module": "@jupyter-widgets/controls",
      "model_module_version": "1.5.0",
      "model_name": "HBoxModel",
      "state": {
       "children": [
        "IPY_MODEL_f3d037bf1754434992247c535c74894b",
        "IPY_MODEL_88472243a85e4a7a9ed084f2d6cbbac6"
       ],
       "layout": "IPY_MODEL_9ba7b783631a436886ace50a2e0b586b"
      }
     },
     "9ee5b3415bbd49bf9a549e90e976cf26": {
      "model_module": "@jupyter-widgets/base",
      "model_module_version": "1.2.0",
      "model_name": "LayoutModel",
      "state": {
       "width": "200px"
      }
     },
     "9f0a229e24c843f5a6109d58c969444b": {
      "model_module": "@jupyter-widgets/controls",
      "model_module_version": "1.5.0",
      "model_name": "HBoxModel",
      "state": {
       "children": [
        "IPY_MODEL_5e27087b989e4c398d228e6718b2b5a4",
        "IPY_MODEL_ac10bd8913144cfc9c6bfa833748af8f"
       ],
       "layout": "IPY_MODEL_d5cdc3e0e63845959d1b227fe9f58720"
      }
     },
     "9f12b6f97e524d4096bcfdc1054fdbac": {
      "model_module": "@jupyter-widgets/controls",
      "model_module_version": "1.5.0",
      "model_name": "ButtonModel",
      "state": {
       "description": "Treat scan",
       "layout": "IPY_MODEL_9ea5f4a2949a468fb51948922194ec3d",
       "style": "IPY_MODEL_d484fd882c18422d814faa762cd24eab"
      }
     },
     "9f181de6291448bca3947ce9b45024ea": {
      "model_module": "@jupyter-widgets/controls",
      "model_module_version": "1.5.0",
      "model_name": "ButtonStyleModel",
      "state": {}
     },
     "9f32510d24a24f62b1e7cadcd36a221d": {
      "model_module": "@jupyter-widgets/controls",
      "model_module_version": "1.5.0",
      "model_name": "ButtonModel",
      "state": {
       "description": "Plot isotherm",
       "layout": "IPY_MODEL_92f014d4ae60408ab784c75e2fdb4081",
       "style": "IPY_MODEL_cd6975e17265422ba1fda0490e4490db"
      }
     },
     "9f61f226ae6a423999139f42415016af": {
      "model_module": "@jupyter-widgets/base",
      "model_module_version": "1.2.0",
      "model_name": "LayoutModel",
      "state": {}
     },
     "9f9ee0c167224a3ab38c91379022729f": {
      "model_module": "@jupyter-widgets/base",
      "model_module_version": "1.2.0",
      "model_name": "LayoutModel",
      "state": {}
     },
     "9fc08af32640451c81490501bb451e7b": {
      "model_module": "@jupyter-widgets/base",
      "model_module_version": "1.2.0",
      "model_name": "LayoutModel",
      "state": {}
     },
     "a030f831171342dcb70d8662075ff65e": {
      "model_module": "@jupyter-widgets/base",
      "model_module_version": "1.2.0",
      "model_name": "LayoutModel",
      "state": {}
     },
     "a06917cc6b4e4f3a901513efee8f5b1d": {
      "model_module": "@jupyter-widgets/base",
      "model_module_version": "1.2.0",
      "model_name": "LayoutModel",
      "state": {
       "width": "200px"
      }
     },
     "a086c6635e7240409d1db71063ba923a": {
      "model_module": "@jupyter-widgets/base",
      "model_module_version": "1.2.0",
      "model_name": "LayoutModel",
      "state": {}
     },
     "a122155980784612aa63ba787d4d5001": {
      "model_module": "@jupyter-widgets/controls",
      "model_module_version": "1.5.0",
      "model_name": "ButtonStyleModel",
      "state": {}
     },
     "a1315cae464249108846855cfdf67faf": {
      "model_module": "@jupyter-widgets/base",
      "model_module_version": "1.2.0",
      "model_name": "LayoutModel",
      "state": {}
     },
     "a13d4de29c2548fa980722c5d47f98e7": {
      "model_module": "@jupyter-widgets/controls",
      "model_module_version": "1.5.0",
      "model_name": "HBoxModel",
      "state": {
       "children": [
        "IPY_MODEL_c39820485f984cec9c4115fd9300b3bb",
        "IPY_MODEL_09b25caff40743b48251950b58720dfd",
        "IPY_MODEL_63c48655579b4654ac276d96493a3a17"
       ],
       "layout": "IPY_MODEL_91c3c943c8b1476591fe5413350e7a8e"
      }
     },
     "a1baa7598d5a4e59bba5426e437bf378": {
      "model_module": "@jupyter-widgets/controls",
      "model_module_version": "1.5.0",
      "model_name": "ButtonModel",
      "state": {
       "description": "Export to PDF",
       "layout": "IPY_MODEL_bf0546b937894b3eade61601ef9680f6",
       "style": "IPY_MODEL_f5ea0c35bee6443fbe05788fcc0c945e"
      }
     },
     "a1db22e8c9a54f459d21211453dd637e": {
      "model_module": "@jupyter-widgets/controls",
      "model_module_version": "1.5.0",
      "model_name": "ButtonModel",
      "state": {
       "description": "Plot isotherm",
       "layout": "IPY_MODEL_251e06aac3234a6293c7adff74e1c55d",
       "style": "IPY_MODEL_a2c2e35469e7407ebb8b52979a880e50"
      }
     },
     "a2374961004344d489fc5e3cdf0dba29": {
      "model_module": "@jupyter-widgets/base",
      "model_module_version": "1.2.0",
      "model_name": "LayoutModel",
      "state": {}
     },
     "a23c6914e05b469da47a8d255198c17a": {
      "model_module": "@jupyter-widgets/base",
      "model_module_version": "1.2.0",
      "model_name": "LayoutModel",
      "state": {}
     },
     "a278be094bb24113b6fa4d486f0e9c99": {
      "model_module": "@jupyter-widgets/controls",
      "model_module_version": "1.5.0",
      "model_name": "ButtonModel",
      "state": {
       "description": "Export to PDF",
       "layout": "IPY_MODEL_d538311947f14c2d96a901f7909344de",
       "style": "IPY_MODEL_c6046a991b4142ca88358a22a9f70d17"
      }
     },
     "a2a9e3f499924531a03961e7fdd0e593": {
      "model_module": "@jupyter-widgets/base",
      "model_module_version": "1.2.0",
      "model_name": "LayoutModel",
      "state": {
       "width": "200px"
      }
     },
     "a2c2e35469e7407ebb8b52979a880e50": {
      "model_module": "@jupyter-widgets/controls",
      "model_module_version": "1.5.0",
      "model_name": "ButtonStyleModel",
      "state": {}
     },
     "a2d18bb92faa4508a72fe1e1816091ad": {
      "model_module": "@jupyter-widgets/base",
      "model_module_version": "1.2.0",
      "model_name": "LayoutModel",
      "state": {}
     },
     "a3470d8ac5f54db18f9103e375f97ba1": {
      "model_module": "@jupyter-widgets/base",
      "model_module_version": "1.2.0",
      "model_name": "LayoutModel",
      "state": {}
     },
     "a359ca72abb343cd9f461580a9f76e0a": {
      "model_module": "@jupyter-widgets/controls",
      "model_module_version": "1.5.0",
      "model_name": "ButtonStyleModel",
      "state": {}
     },
     "a3c01728fc7a4dbd9d3332a88e422467": {
      "model_module": "@jupyter-widgets/base",
      "model_module_version": "1.2.0",
      "model_name": "LayoutModel",
      "state": {
       "width": "200px"
      }
     },
     "a415b75bf0e34d4f85ee61ec21c1b711": {
      "model_module": "@jupyter-widgets/base",
      "model_module_version": "1.2.0",
      "model_name": "LayoutModel",
      "state": {}
     },
     "a4277e5e52584170a2218e96fd233e9d": {
      "model_module": "@jupyter-widgets/controls",
      "model_module_version": "1.5.0",
      "model_name": "ButtonModel",
      "state": {
       "description": "Export to PDF",
       "layout": "IPY_MODEL_06c909e139cf4b29a9b047127733bf43",
       "style": "IPY_MODEL_a91324a135354ea78b96a9b00cdec177"
      }
     },
     "a42e717fcdd94519b8bcb463fcec80b8": {
      "model_module": "@jupyter-widgets/base",
      "model_module_version": "1.2.0",
      "model_name": "LayoutModel",
      "state": {}
     },
     "a44ac8803081475ebe8f77292d89b182": {
      "model_module": "@jupyter-widgets/controls",
      "model_module_version": "1.5.0",
      "model_name": "ButtonStyleModel",
      "state": {}
     },
     "a4739f33e72546cb904bae86f89dddde": {
      "model_module": "@jupyter-widgets/controls",
      "model_module_version": "1.5.0",
      "model_name": "DescriptionStyleModel",
      "state": {
       "description_width": "initial"
      }
     },
     "a4cc55ddc60d47618081749e3031db14": {
      "model_module": "@jupyter-widgets/controls",
      "model_module_version": "1.5.0",
      "model_name": "ButtonStyleModel",
      "state": {}
     },
     "a4ed83f55a314436ba16c47235e615ed": {
      "model_module": "@jupyter-widgets/controls",
      "model_module_version": "1.5.0",
      "model_name": "ButtonModel",
      "state": {
       "description": "Set params",
       "layout": "IPY_MODEL_35f6f262c1d34ca6aa886a30ee1dad89",
       "style": "IPY_MODEL_fb77febaa8994a69a9c5c2a0575a8c08"
      }
     },
     "a53bd024fda541bca7a01a54312b2371": {
      "model_module": "@jupyter-widgets/controls",
      "model_module_version": "1.5.0",
      "model_name": "ButtonStyleModel",
      "state": {}
     },
     "a5770adc43a3455c9b0a58454b90e392": {
      "model_module": "@jupyter-widgets/controls",
      "model_module_version": "1.5.0",
      "model_name": "ButtonStyleModel",
      "state": {}
     },
     "a584dbb4c8534d5089c3f38ffd0fe762": {
      "model_module": "@jupyter-widgets/base",
      "model_module_version": "1.2.0",
      "model_name": "LayoutModel",
      "state": {
       "width": "100px"
      }
     },
     "a5b84254ee7c402591e49e8327e244e5": {
      "model_module": "@jupyter-widgets/controls",
      "model_module_version": "1.5.0",
      "model_name": "ButtonModel",
      "state": {
       "description": "Plot GIXS",
       "layout": "IPY_MODEL_06615200001f49bf85c8e83c61a18ac3",
       "style": "IPY_MODEL_c8fc565ee09d491897e52c85f2e2fb55"
      }
     },
     "a5c211a35bac44969d39c231e1f99d5c": {
      "model_module": "@jupyter-widgets/controls",
      "model_module_version": "1.5.0",
      "model_name": "DropdownModel",
      "state": {
       "_options_labels": [
        "SIRIUS_Fluo_2020_07_07_0070.nxs",
        "SIRIUS_Fluo_2020_02_16_02289.nxs",
        "SIRIUS_Fluo_2020_02_16_02288.nxs",
        "SIRIUS_Fluo_2020_02_13_02277.nxs",
        "SIRIUS_Fluo_2017_12_11_08042.nxs"
       ],
       "description": "Select scan:",
       "index": 0,
       "layout": "IPY_MODEL_cbc4ab9d3b46462985af65a39c592a61",
       "style": "IPY_MODEL_5de2ef51770649109d8c2b7c9e48062b"
      }
     },
     "a6554d8bd4a14e488ff64bc32dd1e293": {
      "model_module": "@jupyter-widgets/controls",
      "model_module_version": "1.5.0",
      "model_name": "ButtonStyleModel",
      "state": {}
     },
     "a70a66861c2e431dbaecb8ab4aec5bc6": {
      "model_module": "@jupyter-widgets/controls",
      "model_module_version": "1.5.0",
      "model_name": "ButtonModel",
      "state": {
       "description": "Set params",
       "layout": "IPY_MODEL_d555b3d5934c4e419d8a61a0aeefce47",
       "style": "IPY_MODEL_3c733d8a365546b99dd9d9009dcaa326"
      }
     },
     "a70f9ed18d4f4495a1eedc939dc640fe": {
      "model_module": "@jupyter-widgets/base",
      "model_module_version": "1.2.0",
      "model_name": "LayoutModel",
      "state": {}
     },
     "a743b26abc244d18823e773e63a52178": {
      "model_module": "@jupyter-widgets/controls",
      "model_module_version": "1.5.0",
      "model_name": "ButtonModel",
      "state": {
       "description": "Plot GIXD",
       "layout": "IPY_MODEL_3ead066d37a3421081969c3930ec9d5e",
       "style": "IPY_MODEL_61feb1b6a49842a3a882fb0aea2af93c"
      }
     },
     "a7919c2c54534715b85c9d25716d4c99": {
      "model_module": "@jupyter-widgets/controls",
      "model_module_version": "1.5.0",
      "model_name": "ButtonStyleModel",
      "state": {}
     },
     "a7dc92877a2f40f0ba3e13630d9bc3b5": {
      "model_module": "@jupyter-widgets/base",
      "model_module_version": "1.2.0",
      "model_name": "LayoutModel",
      "state": {}
     },
     "a8004aec03da4b5690d086b0b60177f2": {
      "model_module": "@jupyter-widgets/base",
      "model_module_version": "1.2.0",
      "model_name": "LayoutModel",
      "state": {}
     },
     "a81c927887cb4c519ef7ded0e8a2011e": {
      "model_module": "@jupyter-widgets/controls",
      "model_module_version": "1.5.0",
      "model_name": "ButtonModel",
      "state": {
       "description": "Load params",
       "layout": "IPY_MODEL_ece14a57603345fabebf4b851adb60ed",
       "style": "IPY_MODEL_03245b13f0e543ba8b0d10a202dac7ff"
      }
     },
     "a861897eb3e9456396bad15f99beac01": {
      "model_module": "@jupyter-widgets/controls",
      "model_module_version": "1.5.0",
      "model_name": "ButtonStyleModel",
      "state": {}
     },
     "a86c0ec69bb2431a95fecfdad59bc35e": {
      "model_module": "@jupyter-widgets/controls",
      "model_module_version": "1.5.0",
      "model_name": "ButtonModel",
      "state": {
       "description": "Export to PDF",
       "layout": "IPY_MODEL_0a902a91cc984cbb87ad3ffe8a8ad56e",
       "style": "IPY_MODEL_36049cee35484be2a40d2ccbde7981a5"
      }
     },
     "a899c2b711b44e9a9d69d58b361529da": {
      "model_module": "@jupyter-widgets/controls",
      "model_module_version": "1.5.0",
      "model_name": "ButtonStyleModel",
      "state": {}
     },
     "a8b8b4ec931744bba28c88d9c175641b": {
      "model_module": "@jupyter-widgets/controls",
      "model_module_version": "1.5.0",
      "model_name": "ButtonStyleModel",
      "state": {}
     },
     "a90e265fc678433c8798e8e93c690db4": {
      "model_module": "@jupyter-widgets/base",
      "model_module_version": "1.2.0",
      "model_name": "LayoutModel",
      "state": {
       "height": "40px",
       "width": "250px"
      }
     },
     "a91324a135354ea78b96a9b00cdec177": {
      "model_module": "@jupyter-widgets/controls",
      "model_module_version": "1.5.0",
      "model_name": "ButtonStyleModel",
      "state": {}
     },
     "a91661b987bc4c448bf96ee98ded760f": {
      "model_module": "@jupyter-widgets/controls",
      "model_module_version": "1.5.0",
      "model_name": "ButtonModel",
      "state": {
       "description": "Save current params as default",
       "layout": "IPY_MODEL_8ef9a161de7642f4aa1498895361dcce",
       "style": "IPY_MODEL_fd3d5b54e7cc4cbf8f2493b387c87a12"
      }
     },
     "a9635508bb1843049c7df25cdae48681": {
      "model_module": "@jupyter-widgets/controls",
      "model_module_version": "1.5.0",
      "model_name": "ButtonStyleModel",
      "state": {}
     },
     "a96df854a1d34104b9d31bf0d1717a86": {
      "model_module": "@jupyter-widgets/base",
      "model_module_version": "1.2.0",
      "model_name": "LayoutModel",
      "state": {}
     },
     "a99fa227f25f4b6b9396d2e95e7115f8": {
      "model_module": "@jupyter-widgets/controls",
      "model_module_version": "1.5.0",
      "model_name": "ButtonStyleModel",
      "state": {}
     },
     "a9ae0c4cdbcf4142a6bbdd40592b5557": {
      "model_module": "@jupyter-widgets/base",
      "model_module_version": "1.2.0",
      "model_name": "LayoutModel",
      "state": {}
     },
     "a9c464b85fe04a73b859446e6fdff21c": {
      "model_module": "@jupyter-widgets/base",
      "model_module_version": "1.2.0",
      "model_name": "LayoutModel",
      "state": {}
     },
     "a9ebf8343ff542698bdb2fccc0f2ec16": {
      "model_module": "@jupyter-widgets/controls",
      "model_module_version": "1.5.0",
      "model_name": "ButtonStyleModel",
      "state": {}
     },
     "aa18ea7446e149ce84689755a6e08644": {
      "model_module": "@jupyter-widgets/base",
      "model_module_version": "1.2.0",
      "model_name": "LayoutModel",
      "state": {}
     },
     "aa5229e543b548b9a00aed0bc856ae74": {
      "model_module": "@jupyter-widgets/controls",
      "model_module_version": "1.5.0",
      "model_name": "ButtonModel",
      "state": {
       "description": "Save current params as default",
       "layout": "IPY_MODEL_3e8954a017364b679730a9fab5306da8",
       "style": "IPY_MODEL_6984545a881141a280f11ef4f343d664"
      }
     },
     "aa5e06dfdd2a4142819c4398fedb4633": {
      "model_module": "@jupyter-widgets/base",
      "model_module_version": "1.2.0",
      "model_name": "LayoutModel",
      "state": {
       "width": "200px"
      }
     },
     "aa628d77b2c840879e3b52a8a0efe0e5": {
      "model_module": "@jupyter-widgets/controls",
      "model_module_version": "1.5.0",
      "model_name": "ButtonModel",
      "state": {
       "description": "Save current params as default",
       "layout": "IPY_MODEL_de118370be284f21af64856324a7dfce",
       "style": "IPY_MODEL_3892bd9e1df640b09af55ee736ef0312"
      }
     },
     "aa675bd674994957b6779edc2ee43b50": {
      "model_module": "@jupyter-widgets/controls",
      "model_module_version": "1.5.0",
      "model_name": "ButtonModel",
      "state": {
       "description": "Load params",
       "layout": "IPY_MODEL_12a8e6dc462047eca8e00d88dee70daf",
       "style": "IPY_MODEL_971900bed9ce4f0e8f6b1102b314f902"
      }
     },
     "aabce73544d244b1880f8f57fb5ff12e": {
      "model_module": "@jupyter-widgets/base",
      "model_module_version": "1.2.0",
      "model_name": "LayoutModel",
      "state": {
       "width": "400px"
      }
     },
     "aae2bb3a94c442699171bffd9f90d337": {
      "model_module": "@jupyter-widgets/controls",
      "model_module_version": "1.5.0",
      "model_name": "DropdownModel",
      "state": {
       "_options_labels": [
        "SIRIUS_Fluo_2020_07_07_0070.nxs",
        "SIRIUS_Fluo_2020_02_16_02289.nxs",
        "SIRIUS_Fluo_2020_02_16_02288.nxs",
        "SIRIUS_Fluo_2020_02_13_02277.nxs",
        "SIRIUS_Fluo_2017_12_11_08042.nxs"
       ],
       "index": 0,
       "layout": "IPY_MODEL_aabce73544d244b1880f8f57fb5ff12e",
       "style": "IPY_MODEL_f70909ad5667423da985021b56061a00"
      }
     },
     "aaea016995894149962fa5e3f9b882dd": {
      "model_module": "@jupyter-widgets/base",
      "model_module_version": "1.2.0",
      "model_name": "LayoutModel",
      "state": {}
     },
     "aaefc027271c49f7843b7c975ae5195c": {
      "model_module": "@jupyter-widgets/base",
      "model_module_version": "1.2.0",
      "model_name": "LayoutModel",
      "state": {}
     },
     "aafec6d89c1d43918fd5ac19f18da1ba": {
      "model_module": "@jupyter-widgets/controls",
      "model_module_version": "1.5.0",
      "model_name": "ButtonModel",
      "state": {
       "description": "Insert comment",
       "layout": "IPY_MODEL_5090ab9220ae4a69a285beff940de2ad",
       "style": "IPY_MODEL_df6e583ab2c54e6382732086aeb7466b"
      }
     },
     "ab19c686b1b84f7aa0eb6b0b2d9d9f72": {
      "model_module": "@jupyter-widgets/controls",
      "model_module_version": "1.5.0",
      "model_name": "HBoxModel",
      "state": {
       "children": [
        "IPY_MODEL_5d410499e51a43d7b443a9d427436ed1",
        "IPY_MODEL_3e3573c928c0464e99b7c350b35bdf1f"
       ],
       "layout": "IPY_MODEL_0050e3f786c14d61ae6a18f3dc68e88f"
      }
     },
     "ab5a50096bab4b8c8a0c88026a0edc65": {
      "model_module": "@jupyter-widgets/base",
      "model_module_version": "1.2.0",
      "model_name": "LayoutModel",
      "state": {}
     },
     "ab667e6e9b6c4151b216ce9a42b05d0e": {
      "model_module": "@jupyter-widgets/controls",
      "model_module_version": "1.5.0",
      "model_name": "ButtonStyleModel",
      "state": {}
     },
     "ab925516f821482492cbed8caaf77f17": {
      "model_module": "@jupyter-widgets/controls",
      "model_module_version": "1.5.0",
      "model_name": "ButtonModel",
      "state": {
       "description": "Insert comment",
       "layout": "IPY_MODEL_daade1a90d2b436a8fec76559e1d9fdb",
       "style": "IPY_MODEL_736333bd48b7455b8fcba53a51966f1d"
      }
     },
     "abe764baa32d44a684e23ce8af61471c": {
      "model_module": "@jupyter-widgets/base",
      "model_module_version": "1.2.0",
      "model_name": "LayoutModel",
      "state": {}
     },
     "ac08a55520704b74a1281981a88cf57d": {
      "model_module": "@jupyter-widgets/base",
      "model_module_version": "1.2.0",
      "model_name": "LayoutModel",
      "state": {}
     },
     "ac101979f8da498bac7985f29fc91e56": {
      "model_module": "@jupyter-widgets/controls",
      "model_module_version": "1.5.0",
      "model_name": "ButtonStyleModel",
      "state": {}
     },
     "ac10bd8913144cfc9c6bfa833748af8f": {
      "model_module": "@jupyter-widgets/controls",
      "model_module_version": "1.5.0",
      "model_name": "ButtonModel",
      "state": {
       "description": "Treat scan",
       "layout": "IPY_MODEL_6fdd2076871640f49f5e074f0956505f",
       "style": "IPY_MODEL_d0e62f00829f4de08eb88f9ae5135b90"
      }
     },
     "ac228c878931456b8646105463da0a64": {
      "model_module": "@jupyter-widgets/base",
      "model_module_version": "1.2.0",
      "model_name": "LayoutModel",
      "state": {}
     },
     "ad13edf64dbc4b7bacabfc36c4240a23": {
      "model_module": "@jupyter-widgets/controls",
      "model_module_version": "1.5.0",
      "model_name": "ButtonModel",
      "state": {
       "description": "Treat scan",
       "layout": "IPY_MODEL_51a0f4c1d27544fd9769c92d3c8613dd",
       "style": "IPY_MODEL_e18e97400634479bbd0a18e55844ad96"
      }
     },
     "ad6016e780164ccaab207da8d0f086b4": {
      "model_module": "@jupyter-widgets/base",
      "model_module_version": "1.2.0",
      "model_name": "LayoutModel",
      "state": {}
     },
     "ad81123162dd4bfdb159b7680ae77387": {
      "model_module": "@jupyter-widgets/controls",
      "model_module_version": "1.5.0",
      "model_name": "ButtonModel",
      "state": {
       "description": "Refresh",
       "layout": "IPY_MODEL_f6a7b14f977546359c355ece031606ea",
       "style": "IPY_MODEL_d30905e8bdea4d738c3c44324c112209"
      }
     },
     "ad857f3b6efe46e0a048a5d352445c4b": {
      "model_module": "@jupyter-widgets/base",
      "model_module_version": "1.2.0",
      "model_name": "LayoutModel",
      "state": {
       "width": "200px"
      }
     },
     "addbe5c85fc64480933677e58d8fbe0f": {
      "model_module": "@jupyter-widgets/controls",
      "model_module_version": "1.5.0",
      "model_name": "ButtonModel",
      "state": {
       "description": "Plot GIXS",
       "layout": "IPY_MODEL_53b9339539ee48ee90dc868fefba3e2a",
       "style": "IPY_MODEL_1226adbe6dc5470cb07fa49bb7e8c080"
      }
     },
     "adfe983bc9234cb5b20936701ce7da40": {
      "model_module": "@jupyter-widgets/controls",
      "model_module_version": "1.5.0",
      "model_name": "ButtonModel",
      "state": {
       "description": "Insert comment",
       "layout": "IPY_MODEL_26ec7102aab7417ba185485ab19e6327",
       "style": "IPY_MODEL_e194498892ee457ca8e32f8d06ecc99b"
      }
     },
     "ae49ab57d47a4bb898dea739dcc73744": {
      "model_module": "@jupyter-widgets/controls",
      "model_module_version": "1.5.0",
      "model_name": "ButtonStyleModel",
      "state": {}
     },
     "ae5542aaf53e4cfdb6708adefe693b77": {
      "model_module": "@jupyter-widgets/controls",
      "model_module_version": "1.5.0",
      "model_name": "ButtonStyleModel",
      "state": {}
     },
     "ae6a329243e94cb9b15c189244ada56a": {
      "model_module": "@jupyter-widgets/base",
      "model_module_version": "1.2.0",
      "model_name": "LayoutModel",
      "state": {
       "width": "250px"
      }
     },
     "aed064ad7efa452fb11eb22c7bbe4dc7": {
      "model_module": "@jupyter-widgets/controls",
      "model_module_version": "1.5.0",
      "model_name": "ButtonStyleModel",
      "state": {}
     },
     "aef617cf154b440f8a384fc48bd88df9": {
      "model_module": "@jupyter-widgets/controls",
      "model_module_version": "1.5.0",
      "model_name": "ButtonModel",
      "state": {
       "description": "Refresh",
       "layout": "IPY_MODEL_e670256b263c4b4eaf3bb5bf9a4bfd60",
       "style": "IPY_MODEL_de3aa734345f49a0b7d452377549c0ef"
      }
     },
     "af15fc7f44804b52bee6e7d9cc61e68b": {
      "model_module": "@jupyter-widgets/base",
      "model_module_version": "1.2.0",
      "model_name": "LayoutModel",
      "state": {}
     },
     "af1fa45b66bf4348b00daf5e64d1b960": {
      "model_module": "@jupyter-widgets/controls",
      "model_module_version": "1.5.0",
      "model_name": "ButtonStyleModel",
      "state": {}
     },
     "af5c3b31febb47c69f51beb4dc6d341e": {
      "model_module": "@jupyter-widgets/base",
      "model_module_version": "1.2.0",
      "model_name": "LayoutModel",
      "state": {
       "width": "200px"
      }
     },
     "af6b52e46f274fc78090a01448951c3d": {
      "model_module": "@jupyter-widgets/base",
      "model_module_version": "1.2.0",
      "model_name": "LayoutModel",
      "state": {}
     },
     "af7ecfe89d524456a60e961818c20b57": {
      "model_module": "@jupyter-widgets/base",
      "model_module_version": "1.2.0",
      "model_name": "LayoutModel",
      "state": {}
     },
     "af82e8f245c9417b91833fd7278d65fa": {
      "model_module": "@jupyter-widgets/base",
      "model_module_version": "1.2.0",
      "model_name": "LayoutModel",
      "state": {}
     },
     "afbc4c33479f42119c55429578ee2af0": {
      "model_module": "@jupyter-widgets/base",
      "model_module_version": "1.2.0",
      "model_name": "LayoutModel",
      "state": {
       "height": "40px",
       "width": "200px"
      }
     },
     "afdacb7b77ea4dfcb4dabb77da7d86c8": {
      "model_module": "@jupyter-widgets/controls",
      "model_module_version": "1.5.0",
      "model_name": "ButtonModel",
      "state": {
       "description": "Export to pdf",
       "layout": "IPY_MODEL_48431775065241dfa97e12ba8fc7a432",
       "style": "IPY_MODEL_0a3b965cb26448e0b51016cbf040e755"
      }
     },
     "b0d0c7e5129d4473adf06c000b93e5cf": {
      "model_module": "@jupyter-widgets/controls",
      "model_module_version": "1.5.0",
      "model_name": "ButtonStyleModel",
      "state": {}
     },
     "b0ec3d181a184ec78cb229f32f563243": {
      "model_module": "@jupyter-widgets/base",
      "model_module_version": "1.2.0",
      "model_name": "LayoutModel",
      "state": {}
     },
     "b10a9c58dbf44066890e0fef463b40ee": {
      "model_module": "@jupyter-widgets/base",
      "model_module_version": "1.2.0",
      "model_name": "LayoutModel",
      "state": {}
     },
     "b10da8651b1c4873a1a60d2c238b458e": {
      "model_module": "@jupyter-widgets/controls",
      "model_module_version": "1.5.0",
      "model_name": "ButtonModel",
      "state": {
       "description": "Refresh",
       "layout": "IPY_MODEL_3271ba0167a745de8427d687a95cbab3",
       "style": "IPY_MODEL_a5770adc43a3455c9b0a58454b90e392"
      }
     },
     "b15ae6a9ff8f47a18b45d7baf2dd2be0": {
      "model_module": "@jupyter-widgets/base",
      "model_module_version": "1.2.0",
      "model_name": "LayoutModel",
      "state": {}
     },
     "b18d3db9da454ef8b14ebb0436b6d161": {
      "model_module": "@jupyter-widgets/base",
      "model_module_version": "1.2.0",
      "model_name": "LayoutModel",
      "state": {}
     },
     "b1dc2c0b1f2d40a287bde7ecd37abeee": {
      "model_module": "@jupyter-widgets/base",
      "model_module_version": "1.2.0",
      "model_name": "LayoutModel",
      "state": {}
     },
     "b21bc87b90714e548aa5e640681f61d3": {
      "model_module": "@jupyter-widgets/base",
      "model_module_version": "1.2.0",
      "model_name": "LayoutModel",
      "state": {}
     },
     "b21ec9573f6b46bbb56ce208927b87c3": {
      "model_module": "@jupyter-widgets/base",
      "model_module_version": "1.2.0",
      "model_name": "LayoutModel",
      "state": {
       "width": "250px"
      }
     },
     "b239c033e8ce4a909041d52a718e7232": {
      "model_module": "@jupyter-widgets/controls",
      "model_module_version": "1.5.0",
      "model_name": "ButtonModel",
      "state": {
       "description": "OK",
       "layout": "IPY_MODEL_7d3183afd8cd4c6fb968d2e400d2ec3d",
       "style": "IPY_MODEL_90ddfc7f7e764a7a82f893632f4b8eb1"
      }
     },
     "b24910fcbc0742318fa9f17f970d7fd1": {
      "model_module": "@jupyter-widgets/base",
      "model_module_version": "1.2.0",
      "model_name": "LayoutModel",
      "state": {}
     },
     "b27545599eb448c08adb7f8398b1e791": {
      "model_module": "@jupyter-widgets/controls",
      "model_module_version": "1.5.0",
      "model_name": "ButtonStyleModel",
      "state": {}
     },
     "b2bc29c49b384ad7a5a73b3eb0914768": {
      "model_module": "@jupyter-widgets/controls",
      "model_module_version": "1.5.0",
      "model_name": "ButtonStyleModel",
      "state": {}
     },
     "b2f19fc68dda4fc1a071c12f6b722fb7": {
      "model_module": "@jupyter-widgets/base",
      "model_module_version": "1.2.0",
      "model_name": "LayoutModel",
      "state": {
       "height": "40px",
       "width": "150px"
      }
     },
     "b2fd71b22c634645b588c3cb806044b1": {
      "model_module": "@jupyter-widgets/controls",
      "model_module_version": "1.5.0",
      "model_name": "ButtonStyleModel",
      "state": {}
     },
     "b36789f6935e4330b7221d64b6219511": {
      "model_module": "@jupyter-widgets/base",
      "model_module_version": "1.2.0",
      "model_name": "LayoutModel",
      "state": {}
     },
     "b36a913026084c3084bb28a7e53a1285": {
      "model_module": "@jupyter-widgets/controls",
      "model_module_version": "1.5.0",
      "model_name": "ButtonModel",
      "state": {
       "description": "Set params",
       "layout": "IPY_MODEL_0cdd261d747b477996b0a5fd525e2a48",
       "style": "IPY_MODEL_8be635638401473591a74d5c7caa4ac4"
      }
     },
     "b3a6e6b333aa465fbb7b2a4b96c2a16e": {
      "model_module": "@jupyter-widgets/controls",
      "model_module_version": "1.5.0",
      "model_name": "ButtonStyleModel",
      "state": {}
     },
     "b3b859e912014c0380c256e577122aa3": {
      "model_module": "@jupyter-widgets/base",
      "model_module_version": "1.2.0",
      "model_name": "LayoutModel",
      "state": {}
     },
     "b3e74d5f732f43d7a4e183aa71fb0082": {
      "model_module": "@jupyter-widgets/base",
      "model_module_version": "1.2.0",
      "model_name": "LayoutModel",
      "state": {
       "height": "40px",
       "width": "150px"
      }
     },
     "b419fbf88bff4a8bbfff2f9f3085d51e": {
      "model_module": "@jupyter-widgets/controls",
      "model_module_version": "1.5.0",
      "model_name": "ButtonModel",
      "state": {
       "description": "Refresh",
       "layout": "IPY_MODEL_6e3368f25c664f2797d29a8e8ec8b805",
       "style": "IPY_MODEL_2f838cac37da4ba8b07ed33c1e088357"
      }
     },
     "b47c8cfbd610472ba9248ad498c12b2c": {
      "model_module": "@jupyter-widgets/base",
      "model_module_version": "1.2.0",
      "model_name": "LayoutModel",
      "state": {}
     },
     "b48d924dd13c4a0c93a8c98613557da1": {
      "model_module": "@jupyter-widgets/controls",
      "model_module_version": "1.5.0",
      "model_name": "ButtonModel",
      "state": {
       "description": "Insert comment",
       "layout": "IPY_MODEL_5dff66bad84e4637ba08ea9fd6dcd4fc",
       "style": "IPY_MODEL_46e7bef1a15c4544a935c742f1657eb4"
      }
     },
     "b48dfc46c9df4758b30008eef4926180": {
      "model_module": "@jupyter-widgets/controls",
      "model_module_version": "1.5.0",
      "model_name": "ButtonStyleModel",
      "state": {}
     },
     "b49971f0f6874082ac425cebb721f360": {
      "model_module": "@jupyter-widgets/base",
      "model_module_version": "1.2.0",
      "model_name": "LayoutModel",
      "state": {}
     },
     "b4af5a61363c4e53a606a4702233b936": {
      "model_module": "@jupyter-widgets/base",
      "model_module_version": "1.2.0",
      "model_name": "LayoutModel",
      "state": {
       "height": "40px",
       "width": "200px"
      }
     },
     "b5580eb129fe4d3a8962d6ebb49b47de": {
      "model_module": "@jupyter-widgets/base",
      "model_module_version": "1.2.0",
      "model_name": "LayoutModel",
      "state": {}
     },
     "b56d12f7c2254703ba69e54998247d83": {
      "model_module": "@jupyter-widgets/base",
      "model_module_version": "1.2.0",
      "model_name": "LayoutModel",
      "state": {}
     },
     "b57600d55938456db79fc3a803322a75": {
      "model_module": "@jupyter-widgets/controls",
      "model_module_version": "1.5.0",
      "model_name": "HBoxModel",
      "state": {
       "children": [
        "IPY_MODEL_f39e93fc335843c9a13e8779841e66ee",
        "IPY_MODEL_fb2091a81ae244deb27312e72d701d68"
       ],
       "layout": "IPY_MODEL_4c504f6800ab4f369ed1b25037e9456d"
      }
     },
     "b57955c3164347189a63b977516d7c95": {
      "model_module": "@jupyter-widgets/controls",
      "model_module_version": "1.5.0",
      "model_name": "HBoxModel",
      "state": {
       "children": [
        "IPY_MODEL_f38e57dfa136414bbfe7c02f5c6c49ac",
        "IPY_MODEL_beeca162f3494676b06f181de4369eab",
        "IPY_MODEL_1e3b09bab12b4d6a9386d644dce510cf"
       ],
       "layout": "IPY_MODEL_b15ae6a9ff8f47a18b45d7baf2dd2be0"
      }
     },
     "b5c08eb51d71422d9bcd55987c11cb6d": {
      "model_module": "@jupyter-widgets/controls",
      "model_module_version": "1.5.0",
      "model_name": "ButtonModel",
      "state": {
       "description": "Insert comment",
       "layout": "IPY_MODEL_4a5d4a75ee0647349bf249e539717e5c",
       "style": "IPY_MODEL_da716a304b8e4c8db7137aab755d31a7"
      }
     },
     "b5c78e9771cc4b33a5819e68063e6a83": {
      "model_module": "@jupyter-widgets/controls",
      "model_module_version": "1.5.0",
      "model_name": "DescriptionStyleModel",
      "state": {
       "description_width": "initial"
      }
     },
     "b5cd57b72ddf4d778270827fa8082e6e": {
      "model_module": "@jupyter-widgets/base",
      "model_module_version": "1.2.0",
      "model_name": "LayoutModel",
      "state": {}
     },
     "b5d36baac79b49e9afbb42b91422f79a": {
      "model_module": "@jupyter-widgets/controls",
      "model_module_version": "1.5.0",
      "model_name": "ButtonStyleModel",
      "state": {}
     },
     "b6231d0f1db0481e911b657cc63b0aa3": {
      "model_module": "@jupyter-widgets/base",
      "model_module_version": "1.2.0",
      "model_name": "LayoutModel",
      "state": {}
     },
     "b65501cda1ed49689debb9a37eebf2ee": {
      "model_module": "@jupyter-widgets/base",
      "model_module_version": "1.2.0",
      "model_name": "LayoutModel",
      "state": {}
     },
     "b662e840e7cc4e88a4fbfc1b15522597": {
      "model_module": "@jupyter-widgets/base",
      "model_module_version": "1.2.0",
      "model_name": "LayoutModel",
      "state": {
       "height": "40px",
       "width": "200px"
      }
     },
     "b70593a16eb9450397bb4aff2cc681c8": {
      "model_module": "@jupyter-widgets/controls",
      "model_module_version": "1.5.0",
      "model_name": "ButtonModel",
      "state": {
       "description": "Analyze a new scan",
       "layout": "IPY_MODEL_5efeeb3062074973a53610f1c7fe55c3",
       "style": "IPY_MODEL_174bd277b55d41aea3809e02bedb288f"
      }
     },
     "b706867bbdec457881a20c58b5b5aad9": {
      "model_module": "@jupyter-widgets/controls",
      "model_module_version": "1.5.0",
      "model_name": "ButtonStyleModel",
      "state": {}
     },
     "b746ec391cf946c0942bf85d494d145c": {
      "model_module": "@jupyter-widgets/controls",
      "model_module_version": "1.5.0",
      "model_name": "ButtonModel",
      "state": {
       "description": "Refresh",
       "layout": "IPY_MODEL_321ac28cdb774b7e83a423d8edea3b44",
       "style": "IPY_MODEL_26f9eb37b5794756a229838659a9871f"
      }
     },
     "b77aebecdb8f4bee80db8e06e7da71b7": {
      "model_module": "@jupyter-widgets/base",
      "model_module_version": "1.2.0",
      "model_name": "LayoutModel",
      "state": {}
     },
     "b7a6a4b6fc454888a30c6375e1d61536": {
      "model_module": "@jupyter-widgets/controls",
      "model_module_version": "1.5.0",
      "model_name": "ButtonModel",
      "state": {
       "description": "Analyze a new scan",
       "layout": "IPY_MODEL_54cb712542254769a43e42a7e28f8d78",
       "style": "IPY_MODEL_6eba8229e74a4b50bc055dbb34187b13"
      }
     },
     "b80f659f39e248fe99aaa0f3a730d812": {
      "model_module": "@jupyter-widgets/controls",
      "model_module_version": "1.5.0",
      "model_name": "ButtonStyleModel",
      "state": {}
     },
     "b81656e086724621967f6a2d39f1f0b1": {
      "model_module": "@jupyter-widgets/controls",
      "model_module_version": "1.5.0",
      "model_name": "ButtonModel",
      "state": {
       "description": "Analyze a new scan",
       "layout": "IPY_MODEL_4cb5c8d90a594e55bcc3b698d0d2b579",
       "style": "IPY_MODEL_dcdc494c5ded4c3ead1633cc226e2d40"
      }
     },
     "b839a856c0a941358bd11a86d6b45f6c": {
      "model_module": "@jupyter-widgets/controls",
      "model_module_version": "1.5.0",
      "model_name": "ButtonModel",
      "state": {
       "description": "Insert comment",
       "layout": "IPY_MODEL_596135e2ac6c4cd3ac2cf43515e7c25f",
       "style": "IPY_MODEL_580090f0e3ca49a79ffeceb45d997b38"
      }
     },
     "b83df066ae79439c96d65b5da16e2354": {
      "model_module": "@jupyter-widgets/controls",
      "model_module_version": "1.5.0",
      "model_name": "ButtonStyleModel",
      "state": {}
     },
     "b8fc66cd0ae6467b81b3982877808b08": {
      "model_module": "@jupyter-widgets/base",
      "model_module_version": "1.2.0",
      "model_name": "LayoutModel",
      "state": {}
     },
     "b90e9141037e4957ac474c641e180282": {
      "model_module": "@jupyter-widgets/controls",
      "model_module_version": "1.5.0",
      "model_name": "ButtonStyleModel",
      "state": {}
     },
     "b91b56e76378454b8fa9c494e574bb5d": {
      "model_module": "@jupyter-widgets/controls",
      "model_module_version": "1.5.0",
      "model_name": "ButtonModel",
      "state": {
       "description": "Save current params as default",
       "layout": "IPY_MODEL_434f03744c404bedb60a93181e8fcf6c",
       "style": "IPY_MODEL_a6554d8bd4a14e488ff64bc32dd1e293"
      }
     },
     "b927ced5ce6c40069a2aaca3ef6689e1": {
      "model_module": "@jupyter-widgets/base",
      "model_module_version": "1.2.0",
      "model_name": "LayoutModel",
      "state": {
       "width": "400px"
      }
     },
     "b929ea0b411c4b7380f6c403c6811a01": {
      "model_module": "@jupyter-widgets/base",
      "model_module_version": "1.2.0",
      "model_name": "LayoutModel",
      "state": {
       "width": "200px"
      }
     },
     "b9be6338341546fd83c0b787af39f88b": {
      "model_module": "@jupyter-widgets/controls",
      "model_module_version": "1.5.0",
      "model_name": "ButtonStyleModel",
      "state": {}
     },
     "ba21ea7cee5d4c448db57d287c973dfb": {
      "model_module": "@jupyter-widgets/base",
      "model_module_version": "1.2.0",
      "model_name": "LayoutModel",
      "state": {}
     },
     "ba2354dc05b4426aa0f19b54b9071e76": {
      "model_module": "@jupyter-widgets/base",
      "model_module_version": "1.2.0",
      "model_name": "LayoutModel",
      "state": {}
     },
     "ba456fed829f4e2cb787da76d84bcc22": {
      "model_module": "@jupyter-widgets/controls",
      "model_module_version": "1.5.0",
      "model_name": "ButtonModel",
      "state": {
       "description": "Plot Pilatus",
       "layout": "IPY_MODEL_651812f73a58453c898da33c5626d89b",
       "style": "IPY_MODEL_43894016b46f4c4e95c890d7cb8f1af1"
      }
     },
     "ba480cedbad843ebbe7fc5d4b46ad908": {
      "model_module": "@jupyter-widgets/controls",
      "model_module_version": "1.5.0",
      "model_name": "ButtonStyleModel",
      "state": {}
     },
     "ba9bfafe75b34299994746cda9cd1f08": {
      "model_module": "@jupyter-widgets/base",
      "model_module_version": "1.2.0",
      "model_name": "LayoutModel",
      "state": {}
     },
     "baed5f6c30cf4bfc88d00811efad2799": {
      "model_module": "@jupyter-widgets/base",
      "model_module_version": "1.2.0",
      "model_name": "LayoutModel",
      "state": {
       "width": "250px"
      }
     },
     "bb2532f438624b8885663026d10219a8": {
      "model_module": "@jupyter-widgets/base",
      "model_module_version": "1.2.0",
      "model_name": "LayoutModel",
      "state": {}
     },
     "bb3e8552c5524279bb523c82e903bf95": {
      "model_module": "@jupyter-widgets/controls",
      "model_module_version": "1.5.0",
      "model_name": "HBoxModel",
      "state": {
       "children": [
        "IPY_MODEL_7f5c543d41d94f71ba0abf6ec66f4b06",
        "IPY_MODEL_5154ebe242f14f2a87c81c8d3206527f",
        "IPY_MODEL_1678525333ef4bc0a577361905389867"
       ],
       "layout": "IPY_MODEL_4d75d4821f784d59af463d2f754008e8"
      }
     },
     "bbe289f614ea4ed3877d248db42b175e": {
      "model_module": "@jupyter-widgets/base",
      "model_module_version": "1.2.0",
      "model_name": "LayoutModel",
      "state": {
       "width": "200px"
      }
     },
     "bbfaf104b8384c64a7adccd1d04378d9": {
      "model_module": "@jupyter-widgets/controls",
      "model_module_version": "1.5.0",
      "model_name": "ButtonModel",
      "state": {
       "description": "Refresh",
       "layout": "IPY_MODEL_f47ebeb108d54998aff0a634ffcab6bf",
       "style": "IPY_MODEL_6fb7f723c56545769e4a595de997f99d"
      }
     },
     "bc7bb8681bf64923a70a88f1ff3ce8e7": {
      "model_module": "@jupyter-widgets/base",
      "model_module_version": "1.2.0",
      "model_name": "LayoutModel",
      "state": {}
     },
     "bca491ef1a494e13ab225f2d4e5e55d9": {
      "model_module": "@jupyter-widgets/base",
      "model_module_version": "1.2.0",
      "model_name": "LayoutModel",
      "state": {}
     },
     "bccf372373af4c628295274398472507": {
      "model_module": "@jupyter-widgets/base",
      "model_module_version": "1.2.0",
      "model_name": "LayoutModel",
      "state": {
       "height": "40px",
       "width": "250px"
      }
     },
     "bcec898c114e46cdbc6a6972fef81bcb": {
      "model_module": "@jupyter-widgets/base",
      "model_module_version": "1.2.0",
      "model_name": "LayoutModel",
      "state": {}
     },
     "bd69a5760dcf4af6984b63fe49d56fc0": {
      "model_module": "@jupyter-widgets/base",
      "model_module_version": "1.2.0",
      "model_name": "LayoutModel",
      "state": {}
     },
     "bd6f128bd5054653ada0af1f56ced028": {
      "model_module": "@jupyter-widgets/controls",
      "model_module_version": "1.5.0",
      "model_name": "DescriptionStyleModel",
      "state": {
       "description_width": "initial"
      }
     },
     "bda8a458fecd4e38afb3d7bd37b18684": {
      "model_module": "@jupyter-widgets/base",
      "model_module_version": "1.2.0",
      "model_name": "LayoutModel",
      "state": {
       "width": "200px"
      }
     },
     "bdaafdb61d0c4165932d039786b09e80": {
      "model_module": "@jupyter-widgets/controls",
      "model_module_version": "1.5.0",
      "model_name": "ButtonModel",
      "state": {
       "description": "Export to PDF",
       "layout": "IPY_MODEL_7d3df47ed1e74f7e85553cc212505ced",
       "style": "IPY_MODEL_06b540a414274c65b87ad5df1047c201"
      }
     },
     "bdc25e61325b42f78aed7fec11ea467e": {
      "model_module": "@jupyter-widgets/base",
      "model_module_version": "1.2.0",
      "model_name": "LayoutModel",
      "state": {}
     },
     "bdf37c700c5c46d494622dde4f54c85a": {
      "model_module": "@jupyter-widgets/controls",
      "model_module_version": "1.5.0",
      "model_name": "ButtonModel",
      "state": {
       "description": "Plot Pilatus",
       "layout": "IPY_MODEL_20918e44ad944784b54e374486d193d1",
       "style": "IPY_MODEL_7a0375f1d7e841cfbaff15ae5eaae536"
      }
     },
     "be2bf4f9bbc94470abb916e1b265b475": {
      "model_module": "@jupyter-widgets/base",
      "model_module_version": "1.2.0",
      "model_name": "LayoutModel",
      "state": {}
     },
     "be7ffb22385c4b649f01c50e4ddf7359": {
      "model_module": "@jupyter-widgets/controls",
      "model_module_version": "1.5.0",
      "model_name": "ButtonStyleModel",
      "state": {}
     },
     "bebce0d3451743e6a34d1d82ed4d8398": {
      "model_module": "@jupyter-widgets/base",
      "model_module_version": "1.2.0",
      "model_name": "LayoutModel",
      "state": {
       "height": "40px",
       "width": "250px"
      }
     },
     "bec39d746b4043b3a8e08395474eeec0": {
      "model_module": "@jupyter-widgets/base",
      "model_module_version": "1.2.0",
      "model_name": "LayoutModel",
      "state": {}
     },
     "beec2d11da6b41f3a5a0019a3120fa3e": {
      "model_module": "@jupyter-widgets/controls",
      "model_module_version": "1.5.0",
      "model_name": "ButtonStyleModel",
      "state": {}
     },
     "beeca162f3494676b06f181de4369eab": {
      "model_module": "@jupyter-widgets/controls",
      "model_module_version": "1.5.0",
      "model_name": "ButtonModel",
      "state": {
       "description": "Insert comment",
       "layout": "IPY_MODEL_0b4d99cf44b24d72bcb9681dc3d887f2",
       "style": "IPY_MODEL_ac101979f8da498bac7985f29fc91e56"
      }
     },
     "bf0546b937894b3eade61601ef9680f6": {
      "model_module": "@jupyter-widgets/base",
      "model_module_version": "1.2.0",
      "model_name": "LayoutModel",
      "state": {}
     },
     "bf0d247def6b4a7fb73c5ed4e0f79f2b": {
      "model_module": "@jupyter-widgets/controls",
      "model_module_version": "1.5.0",
      "model_name": "ButtonModel",
      "state": {
       "description": "Treat scan",
       "layout": "IPY_MODEL_a415b75bf0e34d4f85ee61ec21c1b711",
       "style": "IPY_MODEL_53b93fde1bad4352b5cad296d8f308ff"
      }
     },
     "bf2eb61a149a46c3b435ef32ec174ab5": {
      "model_module": "@jupyter-widgets/controls",
      "model_module_version": "1.5.0",
      "model_name": "ButtonStyleModel",
      "state": {}
     },
     "bf3d63c262e148b6af30cd1df40392dd": {
      "model_module": "@jupyter-widgets/base",
      "model_module_version": "1.2.0",
      "model_name": "LayoutModel",
      "state": {
       "width": "400px"
      }
     },
     "bf9155d193e94ac094c599e8feb5982b": {
      "model_module": "@jupyter-widgets/controls",
      "model_module_version": "1.5.0",
      "model_name": "ButtonStyleModel",
      "state": {}
     },
     "bf91f12f340b4a25aaa82fe2ff79f91f": {
      "model_module": "@jupyter-widgets/base",
      "model_module_version": "1.2.0",
      "model_name": "LayoutModel",
      "state": {
       "height": "40px",
       "width": "250px"
      }
     },
     "bf93648cc6e34596b1df80723de16d03": {
      "model_module": "@jupyter-widgets/base",
      "model_module_version": "1.2.0",
      "model_name": "LayoutModel",
      "state": {}
     },
     "bfb91400d9a6496c8d5cacb67d624e61": {
      "model_module": "@jupyter-widgets/base",
      "model_module_version": "1.2.0",
      "model_name": "LayoutModel",
      "state": {}
     },
     "bfce16fd90bf4caea18a89bdc4f9ce38": {
      "model_module": "@jupyter-widgets/controls",
      "model_module_version": "1.5.0",
      "model_name": "ButtonStyleModel",
      "state": {}
     },
     "bff6e13d95694fa093bcdfe6f6c378c6": {
      "model_module": "@jupyter-widgets/controls",
      "model_module_version": "1.5.0",
      "model_name": "HBoxModel",
      "state": {
       "children": [
        "IPY_MODEL_06f76a1e137f427c9b978f475d890eff"
       ],
       "layout": "IPY_MODEL_9f61f226ae6a423999139f42415016af"
      }
     },
     "c00ff11dbcf04687acc6cfdcf13220a5": {
      "model_module": "@jupyter-widgets/base",
      "model_module_version": "1.2.0",
      "model_name": "LayoutModel",
      "state": {}
     },
     "c02dfe0e44544fb5bab061409e60957b": {
      "model_module": "@jupyter-widgets/controls",
      "model_module_version": "1.5.0",
      "model_name": "ButtonModel",
      "state": {
       "description": "Set params",
       "layout": "IPY_MODEL_f8feb55e594d439190d4b599da6c4a20",
       "style": "IPY_MODEL_8b5edd5e646a40beba5119a9032e142f"
      }
     },
     "c034aca0dea345e9843003ccd9c49255": {
      "model_module": "@jupyter-widgets/controls",
      "model_module_version": "1.5.0",
      "model_name": "ButtonStyleModel",
      "state": {}
     },
     "c03ad83fde594946a21e3c3fde58564a": {
      "model_module": "@jupyter-widgets/base",
      "model_module_version": "1.2.0",
      "model_name": "LayoutModel",
      "state": {}
     },
     "c0829353aaa14e10b328c0b4cbbb963a": {
      "model_module": "@jupyter-widgets/base",
      "model_module_version": "1.2.0",
      "model_name": "LayoutModel",
      "state": {
       "height": "40px",
       "width": "250px"
      }
     },
     "c0891b62b16f4a489e41d36bfd42f71d": {
      "model_module": "@jupyter-widgets/base",
      "model_module_version": "1.2.0",
      "model_name": "LayoutModel",
      "state": {
       "height": "40px",
       "width": "200px"
      }
     },
     "c0ce9c78e0e24ee787efd601f6ad9a26": {
      "model_module": "@jupyter-widgets/base",
      "model_module_version": "1.2.0",
      "model_name": "LayoutModel",
      "state": {
       "height": "40px",
       "width": "150px"
      }
     },
     "c0d0d10e60ec465da3600424d4580ac5": {
      "model_module": "@jupyter-widgets/controls",
      "model_module_version": "1.5.0",
      "model_name": "ButtonModel",
      "state": {
       "description": "Insert comment",
       "layout": "IPY_MODEL_6ef032471acd4990a2f5eeb8f232b78f",
       "style": "IPY_MODEL_312233f8faf04269b0a9391c5c2a6614"
      }
     },
     "c16a0599832b4ecaad5ef6c266120dde": {
      "model_module": "@jupyter-widgets/controls",
      "model_module_version": "1.5.0",
      "model_name": "ButtonStyleModel",
      "state": {}
     },
     "c172a43af68348f29435ee4d12a80d2f": {
      "model_module": "@jupyter-widgets/base",
      "model_module_version": "1.2.0",
      "model_name": "LayoutModel",
      "state": {}
     },
     "c194028ca23a45d899bb9c784e993a48": {
      "model_module": "@jupyter-widgets/controls",
      "model_module_version": "1.5.0",
      "model_name": "ButtonModel",
      "state": {
       "description": "Export to PDF",
       "layout": "IPY_MODEL_58847aa09a4a4a0980b13224cc7da42f",
       "style": "IPY_MODEL_66ba886c28a0448a9a275fa4809fb3f3"
      }
     },
     "c1dd9089e48f46208754b9bc9e7699df": {
      "model_module": "@jupyter-widgets/controls",
      "model_module_version": "1.5.0",
      "model_name": "ButtonModel",
      "state": {
       "description": "Next action",
       "layout": "IPY_MODEL_1433b5460551410cb085b04b2c2e12d1",
       "style": "IPY_MODEL_9e16ef70b7e44d68ae486b4e27ba63a3"
      }
     },
     "c1fc3d0a6735449696d3bde250b0dd72": {
      "model_module": "@jupyter-widgets/controls",
      "model_module_version": "1.5.0",
      "model_name": "ButtonModel",
      "state": {
       "description": "Treat scan",
       "layout": "IPY_MODEL_d58bb0b28f63446fbce922696f0de645",
       "style": "IPY_MODEL_5f1df0e17b0d473e8cc9e4402991659a"
      }
     },
     "c253e7481a694e9cab3f7f06822d837e": {
      "model_module": "@jupyter-widgets/controls",
      "model_module_version": "1.5.0",
      "model_name": "DescriptionStyleModel",
      "state": {
       "description_width": "initial"
      }
     },
     "c2618daf90294f43b46c4911610e92f9": {
      "model_module": "@jupyter-widgets/controls",
      "model_module_version": "1.5.0",
      "model_name": "HBoxModel",
      "state": {
       "children": [
        "IPY_MODEL_4d1fdd15cc854ca7b2ffe81c09a57e24",
        "IPY_MODEL_2ec7e087c22546ce87bfe012c4cdc203"
       ],
       "layout": "IPY_MODEL_ca92fd373d2d47b489fac14466c9d7c1"
      }
     },
     "c2c12aaaa09b4f1a9fd0c2b2703c874c": {
      "model_module": "@jupyter-widgets/controls",
      "model_module_version": "1.5.0",
      "model_name": "HBoxModel",
      "state": {
       "children": [
        "IPY_MODEL_c43ea55d5921407e8fb2210a4e7383c2",
        "IPY_MODEL_cd2849a4619243aca32eb8e79d12732a"
       ],
       "layout": "IPY_MODEL_1703924789014061974f853695c188e2"
      }
     },
     "c2eaf397bc6e42ebb28653c5d938fa2c": {
      "model_module": "@jupyter-widgets/controls",
      "model_module_version": "1.5.0",
      "model_name": "ButtonModel",
      "state": {
       "description": "Analyze a new scan",
       "layout": "IPY_MODEL_0d8c70999f8b47bdb81b7864f632156e",
       "style": "IPY_MODEL_7c8188103b694dca9c84d44ebb77f07a"
      }
     },
     "c3037b811eb641c5bb2a8e6959a40490": {
      "model_module": "@jupyter-widgets/controls",
      "model_module_version": "1.5.0",
      "model_name": "ButtonStyleModel",
      "state": {}
     },
     "c349e58e26c74b3db1115176807a6602": {
      "model_module": "@jupyter-widgets/controls",
      "model_module_version": "1.5.0",
      "model_name": "ButtonModel",
      "state": {
       "description": "Treat scan",
       "layout": "IPY_MODEL_699dcefc0ad947b9822b48b173eea308",
       "style": "IPY_MODEL_3eeb5847bec94356bb8a8fc9d646bd7f"
      }
     },
     "c353d86a19b14f80842e0d39264def01": {
      "model_module": "@jupyter-widgets/controls",
      "model_module_version": "1.5.0",
      "model_name": "ButtonModel",
      "state": {
       "description": "Export to PDF",
       "layout": "IPY_MODEL_d646058280ce4c5f804a9a6866ed6351",
       "style": "IPY_MODEL_010a4945cf94466b95e6cec306708d6d"
      }
     },
     "c38b840e5dbb466f9674617c79f69aa8": {
      "model_module": "@jupyter-widgets/controls",
      "model_module_version": "1.5.0",
      "model_name": "HBoxModel",
      "state": {
       "children": [
        "IPY_MODEL_fa68ec34eba040fb8609c9e0870d8329",
        "IPY_MODEL_0793a8d74b0d4cc693c4243621d0e03e",
        "IPY_MODEL_aa5229e543b548b9a00aed0bc856ae74"
       ],
       "layout": "IPY_MODEL_c98409d2d2fa4c9cb803bc9fe417c6b0"
      }
     },
     "c38c0f67911f4b60aaba367c5dabfffd": {
      "model_module": "@jupyter-widgets/controls",
      "model_module_version": "1.5.0",
      "model_name": "ButtonStyleModel",
      "state": {}
     },
     "c39820485f984cec9c4115fd9300b3bb": {
      "model_module": "@jupyter-widgets/controls",
      "model_module_version": "1.5.0",
      "model_name": "ButtonModel",
      "state": {
       "description": "Refresh",
       "layout": "IPY_MODEL_96f4cdf365684a898852d8db2ee6ad2e",
       "style": "IPY_MODEL_d0fc9ea5d8be48d08a447258fd41517d"
      }
     },
     "c39ac832d8ef4512901de1372242ef19": {
      "model_module": "@jupyter-widgets/controls",
      "model_module_version": "1.5.0",
      "model_name": "ButtonStyleModel",
      "state": {}
     },
     "c3c989cd1fc04c94a564d5bc103cb17d": {
      "model_module": "@jupyter-widgets/controls",
      "model_module_version": "1.5.0",
      "model_name": "DropdownModel",
      "state": {
       "_options_labels": [
        "SIRIUS_Fluo_2020_07_07_0070.nxs",
        "SIRIUS_Fluo_2020_02_16_02289.nxs",
        "SIRIUS_Fluo_2020_02_16_02288.nxs",
        "SIRIUS_Fluo_2020_02_13_02277.nxs",
        "SIRIUS_Fluo_2017_12_11_08042.nxs"
       ],
       "description": "Select scan:",
       "index": 0,
       "layout": "IPY_MODEL_d2959b176d90481eaa3c136508751801",
       "style": "IPY_MODEL_599f3caf1b09456b8e01b15135328d5e"
      }
     },
     "c3e925bba330469fa66617bf5a46c4b9": {
      "model_module": "@jupyter-widgets/base",
      "model_module_version": "1.2.0",
      "model_name": "LayoutModel",
      "state": {}
     },
     "c40409ad004046ccb8f5dd6275c1a3bc": {
      "model_module": "@jupyter-widgets/base",
      "model_module_version": "1.2.0",
      "model_name": "LayoutModel",
      "state": {
       "height": "40px",
       "width": "300px"
      }
     },
     "c405e9e197ed48be99f7a762843bd99b": {
      "model_module": "@jupyter-widgets/base",
      "model_module_version": "1.2.0",
      "model_name": "LayoutModel",
      "state": {
       "height": "40px",
       "width": "300px"
      }
     },
     "c432edb928be4dbc990bab0bb79998a6": {
      "model_module": "@jupyter-widgets/controls",
      "model_module_version": "1.5.0",
      "model_name": "ButtonStyleModel",
      "state": {}
     },
     "c43ea55d5921407e8fb2210a4e7383c2": {
      "model_module": "@jupyter-widgets/controls",
      "model_module_version": "1.5.0",
      "model_name": "ButtonModel",
      "state": {
       "description": "Analyze a new scan",
       "layout": "IPY_MODEL_b65501cda1ed49689debb9a37eebf2ee",
       "style": "IPY_MODEL_9355ef2c45984bcd9a3e7c2510420d1c"
      }
     },
     "c45d2faf18a647b9ae40e608c29ee13e": {
      "model_module": "@jupyter-widgets/controls",
      "model_module_version": "1.5.0",
      "model_name": "ButtonStyleModel",
      "state": {}
     },
     "c49349a954034b7db1e60147b1ecc871": {
      "model_module": "@jupyter-widgets/controls",
      "model_module_version": "1.5.0",
      "model_name": "ButtonStyleModel",
      "state": {}
     },
     "c49628b4c7bc42b1b2093fd482464201": {
      "model_module": "@jupyter-widgets/base",
      "model_module_version": "1.2.0",
      "model_name": "LayoutModel",
      "state": {}
     },
     "c49d09c7afb3495aa7f6318674872695": {
      "model_module": "@jupyter-widgets/base",
      "model_module_version": "1.2.0",
      "model_name": "LayoutModel",
      "state": {
       "width": "400px"
      }
     },
     "c4c11616c4c549bbb7d5140063409823": {
      "model_module": "@jupyter-widgets/base",
      "model_module_version": "1.2.0",
      "model_name": "LayoutModel",
      "state": {
       "height": "40px",
       "width": "250px"
      }
     },
     "c4c2ba718751489599e8200787b5fe4e": {
      "model_module": "@jupyter-widgets/base",
      "model_module_version": "1.2.0",
      "model_name": "LayoutModel",
      "state": {
       "width": "200px"
      }
     },
     "c52c7ba89ecf4926a68978390a745837": {
      "model_module": "@jupyter-widgets/base",
      "model_module_version": "1.2.0",
      "model_name": "LayoutModel",
      "state": {
       "height": "40px",
       "width": "150px"
      }
     },
     "c56b846b347e4b1bb70bb45bf249f151": {
      "model_module": "@jupyter-widgets/base",
      "model_module_version": "1.2.0",
      "model_name": "LayoutModel",
      "state": {}
     },
     "c58c6f0cecc240c9809c1caa627f31fd": {
      "model_module": "@jupyter-widgets/controls",
      "model_module_version": "1.5.0",
      "model_name": "ButtonModel",
      "state": {
       "description": "Extract Vineyard",
       "layout": "IPY_MODEL_606b9ae14ef44480bfc2e86f1fb3de05",
       "style": "IPY_MODEL_91c25e41646e488db6a0d73d777fced5"
      }
     },
     "c5a34b19aaf5414a924017944356d522": {
      "model_module": "@jupyter-widgets/controls",
      "model_module_version": "1.5.0",
      "model_name": "HBoxModel",
      "state": {
       "children": [
        "IPY_MODEL_b48d924dd13c4a0c93a8c98613557da1"
       ],
       "layout": "IPY_MODEL_0766d8e6f882405299e08d6bbf620183"
      }
     },
     "c6046a991b4142ca88358a22a9f70d17": {
      "model_module": "@jupyter-widgets/controls",
      "model_module_version": "1.5.0",
      "model_name": "ButtonStyleModel",
      "state": {}
     },
     "c62673e543bc4d119c94747d7565ac43": {
      "model_module": "@jupyter-widgets/controls",
      "model_module_version": "1.5.0",
      "model_name": "ButtonModel",
      "state": {
       "description": "Export to PDF",
       "layout": "IPY_MODEL_b18d3db9da454ef8b14ebb0436b6d161",
       "style": "IPY_MODEL_06797c9f5261473fa7d76717e37d8e74"
      }
     },
     "c6834be5821d43799f4c50b4ccb09d12": {
      "model_module": "@jupyter-widgets/base",
      "model_module_version": "1.2.0",
      "model_name": "LayoutModel",
      "state": {}
     },
     "c6c6253383b74c2eb32015185cbc7713": {
      "model_module": "@jupyter-widgets/controls",
      "model_module_version": "1.5.0",
      "model_name": "ButtonModel",
      "state": {
       "description": "Treat scan",
       "layout": "IPY_MODEL_0074d3dec869472689b7805acdfa69d2",
       "style": "IPY_MODEL_1d6bb0301f904096bf955fb1eed857b5"
      }
     },
     "c6f6573e95c74c2db86cbf8f614b3267": {
      "model_module": "@jupyter-widgets/controls",
      "model_module_version": "1.5.0",
      "model_name": "ButtonStyleModel",
      "state": {}
     },
     "c74a268a523648f3ab375bd6037b9517": {
      "model_module": "@jupyter-widgets/base",
      "model_module_version": "1.2.0",
      "model_name": "LayoutModel",
      "state": {
       "width": "400px"
      }
     },
     "c790de0934464d9cbaddaef203222f11": {
      "model_module": "@jupyter-widgets/controls",
      "model_module_version": "1.5.0",
      "model_name": "HBoxModel",
      "state": {
       "children": [
        "IPY_MODEL_f5b34d0545c74934aaa373286820dc31",
        "IPY_MODEL_3aa6a9489f1749fb983d65fcaf319643",
        "IPY_MODEL_61942df3aefa440e9e40ce122673534e"
       ],
       "layout": "IPY_MODEL_8f250a84a8c9419e87794c43dd0f43c9"
      }
     },
     "c7d639dea1bd4259b2768716cfb0a107": {
      "model_module": "@jupyter-widgets/base",
      "model_module_version": "1.2.0",
      "model_name": "LayoutModel",
      "state": {}
     },
     "c80216ca5f1647f7ab2933dd29ed5106": {
      "model_module": "@jupyter-widgets/controls",
      "model_module_version": "1.5.0",
      "model_name": "ButtonStyleModel",
      "state": {}
     },
     "c8253f46f8674c4c95c28af1513a0df4": {
      "model_module": "@jupyter-widgets/controls",
      "model_module_version": "1.5.0",
      "model_name": "ButtonModel",
      "state": {
       "description": "Export to PDF",
       "layout": "IPY_MODEL_7827d5f04e024902ad35907424493fb7",
       "style": "IPY_MODEL_05025fec487240168da8bc58e89e8115"
      }
     },
     "c84bb39b4128431db962317040e897e0": {
      "model_module": "@jupyter-widgets/controls",
      "model_module_version": "1.5.0",
      "model_name": "ButtonModel",
      "state": {
       "description": "Export to PDF",
       "layout": "IPY_MODEL_cfe8d915e49340eb83252cb0031e7d17",
       "style": "IPY_MODEL_e70c0d3e3fed462d8d935eaebebb09e1"
      }
     },
     "c8a1a739ee9a4fb4a93b05e84c23946b": {
      "model_module": "@jupyter-widgets/base",
      "model_module_version": "1.2.0",
      "model_name": "LayoutModel",
      "state": {}
     },
     "c8e4bd415f0e4681995a2332ed6a1067": {
      "model_module": "@jupyter-widgets/base",
      "model_module_version": "1.2.0",
      "model_name": "LayoutModel",
      "state": {}
     },
     "c8f7e947012b49a0bea3644e2f03d93a": {
      "model_module": "@jupyter-widgets/base",
      "model_module_version": "1.2.0",
      "model_name": "LayoutModel",
      "state": {}
     },
     "c8fc565ee09d491897e52c85f2e2fb55": {
      "model_module": "@jupyter-widgets/controls",
      "model_module_version": "1.5.0",
      "model_name": "ButtonStyleModel",
      "state": {}
     },
     "c921123bb9f94dceb3be68d8ab3e7ab5": {
      "model_module": "@jupyter-widgets/base",
      "model_module_version": "1.2.0",
      "model_name": "LayoutModel",
      "state": {}
     },
     "c98409d2d2fa4c9cb803bc9fe417c6b0": {
      "model_module": "@jupyter-widgets/base",
      "model_module_version": "1.2.0",
      "model_name": "LayoutModel",
      "state": {}
     },
     "c9f18b5c70f1424da32840cce9a9a910": {
      "model_module": "@jupyter-widgets/base",
      "model_module_version": "1.2.0",
      "model_name": "LayoutModel",
      "state": {
       "width": "400px"
      }
     },
     "c9feece6ba13480ab056a36b964fc250": {
      "model_module": "@jupyter-widgets/controls",
      "model_module_version": "1.5.0",
      "model_name": "ButtonStyleModel",
      "state": {}
     },
     "ca13e3e85afe4405b02c21d712e831f4": {
      "model_module": "@jupyter-widgets/controls",
      "model_module_version": "1.5.0",
      "model_name": "ButtonModel",
      "state": {
       "description": "Insert comment",
       "layout": "IPY_MODEL_97636eaa99c7413cb4ba29234df86744",
       "style": "IPY_MODEL_8549037b2a994b8a808935f600731f23"
      }
     },
     "ca4d7ee9d3714e38b2f6fdda611ad590": {
      "model_module": "@jupyter-widgets/controls",
      "model_module_version": "1.5.0",
      "model_name": "ButtonStyleModel",
      "state": {}
     },
     "ca92fd373d2d47b489fac14466c9d7c1": {
      "model_module": "@jupyter-widgets/base",
      "model_module_version": "1.2.0",
      "model_name": "LayoutModel",
      "state": {}
     },
     "cafeb540af9743c4ac1a74100a3384e5": {
      "model_module": "@jupyter-widgets/controls",
      "model_module_version": "1.5.0",
      "model_name": "HBoxModel",
      "state": {
       "children": [
        "IPY_MODEL_dce89e7468134051bab7720cc6408271",
        "IPY_MODEL_816dc42a504c4dd582ccbf919f99010b",
        "IPY_MODEL_8fbc1eaccec64a46ad799c5f31fb92c4"
       ],
       "layout": "IPY_MODEL_a086c6635e7240409d1db71063ba923a"
      }
     },
     "cb08335435244fca8441a6bc290a1094": {
      "model_module": "@jupyter-widgets/controls",
      "model_module_version": "1.5.0",
      "model_name": "ButtonStyleModel",
      "state": {}
     },
     "cb274df9eaba4e48b02a709c9ef62271": {
      "model_module": "@jupyter-widgets/controls",
      "model_module_version": "1.5.0",
      "model_name": "ButtonModel",
      "state": {
       "description": "Fit with gaussian",
       "layout": "IPY_MODEL_e9b1b38572c64b13aa26baf5f91a3477",
       "style": "IPY_MODEL_3eb7f94172e04ae09e0a5fdd30ab4e52"
      }
     },
     "cbc4ab9d3b46462985af65a39c592a61": {
      "model_module": "@jupyter-widgets/base",
      "model_module_version": "1.2.0",
      "model_name": "LayoutModel",
      "state": {
       "width": "400px"
      }
     },
     "cbe01c07923b4689b84a6238eef2103f": {
      "model_module": "@jupyter-widgets/controls",
      "model_module_version": "1.5.0",
      "model_name": "HBoxModel",
      "state": {
       "children": [
        "IPY_MODEL_3404096e9f3b4894983b320b3e94c913",
        "IPY_MODEL_9f12b6f97e524d4096bcfdc1054fdbac"
       ],
       "layout": "IPY_MODEL_c921123bb9f94dceb3be68d8ab3e7ab5"
      }
     },
     "cbfe836398c3405a863a9edf445ad7b3": {
      "model_module": "@jupyter-widgets/base",
      "model_module_version": "1.2.0",
      "model_name": "LayoutModel",
      "state": {}
     },
     "cc5fbe4d2701463b9f041fb599212379": {
      "model_module": "@jupyter-widgets/controls",
      "model_module_version": "1.5.0",
      "model_name": "ButtonModel",
      "state": {
       "description": "Add plot to report",
       "layout": "IPY_MODEL_120c23eeb8db4876933fa8dee1df1649",
       "style": "IPY_MODEL_4217cd34939b43a29b6e12de9feb4fd4"
      }
     },
     "cc9786c522644a9785238d684b8c685a": {
      "model_module": "@jupyter-widgets/controls",
      "model_module_version": "1.5.0",
      "model_name": "ButtonModel",
      "state": {
       "description": "Refresh",
       "layout": "IPY_MODEL_e863380a322446b0b19a1838fd173c84",
       "style": "IPY_MODEL_b706867bbdec457881a20c58b5b5aad9"
      }
     },
     "ccbfe778518f438db7459b79c5deb5aa": {
      "model_module": "@jupyter-widgets/controls",
      "model_module_version": "1.5.0",
      "model_name": "ButtonStyleModel",
      "state": {}
     },
     "cce17d5e38f3474f9da860bd872b83d0": {
      "model_module": "@jupyter-widgets/controls",
      "model_module_version": "1.5.0",
      "model_name": "ButtonModel",
      "state": {
       "description": "Plot XRF",
       "layout": "IPY_MODEL_eee2d31844cb44e9b124978603fedae5",
       "style": "IPY_MODEL_199f344e98c5475d9528ab86d825adf1"
      }
     },
     "cd0a8265e1b44652a5e8e4c64d8358c4": {
      "model_module": "@jupyter-widgets/controls",
      "model_module_version": "1.5.0",
      "model_name": "ButtonModel",
      "state": {
       "description": "Plot XRF",
       "layout": "IPY_MODEL_9b8d88d79f3d411ab33e27176c1fb0b2",
       "style": "IPY_MODEL_9c67f9e0918c442c9c0d2488cb164e2d"
      }
     },
     "cd2849a4619243aca32eb8e79d12732a": {
      "model_module": "@jupyter-widgets/controls",
      "model_module_version": "1.5.0",
      "model_name": "ButtonModel",
      "state": {
       "description": "Export to pdf",
       "layout": "IPY_MODEL_6e6aeb81daed49d9b406cbb5d5d556da",
       "style": "IPY_MODEL_c39ac832d8ef4512901de1372242ef19"
      }
     },
     "cd5a1a9547584d5cad17f0e64ec76385": {
      "model_module": "@jupyter-widgets/controls",
      "model_module_version": "1.5.0",
      "model_name": "ButtonStyleModel",
      "state": {}
     },
     "cd6975e17265422ba1fda0490e4490db": {
      "model_module": "@jupyter-widgets/controls",
      "model_module_version": "1.5.0",
      "model_name": "ButtonStyleModel",
      "state": {}
     },
     "cd8035875864472a851e0de3edb0084f": {
      "model_module": "@jupyter-widgets/controls",
      "model_module_version": "1.5.0",
      "model_name": "DescriptionStyleModel",
      "state": {
       "description_width": "initial"
      }
     },
     "cdeb440a9b494a2f8561890f867f97fb": {
      "model_module": "@jupyter-widgets/controls",
      "model_module_version": "1.5.0",
      "model_name": "ButtonModel",
      "state": {
       "description": "Save current params as default",
       "layout": "IPY_MODEL_5455665c7c234dff90e4fffc01e4b3b1",
       "style": "IPY_MODEL_eca40538621846a7ab7601c2ac304a9c"
      }
     },
     "cdff4c80cebb48cc973be160000e7fdd": {
      "model_module": "@jupyter-widgets/base",
      "model_module_version": "1.2.0",
      "model_name": "LayoutModel",
      "state": {
       "width": "400px"
      }
     },
     "ce297e31289646e0b816c08c404cdfa9": {
      "model_module": "@jupyter-widgets/base",
      "model_module_version": "1.2.0",
      "model_name": "LayoutModel",
      "state": {}
     },
     "ce69a09a79c04ef4a783fb3b7a54626a": {
      "model_module": "@jupyter-widgets/controls",
      "model_module_version": "1.5.0",
      "model_name": "ButtonStyleModel",
      "state": {}
     },
     "ce78d06589cf4c88ba945148042c14e5": {
      "model_module": "@jupyter-widgets/base",
      "model_module_version": "1.2.0",
      "model_name": "LayoutModel",
      "state": {
       "width": "400px"
      }
     },
     "ce90920ea76b4281b52006d812a15f8d": {
      "model_module": "@jupyter-widgets/controls",
      "model_module_version": "1.5.0",
      "model_name": "HBoxModel",
      "state": {
       "children": [
        "IPY_MODEL_504282031dac426a9d4ab6df6783d405",
        "IPY_MODEL_16ffcccb26984081b9227359ba467985"
       ],
       "layout": "IPY_MODEL_af6b52e46f274fc78090a01448951c3d"
      }
     },
     "ce956c2251e343f1a4e23286af283e61": {
      "model_module": "@jupyter-widgets/controls",
      "model_module_version": "1.5.0",
      "model_name": "HBoxModel",
      "state": {
       "children": [
        "IPY_MODEL_15b8c187e3464c5bbd50182fc25af9e7",
        "IPY_MODEL_e4388f579ae24a6980ee886eb88a69ba",
        "IPY_MODEL_0e93d6768ca442379bbf9b3e57143053"
       ],
       "layout": "IPY_MODEL_c56b846b347e4b1bb70bb45bf249f151"
      }
     },
     "ceb282ee16dd4569ba72023bdf7a106c": {
      "model_module": "@jupyter-widgets/base",
      "model_module_version": "1.2.0",
      "model_name": "LayoutModel",
      "state": {}
     },
     "cef629f2c43c4009b7ca19f591e20065": {
      "model_module": "@jupyter-widgets/base",
      "model_module_version": "1.2.0",
      "model_name": "LayoutModel",
      "state": {
       "width": "200px"
      }
     },
     "cf48cd190cd14364a628efabe6727c70": {
      "model_module": "@jupyter-widgets/base",
      "model_module_version": "1.2.0",
      "model_name": "LayoutModel",
      "state": {
       "height": "40px",
       "width": "200px"
      }
     },
     "cf952f8533dd4374afb457e02d50f9f6": {
      "model_module": "@jupyter-widgets/controls",
      "model_module_version": "1.5.0",
      "model_name": "ButtonStyleModel",
      "state": {}
     },
     "cfb9669abe404548a36ca2bb12977de8": {
      "model_module": "@jupyter-widgets/controls",
      "model_module_version": "1.5.0",
      "model_name": "ButtonModel",
      "state": {
       "description": "Refresh",
       "layout": "IPY_MODEL_bcec898c114e46cdbc6a6972fef81bcb",
       "style": "IPY_MODEL_dff3de4c966c46caa2baa355fdbb015c"
      }
     },
     "cfbc6de6fb8c4e549643d0f368baaaf3": {
      "model_module": "@jupyter-widgets/base",
      "model_module_version": "1.2.0",
      "model_name": "LayoutModel",
      "state": {}
     },
     "cfe8d915e49340eb83252cb0031e7d17": {
      "model_module": "@jupyter-widgets/base",
      "model_module_version": "1.2.0",
      "model_name": "LayoutModel",
      "state": {}
     },
     "cfe9309e9d1349f6ad7a56e9bd5b8e23": {
      "model_module": "@jupyter-widgets/controls",
      "model_module_version": "1.5.0",
      "model_name": "HBoxModel",
      "state": {
       "children": [
        "IPY_MODEL_55392dc9ef6e4d7283825818831097fc",
        "IPY_MODEL_d91609e990234bcf8d960d901771e882"
       ],
       "layout": "IPY_MODEL_b5cd57b72ddf4d778270827fa8082e6e"
      }
     },
     "cfeb778d0a7e46f788ae8efc18d893e9": {
      "model_module": "@jupyter-widgets/base",
      "model_module_version": "1.2.0",
      "model_name": "LayoutModel",
      "state": {}
     },
     "d0109e7020f84fde96c5768dd2e8f42e": {
      "model_module": "@jupyter-widgets/controls",
      "model_module_version": "1.5.0",
      "model_name": "ButtonStyleModel",
      "state": {}
     },
     "d049d04bc40349cba2984580030d4adf": {
      "model_module": "@jupyter-widgets/base",
      "model_module_version": "1.2.0",
      "model_name": "LayoutModel",
      "state": {}
     },
     "d062adb081604ec9beed3945105428d4": {
      "model_module": "@jupyter-widgets/base",
      "model_module_version": "1.2.0",
      "model_name": "LayoutModel",
      "state": {}
     },
     "d0866526c2aa4a21a409399f18d02879": {
      "model_module": "@jupyter-widgets/controls",
      "model_module_version": "1.5.0",
      "model_name": "DropdownModel",
      "state": {
       "_options_labels": [
        "SIRIUS_Fluo_2020_07_07_0070.nxs",
        "SIRIUS_Fluo_2020_02_16_02289.nxs",
        "SIRIUS_Fluo_2020_02_16_02288.nxs",
        "SIRIUS_Fluo_2020_02_13_02277.nxs",
        "SIRIUS_Fluo_2017_12_11_08042.nxs"
       ],
       "description": "Select scan:",
       "index": 0,
       "layout": "IPY_MODEL_475185cb249b40f8a9c6f6a7a08b04c7",
       "style": "IPY_MODEL_28015b5cd60f4b388c4465f27ce3e604"
      }
     },
     "d0989db14fe64a03b414a2f06ba96172": {
      "model_module": "@jupyter-widgets/controls",
      "model_module_version": "1.5.0",
      "model_name": "ButtonStyleModel",
      "state": {}
     },
     "d0ce63f421b343b18b4ebbdaf0ffc4ad": {
      "model_module": "@jupyter-widgets/controls",
      "model_module_version": "1.5.0",
      "model_name": "ButtonModel",
      "state": {
       "description": "OK",
       "layout": "IPY_MODEL_215b6d1e155b48ac92cc6aa803923cea",
       "style": "IPY_MODEL_815171225fd54dc6b7e633ef354d901e"
      }
     },
     "d0e62f00829f4de08eb88f9ae5135b90": {
      "model_module": "@jupyter-widgets/controls",
      "model_module_version": "1.5.0",
      "model_name": "ButtonStyleModel",
      "state": {}
     },
     "d0f8fb3f69e844faa029444f3fa0af1d": {
      "model_module": "@jupyter-widgets/controls",
      "model_module_version": "1.5.0",
      "model_name": "ButtonModel",
      "state": {
       "description": "Insert comment",
       "layout": "IPY_MODEL_b10a9c58dbf44066890e0fef463b40ee",
       "style": "IPY_MODEL_6b84795958ec498f907c31ef5e0519c0"
      }
     },
     "d0f91bcfecea4fa78f82da84e7e91456": {
      "model_module": "@jupyter-widgets/controls",
      "model_module_version": "1.5.0",
      "model_name": "ButtonStyleModel",
      "state": {}
     },
     "d0fc9ea5d8be48d08a447258fd41517d": {
      "model_module": "@jupyter-widgets/controls",
      "model_module_version": "1.5.0",
      "model_name": "ButtonStyleModel",
      "state": {}
     },
     "d1cc68ca1bc54c4eb2d0c26cacc13017": {
      "model_module": "@jupyter-widgets/controls",
      "model_module_version": "1.5.0",
      "model_name": "ButtonModel",
      "state": {
       "description": "Insert comment",
       "layout": "IPY_MODEL_f8b9a0cb2d20486294de2785d1ca01b3",
       "style": "IPY_MODEL_d80370615f55402cb24450385013cb2b"
      }
     },
     "d22f3e824f3d423cb390b56e67953bef": {
      "model_module": "@jupyter-widgets/controls",
      "model_module_version": "1.5.0",
      "model_name": "ButtonStyleModel",
      "state": {}
     },
     "d248c0182d734405a13a1aa591a35624": {
      "model_module": "@jupyter-widgets/base",
      "model_module_version": "1.2.0",
      "model_name": "LayoutModel",
      "state": {}
     },
     "d24f4f52cef943e1ac6835fb5ce50a85": {
      "model_module": "@jupyter-widgets/controls",
      "model_module_version": "1.5.0",
      "model_name": "ButtonModel",
      "state": {
       "description": "Export to PDF",
       "layout": "IPY_MODEL_faadb314a8da4e4fb6daf87df1d19652",
       "style": "IPY_MODEL_a861897eb3e9456396bad15f99beac01"
      }
     },
     "d2959b176d90481eaa3c136508751801": {
      "model_module": "@jupyter-widgets/base",
      "model_module_version": "1.2.0",
      "model_name": "LayoutModel",
      "state": {
       "width": "400px"
      }
     },
     "d2c84941d6f74f908d41816ad26feb2a": {
      "model_module": "@jupyter-widgets/controls",
      "model_module_version": "1.5.0",
      "model_name": "ButtonStyleModel",
      "state": {}
     },
     "d2cfdee2a2144b7fbcbfb5219e20f42f": {
      "model_module": "@jupyter-widgets/controls",
      "model_module_version": "1.5.0",
      "model_name": "HBoxModel",
      "state": {
       "children": [
        "IPY_MODEL_4409c4c5156d4390be10535c2ee2087a",
        "IPY_MODEL_0c474246dd1f40ed9f5b86c0dd6b9f4b",
        "IPY_MODEL_d0f8fb3f69e844faa029444f3fa0af1d"
       ],
       "layout": "IPY_MODEL_c6834be5821d43799f4c50b4ccb09d12"
      }
     },
     "d2fb09e214084a0692bd13b5e6f7420e": {
      "model_module": "@jupyter-widgets/base",
      "model_module_version": "1.2.0",
      "model_name": "LayoutModel",
      "state": {
       "width": "200px"
      }
     },
     "d30905e8bdea4d738c3c44324c112209": {
      "model_module": "@jupyter-widgets/controls",
      "model_module_version": "1.5.0",
      "model_name": "ButtonStyleModel",
      "state": {}
     },
     "d35243fe26804104af4ffb0042bba328": {
      "model_module": "@jupyter-widgets/controls",
      "model_module_version": "1.5.0",
      "model_name": "HBoxModel",
      "state": {
       "children": [
        "IPY_MODEL_02717e7eb40c4cc39b20f8e1ef6ed1f9",
        "IPY_MODEL_d0ce63f421b343b18b4ebbdaf0ffc4ad"
       ],
       "layout": "IPY_MODEL_409fff21db564373955dbd47653c0243"
      }
     },
     "d3885e2ece7b407f8883c21c89c05b6c": {
      "model_module": "@jupyter-widgets/controls",
      "model_module_version": "1.5.0",
      "model_name": "DescriptionStyleModel",
      "state": {
       "description_width": "initial"
      }
     },
     "d40e7c0a5ab5476aa5662a6cf6e73080": {
      "model_module": "@jupyter-widgets/controls",
      "model_module_version": "1.5.0",
      "model_name": "ButtonStyleModel",
      "state": {}
     },
     "d469138c2eee483b8385efe4071745d3": {
      "model_module": "@jupyter-widgets/base",
      "model_module_version": "1.2.0",
      "model_name": "LayoutModel",
      "state": {
       "width": "400px"
      }
     },
     "d46b062f0c384513ad0abbd2114feb22": {
      "model_module": "@jupyter-widgets/base",
      "model_module_version": "1.2.0",
      "model_name": "LayoutModel",
      "state": {}
     },
     "d473e82fff1e4effa74d676b6f6f3181": {
      "model_module": "@jupyter-widgets/base",
      "model_module_version": "1.2.0",
      "model_name": "LayoutModel",
      "state": {}
     },
     "d484fd882c18422d814faa762cd24eab": {
      "model_module": "@jupyter-widgets/controls",
      "model_module_version": "1.5.0",
      "model_name": "ButtonStyleModel",
      "state": {}
     },
     "d4d18bfb660e48c9aab22143d520b97f": {
      "model_module": "@jupyter-widgets/base",
      "model_module_version": "1.2.0",
      "model_name": "LayoutModel",
      "state": {
       "height": "40px",
       "width": "150px"
      }
     },
     "d4dcf1f26bd34555ae0d649a7b20fefd": {
      "model_module": "@jupyter-widgets/base",
      "model_module_version": "1.2.0",
      "model_name": "LayoutModel",
      "state": {
       "width": "250px"
      }
     },
     "d4e3935766ce4b00955be39b148beb7c": {
      "model_module": "@jupyter-widgets/controls",
      "model_module_version": "1.5.0",
      "model_name": "ButtonModel",
      "state": {
       "description": "Add plot to report",
       "layout": "IPY_MODEL_53bb403e86844647885ad2606f310bcd",
       "style": "IPY_MODEL_5bd17990b24d4ce0a3c2ca37abe98851"
      }
     },
     "d4ea2ffd8faf44269ccc07e8b3577807": {
      "model_module": "@jupyter-widgets/controls",
      "model_module_version": "1.5.0",
      "model_name": "ButtonStyleModel",
      "state": {}
     },
     "d50c3b53f9f441c18c28efcd29f35c52": {
      "model_module": "@jupyter-widgets/base",
      "model_module_version": "1.2.0",
      "model_name": "LayoutModel",
      "state": {}
     },
     "d52d6c949b8c462cb353e099bd39abdc": {
      "model_module": "@jupyter-widgets/base",
      "model_module_version": "1.2.0",
      "model_name": "LayoutModel",
      "state": {
       "height": "40px",
       "width": "150px"
      }
     },
     "d538311947f14c2d96a901f7909344de": {
      "model_module": "@jupyter-widgets/base",
      "model_module_version": "1.2.0",
      "model_name": "LayoutModel",
      "state": {}
     },
     "d555b3d5934c4e419d8a61a0aeefce47": {
      "model_module": "@jupyter-widgets/base",
      "model_module_version": "1.2.0",
      "model_name": "LayoutModel",
      "state": {
       "width": "200px"
      }
     },
     "d558bd16767b44d2af96d11041bc49ee": {
      "model_module": "@jupyter-widgets/controls",
      "model_module_version": "1.5.0",
      "model_name": "ButtonModel",
      "state": {
       "description": "Export to pdf",
       "layout": "IPY_MODEL_e9a0bb993a1f4dc38180451fe4800754",
       "style": "IPY_MODEL_316db0d5f8134f3599e1eef160fcb5b7"
      }
     },
     "d58bb0b28f63446fbce922696f0de645": {
      "model_module": "@jupyter-widgets/base",
      "model_module_version": "1.2.0",
      "model_name": "LayoutModel",
      "state": {}
     },
     "d5a427888e4c4d3c9ae398089607bc24": {
      "model_module": "@jupyter-widgets/controls",
      "model_module_version": "1.5.0",
      "model_name": "ButtonModel",
      "state": {
       "description": "Export to PDF",
       "layout": "IPY_MODEL_0b3ca51716284498b35d977fa7455429",
       "style": "IPY_MODEL_965ad0e8ead64462b32670ba14cc2244"
      }
     },
     "d5aaf55b45134c6da5dcce74bff11a92": {
      "model_module": "@jupyter-widgets/controls",
      "model_module_version": "1.5.0",
      "model_name": "DescriptionStyleModel",
      "state": {
       "description_width": "initial"
      }
     },
     "d5b71fb278b647eaa3e6e5dfd64336f3": {
      "model_module": "@jupyter-widgets/controls",
      "model_module_version": "1.5.0",
      "model_name": "HBoxModel",
      "state": {
       "children": [
        "IPY_MODEL_58af6c353bc04a45863f1ea7e407b3ba"
       ],
       "layout": "IPY_MODEL_1c386f50b96c4b978d53449322393812"
      }
     },
     "d5bd10026e52434d9d18189feb080974": {
      "model_module": "@jupyter-widgets/base",
      "model_module_version": "1.2.0",
      "model_name": "LayoutModel",
      "state": {
       "width": "200px"
      }
     },
     "d5cdc3e0e63845959d1b227fe9f58720": {
      "model_module": "@jupyter-widgets/base",
      "model_module_version": "1.2.0",
      "model_name": "LayoutModel",
      "state": {}
     },
     "d5d943af37cd48159872a435ddaebe7d": {
      "model_module": "@jupyter-widgets/base",
      "model_module_version": "1.2.0",
      "model_name": "LayoutModel",
      "state": {}
     },
     "d5df125754b640c7b099a9e48915494c": {
      "model_module": "@jupyter-widgets/controls",
      "model_module_version": "1.5.0",
      "model_name": "ButtonModel",
      "state": {
       "description": "Set params",
       "layout": "IPY_MODEL_586136ac292c4d3d8ffeac09dd1884d1",
       "style": "IPY_MODEL_089203d331a34fe09d98d390e61241b8"
      }
     },
     "d5e93aa01eef46f0b1f2d7208e6e51b9": {
      "model_module": "@jupyter-widgets/base",
      "model_module_version": "1.2.0",
      "model_name": "LayoutModel",
      "state": {}
     },
     "d619cb8a52f44af093f803a5eb610af3": {
      "model_module": "@jupyter-widgets/controls",
      "model_module_version": "1.5.0",
      "model_name": "HBoxModel",
      "state": {
       "children": [
        "IPY_MODEL_65147ef476974083a2bb6c1da65b71d5",
        "IPY_MODEL_0ecac04ee23d42d888d4163f05d8bb8e",
        "IPY_MODEL_4388a1197f304c2c8a99aa3bea47c92d"
       ],
       "layout": "IPY_MODEL_4c95ee6464eb402783b03a2d9e56d123"
      }
     },
     "d646058280ce4c5f804a9a6866ed6351": {
      "model_module": "@jupyter-widgets/base",
      "model_module_version": "1.2.0",
      "model_name": "LayoutModel",
      "state": {}
     },
     "d66d847b79c4411f9cd922bc8f490ff4": {
      "model_module": "@jupyter-widgets/base",
      "model_module_version": "1.2.0",
      "model_name": "LayoutModel",
      "state": {}
     },
     "d689344a75de4605b755d0e0d5391e0f": {
      "model_module": "@jupyter-widgets/controls",
      "model_module_version": "1.5.0",
      "model_name": "ButtonStyleModel",
      "state": {}
     },
     "d69455a7897340838434ca117ef1229f": {
      "model_module": "@jupyter-widgets/base",
      "model_module_version": "1.2.0",
      "model_name": "LayoutModel",
      "state": {}
     },
     "d6aff22976f94d869db5fe927c2af2ff": {
      "model_module": "@jupyter-widgets/base",
      "model_module_version": "1.2.0",
      "model_name": "LayoutModel",
      "state": {
       "width": "200px"
      }
     },
     "d706e4d43137472f988e2d35c48cace2": {
      "model_module": "@jupyter-widgets/controls",
      "model_module_version": "1.5.0",
      "model_name": "ButtonModel",
      "state": {
       "description": "Analyze a new scan",
       "layout": "IPY_MODEL_53f8877dbbb5497786ebac4889893186",
       "style": "IPY_MODEL_78894d156a724d19ba2d3be98f821904"
      }
     },
     "d7aa6aaa51734672944c29311c41c129": {
      "model_module": "@jupyter-widgets/controls",
      "model_module_version": "1.5.0",
      "model_name": "ButtonModel",
      "state": {
       "description": "Plot GIXS",
       "layout": "IPY_MODEL_160f258423ae45f99eff9670ec5d3bc5",
       "style": "IPY_MODEL_405f5dcfe51f4e499b80371817f40e7c"
      }
     },
     "d7d298b36651470e95084b359822e891": {
      "model_module": "@jupyter-widgets/controls",
      "model_module_version": "1.5.0",
      "model_name": "ButtonModel",
      "state": {
       "description": "Export to PDF",
       "layout": "IPY_MODEL_405eac43d2cd4fc18d9713f201d48cd5",
       "style": "IPY_MODEL_242e5320adca4b48846cde63b3f2af41"
      }
     },
     "d7f9fcce406f47e5abb11c34b5f76a3a": {
      "model_module": "@jupyter-widgets/controls",
      "model_module_version": "1.5.0",
      "model_name": "ButtonStyleModel",
      "state": {}
     },
     "d80370615f55402cb24450385013cb2b": {
      "model_module": "@jupyter-widgets/controls",
      "model_module_version": "1.5.0",
      "model_name": "ButtonStyleModel",
      "state": {}
     },
     "d80623180e3947fbbe7add91a929b295": {
      "model_module": "@jupyter-widgets/base",
      "model_module_version": "1.2.0",
      "model_name": "LayoutModel",
      "state": {
       "width": "250px"
      }
     },
     "d81dd8d3aac84c0a855e8331240bdff0": {
      "model_module": "@jupyter-widgets/controls",
      "model_module_version": "1.5.0",
      "model_name": "ButtonModel",
      "state": {
       "description": "Add plot to report",
       "layout": "IPY_MODEL_384a446537164affa81115dd3163b744",
       "style": "IPY_MODEL_d22f3e824f3d423cb390b56e67953bef"
      }
     },
     "d8ac992faa9e410b9fc0b03c3c9ada8f": {
      "model_module": "@jupyter-widgets/controls",
      "model_module_version": "1.5.0",
      "model_name": "ButtonStyleModel",
      "state": {}
     },
     "d8ba8b239d9e4b249b4c80e3b90ee7c9": {
      "model_module": "@jupyter-widgets/controls",
      "model_module_version": "1.5.0",
      "model_name": "ButtonModel",
      "state": {
       "description": "Treat scan",
       "layout": "IPY_MODEL_e2345252dea94e739856ac450930b739",
       "style": "IPY_MODEL_9c8194868ac34878b8ba66b36654b15e"
      }
     },
     "d8e19ae311f644588c925393cfab6b7d": {
      "model_module": "@jupyter-widgets/controls",
      "model_module_version": "1.5.0",
      "model_name": "ButtonModel",
      "state": {
       "description": "Refresh",
       "layout": "IPY_MODEL_f201617bbb92423db111d4dfaebf6076",
       "style": "IPY_MODEL_7b1acc4e86ea4abd98f73a8f528da216"
      }
     },
     "d8e4fd1cc74547499139259c4d1cb319": {
      "model_module": "@jupyter-widgets/controls",
      "model_module_version": "1.5.0",
      "model_name": "ButtonStyleModel",
      "state": {}
     },
     "d91609e990234bcf8d960d901771e882": {
      "model_module": "@jupyter-widgets/controls",
      "model_module_version": "1.5.0",
      "model_name": "ButtonModel",
      "state": {
       "description": "OK",
       "layout": "IPY_MODEL_01f3ef6b024a403197d37c1ed5176387",
       "style": "IPY_MODEL_66dfd919fe4441f88d912edd825d08f0"
      }
     },
     "d918c8d4961d4250842959f639e12650": {
      "model_module": "@jupyter-widgets/base",
      "model_module_version": "1.2.0",
      "model_name": "LayoutModel",
      "state": {}
     },
     "d924a005119c407d84e1b5e2b6d5780d": {
      "model_module": "@jupyter-widgets/controls",
      "model_module_version": "1.5.0",
      "model_name": "ButtonModel",
      "state": {
       "description": "Insert comment",
       "layout": "IPY_MODEL_aa18ea7446e149ce84689755a6e08644",
       "style": "IPY_MODEL_dcbe31bb12fa493b99a9681de438d294"
      }
     },
     "d9369c2f8a0645eab4b6c814d9735fd4": {
      "model_module": "@jupyter-widgets/base",
      "model_module_version": "1.2.0",
      "model_name": "LayoutModel",
      "state": {}
     },
     "d95f3326f8f94090b436c4cc50919df3": {
      "model_module": "@jupyter-widgets/controls",
      "model_module_version": "1.5.0",
      "model_name": "DropdownModel",
      "state": {
       "_options_labels": [
        "SIRIUS_Fluo_2020_07_07_0070.nxs",
        "SIRIUS_Fluo_2020_02_16_02289.nxs",
        "SIRIUS_Fluo_2020_02_16_02288.nxs",
        "SIRIUS_Fluo_2020_02_13_02277.nxs",
        "SIRIUS_Fluo_2017_12_11_08042.nxs"
       ],
       "index": 0,
       "layout": "IPY_MODEL_cdff4c80cebb48cc973be160000e7fdd",
       "style": "IPY_MODEL_1ddac504a6fe4d54a8a87a342eba5a29"
      }
     },
     "d993ab0bf7084195bf0ed97bf2cf6f60": {
      "model_module": "@jupyter-widgets/base",
      "model_module_version": "1.2.0",
      "model_name": "LayoutModel",
      "state": {}
     },
     "d9993e1a63b54363b38fe544e4421c99": {
      "model_module": "@jupyter-widgets/base",
      "model_module_version": "1.2.0",
      "model_name": "LayoutModel",
      "state": {
       "height": "40px",
       "width": "200px"
      }
     },
     "d9bf77fae5d040dd9ea101f96bd37598": {
      "model_module": "@jupyter-widgets/base",
      "model_module_version": "1.2.0",
      "model_name": "LayoutModel",
      "state": {
       "height": "40px",
       "width": "250px"
      }
     },
     "d9d65bfcbe9844e5b3fbc8e8b303f011": {
      "model_module": "@jupyter-widgets/controls",
      "model_module_version": "1.5.0",
      "model_name": "HBoxModel",
      "state": {
       "children": [
        "IPY_MODEL_6e2c7b4801af44869a2a26e43b7895c4",
        "IPY_MODEL_532be838cb2f48f988f572ac33046bbd"
       ],
       "layout": "IPY_MODEL_86e256888f464610b338eba7aa1de659"
      }
     },
     "d9f2573878c6441aa58dcef6d2e9e1f4": {
      "model_module": "@jupyter-widgets/controls",
      "model_module_version": "1.5.0",
      "model_name": "HBoxModel",
      "state": {
       "children": [
        "IPY_MODEL_426ebf57c65f476bb4301f4ca69aef9a",
        "IPY_MODEL_2867c3763af44fb39933db04a2e6e4c5"
       ],
       "layout": "IPY_MODEL_bdc25e61325b42f78aed7fec11ea467e"
      }
     },
     "da10ad7e340c4fa0a84c503f1aaaf70d": {
      "model_module": "@jupyter-widgets/controls",
      "model_module_version": "1.5.0",
      "model_name": "ButtonModel",
      "state": {
       "description": "Insert comment",
       "layout": "IPY_MODEL_cfeb778d0a7e46f788ae8efc18d893e9",
       "style": "IPY_MODEL_c432edb928be4dbc990bab0bb79998a6"
      }
     },
     "da61350451e046cc9d446fd3db102b56": {
      "model_module": "@jupyter-widgets/controls",
      "model_module_version": "1.5.0",
      "model_name": "ButtonModel",
      "state": {
       "description": "Insert comment",
       "layout": "IPY_MODEL_e54980e71e184509b5f86699e9fc3d65",
       "style": "IPY_MODEL_f48a020fa9d84ed9b561aa2eec47b61f"
      }
     },
     "da716a304b8e4c8db7137aab755d31a7": {
      "model_module": "@jupyter-widgets/controls",
      "model_module_version": "1.5.0",
      "model_name": "ButtonStyleModel",
      "state": {}
     },
     "da87ea4a91004196802c4f752e5b2cdd": {
      "model_module": "@jupyter-widgets/controls",
      "model_module_version": "1.5.0",
      "model_name": "ButtonStyleModel",
      "state": {}
     },
     "daa2c615b52a41c4a740d19437221f83": {
      "model_module": "@jupyter-widgets/base",
      "model_module_version": "1.2.0",
      "model_name": "LayoutModel",
      "state": {}
     },
     "daade1a90d2b436a8fec76559e1d9fdb": {
      "model_module": "@jupyter-widgets/base",
      "model_module_version": "1.2.0",
      "model_name": "LayoutModel",
      "state": {}
     },
     "dae8fb3948fc4c439f4f0167182129fe": {
      "model_module": "@jupyter-widgets/controls",
      "model_module_version": "1.5.0",
      "model_name": "ButtonStyleModel",
      "state": {}
     },
     "db06eeda8d8747059ad0485b81613048": {
      "model_module": "@jupyter-widgets/base",
      "model_module_version": "1.2.0",
      "model_name": "LayoutModel",
      "state": {
       "height": "40px",
       "width": "250px"
      }
     },
     "db0bd7e55a034a37aa815452eab9de63": {
      "model_module": "@jupyter-widgets/base",
      "model_module_version": "1.2.0",
      "model_name": "LayoutModel",
      "state": {
       "height": "40px",
       "width": "300px"
      }
     },
     "db232c76bee144cbb39f4244e7625d72": {
      "model_module": "@jupyter-widgets/controls",
      "model_module_version": "1.5.0",
      "model_name": "HBoxModel",
      "state": {
       "children": [
        "IPY_MODEL_c3c989cd1fc04c94a564d5bc103cb17d",
        "IPY_MODEL_2e2f41d239cf4552b65a5c523f849987"
       ],
       "layout": "IPY_MODEL_29c9af952a40431187f9ae20d8bdfe3b"
      }
     },
     "db391fb52c9d4042b84d3323bd1fc671": {
      "model_module": "@jupyter-widgets/controls",
      "model_module_version": "1.5.0",
      "model_name": "HBoxModel",
      "state": {
       "children": [
        "IPY_MODEL_3ec8866259b942c290720aaebfd69e72",
        "IPY_MODEL_045a9321dbf74102ba0e04e1def4032b"
       ],
       "layout": "IPY_MODEL_9601c417df3f4d02bcdd816c9da620c3"
      }
     },
     "db716b5b5e744c6cbca2dded0a5be402": {
      "model_module": "@jupyter-widgets/controls",
      "model_module_version": "1.5.0",
      "model_name": "ButtonModel",
      "state": {
       "description": "Set params",
       "layout": "IPY_MODEL_40da8c161ca44093850ff9fe713ce4c6",
       "style": "IPY_MODEL_10a455179a9842609c005a7cd9577a0d"
      }
     },
     "dbfd70208c584df9ab4d041d062dc70d": {
      "model_module": "@jupyter-widgets/controls",
      "model_module_version": "1.5.0",
      "model_name": "ButtonStyleModel",
      "state": {}
     },
     "dc0a60422c8646659e5dddabcedb993b": {
      "model_module": "@jupyter-widgets/controls",
      "model_module_version": "1.5.0",
      "model_name": "HBoxModel",
      "state": {
       "children": [
        "IPY_MODEL_e84dc9d8f8bc4e3db1667cb0a0f2e574"
       ],
       "layout": "IPY_MODEL_9b867cc07d73413086e50eecb43f8648"
      }
     },
     "dc0c85498c2944ca9be25aeb7c8bb0f3": {
      "model_module": "@jupyter-widgets/controls",
      "model_module_version": "1.5.0",
      "model_name": "DropdownModel",
      "state": {
       "_options_labels": [
        "SIRIUS_Fluo_2020_07_07_0070.nxs",
        "SIRIUS_Fluo_2020_02_16_02289.nxs",
        "SIRIUS_Fluo_2020_02_16_02288.nxs",
        "SIRIUS_Fluo_2020_02_13_02277.nxs",
        "SIRIUS_Fluo_2017_12_11_08042.nxs"
       ],
       "index": 0,
       "layout": "IPY_MODEL_0dc72d8db33c46dd9bc34a29fd12622e",
       "style": "IPY_MODEL_635467acead34656ab2d4c1cb4a8a74c"
      }
     },
     "dc17758b377d41ada780e64418e69a99": {
      "model_module": "@jupyter-widgets/controls",
      "model_module_version": "1.5.0",
      "model_name": "DescriptionStyleModel",
      "state": {
       "description_width": "initial"
      }
     },
     "dcbe31bb12fa493b99a9681de438d294": {
      "model_module": "@jupyter-widgets/controls",
      "model_module_version": "1.5.0",
      "model_name": "ButtonStyleModel",
      "state": {}
     },
     "dcdc494c5ded4c3ead1633cc226e2d40": {
      "model_module": "@jupyter-widgets/controls",
      "model_module_version": "1.5.0",
      "model_name": "ButtonStyleModel",
      "state": {}
     },
     "dce89e7468134051bab7720cc6408271": {
      "model_module": "@jupyter-widgets/controls",
      "model_module_version": "1.5.0",
      "model_name": "ButtonModel",
      "state": {
       "description": "Set params",
       "layout": "IPY_MODEL_d2fb09e214084a0692bd13b5e6f7420e",
       "style": "IPY_MODEL_39520501f297445fb22afc9900d022a3"
      }
     },
     "dcebc7a64d9549e483530285790174dd": {
      "model_module": "@jupyter-widgets/base",
      "model_module_version": "1.2.0",
      "model_name": "LayoutModel",
      "state": {
       "width": "100px"
      }
     },
     "dd3895380594484790a6bb39eb60a861": {
      "model_module": "@jupyter-widgets/controls",
      "model_module_version": "1.5.0",
      "model_name": "ButtonStyleModel",
      "state": {}
     },
     "dd3bc227dd4a458b9078acac3671252d": {
      "model_module": "@jupyter-widgets/base",
      "model_module_version": "1.2.0",
      "model_name": "LayoutModel",
      "state": {
       "height": "40px",
       "width": "250px"
      }
     },
     "dd8481ff000a462fa6b24dccd09f1033": {
      "model_module": "@jupyter-widgets/controls",
      "model_module_version": "1.5.0",
      "model_name": "ButtonStyleModel",
      "state": {}
     },
     "dd963d660da7427fb5ab3e92e8c283fe": {
      "model_module": "@jupyter-widgets/base",
      "model_module_version": "1.2.0",
      "model_name": "LayoutModel",
      "state": {
       "height": "40px",
       "width": "300px"
      }
     },
     "dde01675ab4046f5a7f79008787f1804": {
      "model_module": "@jupyter-widgets/base",
      "model_module_version": "1.2.0",
      "model_name": "LayoutModel",
      "state": {
       "height": "40px",
       "width": "150px"
      }
     },
     "dde1911ee87d478c82af924cbcc0b736": {
      "model_module": "@jupyter-widgets/base",
      "model_module_version": "1.2.0",
      "model_name": "LayoutModel",
      "state": {}
     },
     "de118370be284f21af64856324a7dfce": {
      "model_module": "@jupyter-widgets/base",
      "model_module_version": "1.2.0",
      "model_name": "LayoutModel",
      "state": {
       "width": "250px"
      }
     },
     "de3aa734345f49a0b7d452377549c0ef": {
      "model_module": "@jupyter-widgets/controls",
      "model_module_version": "1.5.0",
      "model_name": "ButtonStyleModel",
      "state": {}
     },
     "df1503fb503645a48206bd359306031b": {
      "model_module": "@jupyter-widgets/base",
      "model_module_version": "1.2.0",
      "model_name": "LayoutModel",
      "state": {
       "width": "400px"
      }
     },
     "df18a3bd094c415fb91b52a5efd0d5f4": {
      "model_module": "@jupyter-widgets/controls",
      "model_module_version": "1.5.0",
      "model_name": "ButtonModel",
      "state": {
       "description": "Save current params as default",
       "layout": "IPY_MODEL_e2494377e0a24487a9b77f9c15bcb014",
       "style": "IPY_MODEL_24e763d2b48f4101bcd2d858d5e065fd"
      }
     },
     "df6e583ab2c54e6382732086aeb7466b": {
      "model_module": "@jupyter-widgets/controls",
      "model_module_version": "1.5.0",
      "model_name": "ButtonStyleModel",
      "state": {}
     },
     "dfaf9b5f8e39490395899c1de7a9bee1": {
      "model_module": "@jupyter-widgets/controls",
      "model_module_version": "1.5.0",
      "model_name": "DropdownModel",
      "state": {
       "_options_labels": [
        "Parameters_8keV_1elem.csv",
        "Parameters_7keV_4elem.csv",
        "Parameters_12keV_1elem.csv",
        ".DS_Store"
       ],
       "index": 1,
       "layout": "IPY_MODEL_687edb3e775f4846ab9dddadbab1da55",
       "style": "IPY_MODEL_48152974be454fe7b2a6c29d106597bf"
      }
     },
     "dfe2fd69921b4f85aba69bc5f0e69b8c": {
      "model_module": "@jupyter-widgets/controls",
      "model_module_version": "1.5.0",
      "model_name": "ButtonStyleModel",
      "state": {}
     },
     "dff3de4c966c46caa2baa355fdbb015c": {
      "model_module": "@jupyter-widgets/controls",
      "model_module_version": "1.5.0",
      "model_name": "ButtonStyleModel",
      "state": {}
     },
     "e01ff6c5c831428f8ea79adc1108b8fe": {
      "model_module": "@jupyter-widgets/controls",
      "model_module_version": "1.5.0",
      "model_name": "ButtonModel",
      "state": {
       "description": "Treat scan",
       "layout": "IPY_MODEL_edc4ef05b2d64e1eb35903710cca4dcd",
       "style": "IPY_MODEL_dd3895380594484790a6bb39eb60a861"
      }
     },
     "e05b57d99733466c8f3712d37ecff529": {
      "model_module": "@jupyter-widgets/controls",
      "model_module_version": "1.5.0",
      "model_name": "ButtonModel",
      "state": {
       "description": "Analyze a new scan",
       "layout": "IPY_MODEL_ad6016e780164ccaab207da8d0f086b4",
       "style": "IPY_MODEL_beec2d11da6b41f3a5a0019a3120fa3e"
      }
     },
     "e0b70084eba44da3a308415ceac44621": {
      "model_module": "@jupyter-widgets/base",
      "model_module_version": "1.2.0",
      "model_name": "LayoutModel",
      "state": {}
     },
     "e119daf6ac8f412eae4d2d98b78a0a85": {
      "model_module": "@jupyter-widgets/base",
      "model_module_version": "1.2.0",
      "model_name": "LayoutModel",
      "state": {
       "height": "40px",
       "width": "300px"
      }
     },
     "e12f0697419d41819b851e5094dab88a": {
      "model_module": "@jupyter-widgets/controls",
      "model_module_version": "1.5.0",
      "model_name": "ButtonStyleModel",
      "state": {}
     },
     "e1703e05265f47e1a1d959a4dab3801a": {
      "model_module": "@jupyter-widgets/base",
      "model_module_version": "1.2.0",
      "model_name": "LayoutModel",
      "state": {
       "width": "200px"
      }
     },
     "e18e97400634479bbd0a18e55844ad96": {
      "model_module": "@jupyter-widgets/controls",
      "model_module_version": "1.5.0",
      "model_name": "ButtonStyleModel",
      "state": {}
     },
     "e194498892ee457ca8e32f8d06ecc99b": {
      "model_module": "@jupyter-widgets/controls",
      "model_module_version": "1.5.0",
      "model_name": "ButtonStyleModel",
      "state": {}
     },
     "e19e84b907514a0b906cb331c09f5dd0": {
      "model_module": "@jupyter-widgets/base",
      "model_module_version": "1.2.0",
      "model_name": "LayoutModel",
      "state": {}
     },
     "e1a20c9a4ebe42f48d1a0bf1163ff8c3": {
      "model_module": "@jupyter-widgets/controls",
      "model_module_version": "1.5.0",
      "model_name": "HBoxModel",
      "state": {
       "children": [
        "IPY_MODEL_98f9132ce1c64bf5854cce24b5b7f902",
        "IPY_MODEL_6d69d27cae0749d9bcc1a4c87f0c0380"
       ],
       "layout": "IPY_MODEL_bec39d746b4043b3a8e08395474eeec0"
      }
     },
     "e1a618df47624c2086f91dd234ef003f": {
      "model_module": "@jupyter-widgets/base",
      "model_module_version": "1.2.0",
      "model_name": "LayoutModel",
      "state": {
       "width": "200px"
      }
     },
     "e1dcb2cae8484f0cb791a50c7ada0b00": {
      "model_module": "@jupyter-widgets/base",
      "model_module_version": "1.2.0",
      "model_name": "LayoutModel",
      "state": {
       "height": "40px",
       "width": "300px"
      }
     },
     "e2345252dea94e739856ac450930b739": {
      "model_module": "@jupyter-widgets/base",
      "model_module_version": "1.2.0",
      "model_name": "LayoutModel",
      "state": {}
     },
     "e2494377e0a24487a9b77f9c15bcb014": {
      "model_module": "@jupyter-widgets/base",
      "model_module_version": "1.2.0",
      "model_name": "LayoutModel",
      "state": {
       "width": "250px"
      }
     },
     "e295ff17562147f284e76aaca12ea642": {
      "model_module": "@jupyter-widgets/base",
      "model_module_version": "1.2.0",
      "model_name": "LayoutModel",
      "state": {
       "height": "40px",
       "width": "200px"
      }
     },
     "e2997b4136504b5db90fba9b776e94dc": {
      "model_module": "@jupyter-widgets/base",
      "model_module_version": "1.2.0",
      "model_name": "LayoutModel",
      "state": {}
     },
     "e2f8fdc6146e4920acc822c539a85978": {
      "model_module": "@jupyter-widgets/controls",
      "model_module_version": "1.5.0",
      "model_name": "ButtonStyleModel",
      "state": {}
     },
     "e3079abb53324b9d9a35736536ca030f": {
      "model_module": "@jupyter-widgets/controls",
      "model_module_version": "1.5.0",
      "model_name": "ButtonStyleModel",
      "state": {}
     },
     "e333044368d643dd80fa2a47313c1a08": {
      "model_module": "@jupyter-widgets/controls",
      "model_module_version": "1.5.0",
      "model_name": "ButtonStyleModel",
      "state": {}
     },
     "e35f97ef82014586a6847fcef07583c4": {
      "model_module": "@jupyter-widgets/base",
      "model_module_version": "1.2.0",
      "model_name": "LayoutModel",
      "state": {}
     },
     "e3e265c5cacf476a98ba870e751e1752": {
      "model_module": "@jupyter-widgets/controls",
      "model_module_version": "1.5.0",
      "model_name": "ButtonModel",
      "state": {
       "description": "Refresh",
       "layout": "IPY_MODEL_59ceca53f6ea4f1a8bcbb433ec5e65ef",
       "style": "IPY_MODEL_9e5f4594c562457d85dc08302db44792"
      }
     },
     "e4388f579ae24a6980ee886eb88a69ba": {
      "model_module": "@jupyter-widgets/controls",
      "model_module_version": "1.5.0",
      "model_name": "ButtonModel",
      "state": {
       "description": "Export to PDF",
       "layout": "IPY_MODEL_64bf37e74a384550b7c1406b1515c722",
       "style": "IPY_MODEL_40180bd6ec5345bcb56ef5613627248b"
      }
     },
     "e43dd270a36e471186242be11fad06b2": {
      "model_module": "@jupyter-widgets/base",
      "model_module_version": "1.2.0",
      "model_name": "LayoutModel",
      "state": {
       "width": "200px"
      }
     },
     "e444f0cda91348e597a70c6891e0db62": {
      "model_module": "@jupyter-widgets/controls",
      "model_module_version": "1.5.0",
      "model_name": "ButtonStyleModel",
      "state": {}
     },
     "e47e8bd7b1b04884930baa5dd3cfd3e0": {
      "model_module": "@jupyter-widgets/controls",
      "model_module_version": "1.5.0",
      "model_name": "ButtonModel",
      "state": {
       "description": "Plot GIXS",
       "layout": "IPY_MODEL_a030f831171342dcb70d8662075ff65e",
       "style": "IPY_MODEL_15f7589c919c40bc91e1010d84dda33e"
      }
     },
     "e48131570cbd42b8833d547733446e98": {
      "model_module": "@jupyter-widgets/controls",
      "model_module_version": "1.5.0",
      "model_name": "ButtonModel",
      "state": {
       "description": "Treat scan",
       "layout": "IPY_MODEL_b1dc2c0b1f2d40a287bde7ecd37abeee",
       "style": "IPY_MODEL_1573d376220c421d9dcb26f30bd8ee07"
      }
     },
     "e49b1b02be704f01bf3fd8204c70f20c": {
      "model_module": "@jupyter-widgets/controls",
      "model_module_version": "1.5.0",
      "model_name": "ButtonModel",
      "state": {
       "description": "Refresh",
       "layout": "IPY_MODEL_c8f7e947012b49a0bea3644e2f03d93a",
       "style": "IPY_MODEL_4925040f34dc44978a5272a3baa1abab"
      }
     },
     "e4b899b79f5a45aa8c7ba5e3fe55acf8": {
      "model_module": "@jupyter-widgets/controls",
      "model_module_version": "1.5.0",
      "model_name": "HBoxModel",
      "state": {
       "children": [
        "IPY_MODEL_095b2d7a63e844d9869ea37b3aec7ad5"
       ],
       "layout": "IPY_MODEL_01034d00576e45d3a09d7773099a4e5b"
      }
     },
     "e4f6f3db6c304db79bfead1b3abf6572": {
      "model_module": "@jupyter-widgets/controls",
      "model_module_version": "1.5.0",
      "model_name": "DescriptionStyleModel",
      "state": {
       "description_width": "initial"
      }
     },
     "e5128834bbf547eca8a59b35b7d0e368": {
      "model_module": "@jupyter-widgets/controls",
      "model_module_version": "1.5.0",
      "model_name": "ButtonModel",
      "state": {
       "description": "Plot XRF",
       "layout": "IPY_MODEL_09e454415fb640189254cd8276020b20",
       "style": "IPY_MODEL_dae8fb3948fc4c439f4f0167182129fe"
      }
     },
     "e54980e71e184509b5f86699e9fc3d65": {
      "model_module": "@jupyter-widgets/base",
      "model_module_version": "1.2.0",
      "model_name": "LayoutModel",
      "state": {}
     },
     "e5bc35cffe164d959be92f84aa20e98d": {
      "model_module": "@jupyter-widgets/controls",
      "model_module_version": "1.5.0",
      "model_name": "ButtonStyleModel",
      "state": {}
     },
     "e5c18df64938445297552ba652ad054b": {
      "model_module": "@jupyter-widgets/controls",
      "model_module_version": "1.5.0",
      "model_name": "HBoxModel",
      "state": {
       "children": [
        "IPY_MODEL_0ad4a5223bff45f9af8cf0aadc0219b0",
        "IPY_MODEL_bdaafdb61d0c4165932d039786b09e80",
        "IPY_MODEL_175fdf2080514da79847b27719e2da59"
       ],
       "layout": "IPY_MODEL_4d279f5d7a9045be8638a5974b567c3a"
      }
     },
     "e65af8869375403e9a00c59a8f2821f6": {
      "model_module": "@jupyter-widgets/base",
      "model_module_version": "1.2.0",
      "model_name": "LayoutModel",
      "state": {}
     },
     "e670256b263c4b4eaf3bb5bf9a4bfd60": {
      "model_module": "@jupyter-widgets/base",
      "model_module_version": "1.2.0",
      "model_name": "LayoutModel",
      "state": {}
     },
     "e6b2bba00c1b4b59a94e193c4c731b5c": {
      "model_module": "@jupyter-widgets/base",
      "model_module_version": "1.2.0",
      "model_name": "LayoutModel",
      "state": {
       "width": "400px"
      }
     },
     "e6d7abeac2014f88970de2f7901a768a": {
      "model_module": "@jupyter-widgets/base",
      "model_module_version": "1.2.0",
      "model_name": "LayoutModel",
      "state": {
       "height": "40px",
       "width": "200px"
      }
     },
     "e70c0d3e3fed462d8d935eaebebb09e1": {
      "model_module": "@jupyter-widgets/controls",
      "model_module_version": "1.5.0",
      "model_name": "ButtonStyleModel",
      "state": {}
     },
     "e7681fb010b24cb9b34cb0ebe2ce29a8": {
      "model_module": "@jupyter-widgets/base",
      "model_module_version": "1.2.0",
      "model_name": "LayoutModel",
      "state": {}
     },
     "e7cb27bed8b34612a15e8e7a1ce1a09c": {
      "model_module": "@jupyter-widgets/controls",
      "model_module_version": "1.5.0",
      "model_name": "ButtonStyleModel",
      "state": {}
     },
     "e7f4aa58ccc5456898f92160973e407e": {
      "model_module": "@jupyter-widgets/controls",
      "model_module_version": "1.5.0",
      "model_name": "ButtonStyleModel",
      "state": {}
     },
     "e81661202bb6474c872f5c1d3ecc25c3": {
      "model_module": "@jupyter-widgets/controls",
      "model_module_version": "1.5.0",
      "model_name": "HBoxModel",
      "state": {
       "children": [
        "IPY_MODEL_6741935ede864242825ce866a5807ad9",
        "IPY_MODEL_e01ff6c5c831428f8ea79adc1108b8fe"
       ],
       "layout": "IPY_MODEL_d9369c2f8a0645eab4b6c814d9735fd4"
      }
     },
     "e842cd236f83472daa921fce08c6c1e3": {
      "model_module": "@jupyter-widgets/base",
      "model_module_version": "1.2.0",
      "model_name": "LayoutModel",
      "state": {}
     },
     "e84dc9d8f8bc4e3db1667cb0a0f2e574": {
      "model_module": "@jupyter-widgets/controls",
      "model_module_version": "1.5.0",
      "model_name": "ButtonModel",
      "state": {
       "description": "Insert comment",
       "layout": "IPY_MODEL_0e2fe6325e084817acd3b7d1e77e2730",
       "style": "IPY_MODEL_3432f027105247349f04ddeebf4c78e6"
      }
     },
     "e863380a322446b0b19a1838fd173c84": {
      "model_module": "@jupyter-widgets/base",
      "model_module_version": "1.2.0",
      "model_name": "LayoutModel",
      "state": {}
     },
     "e8798a793fa244698a11419a2f6192d1": {
      "model_module": "@jupyter-widgets/base",
      "model_module_version": "1.2.0",
      "model_name": "LayoutModel",
      "state": {}
     },
     "e9a0bb993a1f4dc38180451fe4800754": {
      "model_module": "@jupyter-widgets/base",
      "model_module_version": "1.2.0",
      "model_name": "LayoutModel",
      "state": {
       "width": "200px"
      }
     },
     "e9b1b38572c64b13aa26baf5f91a3477": {
      "model_module": "@jupyter-widgets/base",
      "model_module_version": "1.2.0",
      "model_name": "LayoutModel",
      "state": {}
     },
     "e9fb06030fb0495bb490f3dd53809fba": {
      "model_module": "@jupyter-widgets/controls",
      "model_module_version": "1.5.0",
      "model_name": "ButtonStyleModel",
      "state": {}
     },
     "ea3eb8c5c6f7433b8f3130b578c90636": {
      "model_module": "@jupyter-widgets/base",
      "model_module_version": "1.2.0",
      "model_name": "LayoutModel",
      "state": {}
     },
     "ea5313beb4df439bae9145228770314b": {
      "model_module": "@jupyter-widgets/base",
      "model_module_version": "1.2.0",
      "model_name": "LayoutModel",
      "state": {}
     },
     "ea71e64af0c347ac91ac071618c3e219": {
      "model_module": "@jupyter-widgets/base",
      "model_module_version": "1.2.0",
      "model_name": "LayoutModel",
      "state": {}
     },
     "ea86209e19b5491fb2a34673ae69f2dd": {
      "model_module": "@jupyter-widgets/controls",
      "model_module_version": "1.5.0",
      "model_name": "ButtonModel",
      "state": {
       "description": "Analyze a new scan",
       "layout": "IPY_MODEL_191c440364da4f1f86ed2bfaa4a9eb24",
       "style": "IPY_MODEL_0ef79933c32a430fa4a28054a8f08c8e"
      }
     },
     "ea90198af913494aa2f3fa666adf3ba7": {
      "model_module": "@jupyter-widgets/base",
      "model_module_version": "1.2.0",
      "model_name": "LayoutModel",
      "state": {}
     },
     "eae8264ca25548e0a32f6c18c3237925": {
      "model_module": "@jupyter-widgets/controls",
      "model_module_version": "1.5.0",
      "model_name": "ButtonModel",
      "state": {
       "description": "Insert comment",
       "layout": "IPY_MODEL_e65af8869375403e9a00c59a8f2821f6",
       "style": "IPY_MODEL_cf952f8533dd4374afb457e02d50f9f6"
      }
     },
     "eb1d569f493b4669b9241fb4c763fc8f": {
      "model_module": "@jupyter-widgets/controls",
      "model_module_version": "1.5.0",
      "model_name": "ButtonModel",
      "state": {
       "description": "Insert comment",
       "layout": "IPY_MODEL_9f9ee0c167224a3ab38c91379022729f",
       "style": "IPY_MODEL_af1fa45b66bf4348b00daf5e64d1b960"
      }
     },
     "eb5f9e43f48b496288e8231cc99ac06f": {
      "model_module": "@jupyter-widgets/controls",
      "model_module_version": "1.5.0",
      "model_name": "ButtonModel",
      "state": {
       "description": "Extract Vineyard",
       "layout": "IPY_MODEL_9fc08af32640451c81490501bb451e7b",
       "style": "IPY_MODEL_58b85837ae604f49919c61f320819856"
      }
     },
     "ec226def78be47f08e8d371f3cd98f54": {
      "model_module": "@jupyter-widgets/base",
      "model_module_version": "1.2.0",
      "model_name": "LayoutModel",
      "state": {}
     },
     "ec3311c672894fe5abbd43a95a16dc34": {
      "model_module": "@jupyter-widgets/controls",
      "model_module_version": "1.5.0",
      "model_name": "ButtonStyleModel",
      "state": {}
     },
     "ec5b26c353664a1a9b5ddf4eb0ee2542": {
      "model_module": "@jupyter-widgets/base",
      "model_module_version": "1.2.0",
      "model_name": "LayoutModel",
      "state": {}
     },
     "ec640b48771d4cfe87faf046cb32118d": {
      "model_module": "@jupyter-widgets/controls",
      "model_module_version": "1.5.0",
      "model_name": "ButtonStyleModel",
      "state": {}
     },
     "eca40538621846a7ab7601c2ac304a9c": {
      "model_module": "@jupyter-widgets/controls",
      "model_module_version": "1.5.0",
      "model_name": "ButtonStyleModel",
      "state": {}
     },
     "ecbd0a0c26ee4934a84aa5970f3052ca": {
      "model_module": "@jupyter-widgets/base",
      "model_module_version": "1.2.0",
      "model_name": "LayoutModel",
      "state": {}
     },
     "ecded520055f455f9c918407507ce120": {
      "model_module": "@jupyter-widgets/controls",
      "model_module_version": "1.5.0",
      "model_name": "ButtonStyleModel",
      "state": {}
     },
     "ece14a57603345fabebf4b851adb60ed": {
      "model_module": "@jupyter-widgets/base",
      "model_module_version": "1.2.0",
      "model_name": "LayoutModel",
      "state": {
       "width": "200px"
      }
     },
     "ed1cd7b5043b499ebcaa809199df71b2": {
      "model_module": "@jupyter-widgets/base",
      "model_module_version": "1.2.0",
      "model_name": "LayoutModel",
      "state": {
       "height": "40px",
       "width": "200px"
      }
     },
     "ed2828fb53304f58beb46573de276910": {
      "model_module": "@jupyter-widgets/controls",
      "model_module_version": "1.5.0",
      "model_name": "ButtonModel",
      "state": {
       "description": "Save current params as default",
       "layout": "IPY_MODEL_ae6a329243e94cb9b15c189244ada56a",
       "style": "IPY_MODEL_427d4e6b31314ecaaf137d26d181a7f5"
      }
     },
     "edc4ef05b2d64e1eb35903710cca4dcd": {
      "model_module": "@jupyter-widgets/base",
      "model_module_version": "1.2.0",
      "model_name": "LayoutModel",
      "state": {}
     },
     "ee4885a7cf5a464ab89279cdb49e5dd4": {
      "model_module": "@jupyter-widgets/base",
      "model_module_version": "1.2.0",
      "model_name": "LayoutModel",
      "state": {
       "width": "400px"
      }
     },
     "ee4e138dd3694a23a6572022ac201222": {
      "model_module": "@jupyter-widgets/base",
      "model_module_version": "1.2.0",
      "model_name": "LayoutModel",
      "state": {}
     },
     "ee936801440b46da8ccfaf613aada56a": {
      "model_module": "@jupyter-widgets/base",
      "model_module_version": "1.2.0",
      "model_name": "LayoutModel",
      "state": {
       "width": "200px"
      }
     },
     "eebbc3c9397340d094d3367c10b8f129": {
      "model_module": "@jupyter-widgets/base",
      "model_module_version": "1.2.0",
      "model_name": "LayoutModel",
      "state": {}
     },
     "eee2d31844cb44e9b124978603fedae5": {
      "model_module": "@jupyter-widgets/base",
      "model_module_version": "1.2.0",
      "model_name": "LayoutModel",
      "state": {}
     },
     "ef0736da8c294b6b9368a75549531718": {
      "model_module": "@jupyter-widgets/base",
      "model_module_version": "1.2.0",
      "model_name": "LayoutModel",
      "state": {}
     },
     "ef1ff53445944cd4ba9b5445ef74d5bd": {
      "model_module": "@jupyter-widgets/controls",
      "model_module_version": "1.5.0",
      "model_name": "ButtonStyleModel",
      "state": {}
     },
     "ef2244e5397642d79183d10d008a44a9": {
      "model_module": "@jupyter-widgets/base",
      "model_module_version": "1.2.0",
      "model_name": "LayoutModel",
      "state": {}
     },
     "ef248a54d72b481995b5a08e3f0a32fe": {
      "model_module": "@jupyter-widgets/controls",
      "model_module_version": "1.5.0",
      "model_name": "HBoxModel",
      "state": {
       "children": [
        "IPY_MODEL_0d5652d916d34aa783ad639010638e7b",
        "IPY_MODEL_3bbe3c1afde64265a0b795ada8cf907c",
        "IPY_MODEL_1c92f2a7e29043e4a48c75cbf9cca00e"
       ],
       "layout": "IPY_MODEL_7c36833ce32f47f19c9018023b0aa706"
      }
     },
     "ef773e97626c438a80ea712c4013212e": {
      "model_module": "@jupyter-widgets/controls",
      "model_module_version": "1.5.0",
      "model_name": "HBoxModel",
      "state": {
       "children": [
        "IPY_MODEL_faef7df477e34dc9ac9db092d8e0e187",
        "IPY_MODEL_825a0a11dfab48beb34ed8547b30292e",
        "IPY_MODEL_f0c6eec66529481aaa928575cf1b2747"
       ],
       "layout": "IPY_MODEL_6db3bbaf7a144edba604ad8b6bb48ff3"
      }
     },
     "ef91c33d13754840a466fb12ca2430bf": {
      "model_module": "@jupyter-widgets/controls",
      "model_module_version": "1.5.0",
      "model_name": "ButtonModel",
      "state": {
       "description": "Insert comment",
       "layout": "IPY_MODEL_b5580eb129fe4d3a8962d6ebb49b47de",
       "style": "IPY_MODEL_128ccc89fd1e4d30952853e18a076308"
      }
     },
     "ef931ac1a421429fa97968ad4bf3f6f8": {
      "model_module": "@jupyter-widgets/controls",
      "model_module_version": "1.5.0",
      "model_name": "ButtonModel",
      "state": {
       "description": "Treat scan",
       "layout": "IPY_MODEL_b6231d0f1db0481e911b657cc63b0aa3",
       "style": "IPY_MODEL_e9fb06030fb0495bb490f3dd53809fba"
      }
     },
     "ef987e938d484576816b35bb70203edc": {
      "model_module": "@jupyter-widgets/controls",
      "model_module_version": "1.5.0",
      "model_name": "HBoxModel",
      "state": {
       "children": [
        "IPY_MODEL_ea86209e19b5491fb2a34673ae69f2dd",
        "IPY_MODEL_da61350451e046cc9d446fd3db102b56",
        "IPY_MODEL_7d8d0c29c62e48b5af43502278f3844f"
       ],
       "layout": "IPY_MODEL_9326e8fe6fd547c28df6bfeca260f2b8"
      }
     },
     "efa1da55c9ed45b4b4bbbbcdaeadb2b5": {
      "model_module": "@jupyter-widgets/controls",
      "model_module_version": "1.5.0",
      "model_name": "ButtonModel",
      "state": {
       "description": "Export to pdf",
       "layout": "IPY_MODEL_bbe289f614ea4ed3877d248db42b175e",
       "style": "IPY_MODEL_6baa1ea2b33547ce83ad88d62f7e247a"
      }
     },
     "efb766e3c4844598a4c6982823604a69": {
      "model_module": "@jupyter-widgets/controls",
      "model_module_version": "1.5.0",
      "model_name": "DropdownModel",
      "state": {
       "_options_labels": [
        "SIRIUS_Fluo_2020_07_07_0070.nxs",
        "SIRIUS_Fluo_2020_02_16_02289.nxs",
        "SIRIUS_Fluo_2020_02_16_02288.nxs",
        "SIRIUS_Fluo_2020_02_13_02277.nxs",
        "SIRIUS_Fluo_2017_12_11_08042.nxs"
       ],
       "index": 0,
       "layout": "IPY_MODEL_3a6c4364c35048269cd9cc82f54d42ea",
       "style": "IPY_MODEL_48955e6bebff4b1486a11dc2005f651f"
      }
     },
     "f0308151c500427b8a43f48538bd2e96": {
      "model_module": "@jupyter-widgets/base",
      "model_module_version": "1.2.0",
      "model_name": "LayoutModel",
      "state": {}
     },
     "f04863da27b94852b44f05170d67abee": {
      "model_module": "@jupyter-widgets/base",
      "model_module_version": "1.2.0",
      "model_name": "LayoutModel",
      "state": {
       "width": "400px"
      }
     },
     "f0a1206ab48f4444b0f2231a6ed35750": {
      "model_module": "@jupyter-widgets/base",
      "model_module_version": "1.2.0",
      "model_name": "LayoutModel",
      "state": {}
     },
     "f0c6eec66529481aaa928575cf1b2747": {
      "model_module": "@jupyter-widgets/controls",
      "model_module_version": "1.5.0",
      "model_name": "ButtonModel",
      "state": {
       "description": "Export to pdf",
       "layout": "IPY_MODEL_b929ea0b411c4b7380f6c403c6811a01",
       "style": "IPY_MODEL_156f6d80c86442b0a4afb099a6ad68ab"
      }
     },
     "f0e135d858c94dcda0251b3eba917696": {
      "model_module": "@jupyter-widgets/base",
      "model_module_version": "1.2.0",
      "model_name": "LayoutModel",
      "state": {
       "width": "200px"
      }
     },
     "f1c64559d77242e8b1cb22d7076a07af": {
      "model_module": "@jupyter-widgets/base",
      "model_module_version": "1.2.0",
      "model_name": "LayoutModel",
      "state": {}
     },
     "f1cb36081f76460aa13cf77efd836a93": {
      "model_module": "@jupyter-widgets/controls",
      "model_module_version": "1.5.0",
      "model_name": "DropdownModel",
      "state": {
       "_options_labels": [
        "SIRIUS_Fluo_2020_07_07_0070.nxs",
        "SIRIUS_Fluo_2020_02_16_02289.nxs",
        "SIRIUS_Fluo_2020_02_16_02288.nxs",
        "SIRIUS_Fluo_2020_02_13_02277.nxs",
        "SIRIUS_Fluo_2017_12_11_08042.nxs"
       ],
       "description": "Select scan:",
       "index": 0,
       "layout": "IPY_MODEL_1fb4732fa3b94914ba16b02b9fe394f3",
       "style": "IPY_MODEL_077c5d71fdf14d76ad2b46c3e0a79094"
      }
     },
     "f1d1a839589e4c41b3b69877ad8de13e": {
      "model_module": "@jupyter-widgets/base",
      "model_module_version": "1.2.0",
      "model_name": "LayoutModel",
      "state": {}
     },
     "f1e0fa3f7e6246b9bb3b2e6b1f62bc0c": {
      "model_module": "@jupyter-widgets/controls",
      "model_module_version": "1.5.0",
      "model_name": "HBoxModel",
      "state": {
       "children": [
        "IPY_MODEL_0924a2d7ec2d4c9698f724135004fd14",
        "IPY_MODEL_6d817bd0f68049d483d5afcd59a95ae2"
       ],
       "layout": "IPY_MODEL_a2d18bb92faa4508a72fe1e1816091ad"
      }
     },
     "f201617bbb92423db111d4dfaebf6076": {
      "model_module": "@jupyter-widgets/base",
      "model_module_version": "1.2.0",
      "model_name": "LayoutModel",
      "state": {}
     },
     "f224ffe9de1643bba9c923b534a18f77": {
      "model_module": "@jupyter-widgets/base",
      "model_module_version": "1.2.0",
      "model_name": "LayoutModel",
      "state": {
       "height": "40px",
       "width": "150px"
      }
     },
     "f246ccc8126f44c1bb204e4214423cb1": {
      "model_module": "@jupyter-widgets/controls",
      "model_module_version": "1.5.0",
      "model_name": "ButtonModel",
      "state": {
       "description": "Insert comment",
       "layout": "IPY_MODEL_fe3af35a439c466caba47d62ce839614",
       "style": "IPY_MODEL_7a69896cd5ed43d4a82a9bd23a65e74f"
      }
     },
     "f265e15f24f24d069511d102baa29f16": {
      "model_module": "@jupyter-widgets/controls",
      "model_module_version": "1.5.0",
      "model_name": "HBoxModel",
      "state": {
       "children": [
        "IPY_MODEL_9e0c0e43ae8d45c3bc62fceb58ba41d3",
        "IPY_MODEL_30cd33d115414e979213d31d2c37beb3"
       ],
       "layout": "IPY_MODEL_ea71e64af0c347ac91ac071618c3e219"
      }
     },
     "f282b417ccc54cb1a8886008613363d9": {
      "model_module": "@jupyter-widgets/base",
      "model_module_version": "1.2.0",
      "model_name": "LayoutModel",
      "state": {
       "height": "40px",
       "width": "300px"
      }
     },
     "f2838f3dda0e48a291da1672fef016a9": {
      "model_module": "@jupyter-widgets/base",
      "model_module_version": "1.2.0",
      "model_name": "LayoutModel",
      "state": {}
     },
     "f36391075ce448a782b31415ce8e7b88": {
      "model_module": "@jupyter-widgets/base",
      "model_module_version": "1.2.0",
      "model_name": "LayoutModel",
      "state": {}
     },
     "f38e57dfa136414bbfe7c02f5c6c49ac": {
      "model_module": "@jupyter-widgets/controls",
      "model_module_version": "1.5.0",
      "model_name": "ButtonModel",
      "state": {
       "description": "Analyze a new scan",
       "layout": "IPY_MODEL_9a3be34f42b0452c80320e587acc3e3f",
       "style": "IPY_MODEL_4b7eec0dda1941c7b2e01c79f5d3e0aa"
      }
     },
     "f39e93fc335843c9a13e8779841e66ee": {
      "model_module": "@jupyter-widgets/controls",
      "model_module_version": "1.5.0",
      "model_name": "DropdownModel",
      "state": {
       "_options_labels": [
        "SIRIUS_Fluo_2020_07_07_0070.nxs",
        "SIRIUS_Fluo_2020_02_16_02289.nxs",
        "SIRIUS_Fluo_2020_02_16_02288.nxs",
        "SIRIUS_Fluo_2020_02_13_02277.nxs",
        "SIRIUS_Fluo_2017_12_11_08042.nxs"
       ],
       "index": 0,
       "layout": "IPY_MODEL_c9f18b5c70f1424da32840cce9a9a910",
       "style": "IPY_MODEL_74e3478b88a04c5396cbbaad72190936"
      }
     },
     "f3d037bf1754434992247c535c74894b": {
      "model_module": "@jupyter-widgets/controls",
      "model_module_version": "1.5.0",
      "model_name": "DropdownModel",
      "state": {
       "_options_labels": [
        "SIRIUS_Fluo_2020_07_07_0070.nxs",
        "SIRIUS_Fluo_2020_02_16_02289.nxs",
        "SIRIUS_Fluo_2020_02_16_02288.nxs",
        "SIRIUS_Fluo_2020_02_13_02277.nxs",
        "SIRIUS_Fluo_2017_12_11_08042.nxs"
       ],
       "index": 0,
       "layout": "IPY_MODEL_d469138c2eee483b8385efe4071745d3",
       "style": "IPY_MODEL_1ccf1698f0c8492788205e9912f64992"
      }
     },
     "f3eaa6c7b1ba408783bea240123192ea": {
      "model_module": "@jupyter-widgets/base",
      "model_module_version": "1.2.0",
      "model_name": "LayoutModel",
      "state": {}
     },
     "f433684634de46fa9c984737392c8964": {
      "model_module": "@jupyter-widgets/base",
      "model_module_version": "1.2.0",
      "model_name": "LayoutModel",
      "state": {
       "width": "250px"
      }
     },
     "f4689d1befef4d128c246845a648651d": {
      "model_module": "@jupyter-widgets/controls",
      "model_module_version": "1.5.0",
      "model_name": "ButtonStyleModel",
      "state": {}
     },
     "f47ebeb108d54998aff0a634ffcab6bf": {
      "model_module": "@jupyter-widgets/base",
      "model_module_version": "1.2.0",
      "model_name": "LayoutModel",
      "state": {}
     },
     "f48a020fa9d84ed9b561aa2eec47b61f": {
      "model_module": "@jupyter-widgets/controls",
      "model_module_version": "1.5.0",
      "model_name": "ButtonStyleModel",
      "state": {}
     },
     "f4945b8e22de4bae8ba685544b19b7bd": {
      "model_module": "@jupyter-widgets/base",
      "model_module_version": "1.2.0",
      "model_name": "LayoutModel",
      "state": {
       "height": "40px",
       "width": "200px"
      }
     },
     "f51af13fe0b846f49622f1fe0dffdcdc": {
      "model_module": "@jupyter-widgets/controls",
      "model_module_version": "1.5.0",
      "model_name": "DropdownModel",
      "state": {
       "_options_labels": [
        "SIRIUS_Fluo_2020_07_07_0070.nxs",
        "SIRIUS_Fluo_2020_02_16_02289.nxs",
        "SIRIUS_Fluo_2020_02_16_02288.nxs",
        "SIRIUS_Fluo_2020_02_13_02277.nxs",
        "SIRIUS_Fluo_2017_12_11_08042.nxs"
       ],
       "description": "Select scan:",
       "index": 0,
       "layout": "IPY_MODEL_363d8fe3e9734d09bd7371fefea4f8aa",
       "style": "IPY_MODEL_269f9604fce84e8a8e393291af19be98"
      }
     },
     "f535ad2746d24a58a7a9408a5b25d2ae": {
      "model_module": "@jupyter-widgets/controls",
      "model_module_version": "1.5.0",
      "model_name": "ButtonStyleModel",
      "state": {}
     },
     "f53894de12cc482f82b544665e108e09": {
      "model_module": "@jupyter-widgets/base",
      "model_module_version": "1.2.0",
      "model_name": "LayoutModel",
      "state": {}
     },
     "f5989e7742804a28b1195ee10cbe2289": {
      "model_module": "@jupyter-widgets/controls",
      "model_module_version": "1.5.0",
      "model_name": "HBoxModel",
      "state": {
       "children": [
        "IPY_MODEL_d8e19ae311f644588c925393cfab6b7d",
        "IPY_MODEL_42a7a0e409ec4e8ca05a871f66583ba9",
        "IPY_MODEL_d924a005119c407d84e1b5e2b6d5780d"
       ],
       "layout": "IPY_MODEL_f603263c2ccd42d49a85a00aaad7fb1a"
      }
     },
     "f5b34d0545c74934aaa373286820dc31": {
      "model_module": "@jupyter-widgets/controls",
      "model_module_version": "1.5.0",
      "model_name": "ButtonModel",
      "state": {
       "description": "Analyze a new scan",
       "layout": "IPY_MODEL_5413eec8864e48dfa862a784be6adf9b",
       "style": "IPY_MODEL_2786acfdc6264d0d8c809b990287979c"
      }
     },
     "f5c319b2eba24a1880bd4a16beb1bb25": {
      "model_module": "@jupyter-widgets/controls",
      "model_module_version": "1.5.0",
      "model_name": "ButtonModel",
      "state": {
       "description": "Export to pdf",
       "layout": "IPY_MODEL_896c30c3bf6f4e1b9eabfaf1956a8bad",
       "style": "IPY_MODEL_ecded520055f455f9c918407507ce120"
      }
     },
     "f5df08ab2e8245d7b9a042c27a189bd5": {
      "model_module": "@jupyter-widgets/controls",
      "model_module_version": "1.5.0",
      "model_name": "ButtonStyleModel",
      "state": {}
     },
     "f5ea0c35bee6443fbe05788fcc0c945e": {
      "model_module": "@jupyter-widgets/controls",
      "model_module_version": "1.5.0",
      "model_name": "ButtonStyleModel",
      "state": {}
     },
     "f603263c2ccd42d49a85a00aaad7fb1a": {
      "model_module": "@jupyter-widgets/base",
      "model_module_version": "1.2.0",
      "model_name": "LayoutModel",
      "state": {}
     },
     "f66c0f3adcbe4082b47190b6aaf2d207": {
      "model_module": "@jupyter-widgets/base",
      "model_module_version": "1.2.0",
      "model_name": "LayoutModel",
      "state": {}
     },
     "f6a7b14f977546359c355ece031606ea": {
      "model_module": "@jupyter-widgets/base",
      "model_module_version": "1.2.0",
      "model_name": "LayoutModel",
      "state": {}
     },
     "f6bdd788a98045468227fac32d86cc7a": {
      "model_module": "@jupyter-widgets/controls",
      "model_module_version": "1.5.0",
      "model_name": "HBoxModel",
      "state": {
       "children": [
        "IPY_MODEL_c84bb39b4128431db962317040e897e0"
       ],
       "layout": "IPY_MODEL_94bc2c70274349b181bdf16541b90600"
      }
     },
     "f6cd8b99e49140e99b45f67a15d533ac": {
      "model_module": "@jupyter-widgets/controls",
      "model_module_version": "1.5.0",
      "model_name": "ButtonModel",
      "state": {
       "description": "Plot XRF",
       "layout": "IPY_MODEL_1c856214dd1c4ab5b74c9de0a4bdf6f7",
       "style": "IPY_MODEL_3e570f4aa00a4d73b6f79e336908bb0a"
      }
     },
     "f70909ad5667423da985021b56061a00": {
      "model_module": "@jupyter-widgets/controls",
      "model_module_version": "1.5.0",
      "model_name": "DescriptionStyleModel",
      "state": {
       "description_width": "initial"
      }
     },
     "f757365339e44313abd809ca31116e9c": {
      "model_module": "@jupyter-widgets/controls",
      "model_module_version": "1.5.0",
      "model_name": "ButtonModel",
      "state": {
       "description": "Save current params as default",
       "layout": "IPY_MODEL_5645b237d0dc4b12850d4135378e33f5",
       "style": "IPY_MODEL_24fe466e8a9f4d2c8eebc2f83a69c0d2"
      }
     },
     "f75c8f48375b417b8564733ee05748ef": {
      "model_module": "@jupyter-widgets/base",
      "model_module_version": "1.2.0",
      "model_name": "LayoutModel",
      "state": {
       "width": "200px"
      }
     },
     "f77b5c1c8a8d4761b52c07eee1ad5936": {
      "model_module": "@jupyter-widgets/base",
      "model_module_version": "1.2.0",
      "model_name": "LayoutModel",
      "state": {}
     },
     "f790344949bb4916bfa1b1a9b9507501": {
      "model_module": "@jupyter-widgets/controls",
      "model_module_version": "1.5.0",
      "model_name": "ButtonModel",
      "state": {
       "description": "Insert comment",
       "layout": "IPY_MODEL_3aaf00f2e00045d8a905e31afb89ddb5",
       "style": "IPY_MODEL_1982850e13c143e88c93ce194b6086b7"
      }
     },
     "f799abc33d714a4baf0766499544b879": {
      "model_module": "@jupyter-widgets/base",
      "model_module_version": "1.2.0",
      "model_name": "LayoutModel",
      "state": {
       "width": "200px"
      }
     },
     "f7c84a50a00e4e468d3cb4d7544fe586": {
      "model_module": "@jupyter-widgets/base",
      "model_module_version": "1.2.0",
      "model_name": "LayoutModel",
      "state": {
       "width": "400px"
      }
     },
     "f82b413835d74f7191ec4ef8f0e6ef85": {
      "model_module": "@jupyter-widgets/controls",
      "model_module_version": "1.5.0",
      "model_name": "ButtonStyleModel",
      "state": {}
     },
     "f89cc6e1c3374e6d94548b9fe309d1c9": {
      "model_module": "@jupyter-widgets/controls",
      "model_module_version": "1.5.0",
      "model_name": "HBoxModel",
      "state": {
       "children": [
        "IPY_MODEL_9d652934a0eb458281ff9b03c03c5248",
        "IPY_MODEL_c1dd9089e48f46208754b9bc9e7699df"
       ],
       "layout": "IPY_MODEL_be2bf4f9bbc94470abb916e1b265b475"
      }
     },
     "f8b9a0cb2d20486294de2785d1ca01b3": {
      "model_module": "@jupyter-widgets/base",
      "model_module_version": "1.2.0",
      "model_name": "LayoutModel",
      "state": {}
     },
     "f8bba50a3f6740f5af5274b0dd4da281": {
      "model_module": "@jupyter-widgets/base",
      "model_module_version": "1.2.0",
      "model_name": "LayoutModel",
      "state": {
       "width": "100px"
      }
     },
     "f8f8e7c1ff85403b877982a12425c58a": {
      "model_module": "@jupyter-widgets/base",
      "model_module_version": "1.2.0",
      "model_name": "LayoutModel",
      "state": {}
     },
     "f8feb55e594d439190d4b599da6c4a20": {
      "model_module": "@jupyter-widgets/base",
      "model_module_version": "1.2.0",
      "model_name": "LayoutModel",
      "state": {
       "width": "200px"
      }
     },
     "f92547ea891044abacb3693dbb7b623f": {
      "model_module": "@jupyter-widgets/controls",
      "model_module_version": "1.5.0",
      "model_name": "ButtonModel",
      "state": {
       "description": "OK",
       "layout": "IPY_MODEL_a584dbb4c8534d5089c3f38ffd0fe762",
       "style": "IPY_MODEL_d0109e7020f84fde96c5768dd2e8f42e"
      }
     },
     "f937593ea75d416a98344a669c01b768": {
      "model_module": "@jupyter-widgets/base",
      "model_module_version": "1.2.0",
      "model_name": "LayoutModel",
      "state": {
       "width": "400px"
      }
     },
     "f95cb0b1ae4448808d7ba5a4b1a747ee": {
      "model_module": "@jupyter-widgets/base",
      "model_module_version": "1.2.0",
      "model_name": "LayoutModel",
      "state": {}
     },
     "f983a4c5faed4426a66c883e1f2355ca": {
      "model_module": "@jupyter-widgets/controls",
      "model_module_version": "1.5.0",
      "model_name": "DropdownModel",
      "state": {
       "_options_labels": [
        "SIRIUS_Fluo_2020_07_07_0070.nxs",
        "SIRIUS_Fluo_2020_02_16_02289.nxs",
        "SIRIUS_Fluo_2020_02_16_02288.nxs",
        "SIRIUS_Fluo_2020_02_13_02277.nxs",
        "SIRIUS_Fluo_2017_12_11_08042.nxs"
       ],
       "description": "Select scan:",
       "index": 0,
       "layout": "IPY_MODEL_f7c84a50a00e4e468d3cb4d7544fe586",
       "style": "IPY_MODEL_4043ca6cdac342d29ddb5602e91d352b"
      }
     },
     "f9b829b1c2754c1babeb56846942166a": {
      "model_module": "@jupyter-widgets/controls",
      "model_module_version": "1.5.0",
      "model_name": "ButtonStyleModel",
      "state": {}
     },
     "fa66bb06dc654d52900296e47db5cbb2": {
      "model_module": "@jupyter-widgets/base",
      "model_module_version": "1.2.0",
      "model_name": "LayoutModel",
      "state": {}
     },
     "fa68ec34eba040fb8609c9e0870d8329": {
      "model_module": "@jupyter-widgets/controls",
      "model_module_version": "1.5.0",
      "model_name": "ButtonModel",
      "state": {
       "description": "Set params",
       "layout": "IPY_MODEL_41ea2deb7e99453b8fdca5bc32fdbe31",
       "style": "IPY_MODEL_a899c2b711b44e9a9d69d58b361529da"
      }
     },
     "fa9d433fefa44a5b84aa79dc3840c50e": {
      "model_module": "@jupyter-widgets/base",
      "model_module_version": "1.2.0",
      "model_name": "LayoutModel",
      "state": {
       "height": "40px",
       "width": "200px"
      }
     },
     "faa2a56e9ca9436db51147b1e8e7751b": {
      "model_module": "@jupyter-widgets/controls",
      "model_module_version": "1.5.0",
      "model_name": "ButtonStyleModel",
      "state": {}
     },
     "faadb314a8da4e4fb6daf87df1d19652": {
      "model_module": "@jupyter-widgets/base",
      "model_module_version": "1.2.0",
      "model_name": "LayoutModel",
      "state": {}
     },
     "fad058f655cd4c9c9f73516f05651f21": {
      "model_module": "@jupyter-widgets/controls",
      "model_module_version": "1.5.0",
      "model_name": "ButtonStyleModel",
      "state": {}
     },
     "fad1488f617849749deb39dd74a72747": {
      "model_module": "@jupyter-widgets/base",
      "model_module_version": "1.2.0",
      "model_name": "LayoutModel",
      "state": {
       "height": "40px",
       "width": "300px"
      }
     },
     "fad8fc708520411da3f3c7382aaab652": {
      "model_module": "@jupyter-widgets/controls",
      "model_module_version": "1.5.0",
      "model_name": "ButtonModel",
      "state": {
       "description": "Export to PDF",
       "layout": "IPY_MODEL_59bca91911ff406db9a801d2788e4fe4",
       "style": "IPY_MODEL_8079cc81c669487b9132b6d90070357d"
      }
     },
     "faef7df477e34dc9ac9db092d8e0e187": {
      "model_module": "@jupyter-widgets/controls",
      "model_module_version": "1.5.0",
      "model_name": "ButtonModel",
      "state": {
       "description": "Analyze a new scan",
       "layout": "IPY_MODEL_7440d49117474ac594b367aebaf1e00a",
       "style": "IPY_MODEL_38735f0a776b422b89afd4f5ed595ed3"
      }
     },
     "fafe725c67474c43a83b010af7b76da7": {
      "model_module": "@jupyter-widgets/base",
      "model_module_version": "1.2.0",
      "model_name": "LayoutModel",
      "state": {
       "width": "400px"
      }
     },
     "fb2091a81ae244deb27312e72d701d68": {
      "model_module": "@jupyter-widgets/controls",
      "model_module_version": "1.5.0",
      "model_name": "ButtonModel",
      "state": {
       "description": "Treat scan",
       "layout": "IPY_MODEL_656895ad551d4e8d8800d10e978c8b9a",
       "style": "IPY_MODEL_2c4ed5f6c08d486db264cf9ea7d33288"
      }
     },
     "fb2ca4e35a7149d29b4735e6afb371e3": {
      "model_module": "@jupyter-widgets/controls",
      "model_module_version": "1.5.0",
      "model_name": "ButtonStyleModel",
      "state": {}
     },
     "fb52434b06054ca8a7b982636f1c314f": {
      "model_module": "@jupyter-widgets/base",
      "model_module_version": "1.2.0",
      "model_name": "LayoutModel",
      "state": {}
     },
     "fb5e4e46f85e4a27a710c8712af9a879": {
      "model_module": "@jupyter-widgets/base",
      "model_module_version": "1.2.0",
      "model_name": "LayoutModel",
      "state": {
       "width": "200px"
      }
     },
     "fb77febaa8994a69a9c5c2a0575a8c08": {
      "model_module": "@jupyter-widgets/controls",
      "model_module_version": "1.5.0",
      "model_name": "ButtonStyleModel",
      "state": {}
     },
     "fbf1415639a9459fb1f44a92aebda4af": {
      "model_module": "@jupyter-widgets/base",
      "model_module_version": "1.2.0",
      "model_name": "LayoutModel",
      "state": {
       "height": "40px",
       "width": "300px"
      }
     },
     "fc23ff907d2143a89e322041b4db0908": {
      "model_module": "@jupyter-widgets/controls",
      "model_module_version": "1.5.0",
      "model_name": "ButtonModel",
      "state": {
       "description": "Plot GIXS",
       "layout": "IPY_MODEL_7d2ae51c894c44a4a01d7c7bbfa4d3dd",
       "style": "IPY_MODEL_790423e64ec44b969cf50ca13909a0cb"
      }
     },
     "fc6b957590c2432b800127fd40a66f0f": {
      "model_module": "@jupyter-widgets/base",
      "model_module_version": "1.2.0",
      "model_name": "LayoutModel",
      "state": {}
     },
     "fc7c83be8b6e476caf08f9a1b661593a": {
      "model_module": "@jupyter-widgets/controls",
      "model_module_version": "1.5.0",
      "model_name": "ButtonStyleModel",
      "state": {}
     },
     "fca54754fcba4e4e9dde145daab370c2": {
      "model_module": "@jupyter-widgets/base",
      "model_module_version": "1.2.0",
      "model_name": "LayoutModel",
      "state": {
       "width": "400px"
      }
     },
     "fcc9191d893d432097fbb7b48389d1e9": {
      "model_module": "@jupyter-widgets/controls",
      "model_module_version": "1.5.0",
      "model_name": "ButtonModel",
      "state": {
       "description": "Export to pdf",
       "layout": "IPY_MODEL_304ffcd1c08e4a8f91e3b6ea54d65a8f",
       "style": "IPY_MODEL_5ecf873d103a4ae986fe01c9a6ddc359"
      }
     },
     "fcf632706f46457faf6f39719acfbe7a": {
      "model_module": "@jupyter-widgets/controls",
      "model_module_version": "1.5.0",
      "model_name": "HBoxModel",
      "state": {
       "children": [
        "IPY_MODEL_e49b1b02be704f01bf3fd8204c70f20c",
        "IPY_MODEL_c353d86a19b14f80842e0d39264def01",
        "IPY_MODEL_b5c08eb51d71422d9bcd55987c11cb6d"
       ],
       "layout": "IPY_MODEL_a2374961004344d489fc5e3cdf0dba29"
      }
     },
     "fd00c4bf79634a7b9a8354ee59b2f165": {
      "model_module": "@jupyter-widgets/controls",
      "model_module_version": "1.5.0",
      "model_name": "ButtonStyleModel",
      "state": {}
     },
     "fd19f5a4a1ae4ac8b7824af63ee86bc7": {
      "model_module": "@jupyter-widgets/controls",
      "model_module_version": "1.5.0",
      "model_name": "ButtonStyleModel",
      "state": {}
     },
     "fd1bcc423f0f44b1a492313d7502032c": {
      "model_module": "@jupyter-widgets/controls",
      "model_module_version": "1.5.0",
      "model_name": "ButtonStyleModel",
      "state": {}
     },
     "fd3d5b54e7cc4cbf8f2493b387c87a12": {
      "model_module": "@jupyter-widgets/controls",
      "model_module_version": "1.5.0",
      "model_name": "ButtonStyleModel",
      "state": {}
     },
     "fd6848ff205c4adcb9693939f10fbfed": {
      "model_module": "@jupyter-widgets/controls",
      "model_module_version": "1.5.0",
      "model_name": "DropdownModel",
      "state": {
       "_options_labels": [
        "SIRIUS_Fluo_2020_07_07_0070.nxs",
        "SIRIUS_Fluo_2020_02_16_02289.nxs",
        "SIRIUS_Fluo_2020_02_16_02288.nxs",
        "SIRIUS_Fluo_2020_02_13_02277.nxs",
        "SIRIUS_Fluo_2017_12_11_08042.nxs"
       ],
       "index": 0,
       "layout": "IPY_MODEL_91a895af5e54471ab0d9c9f9d15c303b",
       "style": "IPY_MODEL_cd8035875864472a851e0de3edb0084f"
      }
     },
     "fde883a4cb2243d5b8a31609eef5f6e4": {
      "model_module": "@jupyter-widgets/controls",
      "model_module_version": "1.5.0",
      "model_name": "ButtonModel",
      "state": {
       "description": "Load params",
       "layout": "IPY_MODEL_f799abc33d714a4baf0766499544b879",
       "style": "IPY_MODEL_d40e7c0a5ab5476aa5662a6cf6e73080"
      }
     },
     "fe2f732486a84c15957567dc7d43f059": {
      "model_module": "@jupyter-widgets/controls",
      "model_module_version": "1.5.0",
      "model_name": "ButtonModel",
      "state": {
       "description": "Treat scan",
       "layout": "IPY_MODEL_82f101bf198b4f47930304431afc320a",
       "style": "IPY_MODEL_dfe2fd69921b4f85aba69bc5f0e69b8c"
      }
     },
     "fe3af35a439c466caba47d62ce839614": {
      "model_module": "@jupyter-widgets/base",
      "model_module_version": "1.2.0",
      "model_name": "LayoutModel",
      "state": {}
     },
     "fe4c723e18fc499aa49ab2fac517b002": {
      "model_module": "@jupyter-widgets/controls",
      "model_module_version": "1.5.0",
      "model_name": "HBoxModel",
      "state": {
       "children": [
        "IPY_MODEL_a5c211a35bac44969d39c231e1f99d5c",
        "IPY_MODEL_07d11125dedc4e17a75378bd2d27f925",
        "IPY_MODEL_b10da8651b1c4873a1a60d2c238b458e"
       ],
       "layout": "IPY_MODEL_ce297e31289646e0b816c08c404cdfa9"
      }
     },
     "fe7d7ae439314eceb2a5d9b7507f3d9c": {
      "model_module": "@jupyter-widgets/controls",
      "model_module_version": "1.5.0",
      "model_name": "ButtonModel",
      "state": {
       "description": "Plot Pilatus",
       "layout": "IPY_MODEL_dde1911ee87d478c82af924cbcc0b736",
       "style": "IPY_MODEL_6696a8d48510420f8acfb2acee2b4a98"
      }
     },
     "fe8b66858c1b4c5ca65f040f62c4d44c": {
      "model_module": "@jupyter-widgets/controls",
      "model_module_version": "1.5.0",
      "model_name": "ButtonStyleModel",
      "state": {}
     },
     "fe98adb4124845c9a0a633a203627272": {
      "model_module": "@jupyter-widgets/controls",
      "model_module_version": "1.5.0",
      "model_name": "HBoxModel",
      "state": {
       "children": [
        "IPY_MODEL_aafec6d89c1d43918fd5ac19f18da1ba",
        "IPY_MODEL_96196078e0984e058191bc7c227830fe"
       ],
       "layout": "IPY_MODEL_973649f7312b415980f4bdfb94237380"
      }
     },
     "fe9b3e2d1514427a9f586ad5e01f7f3a": {
      "model_module": "@jupyter-widgets/controls",
      "model_module_version": "1.5.0",
      "model_name": "DescriptionStyleModel",
      "state": {
       "description_width": "initial"
      }
     },
     "fed10cdd757545a4a3cd1dcf0a86dcdf": {
      "model_module": "@jupyter-widgets/controls",
      "model_module_version": "1.5.0",
      "model_name": "HBoxModel",
      "state": {
       "children": [
        "IPY_MODEL_7b274f27b41e46abbf6a526ab8ba2372",
        "IPY_MODEL_625db02ba0c946a29ec2844d4f23d340"
       ],
       "layout": "IPY_MODEL_336e7bd62b4545ddacf3d4684fd5c4ab"
      }
     },
     "fee28be4a21d4050bb81af25d003f514": {
      "model_module": "@jupyter-widgets/controls",
      "model_module_version": "1.5.0",
      "model_name": "HBoxModel",
      "state": {
       "children": [
        "IPY_MODEL_a86c0ec69bb2431a95fecfdad59bc35e"
       ],
       "layout": "IPY_MODEL_3e751027b60a4af6a02108d3cda534b1"
      }
     },
     "ff9e55c77fc5425ebfcd2f8606d4da32": {
      "model_module": "@jupyter-widgets/controls",
      "model_module_version": "1.5.0",
      "model_name": "ButtonModel",
      "state": {
       "description": "Analyze a new scan",
       "layout": "IPY_MODEL_7bfa9d7142b843a0a0e97365c66def0d",
       "style": "IPY_MODEL_7e2916a6652a44fd9376c05b55be4d5e"
      }
     },
     "ffa589ac3d6749ecbca51598bff2ed18": {
      "model_module": "@jupyter-widgets/controls",
      "model_module_version": "1.5.0",
      "model_name": "ButtonStyleModel",
      "state": {}
     },
     "ffa5b97de0164d16a5f7e5185946cbe3": {
      "model_module": "@jupyter-widgets/controls",
      "model_module_version": "1.5.0",
      "model_name": "ButtonModel",
      "state": {
       "description": "Analyze a new scan",
       "layout": "IPY_MODEL_35998029425a4e44b30215b92d84c002",
       "style": "IPY_MODEL_a122155980784612aa63ba787d4d5001"
      }
     },
     "ffb3c2cf8c234017a8b13ddd227f0121": {
      "model_module": "@jupyter-widgets/controls",
      "model_module_version": "1.5.0",
      "model_name": "DropdownModel",
      "state": {
       "_options_labels": [
        "SIRIUS_Fluo_2020_07_07_0070.nxs",
        "SIRIUS_Fluo_2020_02_16_02289.nxs",
        "SIRIUS_Fluo_2020_02_16_02288.nxs",
        "SIRIUS_Fluo_2020_02_13_02277.nxs",
        "SIRIUS_Fluo_2017_12_11_08042.nxs"
       ],
       "description": "Select scan:",
       "index": 0,
       "layout": "IPY_MODEL_e6b2bba00c1b4b59a94e193c4c731b5c",
       "style": "IPY_MODEL_7472e040f55c45a4a031a5e710f8414b"
      }
     },
     "ffb784a12a0c4958ae3c5186edf15063": {
      "model_module": "@jupyter-widgets/controls",
      "model_module_version": "1.5.0",
      "model_name": "ButtonModel",
      "state": {
       "description": "Insert comment",
       "layout": "IPY_MODEL_0b85ad5a95874c18baa38c60f35bed3d",
       "style": "IPY_MODEL_19e0d47b0ac6440c9ac642661fad3785"
      }
     },
     "ffb7eb39c1db4141b0332aeb34fb6ade": {
      "model_module": "@jupyter-widgets/controls",
      "model_module_version": "1.5.0",
      "model_name": "HBoxModel",
      "state": {
       "children": [
        "IPY_MODEL_e3e265c5cacf476a98ba870e751e1752",
        "IPY_MODEL_39aa08c3b5224346bb759d8d909b78c6",
        "IPY_MODEL_80bc9b79e1c4424db405109aedf457da"
       ],
       "layout": "IPY_MODEL_eebbc3c9397340d094d3367c10b8f129"
      }
     }
    },
    "version_major": 2,
    "version_minor": 0
   }
  }
 },
 "nbformat": 4,
 "nbformat_minor": 4
}
