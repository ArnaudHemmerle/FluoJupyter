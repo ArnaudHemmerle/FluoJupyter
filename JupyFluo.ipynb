{
 "cells": [
  {
   "cell_type": "markdown",
   "metadata": {
    "tags": [
     "notPrint"
    ]
   },
   "source": [
    "# JupyFluo @ SIRIUS"
   ]
  },
  {
   "cell_type": "code",
   "execution_count": 1,
   "metadata": {
    "tags": [
     "notPrint"
    ]
   },
   "outputs": [
    {
     "data": {
      "application/javascript": [
       "IPython.OutputArea.prototype._should_scroll = function(lines) {return false;}"
      ],
      "text/plain": [
       "<IPython.core.display.Javascript object>"
      ]
     },
     "metadata": {},
     "output_type": "display_data"
    },
    {
     "name": "stdout",
     "output_type": "stream",
     "text": [
      "Versions of modules used:\n",
      "AnalysisFunctions: 0.6\n",
      "FrontendFunctions: 0.11\n",
      "PyNexus: v4.1\n",
      "Check that you are using the last versions of the modules and read the manual on:\n",
      "https://github.com/ArnaudHemmerle/JupyFluo\n",
      "\n"
     ]
    },
    {
     "data": {
      "application/javascript": [
       " "
      ],
      "text/plain": [
       "<IPython.core.display.Javascript object>"
      ]
     },
     "metadata": {},
     "output_type": "display_data"
    }
   ],
   "source": [
    "# Run this cell\n",
    "\n",
    "import FrontendFunctions as FF\n",
    "import AnalysisFunctions as AF\n",
    "import numpy as np\n",
    "import matplotlib.pyplot as plt\n",
    "import ipywidgets as widgets\n",
    "from IPython.display import Javascript, display\n",
    "import xraydb\n",
    "\n",
    "# Comment/uncomment this line to have cell collapse or not (should restart Jupyter when changed)\n",
    "display(Javascript('IPython.OutputArea.prototype._should_scroll = function(lines) {return false;}'))\n",
    "\n",
    "class Experiment:\n",
    "    \"\"\"\n",
    "    Class Experiment is used to pass arguments concerning the current experiment.\n",
    "    \"\"\"\n",
    "    def __init__(self):\n",
    "        pass\n",
    "    \n",
    "# GENERAL PARAMETERS\n",
    "expt = Experiment() \n",
    "\n",
    "# Name of the notebook (necessary for saving in pdf)\n",
    "expt.notebook_name = 'JupyFluo.ipynb'\n",
    "\n",
    "# Directory where the data will be saved\n",
    "expt.working_dir = \"/Users/arnaudhemmerle/Documents/Recherche/Analysis/JupyFluo/working/\"\n",
    "\n",
    "# Directory where the nexus files are \n",
    "expt.recording_dir = \"/Users/arnaudhemmerle/Documents/Recherche/Analysis/JupyFluo/recording/\"\n",
    "\n",
    "FF.Check_files(expt)\n",
    "FF.Create_cell(code='scan = FF.Set_scan(expt)', position='at_bottom', celltype='code', is_print=False, is_execute = True)"
   ]
  },
  {
   "cell_type": "code",
   "execution_count": null,
   "metadata": {},
   "outputs": [],
   "source": []
  },
  {
   "cell_type": "markdown",
   "metadata": {},
   "source": [
    "# SIRIUS_Fluo_2020_07_07_0070"
   ]
  },
  {
   "cell_type": "markdown",
   "metadata": {},
   "source": [
    "Describe the scan here."
   ]
  }
 ],
 "metadata": {
  "celltoolbar": "Format de la Cellule Texte Brut",
  "kernelspec": {
   "display_name": "Python 3",
   "language": "python",
   "name": "python3"
  },
  "language_info": {
   "codemirror_mode": {
    "name": "ipython",
    "version": 3
   },
   "file_extension": ".py",
   "mimetype": "text/x-python",
   "name": "python",
   "nbconvert_exporter": "python",
   "pygments_lexer": "ipython3",
   "version": "3.7.6"
  }
 },
 "nbformat": 4,
 "nbformat_minor": 4
}
